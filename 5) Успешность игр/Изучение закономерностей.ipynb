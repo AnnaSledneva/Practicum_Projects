{
 "cells": [
  {
   "cell_type": "markdown",
   "metadata": {},
   "source": [
    "<h1>Содержание<span class=\"tocSkip\"></span></h1>\n",
    "<div class=\"toc\">\n",
    "    <ul class=\"toc-item\">\n",
    "        <li>\n",
    "            <span>\n",
    "                <a href=\"#Изучение-данных-из-файла\" data-toc-modified-id=\"Изучение-данных-из-файла-1\">\n",
    "                    <span class=\"toc-item-num\">1&nbsp;&nbsp;\n",
    "                    </span>Изучение данных из файла\n",
    "                </a>\n",
    "            </span>\n",
    "        </li>\n",
    "        <li>\n",
    "            <span>\n",
    "                <a href=\"#Предобработка-данных\" data-toc-modified-id=\"Предобработка-данных-2\">\n",
    "                    <span class=\"toc-item-num\">2&nbsp;&nbsp;\n",
    "                    </span>Предобработка данных\n",
    "                </a>\n",
    "            </span>\n",
    "        </li>\n",
    "        <li>\n",
    "            <span>\n",
    "                <a href=\"#Исследовательский-анализ-данных\" data-toc-modified-id=\"Исследовательский-анализ-данных-3\">\n",
    "                    <span class=\"toc-item-num\">3&nbsp;&nbsp;\n",
    "                    </span>Исследовательский анализ данных\n",
    "                </a>\n",
    "            </span>\n",
    "        </li>\n",
    "        <li>\n",
    "            <span>\n",
    "                <a href=\"#Портрет-пользователя-каждого-региона\" data-toc-modified-id=\"Портрет-пользователя-каждого-региона-4\">\n",
    "                    <span class=\"toc-item-num\">4&nbsp;&nbsp;\n",
    "                    </span>Портрет пользователя каждого региона\n",
    "                </a>\n",
    "            </span>\n",
    "        </li>\n",
    "        <li>\n",
    "            <span>\n",
    "                <a href=\"#Проверка-гипотез\" data-toc-modified-id=\"Проверка-гипотез-5\">\n",
    "                    <span class=\"toc-item-num\">5&nbsp;&nbsp;\n",
    "                    </span>Проверка гипотез\n",
    "                </a>\n",
    "            </span>\n",
    "        </li>\n",
    "        <li>\n",
    "            <span>\n",
    "                <a href=\"#Общий-вывод\" data-toc-modified-id=\"Общий-вывод-6\">\n",
    "                    <span class=\"toc-item-num\">6&nbsp;&nbsp;\n",
    "                    </span>Общий вывод\n",
    "                </a>\n",
    "            </span>\n",
    "        </li>\n",
    "    </ul>\n",
    "</div>"
   ]
  },
  {
   "cell_type": "markdown",
   "metadata": {},
   "source": [
    "# Исследование компьютерных игр\n",
    "\n",
    "**Описание проекта**\n",
    "\n",
    "Интернет-магазине «Стримчик» продаёт по всему миру компьютерные игры. Из открытых источников доступны исторические данные о продажах игр, оценки пользователей и экспертов, жанры и платформы (например, Xbox или PlayStation). Перед нами данные до 2016 года. Представим, что сейчас декабрь 2016 г., и мы планируем кампанию на 2017-й. Нужно отработать принцип работы с данными. Неважно, прогнозируем ли мы продажи на 2017 год по данным 2016-го или же 2027-й — по данным 2026 года.\n",
    "\n",
    "**Цель исследования** - выявить закономерности, определяющие успешность игры, чтобы сделать ставку на потенциально популярный продукт и спланировать рекламные кампании.\n",
    "\n",
    "**Описание данных**\n",
    "\n",
    "Таблица games:\n",
    "\n",
    "- Name — название игры\n",
    "- Platform — платформа\n",
    "- Year_of_Release — год выпуска\n",
    "- Genre — жанр игры\n",
    "- NA_sales — продажи в Северной Америке (миллионы проданных копий)\n",
    "- EU_sales — продажи в Европе (миллионы проданных копий)\n",
    "- JP_sales — продажи в Японии (миллионы проданных копий)\n",
    "- Other_sales — продажи в других странах (миллионы проданных копий)\n",
    "- Critic_Score — оценка критиков (максимум 100)\n",
    "- User_Score — оценка пользователей (максимум 10)\n",
    "- Rating — рейтинг от организации ESRB (англ. Entertainment Software Rating Board). Эта ассоциация определяет рейтинг компьютерных игр и присваивает им подходящую возрастную категорию."
   ]
  },
  {
   "cell_type": "markdown",
   "metadata": {},
   "source": [
    "## Изучение данных из файла"
   ]
  },
  {
   "cell_type": "markdown",
   "metadata": {},
   "source": [
    "Импортируем библиотеки, которые пригодятся нам для работы."
   ]
  },
  {
   "cell_type": "code",
   "execution_count": 1,
   "metadata": {},
   "outputs": [],
   "source": [
    "import pandas as pd\n",
    "import numpy as np\n",
    "import matplotlib.pyplot as plt\n",
    "import seaborn as sns\n",
    "from scipy import stats as st"
   ]
  },
  {
   "cell_type": "markdown",
   "metadata": {},
   "source": [
    "Откроем файл с данными `games.csv` и изучим общую информацию."
   ]
  },
  {
   "cell_type": "code",
   "execution_count": 2,
   "metadata": {},
   "outputs": [
    {
     "data": {
      "text/html": [
       "<div>\n",
       "<style scoped>\n",
       "    .dataframe tbody tr th:only-of-type {\n",
       "        vertical-align: middle;\n",
       "    }\n",
       "\n",
       "    .dataframe tbody tr th {\n",
       "        vertical-align: top;\n",
       "    }\n",
       "\n",
       "    .dataframe thead th {\n",
       "        text-align: right;\n",
       "    }\n",
       "</style>\n",
       "<table border=\"1\" class=\"dataframe\">\n",
       "  <thead>\n",
       "    <tr style=\"text-align: right;\">\n",
       "      <th></th>\n",
       "      <th>Name</th>\n",
       "      <th>Platform</th>\n",
       "      <th>Year_of_Release</th>\n",
       "      <th>Genre</th>\n",
       "      <th>NA_sales</th>\n",
       "      <th>EU_sales</th>\n",
       "      <th>JP_sales</th>\n",
       "      <th>Other_sales</th>\n",
       "      <th>Critic_Score</th>\n",
       "      <th>User_Score</th>\n",
       "      <th>Rating</th>\n",
       "    </tr>\n",
       "  </thead>\n",
       "  <tbody>\n",
       "    <tr>\n",
       "      <th>0</th>\n",
       "      <td>Wii Sports</td>\n",
       "      <td>Wii</td>\n",
       "      <td>2006.0</td>\n",
       "      <td>Sports</td>\n",
       "      <td>41.36</td>\n",
       "      <td>28.96</td>\n",
       "      <td>3.77</td>\n",
       "      <td>8.45</td>\n",
       "      <td>76.0</td>\n",
       "      <td>8</td>\n",
       "      <td>E</td>\n",
       "    </tr>\n",
       "    <tr>\n",
       "      <th>1</th>\n",
       "      <td>Super Mario Bros.</td>\n",
       "      <td>NES</td>\n",
       "      <td>1985.0</td>\n",
       "      <td>Platform</td>\n",
       "      <td>29.08</td>\n",
       "      <td>3.58</td>\n",
       "      <td>6.81</td>\n",
       "      <td>0.77</td>\n",
       "      <td>NaN</td>\n",
       "      <td>NaN</td>\n",
       "      <td>NaN</td>\n",
       "    </tr>\n",
       "    <tr>\n",
       "      <th>2</th>\n",
       "      <td>Mario Kart Wii</td>\n",
       "      <td>Wii</td>\n",
       "      <td>2008.0</td>\n",
       "      <td>Racing</td>\n",
       "      <td>15.68</td>\n",
       "      <td>12.76</td>\n",
       "      <td>3.79</td>\n",
       "      <td>3.29</td>\n",
       "      <td>82.0</td>\n",
       "      <td>8.3</td>\n",
       "      <td>E</td>\n",
       "    </tr>\n",
       "    <tr>\n",
       "      <th>3</th>\n",
       "      <td>Wii Sports Resort</td>\n",
       "      <td>Wii</td>\n",
       "      <td>2009.0</td>\n",
       "      <td>Sports</td>\n",
       "      <td>15.61</td>\n",
       "      <td>10.93</td>\n",
       "      <td>3.28</td>\n",
       "      <td>2.95</td>\n",
       "      <td>80.0</td>\n",
       "      <td>8</td>\n",
       "      <td>E</td>\n",
       "    </tr>\n",
       "    <tr>\n",
       "      <th>4</th>\n",
       "      <td>Pokemon Red/Pokemon Blue</td>\n",
       "      <td>GB</td>\n",
       "      <td>1996.0</td>\n",
       "      <td>Role-Playing</td>\n",
       "      <td>11.27</td>\n",
       "      <td>8.89</td>\n",
       "      <td>10.22</td>\n",
       "      <td>1.00</td>\n",
       "      <td>NaN</td>\n",
       "      <td>NaN</td>\n",
       "      <td>NaN</td>\n",
       "    </tr>\n",
       "  </tbody>\n",
       "</table>\n",
       "</div>"
      ],
      "text/plain": [
       "                       Name Platform  Year_of_Release         Genre  NA_sales  \\\n",
       "0                Wii Sports      Wii           2006.0        Sports     41.36   \n",
       "1         Super Mario Bros.      NES           1985.0      Platform     29.08   \n",
       "2            Mario Kart Wii      Wii           2008.0        Racing     15.68   \n",
       "3         Wii Sports Resort      Wii           2009.0        Sports     15.61   \n",
       "4  Pokemon Red/Pokemon Blue       GB           1996.0  Role-Playing     11.27   \n",
       "\n",
       "   EU_sales  JP_sales  Other_sales  Critic_Score User_Score Rating  \n",
       "0     28.96      3.77         8.45          76.0          8      E  \n",
       "1      3.58      6.81         0.77           NaN        NaN    NaN  \n",
       "2     12.76      3.79         3.29          82.0        8.3      E  \n",
       "3     10.93      3.28         2.95          80.0          8      E  \n",
       "4      8.89     10.22         1.00           NaN        NaN    NaN  "
      ]
     },
     "metadata": {},
     "output_type": "display_data"
    },
    {
     "name": "stdout",
     "output_type": "stream",
     "text": [
      "<class 'pandas.core.frame.DataFrame'>\n",
      "RangeIndex: 16715 entries, 0 to 16714\n",
      "Data columns (total 11 columns):\n",
      " #   Column           Non-Null Count  Dtype  \n",
      "---  ------           --------------  -----  \n",
      " 0   Name             16713 non-null  object \n",
      " 1   Platform         16715 non-null  object \n",
      " 2   Year_of_Release  16446 non-null  float64\n",
      " 3   Genre            16713 non-null  object \n",
      " 4   NA_sales         16715 non-null  float64\n",
      " 5   EU_sales         16715 non-null  float64\n",
      " 6   JP_sales         16715 non-null  float64\n",
      " 7   Other_sales      16715 non-null  float64\n",
      " 8   Critic_Score     8137 non-null   float64\n",
      " 9   User_Score       10014 non-null  object \n",
      " 10  Rating           9949 non-null   object \n",
      "dtypes: float64(6), object(5)\n",
      "memory usage: 1.4+ MB\n"
     ]
    }
   ],
   "source": [
    "data = pd.read_csv('/datasets/games.csv')\n",
    "\n",
    "display(data.head())\n",
    "data.info()"
   ]
  },
  {
   "cell_type": "markdown",
   "metadata": {},
   "source": [
    "Из таблицы с данными видно, что названия столбцов написаны разным регистром, нужно привести их к единому типу.\n",
    "\n",
    "В 6 столбцах (Name, Year_of_Release, Genre, Critic_Score, User_Score, Rating) обнаружены пропущенные значения. Посчитаем их долю."
   ]
  },
  {
   "cell_type": "code",
   "execution_count": 3,
   "metadata": {},
   "outputs": [
    {
     "data": {
      "text/plain": [
       "Name               0.000120\n",
       "Platform           0.000000\n",
       "Year_of_Release    0.016093\n",
       "Genre              0.000120\n",
       "NA_sales           0.000000\n",
       "EU_sales           0.000000\n",
       "JP_sales           0.000000\n",
       "Other_sales        0.000000\n",
       "Critic_Score       0.513192\n",
       "User_Score         0.400897\n",
       "Rating             0.404786\n",
       "dtype: float64"
      ]
     },
     "execution_count": 3,
     "metadata": {},
     "output_type": "execute_result"
    }
   ],
   "source": [
    "data.isna().mean()"
   ]
  },
  {
   "cell_type": "markdown",
   "metadata": {},
   "source": [
    "Больше всего пропущенных значений в столбце Critic_Score - 51%. В столбцах User_Score и Rating тоже большой процент пропусков - 40%. В столбце Year_of_Release пропусков 1,6%. Посмотрим далее, можно ли чем-то заменить эти пропуски.\n",
    "\n",
    "В столбцах Name и Genre всего по 2 пропуска. Удалим совсем эти строки далее в разделе Предобработка данных."
   ]
  },
  {
   "cell_type": "markdown",
   "metadata": {},
   "source": [
    "## Предобработка данных"
   ]
  },
  {
   "cell_type": "markdown",
   "metadata": {},
   "source": [
    "Прежде чем разбираться с пропусками, заменим названия столбцов - приведем их к нижнему регистру."
   ]
  },
  {
   "cell_type": "code",
   "execution_count": 4,
   "metadata": {},
   "outputs": [
    {
     "data": {
      "text/html": [
       "<div>\n",
       "<style scoped>\n",
       "    .dataframe tbody tr th:only-of-type {\n",
       "        vertical-align: middle;\n",
       "    }\n",
       "\n",
       "    .dataframe tbody tr th {\n",
       "        vertical-align: top;\n",
       "    }\n",
       "\n",
       "    .dataframe thead th {\n",
       "        text-align: right;\n",
       "    }\n",
       "</style>\n",
       "<table border=\"1\" class=\"dataframe\">\n",
       "  <thead>\n",
       "    <tr style=\"text-align: right;\">\n",
       "      <th></th>\n",
       "      <th>name</th>\n",
       "      <th>platform</th>\n",
       "      <th>year_of_release</th>\n",
       "      <th>genre</th>\n",
       "      <th>na_sales</th>\n",
       "      <th>eu_sales</th>\n",
       "      <th>jp_sales</th>\n",
       "      <th>other_sales</th>\n",
       "      <th>critic_score</th>\n",
       "      <th>user_score</th>\n",
       "      <th>rating</th>\n",
       "    </tr>\n",
       "  </thead>\n",
       "  <tbody>\n",
       "    <tr>\n",
       "      <th>0</th>\n",
       "      <td>Wii Sports</td>\n",
       "      <td>Wii</td>\n",
       "      <td>2006.0</td>\n",
       "      <td>Sports</td>\n",
       "      <td>41.36</td>\n",
       "      <td>28.96</td>\n",
       "      <td>3.77</td>\n",
       "      <td>8.45</td>\n",
       "      <td>76.0</td>\n",
       "      <td>8</td>\n",
       "      <td>E</td>\n",
       "    </tr>\n",
       "    <tr>\n",
       "      <th>1</th>\n",
       "      <td>Super Mario Bros.</td>\n",
       "      <td>NES</td>\n",
       "      <td>1985.0</td>\n",
       "      <td>Platform</td>\n",
       "      <td>29.08</td>\n",
       "      <td>3.58</td>\n",
       "      <td>6.81</td>\n",
       "      <td>0.77</td>\n",
       "      <td>NaN</td>\n",
       "      <td>NaN</td>\n",
       "      <td>NaN</td>\n",
       "    </tr>\n",
       "    <tr>\n",
       "      <th>2</th>\n",
       "      <td>Mario Kart Wii</td>\n",
       "      <td>Wii</td>\n",
       "      <td>2008.0</td>\n",
       "      <td>Racing</td>\n",
       "      <td>15.68</td>\n",
       "      <td>12.76</td>\n",
       "      <td>3.79</td>\n",
       "      <td>3.29</td>\n",
       "      <td>82.0</td>\n",
       "      <td>8.3</td>\n",
       "      <td>E</td>\n",
       "    </tr>\n",
       "    <tr>\n",
       "      <th>3</th>\n",
       "      <td>Wii Sports Resort</td>\n",
       "      <td>Wii</td>\n",
       "      <td>2009.0</td>\n",
       "      <td>Sports</td>\n",
       "      <td>15.61</td>\n",
       "      <td>10.93</td>\n",
       "      <td>3.28</td>\n",
       "      <td>2.95</td>\n",
       "      <td>80.0</td>\n",
       "      <td>8</td>\n",
       "      <td>E</td>\n",
       "    </tr>\n",
       "    <tr>\n",
       "      <th>4</th>\n",
       "      <td>Pokemon Red/Pokemon Blue</td>\n",
       "      <td>GB</td>\n",
       "      <td>1996.0</td>\n",
       "      <td>Role-Playing</td>\n",
       "      <td>11.27</td>\n",
       "      <td>8.89</td>\n",
       "      <td>10.22</td>\n",
       "      <td>1.00</td>\n",
       "      <td>NaN</td>\n",
       "      <td>NaN</td>\n",
       "      <td>NaN</td>\n",
       "    </tr>\n",
       "  </tbody>\n",
       "</table>\n",
       "</div>"
      ],
      "text/plain": [
       "                       name platform  year_of_release         genre  na_sales  \\\n",
       "0                Wii Sports      Wii           2006.0        Sports     41.36   \n",
       "1         Super Mario Bros.      NES           1985.0      Platform     29.08   \n",
       "2            Mario Kart Wii      Wii           2008.0        Racing     15.68   \n",
       "3         Wii Sports Resort      Wii           2009.0        Sports     15.61   \n",
       "4  Pokemon Red/Pokemon Blue       GB           1996.0  Role-Playing     11.27   \n",
       "\n",
       "   eu_sales  jp_sales  other_sales  critic_score user_score rating  \n",
       "0     28.96      3.77         8.45          76.0          8      E  \n",
       "1      3.58      6.81         0.77           NaN        NaN    NaN  \n",
       "2     12.76      3.79         3.29          82.0        8.3      E  \n",
       "3     10.93      3.28         2.95          80.0          8      E  \n",
       "4      8.89     10.22         1.00           NaN        NaN    NaN  "
      ]
     },
     "execution_count": 4,
     "metadata": {},
     "output_type": "execute_result"
    }
   ],
   "source": [
    "data.columns = data.columns.str.lower()\n",
    "data.head()"
   ]
  },
  {
   "cell_type": "markdown",
   "metadata": {},
   "source": [
    "Пропущенных значений в столбцах name и genre очень мало (0.012%), процентр пропущенных значений для столбца year_of_release тоже мал (1.6), удалим строки с пропущенными значениями."
   ]
  },
  {
   "cell_type": "code",
   "execution_count": 5,
   "metadata": {},
   "outputs": [
    {
     "data": {
      "text/html": [
       "<div>\n",
       "<style scoped>\n",
       "    .dataframe tbody tr th:only-of-type {\n",
       "        vertical-align: middle;\n",
       "    }\n",
       "\n",
       "    .dataframe tbody tr th {\n",
       "        vertical-align: top;\n",
       "    }\n",
       "\n",
       "    .dataframe thead th {\n",
       "        text-align: right;\n",
       "    }\n",
       "</style>\n",
       "<table border=\"1\" class=\"dataframe\">\n",
       "  <thead>\n",
       "    <tr style=\"text-align: right;\">\n",
       "      <th></th>\n",
       "      <th>name</th>\n",
       "      <th>platform</th>\n",
       "      <th>year_of_release</th>\n",
       "      <th>genre</th>\n",
       "      <th>na_sales</th>\n",
       "      <th>eu_sales</th>\n",
       "      <th>jp_sales</th>\n",
       "      <th>other_sales</th>\n",
       "      <th>critic_score</th>\n",
       "      <th>user_score</th>\n",
       "      <th>rating</th>\n",
       "    </tr>\n",
       "  </thead>\n",
       "  <tbody>\n",
       "    <tr>\n",
       "      <th>659</th>\n",
       "      <td>NaN</td>\n",
       "      <td>GEN</td>\n",
       "      <td>1993.0</td>\n",
       "      <td>NaN</td>\n",
       "      <td>1.78</td>\n",
       "      <td>0.53</td>\n",
       "      <td>0.00</td>\n",
       "      <td>0.08</td>\n",
       "      <td>NaN</td>\n",
       "      <td>NaN</td>\n",
       "      <td>NaN</td>\n",
       "    </tr>\n",
       "    <tr>\n",
       "      <th>14244</th>\n",
       "      <td>NaN</td>\n",
       "      <td>GEN</td>\n",
       "      <td>1993.0</td>\n",
       "      <td>NaN</td>\n",
       "      <td>0.00</td>\n",
       "      <td>0.00</td>\n",
       "      <td>0.03</td>\n",
       "      <td>0.00</td>\n",
       "      <td>NaN</td>\n",
       "      <td>NaN</td>\n",
       "      <td>NaN</td>\n",
       "    </tr>\n",
       "  </tbody>\n",
       "</table>\n",
       "</div>"
      ],
      "text/plain": [
       "      name platform  year_of_release genre  na_sales  eu_sales  jp_sales  \\\n",
       "659    NaN      GEN           1993.0   NaN      1.78      0.53      0.00   \n",
       "14244  NaN      GEN           1993.0   NaN      0.00      0.00      0.03   \n",
       "\n",
       "       other_sales  critic_score user_score rating  \n",
       "659           0.08           NaN        NaN    NaN  \n",
       "14244         0.00           NaN        NaN    NaN  "
      ]
     },
     "execution_count": 5,
     "metadata": {},
     "output_type": "execute_result"
    }
   ],
   "source": [
    "data[data['name'].isna()]"
   ]
  },
  {
   "cell_type": "code",
   "execution_count": 6,
   "metadata": {
    "scrolled": true
   },
   "outputs": [
    {
     "data": {
      "text/html": [
       "<div>\n",
       "<style scoped>\n",
       "    .dataframe tbody tr th:only-of-type {\n",
       "        vertical-align: middle;\n",
       "    }\n",
       "\n",
       "    .dataframe tbody tr th {\n",
       "        vertical-align: top;\n",
       "    }\n",
       "\n",
       "    .dataframe thead th {\n",
       "        text-align: right;\n",
       "    }\n",
       "</style>\n",
       "<table border=\"1\" class=\"dataframe\">\n",
       "  <thead>\n",
       "    <tr style=\"text-align: right;\">\n",
       "      <th></th>\n",
       "      <th>name</th>\n",
       "      <th>platform</th>\n",
       "      <th>year_of_release</th>\n",
       "      <th>genre</th>\n",
       "      <th>na_sales</th>\n",
       "      <th>eu_sales</th>\n",
       "      <th>jp_sales</th>\n",
       "      <th>other_sales</th>\n",
       "      <th>critic_score</th>\n",
       "      <th>user_score</th>\n",
       "      <th>rating</th>\n",
       "    </tr>\n",
       "  </thead>\n",
       "  <tbody>\n",
       "    <tr>\n",
       "      <th>659</th>\n",
       "      <td>NaN</td>\n",
       "      <td>GEN</td>\n",
       "      <td>1993.0</td>\n",
       "      <td>NaN</td>\n",
       "      <td>1.78</td>\n",
       "      <td>0.53</td>\n",
       "      <td>0.00</td>\n",
       "      <td>0.08</td>\n",
       "      <td>NaN</td>\n",
       "      <td>NaN</td>\n",
       "      <td>NaN</td>\n",
       "    </tr>\n",
       "    <tr>\n",
       "      <th>14244</th>\n",
       "      <td>NaN</td>\n",
       "      <td>GEN</td>\n",
       "      <td>1993.0</td>\n",
       "      <td>NaN</td>\n",
       "      <td>0.00</td>\n",
       "      <td>0.00</td>\n",
       "      <td>0.03</td>\n",
       "      <td>0.00</td>\n",
       "      <td>NaN</td>\n",
       "      <td>NaN</td>\n",
       "      <td>NaN</td>\n",
       "    </tr>\n",
       "  </tbody>\n",
       "</table>\n",
       "</div>"
      ],
      "text/plain": [
       "      name platform  year_of_release genre  na_sales  eu_sales  jp_sales  \\\n",
       "659    NaN      GEN           1993.0   NaN      1.78      0.53      0.00   \n",
       "14244  NaN      GEN           1993.0   NaN      0.00      0.00      0.03   \n",
       "\n",
       "       other_sales  critic_score user_score rating  \n",
       "659           0.08           NaN        NaN    NaN  \n",
       "14244         0.00           NaN        NaN    NaN  "
      ]
     },
     "execution_count": 6,
     "metadata": {},
     "output_type": "execute_result"
    }
   ],
   "source": [
    "data[data['genre'].isna()]"
   ]
  },
  {
   "cell_type": "code",
   "execution_count": 7,
   "metadata": {},
   "outputs": [
    {
     "name": "stdout",
     "output_type": "stream",
     "text": [
      "<class 'pandas.core.frame.DataFrame'>\n",
      "Int64Index: 16444 entries, 0 to 16714\n",
      "Data columns (total 11 columns):\n",
      " #   Column           Non-Null Count  Dtype  \n",
      "---  ------           --------------  -----  \n",
      " 0   name             16444 non-null  object \n",
      " 1   platform         16444 non-null  object \n",
      " 2   year_of_release  16444 non-null  float64\n",
      " 3   genre            16444 non-null  object \n",
      " 4   na_sales         16444 non-null  float64\n",
      " 5   eu_sales         16444 non-null  float64\n",
      " 6   jp_sales         16444 non-null  float64\n",
      " 7   other_sales      16444 non-null  float64\n",
      " 8   critic_score     7983 non-null   float64\n",
      " 9   user_score       9839 non-null   object \n",
      " 10  rating           9768 non-null   object \n",
      "dtypes: float64(6), object(5)\n",
      "memory usage: 1.5+ MB\n"
     ]
    }
   ],
   "source": [
    "data = data.dropna(subset=['name','genre', 'year_of_release'])\n",
    "data.info()"
   ]
  },
  {
   "cell_type": "markdown",
   "metadata": {},
   "source": [
    "В столбце `year_of_release` указан год выпуска. Заменим тип данных с float64 на int."
   ]
  },
  {
   "cell_type": "code",
   "execution_count": 8,
   "metadata": {},
   "outputs": [
    {
     "data": {
      "text/plain": [
       "dtype('int32')"
      ]
     },
     "execution_count": 8,
     "metadata": {},
     "output_type": "execute_result"
    }
   ],
   "source": [
    "data['year_of_release'] = data['year_of_release'].astype('int')\n",
    "data['year_of_release'].dtype"
   ]
  },
  {
   "cell_type": "markdown",
   "metadata": {},
   "source": [
    "Столбцы `user_score` и `rating` нужно привести к типу float, а столбец `critic_score` к типу int, но сначала заменить пропущенные значения. Просто удалить мы их не можем, так как они составляют большую долю от всех."
   ]
  },
  {
   "cell_type": "code",
   "execution_count": 9,
   "metadata": {},
   "outputs": [
    {
     "data": {
      "text/plain": [
       "array(['8', nan, '8.3', '8.5', '6.6', '8.4', '8.6', '7.7', '6.3', '7.4',\n",
       "       '8.2', '9', '7.9', '8.1', '8.7', '7.1', '3.4', '5.3', '4.8', '3.2',\n",
       "       '8.9', '6.4', '7.8', '7.5', '2.6', '7.2', '9.2', '7', '7.3', '4.3',\n",
       "       '7.6', '5.7', '5', '9.1', '6.5', 'tbd', '8.8', '6.9', '9.4', '6.8',\n",
       "       '6.1', '6.7', '5.4', '4', '4.9', '4.5', '9.3', '6.2', '4.2', '6',\n",
       "       '3.7', '4.1', '5.8', '5.6', '5.5', '4.4', '4.6', '5.9', '3.9',\n",
       "       '3.1', '2.9', '5.2', '3.3', '4.7', '5.1', '3.5', '2.5', '1.9', '3',\n",
       "       '2.7', '2.2', '2', '9.5', '2.1', '3.6', '2.8', '1.8', '3.8', '0',\n",
       "       '1.6', '9.6', '2.4', '1.7', '1.1', '0.3', '1.5', '0.7', '1.2',\n",
       "       '2.3', '0.5', '1.3', '0.2', '0.6', '1.4', '0.9', '1', '9.7'],\n",
       "      dtype=object)"
      ]
     },
     "execution_count": 9,
     "metadata": {},
     "output_type": "execute_result"
    }
   ],
   "source": [
    "data['user_score'].unique()"
   ]
  },
  {
   "cell_type": "markdown",
   "metadata": {},
   "source": [
    "Видим значение 'tbd' - это аналог пропуска. Заменим его на NaN. \n",
    "\n",
    "Пропущенные значения в данном случае мы не можем заменить средним или медианой, так как каждая игра у нас уникальная и нельзя предположить что рейтинги везде будут примерно одинаковыми. Удалить пропуски мы тоже не можем, так как их очень много (40%), поэтому заменим их тоже на NaN. Также заменим тип данных у этого столбца."
   ]
  },
  {
   "cell_type": "code",
   "execution_count": 10,
   "metadata": {},
   "outputs": [
    {
     "data": {
      "text/plain": [
       "dtype('float64')"
      ]
     },
     "execution_count": 10,
     "metadata": {},
     "output_type": "execute_result"
    }
   ],
   "source": [
    "data['user_score'] = data['user_score'].replace('tbd', np.nan, regex=True)\n",
    "data['user_score'] = data['user_score'].astype(float)\n",
    "data['user_score'].dtype"
   ]
  },
  {
   "cell_type": "markdown",
   "metadata": {},
   "source": [
    "Посчитаем суммарные продажи во всех регионах и запишим их в отдельный столбец total_sales."
   ]
  },
  {
   "cell_type": "code",
   "execution_count": 11,
   "metadata": {},
   "outputs": [
    {
     "data": {
      "text/html": [
       "<div>\n",
       "<style scoped>\n",
       "    .dataframe tbody tr th:only-of-type {\n",
       "        vertical-align: middle;\n",
       "    }\n",
       "\n",
       "    .dataframe tbody tr th {\n",
       "        vertical-align: top;\n",
       "    }\n",
       "\n",
       "    .dataframe thead th {\n",
       "        text-align: right;\n",
       "    }\n",
       "</style>\n",
       "<table border=\"1\" class=\"dataframe\">\n",
       "  <thead>\n",
       "    <tr style=\"text-align: right;\">\n",
       "      <th></th>\n",
       "      <th>name</th>\n",
       "      <th>platform</th>\n",
       "      <th>year_of_release</th>\n",
       "      <th>genre</th>\n",
       "      <th>na_sales</th>\n",
       "      <th>eu_sales</th>\n",
       "      <th>jp_sales</th>\n",
       "      <th>other_sales</th>\n",
       "      <th>critic_score</th>\n",
       "      <th>user_score</th>\n",
       "      <th>rating</th>\n",
       "      <th>total_sales</th>\n",
       "    </tr>\n",
       "  </thead>\n",
       "  <tbody>\n",
       "    <tr>\n",
       "      <th>0</th>\n",
       "      <td>Wii Sports</td>\n",
       "      <td>Wii</td>\n",
       "      <td>2006</td>\n",
       "      <td>Sports</td>\n",
       "      <td>41.36</td>\n",
       "      <td>28.96</td>\n",
       "      <td>3.77</td>\n",
       "      <td>8.45</td>\n",
       "      <td>76.0</td>\n",
       "      <td>8.0</td>\n",
       "      <td>E</td>\n",
       "      <td>82.54</td>\n",
       "    </tr>\n",
       "    <tr>\n",
       "      <th>1</th>\n",
       "      <td>Super Mario Bros.</td>\n",
       "      <td>NES</td>\n",
       "      <td>1985</td>\n",
       "      <td>Platform</td>\n",
       "      <td>29.08</td>\n",
       "      <td>3.58</td>\n",
       "      <td>6.81</td>\n",
       "      <td>0.77</td>\n",
       "      <td>NaN</td>\n",
       "      <td>NaN</td>\n",
       "      <td>NaN</td>\n",
       "      <td>40.24</td>\n",
       "    </tr>\n",
       "    <tr>\n",
       "      <th>2</th>\n",
       "      <td>Mario Kart Wii</td>\n",
       "      <td>Wii</td>\n",
       "      <td>2008</td>\n",
       "      <td>Racing</td>\n",
       "      <td>15.68</td>\n",
       "      <td>12.76</td>\n",
       "      <td>3.79</td>\n",
       "      <td>3.29</td>\n",
       "      <td>82.0</td>\n",
       "      <td>8.3</td>\n",
       "      <td>E</td>\n",
       "      <td>35.52</td>\n",
       "    </tr>\n",
       "    <tr>\n",
       "      <th>3</th>\n",
       "      <td>Wii Sports Resort</td>\n",
       "      <td>Wii</td>\n",
       "      <td>2009</td>\n",
       "      <td>Sports</td>\n",
       "      <td>15.61</td>\n",
       "      <td>10.93</td>\n",
       "      <td>3.28</td>\n",
       "      <td>2.95</td>\n",
       "      <td>80.0</td>\n",
       "      <td>8.0</td>\n",
       "      <td>E</td>\n",
       "      <td>32.77</td>\n",
       "    </tr>\n",
       "    <tr>\n",
       "      <th>4</th>\n",
       "      <td>Pokemon Red/Pokemon Blue</td>\n",
       "      <td>GB</td>\n",
       "      <td>1996</td>\n",
       "      <td>Role-Playing</td>\n",
       "      <td>11.27</td>\n",
       "      <td>8.89</td>\n",
       "      <td>10.22</td>\n",
       "      <td>1.00</td>\n",
       "      <td>NaN</td>\n",
       "      <td>NaN</td>\n",
       "      <td>NaN</td>\n",
       "      <td>31.38</td>\n",
       "    </tr>\n",
       "  </tbody>\n",
       "</table>\n",
       "</div>"
      ],
      "text/plain": [
       "                       name platform  year_of_release         genre  na_sales  \\\n",
       "0                Wii Sports      Wii             2006        Sports     41.36   \n",
       "1         Super Mario Bros.      NES             1985      Platform     29.08   \n",
       "2            Mario Kart Wii      Wii             2008        Racing     15.68   \n",
       "3         Wii Sports Resort      Wii             2009        Sports     15.61   \n",
       "4  Pokemon Red/Pokemon Blue       GB             1996  Role-Playing     11.27   \n",
       "\n",
       "   eu_sales  jp_sales  other_sales  critic_score  user_score rating  \\\n",
       "0     28.96      3.77         8.45          76.0         8.0      E   \n",
       "1      3.58      6.81         0.77           NaN         NaN    NaN   \n",
       "2     12.76      3.79         3.29          82.0         8.3      E   \n",
       "3     10.93      3.28         2.95          80.0         8.0      E   \n",
       "4      8.89     10.22         1.00           NaN         NaN    NaN   \n",
       "\n",
       "   total_sales  \n",
       "0        82.54  \n",
       "1        40.24  \n",
       "2        35.52  \n",
       "3        32.77  \n",
       "4        31.38  "
      ]
     },
     "execution_count": 11,
     "metadata": {},
     "output_type": "execute_result"
    }
   ],
   "source": [
    "data['total_sales'] = data['na_sales'] + data['eu_sales'] + data['jp_sales'] + data['other_sales']\n",
    "data.head()"
   ]
  },
  {
   "cell_type": "markdown",
   "metadata": {},
   "source": [
    "**Вывод**:\n",
    "\n",
    "* Привели названия столбцов к нижнему регистру.\n",
    "* Заменили типы данных в столбцах year_of_release и user_score.\n",
    "* Удалили строки с пропущенными значениями в столбцах name, genre и year_of_release, так как их было очень мало.\n",
    "* Заменили значения tbd в столбце user_score на NaN.\n",
    "* Посчитали суммарные продажи во всех регионах и записали их в столбец total_sales."
   ]
  },
  {
   "cell_type": "markdown",
   "metadata": {},
   "source": [
    "## Исследовательский анализ данных"
   ]
  },
  {
   "cell_type": "markdown",
   "metadata": {},
   "source": [
    "1) Посмотрим, сколько игр выпускалось в разные годы."
   ]
  },
  {
   "cell_type": "code",
   "execution_count": 12,
   "metadata": {},
   "outputs": [
    {
     "data": {
      "text/html": [
       "<div>\n",
       "<style scoped>\n",
       "    .dataframe tbody tr th:only-of-type {\n",
       "        vertical-align: middle;\n",
       "    }\n",
       "\n",
       "    .dataframe tbody tr th {\n",
       "        vertical-align: top;\n",
       "    }\n",
       "\n",
       "    .dataframe thead th {\n",
       "        text-align: right;\n",
       "    }\n",
       "</style>\n",
       "<table border=\"1\" class=\"dataframe\">\n",
       "  <thead>\n",
       "    <tr style=\"text-align: right;\">\n",
       "      <th></th>\n",
       "      <th>year_of_release</th>\n",
       "      <th>count_games</th>\n",
       "    </tr>\n",
       "  </thead>\n",
       "  <tbody>\n",
       "    <tr>\n",
       "      <th>0</th>\n",
       "      <td>1980</td>\n",
       "      <td>9</td>\n",
       "    </tr>\n",
       "    <tr>\n",
       "      <th>1</th>\n",
       "      <td>1981</td>\n",
       "      <td>46</td>\n",
       "    </tr>\n",
       "    <tr>\n",
       "      <th>2</th>\n",
       "      <td>1982</td>\n",
       "      <td>36</td>\n",
       "    </tr>\n",
       "    <tr>\n",
       "      <th>3</th>\n",
       "      <td>1983</td>\n",
       "      <td>17</td>\n",
       "    </tr>\n",
       "    <tr>\n",
       "      <th>4</th>\n",
       "      <td>1984</td>\n",
       "      <td>14</td>\n",
       "    </tr>\n",
       "  </tbody>\n",
       "</table>\n",
       "</div>"
      ],
      "text/plain": [
       "   year_of_release  count_games\n",
       "0             1980            9\n",
       "1             1981           46\n",
       "2             1982           36\n",
       "3             1983           17\n",
       "4             1984           14"
      ]
     },
     "execution_count": 12,
     "metadata": {},
     "output_type": "execute_result"
    }
   ],
   "source": [
    "year_count = data.groupby('year_of_release')['name'].count().reset_index()\n",
    "year_count = year_count.rename(columns={'name': 'count_games'})\n",
    "year_count.head()"
   ]
  },
  {
   "cell_type": "markdown",
   "metadata": {},
   "source": [
    "Построим график по данным из таблицы year_count."
   ]
  },
  {
   "cell_type": "code",
   "execution_count": 13,
   "metadata": {},
   "outputs": [
    {
     "data": {
      "image/png": "[encoded data removed]",
      "text/plain": [
       "<Figure size 432x288 with 1 Axes>"
      ]
     },
     "metadata": {
      "needs_background": "light"
     },
     "output_type": "display_data"
    }
   ],
   "source": [
    "year_count.plot(x='year_of_release', y='count_games')\n",
    "plt.title('Количество игр за весь период (1980 - 2016)')\n",
    "plt.legend('')\n",
    "plt.xlabel('Год релиза')\n",
    "plt.ylabel('Количество игр')\n",
    "plt.show()"
   ]
  },
  {
   "cell_type": "markdown",
   "metadata": {},
   "source": [
    "Более наглядной будет столбчатая диаграмма."
   ]
  },
  {
   "cell_type": "code",
   "execution_count": 14,
   "metadata": {},
   "outputs": [
    {
     "data": {
      "image/png": "[encoded data removed]",
      "text/plain": [
       "<Figure size 1080x360 with 1 Axes>"
      ]
     },
     "metadata": {
      "needs_background": "light"
     },
     "output_type": "display_data"
    }
   ],
   "source": [
    "plt.figure(figsize=(15, 5))\n",
    "sns.barplot(x=year_count['year_of_release'], y=year_count['count_games'], color='#89CFFD')\n",
    "plt.xticks(rotation=45)\n",
    "plt.title('График распределения количества игр')\n",
    "plt.title('Количество игр за весь период (1980 - 2016)')\n",
    "plt.legend('')\n",
    "plt.xlabel('Год релиза')\n",
    "plt.ylabel('Количество игр')\n",
    "plt.show()"
   ]
  },
  {
   "cell_type": "markdown",
   "metadata": {},
   "source": [
    "**Вывод**:\n",
    "\n",
    "Данные за все периоды не нужны. На диаграмме наблюдается длинный хвост слева. В период с 1980 по 2000 год игр выпускалось очень мало. Больше всего игр выпускалось в 2008 - 2009 годах (больше 1400). В этом месте на графике наблюдается пик. С 2012 по 2016 года наблюдается спад продаж. Будем считать продажи актуальными, начиная с 2013 года. "
   ]
  },
  {
   "cell_type": "markdown",
   "metadata": {},
   "source": [
    "2) Посмотрим, как менялись продажи по платформам. Выберим платформы с наибольшими суммарными продажами и построим распределение по годам. Определим, за какой характерный срок появляются новые и исчезают старые платформы."
   ]
  },
  {
   "cell_type": "code",
   "execution_count": 15,
   "metadata": {},
   "outputs": [
    {
     "data": {
      "text/html": [
       "<div>\n",
       "<style scoped>\n",
       "    .dataframe tbody tr th:only-of-type {\n",
       "        vertical-align: middle;\n",
       "    }\n",
       "\n",
       "    .dataframe tbody tr th {\n",
       "        vertical-align: top;\n",
       "    }\n",
       "\n",
       "    .dataframe thead th {\n",
       "        text-align: right;\n",
       "    }\n",
       "</style>\n",
       "<table border=\"1\" class=\"dataframe\">\n",
       "  <thead>\n",
       "    <tr style=\"text-align: right;\">\n",
       "      <th></th>\n",
       "      <th>total_sales</th>\n",
       "    </tr>\n",
       "    <tr>\n",
       "      <th>platform</th>\n",
       "      <th></th>\n",
       "    </tr>\n",
       "  </thead>\n",
       "  <tbody>\n",
       "    <tr>\n",
       "      <th>PS2</th>\n",
       "      <td>1233.56</td>\n",
       "    </tr>\n",
       "    <tr>\n",
       "      <th>X360</th>\n",
       "      <td>961.24</td>\n",
       "    </tr>\n",
       "    <tr>\n",
       "      <th>PS3</th>\n",
       "      <td>931.34</td>\n",
       "    </tr>\n",
       "    <tr>\n",
       "      <th>Wii</th>\n",
       "      <td>891.18</td>\n",
       "    </tr>\n",
       "    <tr>\n",
       "      <th>DS</th>\n",
       "      <td>802.78</td>\n",
       "    </tr>\n",
       "  </tbody>\n",
       "</table>\n",
       "</div>"
      ],
      "text/plain": [
       "          total_sales\n",
       "platform             \n",
       "PS2           1233.56\n",
       "X360           961.24\n",
       "PS3            931.34\n",
       "Wii            891.18\n",
       "DS             802.78"
      ]
     },
     "execution_count": 15,
     "metadata": {},
     "output_type": "execute_result"
    }
   ],
   "source": [
    "platform = data.pivot_table(\n",
    "    index='platform', values='total_sales', aggfunc='sum').sort_values(by='total_sales', ascending=False)\n",
    "platform.head()"
   ]
  },
  {
   "cell_type": "code",
   "execution_count": 16,
   "metadata": {},
   "outputs": [
    {
     "data": {
      "image/png": "[encoded data removed]",
      "text/plain": [
       "<Figure size 936x360 with 1 Axes>"
      ]
     },
     "metadata": {
      "needs_background": "light"
     },
     "output_type": "display_data"
    }
   ],
   "source": [
    "plt.figure(figsize=(13, 5))\n",
    "sns.barplot(x=platform.index, y=platform['total_sales'], color='#89CFFD')\n",
    "plt.title('Продажи по платформам')\n",
    "plt.xlabel('Платформа')\n",
    "plt.ylabel('Суммарные продажи')\n",
    "plt.show()"
   ]
  },
  {
   "cell_type": "markdown",
   "metadata": {},
   "source": [
    "По графику видно, что самой популярной платформой является PS2. Ее продажи (total_sales) чуть больше 1200. Следующие 4 платформы не намного отличаются друг от друга по количеству продаж. Продажа каждой чуть меньше предыдущей. У X360 продажи чуть меньше 1000. Продажи следущей платформа PS3 чуть меньше X360, но тоже близки к 1000. На четвертом месте Wii и замыкает пятерку DS с продажами в районе 800.\n",
    "\n",
    "Так у нас получилось 5 популярных платформ: PS2, X360, PS3, Wii, DS и PS. Построим для них распределение по годам."
   ]
  },
  {
   "cell_type": "markdown",
   "metadata": {},
   "source": [
    "Сначала создадим отдельный список из этих платформ."
   ]
  },
  {
   "cell_type": "code",
   "execution_count": 17,
   "metadata": {},
   "outputs": [
    {
     "data": {
      "text/plain": [
       "['PS2', 'X360', 'PS3', 'Wii', 'DS']"
      ]
     },
     "execution_count": 17,
     "metadata": {},
     "output_type": "execute_result"
    }
   ],
   "source": [
    "popular_platform_list = list(platform.index[:5])\n",
    "popular_platform_list"
   ]
  },
  {
   "cell_type": "code",
   "execution_count": 18,
   "metadata": {
    "scrolled": true
   },
   "outputs": [
    {
     "data": {
      "image/png": "[encoded data removed]",
      "text/plain": [
       "<Figure size 936x360 with 1 Axes>"
      ]
     },
     "metadata": {
      "needs_background": "light"
     },
     "output_type": "display_data"
    },
    {
     "data": {
      "image/png": "[encoded data removed]",
      "text/plain": [
       "<Figure size 936x360 with 1 Axes>"
      ]
     },
     "metadata": {
      "needs_background": "light"
     },
     "output_type": "display_data"
    },
    {
     "data": {
      "image/png": "[encoded data removed]",
      "text/plain": [
       "<Figure size 936x360 with 1 Axes>"
      ]
     },
     "metadata": {
      "needs_background": "light"
     },
     "output_type": "display_data"
    },
    {
     "data": {
      "image/png": "[encoded data removed]",
      "text/plain": [
       "<Figure size 936x360 with 1 Axes>"
      ]
     },
     "metadata": {
      "needs_background": "light"
     },
     "output_type": "display_data"
    },
    {
     "data": {
      "image/png": "[encoded data removed]",
      "text/plain": [
       "<Figure size 936x360 with 1 Axes>"
      ]
     },
     "metadata": {
      "needs_background": "light"
     },
     "output_type": "display_data"
    }
   ],
   "source": [
    "popular_platform = data.pivot_table(index='platform', values='total_sales', aggfunc='sum').sort_values(\n",
    "    by='total_sales', ascending=False).reset_index()\n",
    "\n",
    "for platform in popular_platform_list:\n",
    "    data[data['platform'] == platform].pivot_table(index='year_of_release', values='total_sales', aggfunc='sum').plot(\n",
    "        kind='bar', figsize=(13, 5))\n",
    "    plt.title(platform)\n",
    "    plt.legend('')\n",
    "    plt.xlabel('Год релиза')\n",
    "    plt.ylabel('Суммарные продажи')"
   ]
  },
  {
   "cell_type": "markdown",
   "metadata": {},
   "source": [
    "**Вывод**: \n",
    "Из графиков видно, что платформы живут циклами по 9-10 лет.\n",
    "\n",
    "* Платформа PS2 работала с 2000 по 2010 год, ее пик пришелся на 2002 - 2003 года. \n",
    "* Платформа X360 существовала с 2005 по 2016 год, ее пик пришелся на 2010 год.\n",
    "* Платформа PS2 существовала с 2006 по 2016 год, ее пик пришелся на 2011 год.\n",
    "* Платформа Wii существовала с 2006 по 2015 год, ее пик пришелся на 2009 год.\n",
    "* Платформа DS существовала с 2004 по 2013 год, ее пик пришелся на 2009 год.\n",
    "\n",
    "Необходимо выбрать данные за актуальный период. Думаю, что лучший вариант - это выбрать такой период, когда платформы еще не начали отмирать, когда они актуальны для рынка. По графику видно, что с 2010 года они еще нормально существуют (хотя платформа PS2 уже почти умерла). Поэтому дальше будем рассматривать данные с условием `year_of_release > 2012`"
   ]
  },
  {
   "cell_type": "markdown",
   "metadata": {},
   "source": [
    "Создадим новый датафрэйм с условием year_of_release > 2012, чтобы учитывать дальше данные только за актуальный период."
   ]
  },
  {
   "cell_type": "code",
   "execution_count": 19,
   "metadata": {},
   "outputs": [
    {
     "name": "stdout",
     "output_type": "stream",
     "text": [
      "<class 'pandas.core.frame.DataFrame'>\n",
      "Int64Index: 2233 entries, 16 to 16714\n",
      "Data columns (total 12 columns):\n",
      " #   Column           Non-Null Count  Dtype  \n",
      "---  ------           --------------  -----  \n",
      " 0   name             2233 non-null   object \n",
      " 1   platform         2233 non-null   object \n",
      " 2   year_of_release  2233 non-null   int32  \n",
      " 3   genre            2233 non-null   object \n",
      " 4   na_sales         2233 non-null   float64\n",
      " 5   eu_sales         2233 non-null   float64\n",
      " 6   jp_sales         2233 non-null   float64\n",
      " 7   other_sales      2233 non-null   float64\n",
      " 8   critic_score     991 non-null    float64\n",
      " 9   user_score       1192 non-null   float64\n",
      " 10  rating           1256 non-null   object \n",
      " 11  total_sales      2233 non-null   float64\n",
      "dtypes: float64(7), int32(1), object(4)\n",
      "memory usage: 218.1+ KB\n"
     ]
    }
   ],
   "source": [
    "good_data = data.query('year_of_release > 2012')\n",
    "good_data.info()"
   ]
  },
  {
   "cell_type": "markdown",
   "metadata": {},
   "source": [
    "3) Выясним, какие платформы лидируют по суммарным продажам."
   ]
  },
  {
   "cell_type": "code",
   "execution_count": 20,
   "metadata": {},
   "outputs": [
    {
     "data": {
      "text/html": [
       "<div>\n",
       "<style scoped>\n",
       "    .dataframe tbody tr th:only-of-type {\n",
       "        vertical-align: middle;\n",
       "    }\n",
       "\n",
       "    .dataframe tbody tr th {\n",
       "        vertical-align: top;\n",
       "    }\n",
       "\n",
       "    .dataframe thead th {\n",
       "        text-align: right;\n",
       "    }\n",
       "</style>\n",
       "<table border=\"1\" class=\"dataframe\">\n",
       "  <thead>\n",
       "    <tr style=\"text-align: right;\">\n",
       "      <th></th>\n",
       "      <th>platform</th>\n",
       "      <th>total_sales</th>\n",
       "    </tr>\n",
       "  </thead>\n",
       "  <tbody>\n",
       "    <tr>\n",
       "      <th>0</th>\n",
       "      <td>PS4</td>\n",
       "      <td>314.14</td>\n",
       "    </tr>\n",
       "    <tr>\n",
       "      <th>1</th>\n",
       "      <td>PS3</td>\n",
       "      <td>181.43</td>\n",
       "    </tr>\n",
       "    <tr>\n",
       "      <th>2</th>\n",
       "      <td>XOne</td>\n",
       "      <td>159.32</td>\n",
       "    </tr>\n",
       "    <tr>\n",
       "      <th>3</th>\n",
       "      <td>3DS</td>\n",
       "      <td>143.25</td>\n",
       "    </tr>\n",
       "    <tr>\n",
       "      <th>4</th>\n",
       "      <td>X360</td>\n",
       "      <td>136.80</td>\n",
       "    </tr>\n",
       "    <tr>\n",
       "      <th>5</th>\n",
       "      <td>WiiU</td>\n",
       "      <td>64.63</td>\n",
       "    </tr>\n",
       "    <tr>\n",
       "      <th>6</th>\n",
       "      <td>PC</td>\n",
       "      <td>39.43</td>\n",
       "    </tr>\n",
       "    <tr>\n",
       "      <th>7</th>\n",
       "      <td>PSV</td>\n",
       "      <td>32.99</td>\n",
       "    </tr>\n",
       "    <tr>\n",
       "      <th>8</th>\n",
       "      <td>Wii</td>\n",
       "      <td>13.66</td>\n",
       "    </tr>\n",
       "    <tr>\n",
       "      <th>9</th>\n",
       "      <td>PSP</td>\n",
       "      <td>3.50</td>\n",
       "    </tr>\n",
       "    <tr>\n",
       "      <th>10</th>\n",
       "      <td>DS</td>\n",
       "      <td>1.54</td>\n",
       "    </tr>\n",
       "  </tbody>\n",
       "</table>\n",
       "</div>"
      ],
      "text/plain": [
       "   platform  total_sales\n",
       "0       PS4       314.14\n",
       "1       PS3       181.43\n",
       "2      XOne       159.32\n",
       "3       3DS       143.25\n",
       "4      X360       136.80\n",
       "5      WiiU        64.63\n",
       "6        PC        39.43\n",
       "7       PSV        32.99\n",
       "8       Wii        13.66\n",
       "9       PSP         3.50\n",
       "10       DS         1.54"
      ]
     },
     "execution_count": 20,
     "metadata": {},
     "output_type": "execute_result"
    }
   ],
   "source": [
    "popular_platform = good_data.pivot_table(index='platform', values='total_sales', aggfunc = 'sum').sort_values('total_sales', ascending=False).reset_index()\n",
    "popular_platform"
   ]
  },
  {
   "cell_type": "markdown",
   "metadata": {},
   "source": [
    "Лидируют по суммарным продажам PS4, PS3, XOne, 3DS и X360. После того, как взяла актуальный период с 2013 года очевидно изменился вывод. Как и ожидалось, продажи платформы PS4 и XOne опередили своих предшественников PS3 и X360. 3DS по-прежнему остается на 4 месте."
   ]
  },
  {
   "cell_type": "markdown",
   "metadata": {},
   "source": [
    "4) Построим график «ящик с усами» по глобальным продажам игр в разбивке по этим платформам (PS3, X360, PS4, 3DS и XOne)."
   ]
  },
  {
   "cell_type": "code",
   "execution_count": 21,
   "metadata": {},
   "outputs": [
    {
     "data": {
      "image/png": "[encoded data removed]",
      "text/plain": [
       "<Figure size 432x288 with 1 Axes>"
      ]
     },
     "metadata": {
      "needs_background": "light"
     },
     "output_type": "display_data"
    },
    {
     "data": {
      "text/plain": [
       "count    2233.000000\n",
       "mean        0.488442\n",
       "std         1.235226\n",
       "min         0.010000\n",
       "25%         0.030000\n",
       "50%         0.110000\n",
       "75%         0.400000\n",
       "max        21.050000\n",
       "Name: total_sales, dtype: float64"
      ]
     },
     "execution_count": 21,
     "metadata": {},
     "output_type": "execute_result"
    }
   ],
   "source": [
    "good_data.boxplot(column='total_sales')\n",
    "plt.title('Диаграмма размаха')\n",
    "plt.xlabel('Все платформы')\n",
    "plt.ylabel('Суммарные продажи')\n",
    "plt.tick_params(labelbottom=False)\n",
    "plt.show()\n",
    "good_data['total_sales'].describe()"
   ]
  },
  {
   "cell_type": "markdown",
   "metadata": {},
   "source": [
    "Среднее значение по общим продажам 0.488442 млн (488 тыс). Медиана же равна 110 тысячам. Различие почти в 4.5 раза можно объяснить тем, что на графике наблюдаются большие выбросы. Максимальная цена чуть больше 21 млн.\n",
    "\n",
    "На данном графике сложно разглядеть медиану. Мешают большие выбросы. Добавим ограничение на ось plt.ylim(0, 1.25), чтобы лучше разглядеть основные значения."
   ]
  },
  {
   "cell_type": "code",
   "execution_count": 22,
   "metadata": {},
   "outputs": [
    {
     "data": {
      "image/png": "[encoded data removed]",
      "text/plain": [
       "<Figure size 432x288 with 1 Axes>"
      ]
     },
     "metadata": {
      "needs_background": "light"
     },
     "output_type": "display_data"
    },
    {
     "data": {
      "text/plain": [
       "count    2233.000000\n",
       "mean        0.488442\n",
       "std         1.235226\n",
       "min         0.010000\n",
       "25%         0.030000\n",
       "50%         0.110000\n",
       "75%         0.400000\n",
       "max        21.050000\n",
       "Name: total_sales, dtype: float64"
      ]
     },
     "execution_count": 22,
     "metadata": {},
     "output_type": "execute_result"
    }
   ],
   "source": [
    "good_data.boxplot(column='total_sales')\n",
    "plt.ylim(0, 1.25)\n",
    "plt.title('Диаграмма размаха')\n",
    "plt.xlabel('Все платформы')\n",
    "plt.ylabel('Суммарные продажи')\n",
    "plt.tick_params(labelbottom=False)\n",
    "plt.show()\n",
    "good_data['total_sales'].describe()"
   ]
  },
  {
   "cell_type": "markdown",
   "metadata": {},
   "source": [
    "Теперь стало видно нашу медиану со значением 0.11 млн."
   ]
  },
  {
   "cell_type": "markdown",
   "metadata": {},
   "source": [
    "Построим ящики с усами для платформ, которые лидируют по суммарным продажам (PS3, X360, PS4, 3DS и XOne)."
   ]
  },
  {
   "cell_type": "code",
   "execution_count": 23,
   "metadata": {},
   "outputs": [
    {
     "data": {
      "image/png": "[encoded data removed]",
      "text/plain": [
       "<Figure size 432x288 with 1 Axes>"
      ]
     },
     "metadata": {
      "needs_background": "light"
     },
     "output_type": "display_data"
    },
    {
     "data": {
      "text/plain": [
       "count    345.000000\n",
       "mean       0.525884\n",
       "std        1.451939\n",
       "min        0.010000\n",
       "25%        0.040000\n",
       "50%        0.150000\n",
       "75%        0.510000\n",
       "max       21.050000\n",
       "Name: total_sales, dtype: float64"
      ]
     },
     "execution_count": 23,
     "metadata": {},
     "output_type": "execute_result"
    }
   ],
   "source": [
    "PS3_data = good_data.query('platform ==\"PS3\"')\n",
    "plt.ylim(0, 1.75)\n",
    "PS3_data.boxplot(column = 'total_sales')\n",
    "plt.title('Диаграмма размаха')\n",
    "plt.xlabel('Платформа PS3')\n",
    "plt.ylabel('Суммарные продажи')\n",
    "plt.tick_params(labelbottom=False)\n",
    "plt.show()\n",
    "PS3_data['total_sales'].describe()"
   ]
  },
  {
   "cell_type": "markdown",
   "metadata": {},
   "source": [
    "Средняя выручка по платформе составляет 525 тыс, а максимальное значение 21 млн."
   ]
  },
  {
   "cell_type": "code",
   "execution_count": 24,
   "metadata": {},
   "outputs": [
    {
     "data": {
      "image/png": "[encoded data removed]",
      "text/plain": [
       "<Figure size 432x288 with 1 Axes>"
      ]
     },
     "metadata": {
      "needs_background": "light"
     },
     "output_type": "display_data"
    },
    {
     "data": {
      "text/plain": [
       "count    186.000000\n",
       "mean       0.735484\n",
       "std        1.663275\n",
       "min        0.010000\n",
       "25%        0.080000\n",
       "50%        0.265000\n",
       "75%        0.795000\n",
       "max       16.270000\n",
       "Name: total_sales, dtype: float64"
      ]
     },
     "execution_count": 24,
     "metadata": {},
     "output_type": "execute_result"
    }
   ],
   "source": [
    "X360_data = good_data.query('platform ==\"X360\"')\n",
    "plt.ylim(0, 2)\n",
    "X360_data.boxplot(column = 'total_sales')\n",
    "plt.title('Диаграмма размаха')\n",
    "plt.xlabel('Платформа X360')\n",
    "plt.ylabel('Суммарные продажи')\n",
    "plt.tick_params(labelbottom=False)\n",
    "plt.show()\n",
    "X360_data['total_sales'].describe()"
   ]
  },
  {
   "cell_type": "markdown",
   "metadata": {},
   "source": [
    "Средняя выручка по платформе составляет 735 тыс, а максимальное значение 16,27 млн."
   ]
  },
  {
   "cell_type": "code",
   "execution_count": 25,
   "metadata": {},
   "outputs": [
    {
     "data": {
      "image/png": "[encoded data removed]",
      "text/plain": [
       "<Figure size 432x288 with 1 Axes>"
      ]
     },
     "metadata": {
      "needs_background": "light"
     },
     "output_type": "display_data"
    },
    {
     "data": {
      "text/plain": [
       "count    392.000000\n",
       "mean       0.801378\n",
       "std        1.609456\n",
       "min        0.010000\n",
       "25%        0.060000\n",
       "50%        0.200000\n",
       "75%        0.730000\n",
       "max       14.630000\n",
       "Name: total_sales, dtype: float64"
      ]
     },
     "execution_count": 25,
     "metadata": {},
     "output_type": "execute_result"
    }
   ],
   "source": [
    "PS4_data = good_data.query('platform ==\"PS4\"')\n",
    "plt.ylim(0, 2)\n",
    "PS4_data.boxplot(column = 'total_sales')\n",
    "plt.title('Диаграмма размаха')\n",
    "plt.xlabel('Платформа PS4')\n",
    "plt.ylabel('Суммарные продажи')\n",
    "plt.tick_params(labelbottom=False)\n",
    "plt.show()\n",
    "PS4_data['total_sales'].describe()"
   ]
  },
  {
   "cell_type": "markdown",
   "metadata": {},
   "source": [
    "Средняя выручка по платформе составляет 801 тыс, а максимальное значение достигает почти 15 млн."
   ]
  },
  {
   "cell_type": "code",
   "execution_count": 26,
   "metadata": {},
   "outputs": [
    {
     "data": {
      "image/png": "[encoded data removed]",
      "text/plain": [
       "<Figure size 432x288 with 1 Axes>"
      ]
     },
     "metadata": {
      "needs_background": "light"
     },
     "output_type": "display_data"
    },
    {
     "data": {
      "text/plain": [
       "count    303.000000\n",
       "mean       0.472772\n",
       "std        1.381347\n",
       "min        0.010000\n",
       "25%        0.040000\n",
       "50%        0.090000\n",
       "75%        0.280000\n",
       "max       14.600000\n",
       "Name: total_sales, dtype: float64"
      ]
     },
     "execution_count": 26,
     "metadata": {},
     "output_type": "execute_result"
    }
   ],
   "source": [
    "DS_data = good_data.query('platform ==\"3DS\"')\n",
    "plt.ylim(0, 1)\n",
    "DS_data.boxplot(column = 'total_sales')\n",
    "plt.title('Диаграмма размаха')\n",
    "plt.xlabel('Платформа 3DS')\n",
    "plt.ylabel('Суммарные продажи')\n",
    "plt.tick_params(labelbottom=False)\n",
    "plt.show()\n",
    "DS_data['total_sales'].describe()"
   ]
  },
  {
   "cell_type": "markdown",
   "metadata": {},
   "source": [
    "Средняя выручка по платформе составляет 472 тыс, а максимальное значение достигает 14.6 млн."
   ]
  },
  {
   "cell_type": "code",
   "execution_count": 27,
   "metadata": {},
   "outputs": [
    {
     "data": {
      "image/png": "[encoded data removed]",
      "text/plain": [
       "<Figure size 432x288 with 1 Axes>"
      ]
     },
     "metadata": {
      "needs_background": "light"
     },
     "output_type": "display_data"
    },
    {
     "data": {
      "text/plain": [
       "count    247.000000\n",
       "mean       0.645020\n",
       "std        1.036139\n",
       "min        0.010000\n",
       "25%        0.060000\n",
       "50%        0.220000\n",
       "75%        0.685000\n",
       "max        7.390000\n",
       "Name: total_sales, dtype: float64"
      ]
     },
     "execution_count": 27,
     "metadata": {},
     "output_type": "execute_result"
    }
   ],
   "source": [
    "XOne_data = good_data.query('platform ==\"XOne\"')\n",
    "plt.ylim(0, 2)\n",
    "XOne_data.boxplot(column = 'total_sales')\n",
    "plt.title('Диаграмма размаха')\n",
    "plt.xlabel('Платформа XOne')\n",
    "plt.ylabel('Суммарные продажи')\n",
    "plt.tick_params(labelbottom=False)\n",
    "plt.show()\n",
    "XOne_data['total_sales'].describe()"
   ]
  },
  {
   "cell_type": "markdown",
   "metadata": {},
   "source": [
    "Средняя выручка по платформе составляет 645 тыс, а максимальное значение достигает 7,4 млн."
   ]
  },
  {
   "cell_type": "markdown",
   "metadata": {},
   "source": [
    "Соберем 5 графиков по отдельным платформам на одном."
   ]
  },
  {
   "cell_type": "code",
   "execution_count": 28,
   "metadata": {},
   "outputs": [
    {
     "data": {
      "image/png": "[encoded data removed]",
      "text/plain": [
       "<Figure size 936x360 with 1 Axes>"
      ]
     },
     "metadata": {
      "needs_background": "light"
     },
     "output_type": "display_data"
    }
   ],
   "source": [
    "super_platform = ['PS3', 'X360', 'PS4', '3DS', 'XOne']\n",
    "top_platform = good_data[good_data['platform'].isin(['PS3', 'X360', 'PS4', '3DS', 'XOne'])]\n",
    "\n",
    "plt.figure(figsize=(13, 5))\n",
    "plt.ylim(0, 2)\n",
    "sns.boxplot(data=top_platform, x='platform', y='total_sales')\n",
    "plt.title('Диаграмма размаха')\n",
    "plt.xlabel('Платформа')\n",
    "plt.ylabel('Суммарные продажи')\n",
    "plt.show()"
   ]
  },
  {
   "cell_type": "markdown",
   "metadata": {},
   "source": [
    "**Вывод**:\n",
    "Из общего графика видно, что значение медианы у всех платформ находится на разном уровне, но в области меньше 250 тыс. Больше всего продано игр на платформе X360 - примерно 760 тысяч, на втором месте PS4 и почти на одном уровне с ним находится XOne. Меньше всего продаж у 3DS. Это подтверждает наш вывод из предыдущего вопроса: потенциально прибыльными можно назвать платформы PS4 и XOne, так как она приходит на смену PS3 и X360."
   ]
  },
  {
   "cell_type": "markdown",
   "metadata": {},
   "source": [
    "5) Посмотрим, как влияют на продажи внутри одной популярной платформы отзывы пользователей и критиков. Построим диаграммы рассеяния и посчитаем корреляцию между отзывами и продажами.\n",
    "\n",
    "Будем строить 2 диаграммы: первая по отзывам пользователей, вторая по отзывам критиков, т.к. в первой значения изменяются от 1 до 10, а во второй от 1 до 100."
   ]
  },
  {
   "cell_type": "markdown",
   "metadata": {},
   "source": [
    "Возьмем популярную платформу X360 и построим для нее 2 диаграммы рассеяния."
   ]
  },
  {
   "cell_type": "code",
   "execution_count": 29,
   "metadata": {},
   "outputs": [
    {
     "data": {
      "image/png": "[encoded data removed]",
      "text/plain": [
       "<Figure size 432x288 with 1 Axes>"
      ]
     },
     "metadata": {
      "needs_background": "light"
     },
     "output_type": "display_data"
    },
    {
     "data": {
      "image/png": "[encoded data removed]",
      "text/plain": [
       "<Figure size 432x288 with 1 Axes>"
      ]
     },
     "metadata": {
      "needs_background": "light"
     },
     "output_type": "display_data"
    }
   ],
   "source": [
    "X360_data.sort_values('total_sales').plot(x='user_score', y='total_sales', kind='scatter', grid=True)\n",
    "plt.title('Диаграмма рассеяния для платформы X360')\n",
    "plt.xlabel('Оценка пользователей')\n",
    "plt.ylabel('Суммарные продажи')\n",
    "plt.show()\n",
    "\n",
    "X360_data.sort_values('total_sales').plot(x='critic_score', y='total_sales', kind='scatter', grid=True)\n",
    "plt.title('Диаграмма рассеяния для платформы X360')\n",
    "plt.xlabel('Оценка критиков')\n",
    "plt.ylabel('Суммарные продажи')\n",
    "plt.show()"
   ]
  },
  {
   "cell_type": "markdown",
   "metadata": {},
   "source": [
    "Посчитаем корреляции между отзывами пользователей, критиков и продажами."
   ]
  },
  {
   "cell_type": "code",
   "execution_count": 30,
   "metadata": {},
   "outputs": [
    {
     "data": {
      "text/plain": [
       "-0.011742185147181334"
      ]
     },
     "metadata": {},
     "output_type": "display_data"
    },
    {
     "data": {
      "text/plain": [
       "0.35034454602286647"
      ]
     },
     "execution_count": 30,
     "metadata": {},
     "output_type": "execute_result"
    }
   ],
   "source": [
    "display(X360_data['user_score'].corr(X360_data['total_sales']))\n",
    "X360_data['critic_score'].corr(X360_data['total_sales'])"
   ]
  },
  {
   "cell_type": "markdown",
   "metadata": {},
   "source": [
    "Значение коэффициента корреляции 0,0389 говорит о том, что связи между отзывами пользователй и продажами почти нет.  \n",
    "Между отзывами критиков и продажами связь больше, но все равно слабая. Значение коэффициента корреляции 0.39."
   ]
  },
  {
   "cell_type": "markdown",
   "metadata": {},
   "source": [
    "Построим диаграммы рассеяния для 5 платформ"
   ]
  },
  {
   "cell_type": "code",
   "execution_count": 31,
   "metadata": {
    "scrolled": false
   },
   "outputs": [
    {
     "data": {
      "image/png": "[encoded data removed]",
      "text/plain": [
       "<Figure size 936x360 with 2 Axes>"
      ]
     },
     "metadata": {
      "needs_background": "light"
     },
     "output_type": "display_data"
    },
    {
     "data": {
      "image/png": "[encoded data removed]",
      "text/plain": [
       "<Figure size 936x360 with 2 Axes>"
      ]
     },
     "metadata": {
      "needs_background": "light"
     },
     "output_type": "display_data"
    },
    {
     "data": {
      "image/png": "[encoded data removed]",
      "text/plain": [
       "<Figure size 936x360 with 2 Axes>"
      ]
     },
     "metadata": {
      "needs_background": "light"
     },
     "output_type": "display_data"
    },
    {
     "data": {
      "image/png": "[encoded data removed]",
      "text/plain": [
       "<Figure size 936x360 with 2 Axes>"
      ]
     },
     "metadata": {
      "needs_background": "light"
     },
     "output_type": "display_data"
    },
    {
     "data": {
      "image/png": "[encoded data removed]",
      "text/plain": [
       "<Figure size 936x360 with 2 Axes>"
      ]
     },
     "metadata": {
      "needs_background": "light"
     },
     "output_type": "display_data"
    }
   ],
   "source": [
    "super_platform = ['PS3', 'X360', 'PS4', '3DS', 'XOne']\n",
    "top_platform = good_data[good_data['platform'].isin(['PS3', 'X360', 'PS4', '3DS', 'XOne'])]\n",
    "\n",
    "for platform in super_platform:\n",
    "    fig, ax = plt.subplots(1 ,2, figsize=(13, 5))\n",
    "    top_platform.plot(x='critic_score',y='total_sales', kind='scatter', grid=True, subplots=True, title=platform, ax=ax[0])\n",
    "    top_platform.plot(x='user_score',y='total_sales', kind='scatter', grid=True, subplots=True, title=platform, ax=ax[1])\n",
    "    ax[0].set(xlabel='Оценка критиков', ylabel='Суммарные продажи', title='Диаграмма рассеяния')\n",
    "    ax[1].set(xlabel='Оценка пользователей', ylabel='Суммарные продажи', title='Диаграмма рассеяния')"
   ]
  },
  {
   "cell_type": "markdown",
   "metadata": {},
   "source": [
    "Посчитаем коэффициенты корреляции для платформ 'PS3', 'X360', 'PS4', '3DS', 'XOne'."
   ]
  },
  {
   "cell_type": "code",
   "execution_count": 32,
   "metadata": {},
   "outputs": [
    {
     "name": "stdout",
     "output_type": "stream",
     "text": [
      "Корреляция с пользовательскими оценками: 0.0023944027357567033\n",
      "Корреляция с оценками критиков: 0.33428533933719184\n",
      "----------\n",
      "Корреляция с пользовательскими оценками: -0.011742185147181334\n",
      "Корреляция с оценками критиков: 0.35034454602286647\n",
      "----------\n",
      "Корреляция с пользовательскими оценками: -0.03195711020455644\n",
      "Корреляция с оценками критиков: 0.40656790206178123\n",
      "----------\n",
      "Корреляция с пользовательскими оценками: 0.24150411773563005\n",
      "Корреляция с оценками критиков: 0.3570566142288104\n",
      "----------\n",
      "Корреляция с пользовательскими оценками: -0.06892505328279418\n",
      "Корреляция с оценками критиков: 0.41699832800840153\n",
      "----------\n"
     ]
    }
   ],
   "source": [
    "super_platform = ['PS3', 'X360', 'PS4', '3DS', 'XOne']\n",
    "for platform in super_platform:    \n",
    "    platform = good_data[good_data['platform'] == platform]\n",
    "    print(f\"Корреляция с пользовательскими оценками: {platform['user_score'].corr(platform['total_sales'])}\")\n",
    "    print(f\"Корреляция с оценками критиков: {platform['critic_score'].corr(platform['total_sales'])}\")\n",
    "    print(10*'-')"
   ]
  },
  {
   "cell_type": "markdown",
   "metadata": {},
   "source": [
    "Создадим новый датафрейм `score` со значениями коэффициентов корреляции для рейтинга пользователей и критиков."
   ]
  },
  {
   "cell_type": "code",
   "execution_count": 33,
   "metadata": {},
   "outputs": [
    {
     "data": {
      "text/html": [
       "<div>\n",
       "<style scoped>\n",
       "    .dataframe tbody tr th:only-of-type {\n",
       "        vertical-align: middle;\n",
       "    }\n",
       "\n",
       "    .dataframe tbody tr th {\n",
       "        vertical-align: top;\n",
       "    }\n",
       "\n",
       "    .dataframe thead th {\n",
       "        text-align: right;\n",
       "    }\n",
       "</style>\n",
       "<table border=\"1\" class=\"dataframe\">\n",
       "  <thead>\n",
       "    <tr style=\"text-align: right;\">\n",
       "      <th></th>\n",
       "      <th>platform_name</th>\n",
       "      <th>user_score</th>\n",
       "      <th>critic_score</th>\n",
       "    </tr>\n",
       "  </thead>\n",
       "  <tbody>\n",
       "    <tr>\n",
       "      <th>0</th>\n",
       "      <td>X360</td>\n",
       "      <td>-0.011742</td>\n",
       "      <td>0.350345</td>\n",
       "    </tr>\n",
       "    <tr>\n",
       "      <th>1</th>\n",
       "      <td>PS3</td>\n",
       "      <td>0.002394</td>\n",
       "      <td>0.334285</td>\n",
       "    </tr>\n",
       "    <tr>\n",
       "      <th>2</th>\n",
       "      <td>PS4</td>\n",
       "      <td>-0.031957</td>\n",
       "      <td>0.406568</td>\n",
       "    </tr>\n",
       "    <tr>\n",
       "      <th>3</th>\n",
       "      <td>3DS</td>\n",
       "      <td>0.241504</td>\n",
       "      <td>0.357057</td>\n",
       "    </tr>\n",
       "    <tr>\n",
       "      <th>4</th>\n",
       "      <td>XOne</td>\n",
       "      <td>-0.068925</td>\n",
       "      <td>0.416998</td>\n",
       "    </tr>\n",
       "  </tbody>\n",
       "</table>\n",
       "</div>"
      ],
      "text/plain": [
       "  platform_name  user_score  critic_score\n",
       "0          X360   -0.011742      0.350345\n",
       "1           PS3    0.002394      0.334285\n",
       "2           PS4   -0.031957      0.406568\n",
       "3           3DS    0.241504      0.357057\n",
       "4          XOne   -0.068925      0.416998"
      ]
     },
     "execution_count": 33,
     "metadata": {},
     "output_type": "execute_result"
    }
   ],
   "source": [
    "score = pd.DataFrame({'platform_name': ['X360', 'PS3', 'PS4', '3DS', 'XOne'],\n",
    "                      'user_score': [X360_data['user_score'].corr(X360_data['total_sales']), PS3_data['user_score'].corr(PS3_data['total_sales']), PS4_data['user_score'].corr(PS4_data['total_sales']), DS_data['user_score'].corr(DS_data['total_sales']), XOne_data['user_score'].corr(XOne_data['total_sales'])],\n",
    "                      'critic_score': [X360_data['critic_score'].corr(X360_data['total_sales']), PS3_data['critic_score'].corr(PS3_data['total_sales']), PS4_data['critic_score'].corr(PS4_data['total_sales']), DS_data['critic_score'].corr(DS_data['total_sales']), XOne_data['critic_score'].corr(XOne_data['total_sales'])]})\n",
    "score.head()"
   ]
  },
  {
   "cell_type": "markdown",
   "metadata": {},
   "source": [
    "**Вывод**:  \n",
    "\n",
    "Наибольшую корреляцию (0.241504) между отзывами пользователей и продажами имеет платформа 3DS. При этом корреляция слабая. Остальные платформы имеют еще меньшую зависимость от оценок пользователей, точнее, ее почти нет, так как коэффициенты корреляции меньше 0.1. То есть, продажи совсем не зависят от оценок пользователей.\n",
    "\n",
    "Связь продаж и оценок критиков сильнее, чем от простых пользователей. Нибольшую зависимость имеют 2 платформы: XOne и PS4. Коэффициенты корреляции положительные, значит, что с ростом оценок критиков увеличиваются и продажи."
   ]
  },
  {
   "cell_type": "markdown",
   "metadata": {},
   "source": [
    "6) Посмотрим на общее распределение игр по жанрам."
   ]
  },
  {
   "cell_type": "code",
   "execution_count": 34,
   "metadata": {},
   "outputs": [
    {
     "data": {
      "text/html": [
       "<div>\n",
       "<style scoped>\n",
       "    .dataframe tbody tr th:only-of-type {\n",
       "        vertical-align: middle;\n",
       "    }\n",
       "\n",
       "    .dataframe tbody tr th {\n",
       "        vertical-align: top;\n",
       "    }\n",
       "\n",
       "    .dataframe thead th {\n",
       "        text-align: right;\n",
       "    }\n",
       "</style>\n",
       "<table border=\"1\" class=\"dataframe\">\n",
       "  <thead>\n",
       "    <tr style=\"text-align: right;\">\n",
       "      <th></th>\n",
       "      <th>name</th>\n",
       "      <th>platform</th>\n",
       "      <th>year_of_release</th>\n",
       "      <th>genre</th>\n",
       "      <th>na_sales</th>\n",
       "      <th>eu_sales</th>\n",
       "      <th>jp_sales</th>\n",
       "      <th>other_sales</th>\n",
       "      <th>critic_score</th>\n",
       "      <th>user_score</th>\n",
       "      <th>rating</th>\n",
       "      <th>total_sales</th>\n",
       "    </tr>\n",
       "  </thead>\n",
       "  <tbody>\n",
       "    <tr>\n",
       "      <th>16</th>\n",
       "      <td>Grand Theft Auto V</td>\n",
       "      <td>PS3</td>\n",
       "      <td>2013</td>\n",
       "      <td>Action</td>\n",
       "      <td>7.02</td>\n",
       "      <td>9.09</td>\n",
       "      <td>0.98</td>\n",
       "      <td>3.96</td>\n",
       "      <td>97.0</td>\n",
       "      <td>8.2</td>\n",
       "      <td>M</td>\n",
       "      <td>21.05</td>\n",
       "    </tr>\n",
       "    <tr>\n",
       "      <th>23</th>\n",
       "      <td>Grand Theft Auto V</td>\n",
       "      <td>X360</td>\n",
       "      <td>2013</td>\n",
       "      <td>Action</td>\n",
       "      <td>9.66</td>\n",
       "      <td>5.14</td>\n",
       "      <td>0.06</td>\n",
       "      <td>1.41</td>\n",
       "      <td>97.0</td>\n",
       "      <td>8.1</td>\n",
       "      <td>M</td>\n",
       "      <td>16.27</td>\n",
       "    </tr>\n",
       "    <tr>\n",
       "      <th>31</th>\n",
       "      <td>Call of Duty: Black Ops 3</td>\n",
       "      <td>PS4</td>\n",
       "      <td>2015</td>\n",
       "      <td>Shooter</td>\n",
       "      <td>6.03</td>\n",
       "      <td>5.86</td>\n",
       "      <td>0.36</td>\n",
       "      <td>2.38</td>\n",
       "      <td>NaN</td>\n",
       "      <td>NaN</td>\n",
       "      <td>NaN</td>\n",
       "      <td>14.63</td>\n",
       "    </tr>\n",
       "    <tr>\n",
       "      <th>33</th>\n",
       "      <td>Pokemon X/Pokemon Y</td>\n",
       "      <td>3DS</td>\n",
       "      <td>2013</td>\n",
       "      <td>Role-Playing</td>\n",
       "      <td>5.28</td>\n",
       "      <td>4.19</td>\n",
       "      <td>4.35</td>\n",
       "      <td>0.78</td>\n",
       "      <td>NaN</td>\n",
       "      <td>NaN</td>\n",
       "      <td>NaN</td>\n",
       "      <td>14.60</td>\n",
       "    </tr>\n",
       "    <tr>\n",
       "      <th>42</th>\n",
       "      <td>Grand Theft Auto V</td>\n",
       "      <td>PS4</td>\n",
       "      <td>2014</td>\n",
       "      <td>Action</td>\n",
       "      <td>3.96</td>\n",
       "      <td>6.31</td>\n",
       "      <td>0.38</td>\n",
       "      <td>1.97</td>\n",
       "      <td>97.0</td>\n",
       "      <td>8.3</td>\n",
       "      <td>M</td>\n",
       "      <td>12.62</td>\n",
       "    </tr>\n",
       "  </tbody>\n",
       "</table>\n",
       "</div>"
      ],
      "text/plain": [
       "                         name platform  year_of_release         genre  \\\n",
       "16         Grand Theft Auto V      PS3             2013        Action   \n",
       "23         Grand Theft Auto V     X360             2013        Action   \n",
       "31  Call of Duty: Black Ops 3      PS4             2015       Shooter   \n",
       "33        Pokemon X/Pokemon Y      3DS             2013  Role-Playing   \n",
       "42         Grand Theft Auto V      PS4             2014        Action   \n",
       "\n",
       "    na_sales  eu_sales  jp_sales  other_sales  critic_score  user_score  \\\n",
       "16      7.02      9.09      0.98         3.96          97.0         8.2   \n",
       "23      9.66      5.14      0.06         1.41          97.0         8.1   \n",
       "31      6.03      5.86      0.36         2.38           NaN         NaN   \n",
       "33      5.28      4.19      4.35         0.78           NaN         NaN   \n",
       "42      3.96      6.31      0.38         1.97          97.0         8.3   \n",
       "\n",
       "   rating  total_sales  \n",
       "16      M        21.05  \n",
       "23      M        16.27  \n",
       "31    NaN        14.63  \n",
       "33    NaN        14.60  \n",
       "42      M        12.62  "
      ]
     },
     "execution_count": 34,
     "metadata": {},
     "output_type": "execute_result"
    }
   ],
   "source": [
    "good_data.head()"
   ]
  },
  {
   "cell_type": "code",
   "execution_count": 35,
   "metadata": {},
   "outputs": [
    {
     "data": {
      "text/html": [
       "<div>\n",
       "<style scoped>\n",
       "    .dataframe tbody tr th:only-of-type {\n",
       "        vertical-align: middle;\n",
       "    }\n",
       "\n",
       "    .dataframe tbody tr th {\n",
       "        vertical-align: top;\n",
       "    }\n",
       "\n",
       "    .dataframe thead th {\n",
       "        text-align: right;\n",
       "    }\n",
       "</style>\n",
       "<table border=\"1\" class=\"dataframe\">\n",
       "  <thead>\n",
       "    <tr style=\"text-align: right;\">\n",
       "      <th></th>\n",
       "      <th>genre</th>\n",
       "      <th>total_sales</th>\n",
       "    </tr>\n",
       "  </thead>\n",
       "  <tbody>\n",
       "    <tr>\n",
       "      <th>0</th>\n",
       "      <td>Action</td>\n",
       "      <td>321.87</td>\n",
       "    </tr>\n",
       "    <tr>\n",
       "      <th>1</th>\n",
       "      <td>Adventure</td>\n",
       "      <td>23.64</td>\n",
       "    </tr>\n",
       "    <tr>\n",
       "      <th>2</th>\n",
       "      <td>Fighting</td>\n",
       "      <td>35.31</td>\n",
       "    </tr>\n",
       "    <tr>\n",
       "      <th>3</th>\n",
       "      <td>Misc</td>\n",
       "      <td>62.82</td>\n",
       "    </tr>\n",
       "    <tr>\n",
       "      <th>4</th>\n",
       "      <td>Platform</td>\n",
       "      <td>42.63</td>\n",
       "    </tr>\n",
       "    <tr>\n",
       "      <th>5</th>\n",
       "      <td>Puzzle</td>\n",
       "      <td>3.17</td>\n",
       "    </tr>\n",
       "    <tr>\n",
       "      <th>6</th>\n",
       "      <td>Racing</td>\n",
       "      <td>39.89</td>\n",
       "    </tr>\n",
       "    <tr>\n",
       "      <th>7</th>\n",
       "      <td>Role-Playing</td>\n",
       "      <td>145.89</td>\n",
       "    </tr>\n",
       "    <tr>\n",
       "      <th>8</th>\n",
       "      <td>Shooter</td>\n",
       "      <td>232.98</td>\n",
       "    </tr>\n",
       "    <tr>\n",
       "      <th>9</th>\n",
       "      <td>Simulation</td>\n",
       "      <td>21.76</td>\n",
       "    </tr>\n",
       "    <tr>\n",
       "      <th>10</th>\n",
       "      <td>Sports</td>\n",
       "      <td>150.65</td>\n",
       "    </tr>\n",
       "    <tr>\n",
       "      <th>11</th>\n",
       "      <td>Strategy</td>\n",
       "      <td>10.08</td>\n",
       "    </tr>\n",
       "  </tbody>\n",
       "</table>\n",
       "</div>"
      ],
      "text/plain": [
       "           genre  total_sales\n",
       "0         Action       321.87\n",
       "1      Adventure        23.64\n",
       "2       Fighting        35.31\n",
       "3           Misc        62.82\n",
       "4       Platform        42.63\n",
       "5         Puzzle         3.17\n",
       "6         Racing        39.89\n",
       "7   Role-Playing       145.89\n",
       "8        Shooter       232.98\n",
       "9     Simulation        21.76\n",
       "10        Sports       150.65\n",
       "11      Strategy        10.08"
      ]
     },
     "execution_count": 35,
     "metadata": {},
     "output_type": "execute_result"
    }
   ],
   "source": [
    "genre_data = good_data[['genre', 'total_sales']].groupby('genre')['total_sales'].sum().reset_index()\n",
    "genre_data"
   ]
  },
  {
   "cell_type": "code",
   "execution_count": 36,
   "metadata": {},
   "outputs": [
    {
     "data": {
      "image/png": "[encoded data removed]",
      "text/plain": [
       "<Figure size 936x360 with 1 Axes>"
      ]
     },
     "metadata": {
      "needs_background": "light"
     },
     "output_type": "display_data"
    }
   ],
   "source": [
    "plt.figure(figsize=(13, 5))\n",
    "plt.title('Объем рынка, занимаемый каждым жанром')\n",
    "sns.barplot(data=genre_data, x='genre', y='total_sales')\n",
    "plt.xlabel('Жанр')\n",
    "plt.ylabel('Суммарные продажи')\n",
    "plt.show()"
   ]
  },
  {
   "cell_type": "markdown",
   "metadata": {},
   "source": [
    "**Вывод**:\n",
    "\n",
    "Больше всего на рынке игр в жанре Action. Его общие продажи составляют 557.80 млн. На втором месте Shooter с продажами в 402.91 млн. Сразу несколько жанров можно объединить в одну группу с низким объемом рынка (меньше 100 млн). Это Adventure, Fighting, Platform, Puzzle, Racing, Simulation и Strategy. Меньше всего пользователи играют в игры жанра Puzzle."
   ]
  },
  {
   "cell_type": "markdown",
   "metadata": {},
   "source": [
    "Посчитаем прибыльность по каждому жанру. Для этого сначала узнаем, сколько игр каждого жанра у нас есть. Затем поделим продажи по жанру на количество игр."
   ]
  },
  {
   "cell_type": "code",
   "execution_count": 37,
   "metadata": {},
   "outputs": [
    {
     "data": {
      "text/html": [
       "<div>\n",
       "<style scoped>\n",
       "    .dataframe tbody tr th:only-of-type {\n",
       "        vertical-align: middle;\n",
       "    }\n",
       "\n",
       "    .dataframe tbody tr th {\n",
       "        vertical-align: top;\n",
       "    }\n",
       "\n",
       "    .dataframe thead th {\n",
       "        text-align: right;\n",
       "    }\n",
       "</style>\n",
       "<table border=\"1\" class=\"dataframe\">\n",
       "  <thead>\n",
       "    <tr style=\"text-align: right;\">\n",
       "      <th></th>\n",
       "      <th>genre</th>\n",
       "      <th>total_sales</th>\n",
       "      <th>count_games</th>\n",
       "      <th>income_genre</th>\n",
       "    </tr>\n",
       "  </thead>\n",
       "  <tbody>\n",
       "    <tr>\n",
       "      <th>0</th>\n",
       "      <td>Action</td>\n",
       "      <td>321.87</td>\n",
       "      <td>766</td>\n",
       "      <td>0.420196</td>\n",
       "    </tr>\n",
       "    <tr>\n",
       "      <th>1</th>\n",
       "      <td>Adventure</td>\n",
       "      <td>23.64</td>\n",
       "      <td>245</td>\n",
       "      <td>0.096490</td>\n",
       "    </tr>\n",
       "    <tr>\n",
       "      <th>2</th>\n",
       "      <td>Fighting</td>\n",
       "      <td>35.31</td>\n",
       "      <td>80</td>\n",
       "      <td>0.441375</td>\n",
       "    </tr>\n",
       "    <tr>\n",
       "      <th>3</th>\n",
       "      <td>Misc</td>\n",
       "      <td>62.82</td>\n",
       "      <td>155</td>\n",
       "      <td>0.405290</td>\n",
       "    </tr>\n",
       "    <tr>\n",
       "      <th>4</th>\n",
       "      <td>Platform</td>\n",
       "      <td>42.63</td>\n",
       "      <td>74</td>\n",
       "      <td>0.576081</td>\n",
       "    </tr>\n",
       "  </tbody>\n",
       "</table>\n",
       "</div>"
      ],
      "text/plain": [
       "       genre  total_sales  count_games  income_genre\n",
       "0     Action       321.87          766      0.420196\n",
       "1  Adventure        23.64          245      0.096490\n",
       "2   Fighting        35.31           80      0.441375\n",
       "3       Misc        62.82          155      0.405290\n",
       "4   Platform        42.63           74      0.576081"
      ]
     },
     "metadata": {},
     "output_type": "display_data"
    },
    {
     "data": {
      "image/png": "[encoded data removed]",
      "text/plain": [
       "<Figure size 936x360 with 1 Axes>"
      ]
     },
     "metadata": {
      "needs_background": "light"
     },
     "output_type": "display_data"
    }
   ],
   "source": [
    "genre_data_name = good_data[['name', 'genre', 'total_sales']]\n",
    "genre_data_name = genre_data_name.groupby('genre')['name'].count().reset_index()\n",
    "genre_data_name\n",
    "\n",
    "data_genre = genre_data.merge(genre_data_name, on='genre', how='outer')\n",
    "data_genre = data_genre.rename(columns={'name':'count_games'})\n",
    "data_genre['income_genre'] = data_genre['total_sales'] / data_genre['count_games']\n",
    "display(data_genre.head())\n",
    "\n",
    "plt.figure(figsize=(13, 5))\n",
    "plt.title('Прибыльность по каждому жанру')\n",
    "sns.barplot(data=data_genre, x='genre', y='income_genre')\n",
    "plt.xlabel('Жанр')\n",
    "plt.ylabel('Прибыльность')\n",
    "plt.show()"
   ]
  },
  {
   "cell_type": "markdown",
   "metadata": {},
   "source": [
    "**Вывод**:\n",
    "\n",
    "Несмотря на то, что игры в жанре Action являются наиболее популярными, самые большие продажи приносит жанр Shooter (примерно 1.2 млн за игру). Наименьший доход у игр жанра Adventure (примерно 0.1 млн)."
   ]
  },
  {
   "cell_type": "markdown",
   "metadata": {},
   "source": [
    "## Портрет пользователя каждого региона"
   ]
  },
  {
   "cell_type": "markdown",
   "metadata": {},
   "source": [
    "Определим для пользователя каждого региона (NA, EU, JP):\n",
    "* Самые популярные платформы (топ-5).\n",
    "* Самые популярные жанры (топ-5).\n",
    "* Влияет ли рейтинг ESRB на продажи в отдельном регионе?"
   ]
  },
  {
   "cell_type": "code",
   "execution_count": 38,
   "metadata": {},
   "outputs": [
    {
     "data": {
      "text/html": [
       "<div>\n",
       "<style scoped>\n",
       "    .dataframe tbody tr th:only-of-type {\n",
       "        vertical-align: middle;\n",
       "    }\n",
       "\n",
       "    .dataframe tbody tr th {\n",
       "        vertical-align: top;\n",
       "    }\n",
       "\n",
       "    .dataframe thead th {\n",
       "        text-align: right;\n",
       "    }\n",
       "</style>\n",
       "<table border=\"1\" class=\"dataframe\">\n",
       "  <thead>\n",
       "    <tr style=\"text-align: right;\">\n",
       "      <th></th>\n",
       "      <th>name</th>\n",
       "      <th>platform</th>\n",
       "      <th>year_of_release</th>\n",
       "      <th>genre</th>\n",
       "      <th>na_sales</th>\n",
       "      <th>eu_sales</th>\n",
       "      <th>jp_sales</th>\n",
       "      <th>other_sales</th>\n",
       "      <th>critic_score</th>\n",
       "      <th>user_score</th>\n",
       "      <th>rating</th>\n",
       "      <th>total_sales</th>\n",
       "    </tr>\n",
       "  </thead>\n",
       "  <tbody>\n",
       "    <tr>\n",
       "      <th>16</th>\n",
       "      <td>Grand Theft Auto V</td>\n",
       "      <td>PS3</td>\n",
       "      <td>2013</td>\n",
       "      <td>Action</td>\n",
       "      <td>7.02</td>\n",
       "      <td>9.09</td>\n",
       "      <td>0.98</td>\n",
       "      <td>3.96</td>\n",
       "      <td>97.0</td>\n",
       "      <td>8.2</td>\n",
       "      <td>M</td>\n",
       "      <td>21.05</td>\n",
       "    </tr>\n",
       "    <tr>\n",
       "      <th>23</th>\n",
       "      <td>Grand Theft Auto V</td>\n",
       "      <td>X360</td>\n",
       "      <td>2013</td>\n",
       "      <td>Action</td>\n",
       "      <td>9.66</td>\n",
       "      <td>5.14</td>\n",
       "      <td>0.06</td>\n",
       "      <td>1.41</td>\n",
       "      <td>97.0</td>\n",
       "      <td>8.1</td>\n",
       "      <td>M</td>\n",
       "      <td>16.27</td>\n",
       "    </tr>\n",
       "    <tr>\n",
       "      <th>31</th>\n",
       "      <td>Call of Duty: Black Ops 3</td>\n",
       "      <td>PS4</td>\n",
       "      <td>2015</td>\n",
       "      <td>Shooter</td>\n",
       "      <td>6.03</td>\n",
       "      <td>5.86</td>\n",
       "      <td>0.36</td>\n",
       "      <td>2.38</td>\n",
       "      <td>NaN</td>\n",
       "      <td>NaN</td>\n",
       "      <td>NaN</td>\n",
       "      <td>14.63</td>\n",
       "    </tr>\n",
       "    <tr>\n",
       "      <th>33</th>\n",
       "      <td>Pokemon X/Pokemon Y</td>\n",
       "      <td>3DS</td>\n",
       "      <td>2013</td>\n",
       "      <td>Role-Playing</td>\n",
       "      <td>5.28</td>\n",
       "      <td>4.19</td>\n",
       "      <td>4.35</td>\n",
       "      <td>0.78</td>\n",
       "      <td>NaN</td>\n",
       "      <td>NaN</td>\n",
       "      <td>NaN</td>\n",
       "      <td>14.60</td>\n",
       "    </tr>\n",
       "    <tr>\n",
       "      <th>42</th>\n",
       "      <td>Grand Theft Auto V</td>\n",
       "      <td>PS4</td>\n",
       "      <td>2014</td>\n",
       "      <td>Action</td>\n",
       "      <td>3.96</td>\n",
       "      <td>6.31</td>\n",
       "      <td>0.38</td>\n",
       "      <td>1.97</td>\n",
       "      <td>97.0</td>\n",
       "      <td>8.3</td>\n",
       "      <td>M</td>\n",
       "      <td>12.62</td>\n",
       "    </tr>\n",
       "  </tbody>\n",
       "</table>\n",
       "</div>"
      ],
      "text/plain": [
       "                         name platform  year_of_release         genre  \\\n",
       "16         Grand Theft Auto V      PS3             2013        Action   \n",
       "23         Grand Theft Auto V     X360             2013        Action   \n",
       "31  Call of Duty: Black Ops 3      PS4             2015       Shooter   \n",
       "33        Pokemon X/Pokemon Y      3DS             2013  Role-Playing   \n",
       "42         Grand Theft Auto V      PS4             2014        Action   \n",
       "\n",
       "    na_sales  eu_sales  jp_sales  other_sales  critic_score  user_score  \\\n",
       "16      7.02      9.09      0.98         3.96          97.0         8.2   \n",
       "23      9.66      5.14      0.06         1.41          97.0         8.1   \n",
       "31      6.03      5.86      0.36         2.38           NaN         NaN   \n",
       "33      5.28      4.19      4.35         0.78           NaN         NaN   \n",
       "42      3.96      6.31      0.38         1.97          97.0         8.3   \n",
       "\n",
       "   rating  total_sales  \n",
       "16      M        21.05  \n",
       "23      M        16.27  \n",
       "31    NaN        14.63  \n",
       "33    NaN        14.60  \n",
       "42      M        12.62  "
      ]
     },
     "execution_count": 38,
     "metadata": {},
     "output_type": "execute_result"
    }
   ],
   "source": [
    "good_data.head()"
   ]
  },
  {
   "cell_type": "markdown",
   "metadata": {},
   "source": [
    "Сначала определим самые популярные платформы для каждого региона."
   ]
  },
  {
   "cell_type": "code",
   "execution_count": 39,
   "metadata": {},
   "outputs": [],
   "source": [
    "na_data = good_data[['name', 'platform', 'genre', 'na_sales', 'rating']]\n",
    "eu_data = good_data[['name', 'platform', 'genre', 'eu_sales', 'rating']]\n",
    "jp_data = good_data[['name', 'platform', 'genre', 'jp_sales', 'rating']]"
   ]
  },
  {
   "cell_type": "code",
   "execution_count": 40,
   "metadata": {},
   "outputs": [
    {
     "data": {
      "text/html": [
       "<div>\n",
       "<style scoped>\n",
       "    .dataframe tbody tr th:only-of-type {\n",
       "        vertical-align: middle;\n",
       "    }\n",
       "\n",
       "    .dataframe tbody tr th {\n",
       "        vertical-align: top;\n",
       "    }\n",
       "\n",
       "    .dataframe thead th {\n",
       "        text-align: right;\n",
       "    }\n",
       "</style>\n",
       "<table border=\"1\" class=\"dataframe\">\n",
       "  <thead>\n",
       "    <tr style=\"text-align: right;\">\n",
       "      <th></th>\n",
       "      <th>platform</th>\n",
       "      <th>na_sales</th>\n",
       "    </tr>\n",
       "  </thead>\n",
       "  <tbody>\n",
       "    <tr>\n",
       "      <th>4</th>\n",
       "      <td>PS4</td>\n",
       "      <td>108.74</td>\n",
       "    </tr>\n",
       "    <tr>\n",
       "      <th>10</th>\n",
       "      <td>XOne</td>\n",
       "      <td>93.12</td>\n",
       "    </tr>\n",
       "    <tr>\n",
       "      <th>9</th>\n",
       "      <td>X360</td>\n",
       "      <td>81.66</td>\n",
       "    </tr>\n",
       "    <tr>\n",
       "      <th>3</th>\n",
       "      <td>PS3</td>\n",
       "      <td>63.50</td>\n",
       "    </tr>\n",
       "    <tr>\n",
       "      <th>0</th>\n",
       "      <td>3DS</td>\n",
       "      <td>38.20</td>\n",
       "    </tr>\n",
       "  </tbody>\n",
       "</table>\n",
       "</div>"
      ],
      "text/plain": [
       "   platform  na_sales\n",
       "4       PS4    108.74\n",
       "10     XOne     93.12\n",
       "9      X360     81.66\n",
       "3       PS3     63.50\n",
       "0       3DS     38.20"
      ]
     },
     "metadata": {},
     "output_type": "display_data"
    },
    {
     "data": {
      "image/png": "[encoded data removed]",
      "text/plain": [
       "<Figure size 432x288 with 1 Axes>"
      ]
     },
     "metadata": {},
     "output_type": "display_data"
    }
   ],
   "source": [
    "na_platform = na_data[['platform', 'na_sales']].groupby('platform')['na_sales'].sum().reset_index()\n",
    "na_platform = na_platform.sort_values(by='na_sales', ascending=False)\n",
    "display(na_platform.head())\n",
    "\n",
    "data = [108.74, 93.12, 81.66, 63.50, 38.20]\n",
    "labels = ['PS4', 'XOne', 'X360', 'PS3', '3DS']\n",
    "plt.title('Распределение долей продаж по платформам для Северной Америки')\n",
    "plt.pie(data, labels = labels, autopct='%.0f%%')\n",
    "plt.show()"
   ]
  },
  {
   "cell_type": "code",
   "execution_count": 41,
   "metadata": {},
   "outputs": [
    {
     "data": {
      "text/html": [
       "<div>\n",
       "<style scoped>\n",
       "    .dataframe tbody tr th:only-of-type {\n",
       "        vertical-align: middle;\n",
       "    }\n",
       "\n",
       "    .dataframe tbody tr th {\n",
       "        vertical-align: top;\n",
       "    }\n",
       "\n",
       "    .dataframe thead th {\n",
       "        text-align: right;\n",
       "    }\n",
       "</style>\n",
       "<table border=\"1\" class=\"dataframe\">\n",
       "  <thead>\n",
       "    <tr style=\"text-align: right;\">\n",
       "      <th></th>\n",
       "      <th>platform</th>\n",
       "      <th>eu_sales</th>\n",
       "    </tr>\n",
       "  </thead>\n",
       "  <tbody>\n",
       "    <tr>\n",
       "      <th>4</th>\n",
       "      <td>PS4</td>\n",
       "      <td>141.09</td>\n",
       "    </tr>\n",
       "    <tr>\n",
       "      <th>3</th>\n",
       "      <td>PS3</td>\n",
       "      <td>67.81</td>\n",
       "    </tr>\n",
       "    <tr>\n",
       "      <th>10</th>\n",
       "      <td>XOne</td>\n",
       "      <td>51.59</td>\n",
       "    </tr>\n",
       "    <tr>\n",
       "      <th>9</th>\n",
       "      <td>X360</td>\n",
       "      <td>42.52</td>\n",
       "    </tr>\n",
       "    <tr>\n",
       "      <th>0</th>\n",
       "      <td>3DS</td>\n",
       "      <td>30.96</td>\n",
       "    </tr>\n",
       "  </tbody>\n",
       "</table>\n",
       "</div>"
      ],
      "text/plain": [
       "   platform  eu_sales\n",
       "4       PS4    141.09\n",
       "3       PS3     67.81\n",
       "10     XOne     51.59\n",
       "9      X360     42.52\n",
       "0       3DS     30.96"
      ]
     },
     "metadata": {},
     "output_type": "display_data"
    },
    {
     "data": {
      "image/png": "[encoded data removed]",
      "text/plain": [
       "<Figure size 432x288 with 1 Axes>"
      ]
     },
     "metadata": {},
     "output_type": "display_data"
    }
   ],
   "source": [
    "eu_platform = eu_data[['platform', 'eu_sales']].groupby('platform')['eu_sales'].sum().reset_index()\n",
    "eu_platform = eu_platform.sort_values(by='eu_sales', ascending=False)\n",
    "display(eu_platform.head())\n",
    "\n",
    "data = [141.09, 67.81, 51.59, 42.52, 30.96]\n",
    "labels = ['PS4', 'PS3', 'XOne', 'X360', '3DS']\n",
    "plt.title('Распределение долей продаж по платформам для Европы')\n",
    "plt.pie(data, labels = labels, autopct='%.0f%%')\n",
    "plt.show()"
   ]
  },
  {
   "cell_type": "code",
   "execution_count": 42,
   "metadata": {},
   "outputs": [
    {
     "data": {
      "text/html": [
       "<div>\n",
       "<style scoped>\n",
       "    .dataframe tbody tr th:only-of-type {\n",
       "        vertical-align: middle;\n",
       "    }\n",
       "\n",
       "    .dataframe tbody tr th {\n",
       "        vertical-align: top;\n",
       "    }\n",
       "\n",
       "    .dataframe thead th {\n",
       "        text-align: right;\n",
       "    }\n",
       "</style>\n",
       "<table border=\"1\" class=\"dataframe\">\n",
       "  <thead>\n",
       "    <tr style=\"text-align: right;\">\n",
       "      <th></th>\n",
       "      <th>platform</th>\n",
       "      <th>jp_sales</th>\n",
       "    </tr>\n",
       "  </thead>\n",
       "  <tbody>\n",
       "    <tr>\n",
       "      <th>0</th>\n",
       "      <td>3DS</td>\n",
       "      <td>67.81</td>\n",
       "    </tr>\n",
       "    <tr>\n",
       "      <th>3</th>\n",
       "      <td>PS3</td>\n",
       "      <td>23.35</td>\n",
       "    </tr>\n",
       "    <tr>\n",
       "      <th>6</th>\n",
       "      <td>PSV</td>\n",
       "      <td>18.59</td>\n",
       "    </tr>\n",
       "    <tr>\n",
       "      <th>4</th>\n",
       "      <td>PS4</td>\n",
       "      <td>15.96</td>\n",
       "    </tr>\n",
       "    <tr>\n",
       "      <th>8</th>\n",
       "      <td>WiiU</td>\n",
       "      <td>10.88</td>\n",
       "    </tr>\n",
       "  </tbody>\n",
       "</table>\n",
       "</div>"
      ],
      "text/plain": [
       "  platform  jp_sales\n",
       "0      3DS     67.81\n",
       "3      PS3     23.35\n",
       "6      PSV     18.59\n",
       "4      PS4     15.96\n",
       "8     WiiU     10.88"
      ]
     },
     "metadata": {},
     "output_type": "display_data"
    },
    {
     "data": {
      "image/png": "[encoded data removed]",
      "text/plain": [
       "<Figure size 432x288 with 1 Axes>"
      ]
     },
     "metadata": {},
     "output_type": "display_data"
    }
   ],
   "source": [
    "jp_platform = jp_data[['platform', 'jp_sales']].groupby('platform')['jp_sales'].sum().reset_index()\n",
    "jp_platform = jp_platform.sort_values(by='jp_sales', ascending=False)\n",
    "display(jp_platform.head())\n",
    "\n",
    "data = [67.81, 23.35, 18.59, 15.96, 10.88]\n",
    "labels = ['3DS', 'PS3', 'PSV', 'PS4', 'WiiU']\n",
    "plt.title('Распределение долей продаж по платформам для Японии')\n",
    "plt.pie(data, labels = labels, autopct='%.0f%%')\n",
    "plt.show()"
   ]
  },
  {
   "cell_type": "markdown",
   "metadata": {},
   "source": [
    "Самыми популярными платформами (в порядке убывания продаж) для пользователей являются:\n",
    "* Северная Америка - PS4, XOne, X360, PS3, 3DS.\n",
    "* Европа - PS4, PS3, XOne, X360, 3DS.\n",
    "* Япония - 3DS, PS3, PSV, PS4, WiiU.\n",
    "\n",
    "Платформы PS4, PS3, 3DS являются популярными во всех трех регионах."
   ]
  },
  {
   "cell_type": "markdown",
   "metadata": {},
   "source": [
    "Посмотрим, какую долю от всех продаж составляют популярные платформы."
   ]
  },
  {
   "cell_type": "code",
   "execution_count": 43,
   "metadata": {},
   "outputs": [
    {
     "data": {
      "text/html": [
       "<div>\n",
       "<style scoped>\n",
       "    .dataframe tbody tr th:only-of-type {\n",
       "        vertical-align: middle;\n",
       "    }\n",
       "\n",
       "    .dataframe tbody tr th {\n",
       "        vertical-align: top;\n",
       "    }\n",
       "\n",
       "    .dataframe thead th {\n",
       "        text-align: right;\n",
       "    }\n",
       "</style>\n",
       "<table border=\"1\" class=\"dataframe\">\n",
       "  <thead>\n",
       "    <tr style=\"text-align: right;\">\n",
       "      <th></th>\n",
       "      <th>platform</th>\n",
       "      <th>total_sales</th>\n",
       "    </tr>\n",
       "  </thead>\n",
       "  <tbody>\n",
       "    <tr>\n",
       "      <th>0</th>\n",
       "      <td>PS4</td>\n",
       "      <td>314.14</td>\n",
       "    </tr>\n",
       "    <tr>\n",
       "      <th>1</th>\n",
       "      <td>PS3</td>\n",
       "      <td>181.43</td>\n",
       "    </tr>\n",
       "    <tr>\n",
       "      <th>2</th>\n",
       "      <td>XOne</td>\n",
       "      <td>159.32</td>\n",
       "    </tr>\n",
       "    <tr>\n",
       "      <th>3</th>\n",
       "      <td>3DS</td>\n",
       "      <td>143.25</td>\n",
       "    </tr>\n",
       "    <tr>\n",
       "      <th>4</th>\n",
       "      <td>X360</td>\n",
       "      <td>136.80</td>\n",
       "    </tr>\n",
       "  </tbody>\n",
       "</table>\n",
       "</div>"
      ],
      "text/plain": [
       "  platform  total_sales\n",
       "0      PS4       314.14\n",
       "1      PS3       181.43\n",
       "2     XOne       159.32\n",
       "3      3DS       143.25\n",
       "4     X360       136.80"
      ]
     },
     "execution_count": 43,
     "metadata": {},
     "output_type": "execute_result"
    }
   ],
   "source": [
    "platform_data = good_data.pivot_table(\n",
    "    index='platform', values='total_sales', aggfunc='sum').sort_values(by='total_sales', ascending=False).reset_index()\n",
    "platform_data.head()"
   ]
  },
  {
   "cell_type": "code",
   "execution_count": 44,
   "metadata": {},
   "outputs": [
    {
     "data": {
      "text/html": [
       "<div>\n",
       "<style scoped>\n",
       "    .dataframe tbody tr th:only-of-type {\n",
       "        vertical-align: middle;\n",
       "    }\n",
       "\n",
       "    .dataframe tbody tr th {\n",
       "        vertical-align: top;\n",
       "    }\n",
       "\n",
       "    .dataframe thead th {\n",
       "        text-align: right;\n",
       "    }\n",
       "</style>\n",
       "<table border=\"1\" class=\"dataframe\">\n",
       "  <thead>\n",
       "    <tr style=\"text-align: right;\">\n",
       "      <th></th>\n",
       "      <th>platform</th>\n",
       "      <th>na_sales</th>\n",
       "      <th>total_sales</th>\n",
       "      <th>na_part_sales</th>\n",
       "    </tr>\n",
       "  </thead>\n",
       "  <tbody>\n",
       "    <tr>\n",
       "      <th>0</th>\n",
       "      <td>PS4</td>\n",
       "      <td>108.74</td>\n",
       "      <td>314.14</td>\n",
       "      <td>0.346151</td>\n",
       "    </tr>\n",
       "    <tr>\n",
       "      <th>1</th>\n",
       "      <td>XOne</td>\n",
       "      <td>93.12</td>\n",
       "      <td>159.32</td>\n",
       "      <td>0.584484</td>\n",
       "    </tr>\n",
       "    <tr>\n",
       "      <th>2</th>\n",
       "      <td>X360</td>\n",
       "      <td>81.66</td>\n",
       "      <td>136.80</td>\n",
       "      <td>0.596930</td>\n",
       "    </tr>\n",
       "    <tr>\n",
       "      <th>3</th>\n",
       "      <td>PS3</td>\n",
       "      <td>63.50</td>\n",
       "      <td>181.43</td>\n",
       "      <td>0.349997</td>\n",
       "    </tr>\n",
       "    <tr>\n",
       "      <th>4</th>\n",
       "      <td>3DS</td>\n",
       "      <td>38.20</td>\n",
       "      <td>143.25</td>\n",
       "      <td>0.266667</td>\n",
       "    </tr>\n",
       "  </tbody>\n",
       "</table>\n",
       "</div>"
      ],
      "text/plain": [
       "  platform  na_sales  total_sales  na_part_sales\n",
       "0      PS4    108.74       314.14       0.346151\n",
       "1     XOne     93.12       159.32       0.584484\n",
       "2     X360     81.66       136.80       0.596930\n",
       "3      PS3     63.50       181.43       0.349997\n",
       "4      3DS     38.20       143.25       0.266667"
      ]
     },
     "execution_count": 44,
     "metadata": {},
     "output_type": "execute_result"
    }
   ],
   "source": [
    "na_platform_data = na_platform.merge(platform_data, on='platform', how='outer')\n",
    "na_platform_data['na_part_sales'] = na_platform_data['na_sales'] / na_platform_data['total_sales']\n",
    "na_platform_data.head()"
   ]
  },
  {
   "cell_type": "markdown",
   "metadata": {},
   "source": [
    "Для Северной Америки доля самой популярной платформы PS4 составляет всего 0.34. У XOne и X360 почти одинаковые доли продаж, примерно 0.6."
   ]
  },
  {
   "cell_type": "code",
   "execution_count": 45,
   "metadata": {},
   "outputs": [
    {
     "data": {
      "text/html": [
       "<div>\n",
       "<style scoped>\n",
       "    .dataframe tbody tr th:only-of-type {\n",
       "        vertical-align: middle;\n",
       "    }\n",
       "\n",
       "    .dataframe tbody tr th {\n",
       "        vertical-align: top;\n",
       "    }\n",
       "\n",
       "    .dataframe thead th {\n",
       "        text-align: right;\n",
       "    }\n",
       "</style>\n",
       "<table border=\"1\" class=\"dataframe\">\n",
       "  <thead>\n",
       "    <tr style=\"text-align: right;\">\n",
       "      <th></th>\n",
       "      <th>platform</th>\n",
       "      <th>eu_sales</th>\n",
       "      <th>total_sales</th>\n",
       "      <th>eu_part_sales</th>\n",
       "    </tr>\n",
       "  </thead>\n",
       "  <tbody>\n",
       "    <tr>\n",
       "      <th>0</th>\n",
       "      <td>PS4</td>\n",
       "      <td>141.09</td>\n",
       "      <td>314.14</td>\n",
       "      <td>0.449131</td>\n",
       "    </tr>\n",
       "    <tr>\n",
       "      <th>1</th>\n",
       "      <td>PS3</td>\n",
       "      <td>67.81</td>\n",
       "      <td>181.43</td>\n",
       "      <td>0.373753</td>\n",
       "    </tr>\n",
       "    <tr>\n",
       "      <th>2</th>\n",
       "      <td>XOne</td>\n",
       "      <td>51.59</td>\n",
       "      <td>159.32</td>\n",
       "      <td>0.323814</td>\n",
       "    </tr>\n",
       "    <tr>\n",
       "      <th>3</th>\n",
       "      <td>X360</td>\n",
       "      <td>42.52</td>\n",
       "      <td>136.80</td>\n",
       "      <td>0.310819</td>\n",
       "    </tr>\n",
       "    <tr>\n",
       "      <th>4</th>\n",
       "      <td>3DS</td>\n",
       "      <td>30.96</td>\n",
       "      <td>143.25</td>\n",
       "      <td>0.216126</td>\n",
       "    </tr>\n",
       "  </tbody>\n",
       "</table>\n",
       "</div>"
      ],
      "text/plain": [
       "  platform  eu_sales  total_sales  eu_part_sales\n",
       "0      PS4    141.09       314.14       0.449131\n",
       "1      PS3     67.81       181.43       0.373753\n",
       "2     XOne     51.59       159.32       0.323814\n",
       "3     X360     42.52       136.80       0.310819\n",
       "4      3DS     30.96       143.25       0.216126"
      ]
     },
     "execution_count": 45,
     "metadata": {},
     "output_type": "execute_result"
    }
   ],
   "source": [
    "eu_platform_data = eu_platform.merge(platform_data, on='platform', how='outer')\n",
    "eu_platform_data['eu_part_sales'] = eu_platform_data['eu_sales'] / eu_platform_data['total_sales']\n",
    "eu_platform_data.head()"
   ]
  },
  {
   "cell_type": "markdown",
   "metadata": {},
   "source": [
    "Для Европы доля самой популярной платформы PS4 составляет почти 0.45, на втором месте идет PS3 и ее доля меньше, чем у PS4 - 0.37. Это говорит о том, что пользователи перешли на новую модель PS4, которая стала более прибыльной. Пятерку лидеров замыкает 3DS с наименьшей долей от всех продаж 0.21."
   ]
  },
  {
   "cell_type": "code",
   "execution_count": 46,
   "metadata": {},
   "outputs": [
    {
     "data": {
      "text/html": [
       "<div>\n",
       "<style scoped>\n",
       "    .dataframe tbody tr th:only-of-type {\n",
       "        vertical-align: middle;\n",
       "    }\n",
       "\n",
       "    .dataframe tbody tr th {\n",
       "        vertical-align: top;\n",
       "    }\n",
       "\n",
       "    .dataframe thead th {\n",
       "        text-align: right;\n",
       "    }\n",
       "</style>\n",
       "<table border=\"1\" class=\"dataframe\">\n",
       "  <thead>\n",
       "    <tr style=\"text-align: right;\">\n",
       "      <th></th>\n",
       "      <th>platform</th>\n",
       "      <th>jp_sales</th>\n",
       "      <th>total_sales</th>\n",
       "      <th>jp_part_sales</th>\n",
       "    </tr>\n",
       "  </thead>\n",
       "  <tbody>\n",
       "    <tr>\n",
       "      <th>0</th>\n",
       "      <td>3DS</td>\n",
       "      <td>67.81</td>\n",
       "      <td>143.25</td>\n",
       "      <td>0.473368</td>\n",
       "    </tr>\n",
       "    <tr>\n",
       "      <th>1</th>\n",
       "      <td>PS3</td>\n",
       "      <td>23.35</td>\n",
       "      <td>181.43</td>\n",
       "      <td>0.128700</td>\n",
       "    </tr>\n",
       "    <tr>\n",
       "      <th>2</th>\n",
       "      <td>PSV</td>\n",
       "      <td>18.59</td>\n",
       "      <td>32.99</td>\n",
       "      <td>0.563504</td>\n",
       "    </tr>\n",
       "    <tr>\n",
       "      <th>3</th>\n",
       "      <td>PS4</td>\n",
       "      <td>15.96</td>\n",
       "      <td>314.14</td>\n",
       "      <td>0.050805</td>\n",
       "    </tr>\n",
       "    <tr>\n",
       "      <th>4</th>\n",
       "      <td>WiiU</td>\n",
       "      <td>10.88</td>\n",
       "      <td>64.63</td>\n",
       "      <td>0.168343</td>\n",
       "    </tr>\n",
       "  </tbody>\n",
       "</table>\n",
       "</div>"
      ],
      "text/plain": [
       "  platform  jp_sales  total_sales  jp_part_sales\n",
       "0      3DS     67.81       143.25       0.473368\n",
       "1      PS3     23.35       181.43       0.128700\n",
       "2      PSV     18.59        32.99       0.563504\n",
       "3      PS4     15.96       314.14       0.050805\n",
       "4     WiiU     10.88        64.63       0.168343"
      ]
     },
     "execution_count": 46,
     "metadata": {},
     "output_type": "execute_result"
    }
   ],
   "source": [
    "jp_platform_data = jp_platform.merge(platform_data, on='platform', how='outer')\n",
    "jp_platform_data['jp_part_sales'] = jp_platform_data['jp_sales'] / jp_platform_data['total_sales']\n",
    "jp_platform_data.head()"
   ]
  },
  {
   "cell_type": "markdown",
   "metadata": {},
   "source": [
    "В Японии самая популярная платформа 3DS занимает 0.47 от всех продаж. На последнем месте WiiU с долей продаж 0.16."
   ]
  },
  {
   "cell_type": "markdown",
   "metadata": {},
   "source": [
    "Объединим все данные в одну таблицу `all_platform_data_sales`."
   ]
  },
  {
   "cell_type": "code",
   "execution_count": 47,
   "metadata": {},
   "outputs": [
    {
     "data": {
      "text/html": [
       "<div>\n",
       "<style scoped>\n",
       "    .dataframe tbody tr th:only-of-type {\n",
       "        vertical-align: middle;\n",
       "    }\n",
       "\n",
       "    .dataframe tbody tr th {\n",
       "        vertical-align: top;\n",
       "    }\n",
       "\n",
       "    .dataframe thead th {\n",
       "        text-align: right;\n",
       "    }\n",
       "</style>\n",
       "<table border=\"1\" class=\"dataframe\">\n",
       "  <thead>\n",
       "    <tr style=\"text-align: right;\">\n",
       "      <th></th>\n",
       "      <th>platform</th>\n",
       "      <th>na_part_sales</th>\n",
       "      <th>eu_part_sales</th>\n",
       "      <th>jp_part_sales</th>\n",
       "      <th>other_part_sales</th>\n",
       "    </tr>\n",
       "  </thead>\n",
       "  <tbody>\n",
       "    <tr>\n",
       "      <th>0</th>\n",
       "      <td>PS4</td>\n",
       "      <td>0.346151</td>\n",
       "      <td>0.449131</td>\n",
       "      <td>0.050805</td>\n",
       "      <td>0.153912</td>\n",
       "    </tr>\n",
       "    <tr>\n",
       "      <th>1</th>\n",
       "      <td>XOne</td>\n",
       "      <td>0.584484</td>\n",
       "      <td>0.323814</td>\n",
       "      <td>0.002134</td>\n",
       "      <td>0.089568</td>\n",
       "    </tr>\n",
       "    <tr>\n",
       "      <th>2</th>\n",
       "      <td>X360</td>\n",
       "      <td>0.596930</td>\n",
       "      <td>0.310819</td>\n",
       "      <td>0.003728</td>\n",
       "      <td>0.088523</td>\n",
       "    </tr>\n",
       "    <tr>\n",
       "      <th>3</th>\n",
       "      <td>PS3</td>\n",
       "      <td>0.349997</td>\n",
       "      <td>0.373753</td>\n",
       "      <td>0.128700</td>\n",
       "      <td>0.147550</td>\n",
       "    </tr>\n",
       "    <tr>\n",
       "      <th>4</th>\n",
       "      <td>3DS</td>\n",
       "      <td>0.266667</td>\n",
       "      <td>0.216126</td>\n",
       "      <td>0.473368</td>\n",
       "      <td>0.043839</td>\n",
       "    </tr>\n",
       "    <tr>\n",
       "      <th>5</th>\n",
       "      <td>WiiU</td>\n",
       "      <td>0.451957</td>\n",
       "      <td>0.307133</td>\n",
       "      <td>0.168343</td>\n",
       "      <td>0.072567</td>\n",
       "    </tr>\n",
       "    <tr>\n",
       "      <th>6</th>\n",
       "      <td>PC</td>\n",
       "      <td>0.281765</td>\n",
       "      <td>0.643165</td>\n",
       "      <td>0.000000</td>\n",
       "      <td>0.075070</td>\n",
       "    </tr>\n",
       "    <tr>\n",
       "      <th>7</th>\n",
       "      <td>Wii</td>\n",
       "      <td>0.480234</td>\n",
       "      <td>0.434114</td>\n",
       "      <td>0.003660</td>\n",
       "      <td>0.081991</td>\n",
       "    </tr>\n",
       "    <tr>\n",
       "      <th>8</th>\n",
       "      <td>PSV</td>\n",
       "      <td>0.152774</td>\n",
       "      <td>0.184905</td>\n",
       "      <td>0.563504</td>\n",
       "      <td>0.098818</td>\n",
       "    </tr>\n",
       "    <tr>\n",
       "      <th>9</th>\n",
       "      <td>DS</td>\n",
       "      <td>0.370130</td>\n",
       "      <td>0.551948</td>\n",
       "      <td>0.000000</td>\n",
       "      <td>0.077922</td>\n",
       "    </tr>\n",
       "    <tr>\n",
       "      <th>10</th>\n",
       "      <td>PSP</td>\n",
       "      <td>0.000000</td>\n",
       "      <td>0.048571</td>\n",
       "      <td>0.940000</td>\n",
       "      <td>0.011429</td>\n",
       "    </tr>\n",
       "  </tbody>\n",
       "</table>\n",
       "</div>"
      ],
      "text/plain": [
       "   platform  na_part_sales  eu_part_sales  jp_part_sales  other_part_sales\n",
       "0       PS4       0.346151       0.449131       0.050805          0.153912\n",
       "1      XOne       0.584484       0.323814       0.002134          0.089568\n",
       "2      X360       0.596930       0.310819       0.003728          0.088523\n",
       "3       PS3       0.349997       0.373753       0.128700          0.147550\n",
       "4       3DS       0.266667       0.216126       0.473368          0.043839\n",
       "5      WiiU       0.451957       0.307133       0.168343          0.072567\n",
       "6        PC       0.281765       0.643165       0.000000          0.075070\n",
       "7       Wii       0.480234       0.434114       0.003660          0.081991\n",
       "8       PSV       0.152774       0.184905       0.563504          0.098818\n",
       "9        DS       0.370130       0.551948       0.000000          0.077922\n",
       "10      PSP       0.000000       0.048571       0.940000          0.011429"
      ]
     },
     "execution_count": 47,
     "metadata": {},
     "output_type": "execute_result"
    }
   ],
   "source": [
    "na_platform_data_sales = na_platform_data[['platform', 'na_part_sales']]\n",
    "eu_platform_data_sales = eu_platform_data[['platform', 'eu_part_sales']]\n",
    "jp_platform_data_sales = jp_platform_data[['platform', 'jp_part_sales']]\n",
    "\n",
    "all_platform_data = na_platform_data_sales.merge(eu_platform_data_sales, on='platform', how='outer')\n",
    "all_platform_data = all_platform_data.merge(jp_platform_data_sales, on='platform', how='outer')\n",
    "all_platform_data['other_part_sales'] = 1 - (all_platform_data['na_part_sales'] + all_platform_data['eu_part_sales'] + all_platform_data['jp_part_sales'])\n",
    "all_platform_data"
   ]
  },
  {
   "cell_type": "markdown",
   "metadata": {},
   "source": [
    "Построим круговые диаграммы для платформ, которыми пользуются во всех 3 регионах. Это PS3, PS4, 3DS."
   ]
  },
  {
   "cell_type": "code",
   "execution_count": 48,
   "metadata": {},
   "outputs": [
    {
     "data": {
      "image/png": "[encoded data removed]",
      "text/plain": [
       "<Figure size 432x288 with 1 Axes>"
      ]
     },
     "metadata": {},
     "output_type": "display_data"
    },
    {
     "data": {
      "image/png": "[encoded data removed]",
      "text/plain": [
       "<Figure size 432x288 with 1 Axes>"
      ]
     },
     "metadata": {},
     "output_type": "display_data"
    },
    {
     "data": {
      "image/png": "[encoded data removed]",
      "text/plain": [
       "<Figure size 432x288 with 1 Axes>"
      ]
     },
     "metadata": {},
     "output_type": "display_data"
    }
   ],
   "source": [
    "vals = [0.349997, 0.373753, 0.128700, 0.147550]\n",
    "labels = [\"Северная Америка\", \"Европа\", \"Япония\", \"Остальные страны\"]\n",
    "fig, ax = plt.subplots()\n",
    "ax.pie(vals, labels=labels)\n",
    "ax.axis(\"equal\")\n",
    "plt.title('Доли продаж платформы PS3')\n",
    "plt.show()\n",
    "\n",
    "vals = [0.346151, 0.449131, 0.050805, 0.153912]\n",
    "labels = [\"Северная Америка\", \"Европа\", \"Япония\", \"Остальные страны\"]\n",
    "fig, ax = plt.subplots()\n",
    "ax.pie(vals, labels=labels)\n",
    "ax.axis(\"equal\")\n",
    "plt.title('Доли продаж платформы PS4')\n",
    "plt.show()\n",
    "\n",
    "vals = [0.266667, 0.216126, 0.473368, 0.043839]\n",
    "labels = [\"Северная Америка\", \"Европа\", \"Япония\", \"Остальные страны\"]\n",
    "fig, ax = plt.subplots()\n",
    "ax.pie(vals, labels=labels)\n",
    "ax.axis(\"equal\")\n",
    "plt.title('Доли продаж платформы 3DS')\n",
    "plt.show()"
   ]
  },
  {
   "cell_type": "markdown",
   "metadata": {},
   "source": [
    "Теперь выявим самые популярные жанры."
   ]
  },
  {
   "cell_type": "code",
   "execution_count": 49,
   "metadata": {},
   "outputs": [
    {
     "data": {
      "text/html": [
       "<div>\n",
       "<style scoped>\n",
       "    .dataframe tbody tr th:only-of-type {\n",
       "        vertical-align: middle;\n",
       "    }\n",
       "\n",
       "    .dataframe tbody tr th {\n",
       "        vertical-align: top;\n",
       "    }\n",
       "\n",
       "    .dataframe thead th {\n",
       "        text-align: right;\n",
       "    }\n",
       "</style>\n",
       "<table border=\"1\" class=\"dataframe\">\n",
       "  <thead>\n",
       "    <tr style=\"text-align: right;\">\n",
       "      <th></th>\n",
       "      <th>genre</th>\n",
       "      <th>na_sales</th>\n",
       "    </tr>\n",
       "  </thead>\n",
       "  <tbody>\n",
       "    <tr>\n",
       "      <th>0</th>\n",
       "      <td>Action</td>\n",
       "      <td>126.05</td>\n",
       "    </tr>\n",
       "    <tr>\n",
       "      <th>8</th>\n",
       "      <td>Shooter</td>\n",
       "      <td>109.74</td>\n",
       "    </tr>\n",
       "    <tr>\n",
       "      <th>10</th>\n",
       "      <td>Sports</td>\n",
       "      <td>65.27</td>\n",
       "    </tr>\n",
       "    <tr>\n",
       "      <th>7</th>\n",
       "      <td>Role-Playing</td>\n",
       "      <td>46.40</td>\n",
       "    </tr>\n",
       "    <tr>\n",
       "      <th>3</th>\n",
       "      <td>Misc</td>\n",
       "      <td>27.49</td>\n",
       "    </tr>\n",
       "  </tbody>\n",
       "</table>\n",
       "</div>"
      ],
      "text/plain": [
       "           genre  na_sales\n",
       "0         Action    126.05\n",
       "8        Shooter    109.74\n",
       "10        Sports     65.27\n",
       "7   Role-Playing     46.40\n",
       "3           Misc     27.49"
      ]
     },
     "metadata": {},
     "output_type": "display_data"
    },
    {
     "data": {
      "text/html": [
       "<div>\n",
       "<style scoped>\n",
       "    .dataframe tbody tr th:only-of-type {\n",
       "        vertical-align: middle;\n",
       "    }\n",
       "\n",
       "    .dataframe tbody tr th {\n",
       "        vertical-align: top;\n",
       "    }\n",
       "\n",
       "    .dataframe thead th {\n",
       "        text-align: right;\n",
       "    }\n",
       "</style>\n",
       "<table border=\"1\" class=\"dataframe\">\n",
       "  <thead>\n",
       "    <tr style=\"text-align: right;\">\n",
       "      <th></th>\n",
       "      <th>genre</th>\n",
       "      <th>eu_sales</th>\n",
       "    </tr>\n",
       "  </thead>\n",
       "  <tbody>\n",
       "    <tr>\n",
       "      <th>0</th>\n",
       "      <td>Action</td>\n",
       "      <td>118.13</td>\n",
       "    </tr>\n",
       "    <tr>\n",
       "      <th>8</th>\n",
       "      <td>Shooter</td>\n",
       "      <td>87.86</td>\n",
       "    </tr>\n",
       "    <tr>\n",
       "      <th>10</th>\n",
       "      <td>Sports</td>\n",
       "      <td>60.52</td>\n",
       "    </tr>\n",
       "    <tr>\n",
       "      <th>7</th>\n",
       "      <td>Role-Playing</td>\n",
       "      <td>36.97</td>\n",
       "    </tr>\n",
       "    <tr>\n",
       "      <th>6</th>\n",
       "      <td>Racing</td>\n",
       "      <td>20.19</td>\n",
       "    </tr>\n",
       "  </tbody>\n",
       "</table>\n",
       "</div>"
      ],
      "text/plain": [
       "           genre  eu_sales\n",
       "0         Action    118.13\n",
       "8        Shooter     87.86\n",
       "10        Sports     60.52\n",
       "7   Role-Playing     36.97\n",
       "6         Racing     20.19"
      ]
     },
     "metadata": {},
     "output_type": "display_data"
    },
    {
     "data": {
      "text/html": [
       "<div>\n",
       "<style scoped>\n",
       "    .dataframe tbody tr th:only-of-type {\n",
       "        vertical-align: middle;\n",
       "    }\n",
       "\n",
       "    .dataframe tbody tr th {\n",
       "        vertical-align: top;\n",
       "    }\n",
       "\n",
       "    .dataframe thead th {\n",
       "        text-align: right;\n",
       "    }\n",
       "</style>\n",
       "<table border=\"1\" class=\"dataframe\">\n",
       "  <thead>\n",
       "    <tr style=\"text-align: right;\">\n",
       "      <th></th>\n",
       "      <th>genre</th>\n",
       "      <th>jp_sales</th>\n",
       "    </tr>\n",
       "  </thead>\n",
       "  <tbody>\n",
       "    <tr>\n",
       "      <th>7</th>\n",
       "      <td>Role-Playing</td>\n",
       "      <td>51.04</td>\n",
       "    </tr>\n",
       "    <tr>\n",
       "      <th>0</th>\n",
       "      <td>Action</td>\n",
       "      <td>40.49</td>\n",
       "    </tr>\n",
       "    <tr>\n",
       "      <th>3</th>\n",
       "      <td>Misc</td>\n",
       "      <td>9.20</td>\n",
       "    </tr>\n",
       "    <tr>\n",
       "      <th>2</th>\n",
       "      <td>Fighting</td>\n",
       "      <td>7.65</td>\n",
       "    </tr>\n",
       "    <tr>\n",
       "      <th>8</th>\n",
       "      <td>Shooter</td>\n",
       "      <td>6.61</td>\n",
       "    </tr>\n",
       "  </tbody>\n",
       "</table>\n",
       "</div>"
      ],
      "text/plain": [
       "          genre  jp_sales\n",
       "7  Role-Playing     51.04\n",
       "0        Action     40.49\n",
       "3          Misc      9.20\n",
       "2      Fighting      7.65\n",
       "8       Shooter      6.61"
      ]
     },
     "execution_count": 49,
     "metadata": {},
     "output_type": "execute_result"
    }
   ],
   "source": [
    "na_genre = na_data[['genre', 'na_sales']].groupby('genre')['na_sales'].sum().reset_index()\n",
    "na_genre = na_genre.sort_values(by='na_sales', ascending=False)\n",
    "display(na_genre.head())\n",
    "\n",
    "eu_genre = eu_data[['genre', 'eu_sales']].groupby('genre')['eu_sales'].sum().reset_index()\n",
    "eu_genre = eu_genre.sort_values(by='eu_sales', ascending=False)\n",
    "display(eu_genre.head())\n",
    "\n",
    "jp_genre = jp_data[['genre', 'jp_sales']].groupby('genre')['jp_sales'].sum().reset_index()\n",
    "jp_genre = jp_genre.sort_values(by='jp_sales', ascending=False)\n",
    "jp_genre.head()"
   ]
  },
  {
   "cell_type": "markdown",
   "metadata": {},
   "source": [
    "**Вывод**:\n",
    "\n",
    "Самыми популярными жанрами (в порядке убывания продаж) для пользователей являются:\n",
    "* Северная Америка - Action, Shooter, Sports, Role-Playing, Misc.\n",
    "* Европа - Action, Shooter, Sports, Role-Playing, Racing.\n",
    "* Япония - Role-Playing, Action, Misc, Fighting, Platform.\n",
    "\n",
    "Американцы и европейцы выбирают одни и те же жанры, отличие только в Misc. На 5 месте он у американцев, а у европейцев Racing.  \n",
    "Жанры Action и Role-Playing любят во всех странах."
   ]
  },
  {
   "cell_type": "markdown",
   "metadata": {},
   "source": [
    "Определим, влияет ли рейтинг ESRB на продажи в каждом регионе."
   ]
  },
  {
   "cell_type": "code",
   "execution_count": 50,
   "metadata": {},
   "outputs": [
    {
     "data": {
      "text/html": [
       "<div>\n",
       "<style scoped>\n",
       "    .dataframe tbody tr th:only-of-type {\n",
       "        vertical-align: middle;\n",
       "    }\n",
       "\n",
       "    .dataframe tbody tr th {\n",
       "        vertical-align: top;\n",
       "    }\n",
       "\n",
       "    .dataframe thead th {\n",
       "        text-align: right;\n",
       "    }\n",
       "</style>\n",
       "<table border=\"1\" class=\"dataframe\">\n",
       "  <thead>\n",
       "    <tr style=\"text-align: right;\">\n",
       "      <th></th>\n",
       "      <th>rating</th>\n",
       "      <th>na_sales</th>\n",
       "    </tr>\n",
       "  </thead>\n",
       "  <tbody>\n",
       "    <tr>\n",
       "      <th>2</th>\n",
       "      <td>M</td>\n",
       "      <td>165.21</td>\n",
       "    </tr>\n",
       "    <tr>\n",
       "      <th>0</th>\n",
       "      <td>E</td>\n",
       "      <td>79.05</td>\n",
       "    </tr>\n",
       "    <tr>\n",
       "      <th>1</th>\n",
       "      <td>E10+</td>\n",
       "      <td>54.24</td>\n",
       "    </tr>\n",
       "    <tr>\n",
       "      <th>3</th>\n",
       "      <td>T</td>\n",
       "      <td>49.79</td>\n",
       "    </tr>\n",
       "  </tbody>\n",
       "</table>\n",
       "</div>"
      ],
      "text/plain": [
       "  rating  na_sales\n",
       "2      M    165.21\n",
       "0      E     79.05\n",
       "1   E10+     54.24\n",
       "3      T     49.79"
      ]
     },
     "metadata": {},
     "output_type": "display_data"
    },
    {
     "data": {
      "text/html": [
       "<div>\n",
       "<style scoped>\n",
       "    .dataframe tbody tr th:only-of-type {\n",
       "        vertical-align: middle;\n",
       "    }\n",
       "\n",
       "    .dataframe tbody tr th {\n",
       "        vertical-align: top;\n",
       "    }\n",
       "\n",
       "    .dataframe thead th {\n",
       "        text-align: right;\n",
       "    }\n",
       "</style>\n",
       "<table border=\"1\" class=\"dataframe\">\n",
       "  <thead>\n",
       "    <tr style=\"text-align: right;\">\n",
       "      <th></th>\n",
       "      <th>rating</th>\n",
       "      <th>eu_sales</th>\n",
       "    </tr>\n",
       "  </thead>\n",
       "  <tbody>\n",
       "    <tr>\n",
       "      <th>2</th>\n",
       "      <td>M</td>\n",
       "      <td>145.32</td>\n",
       "    </tr>\n",
       "    <tr>\n",
       "      <th>0</th>\n",
       "      <td>E</td>\n",
       "      <td>83.36</td>\n",
       "    </tr>\n",
       "    <tr>\n",
       "      <th>1</th>\n",
       "      <td>E10+</td>\n",
       "      <td>42.69</td>\n",
       "    </tr>\n",
       "    <tr>\n",
       "      <th>3</th>\n",
       "      <td>T</td>\n",
       "      <td>41.95</td>\n",
       "    </tr>\n",
       "  </tbody>\n",
       "</table>\n",
       "</div>"
      ],
      "text/plain": [
       "  rating  eu_sales\n",
       "2      M    145.32\n",
       "0      E     83.36\n",
       "1   E10+     42.69\n",
       "3      T     41.95"
      ]
     },
     "metadata": {},
     "output_type": "display_data"
    },
    {
     "data": {
      "text/html": [
       "<div>\n",
       "<style scoped>\n",
       "    .dataframe tbody tr th:only-of-type {\n",
       "        vertical-align: middle;\n",
       "    }\n",
       "\n",
       "    .dataframe tbody tr th {\n",
       "        vertical-align: top;\n",
       "    }\n",
       "\n",
       "    .dataframe thead th {\n",
       "        text-align: right;\n",
       "    }\n",
       "</style>\n",
       "<table border=\"1\" class=\"dataframe\">\n",
       "  <thead>\n",
       "    <tr style=\"text-align: right;\">\n",
       "      <th></th>\n",
       "      <th>rating</th>\n",
       "      <th>jp_sales</th>\n",
       "    </tr>\n",
       "  </thead>\n",
       "  <tbody>\n",
       "    <tr>\n",
       "      <th>3</th>\n",
       "      <td>T</td>\n",
       "      <td>20.59</td>\n",
       "    </tr>\n",
       "    <tr>\n",
       "      <th>0</th>\n",
       "      <td>E</td>\n",
       "      <td>15.14</td>\n",
       "    </tr>\n",
       "    <tr>\n",
       "      <th>2</th>\n",
       "      <td>M</td>\n",
       "      <td>14.11</td>\n",
       "    </tr>\n",
       "    <tr>\n",
       "      <th>1</th>\n",
       "      <td>E10+</td>\n",
       "      <td>5.89</td>\n",
       "    </tr>\n",
       "  </tbody>\n",
       "</table>\n",
       "</div>"
      ],
      "text/plain": [
       "  rating  jp_sales\n",
       "3      T     20.59\n",
       "0      E     15.14\n",
       "2      M     14.11\n",
       "1   E10+      5.89"
      ]
     },
     "execution_count": 50,
     "metadata": {},
     "output_type": "execute_result"
    }
   ],
   "source": [
    "na_rating = na_data[['rating', 'na_sales']].groupby('rating')['na_sales'].sum().reset_index()\n",
    "na_rating = na_rating.sort_values(by='na_sales', ascending=False)\n",
    "display(na_rating.head())\n",
    "\n",
    "eu_rating = eu_data[['rating', 'eu_sales']].groupby('rating')['eu_sales'].sum().reset_index()\n",
    "eu_rating = eu_rating.sort_values(by='eu_sales', ascending=False)\n",
    "display(eu_rating.head())\n",
    "\n",
    "jp_rating = jp_data[['rating', 'jp_sales']].groupby('rating')['jp_sales'].sum().reset_index()\n",
    "jp_rating = jp_rating.sort_values(by='jp_sales', ascending=False)\n",
    "jp_rating.head()"
   ]
  },
  {
   "cell_type": "markdown",
   "metadata": {},
   "source": [
    "**Вывод**:\n",
    "\n",
    "Рейтинг ESRB влияет на продажи в каждом регионе.  \n",
    "Для Америки и Европы результаты получились одинаковыми. Большинство продаж с рейтингом М - подходит для лиц старше 17 лет. Игры ориентированы на взрослых пользователей.  \n",
    "В Японии на первое место вышли игры с рейтингом Т (подходит для лиц старше 13 лет)."
   ]
  },
  {
   "cell_type": "markdown",
   "metadata": {},
   "source": [
    "Рассмотрим игры c рейтингом Е."
   ]
  },
  {
   "cell_type": "code",
   "execution_count": 51,
   "metadata": {},
   "outputs": [
    {
     "data": {
      "text/html": [
       "<div>\n",
       "<style scoped>\n",
       "    .dataframe tbody tr th:only-of-type {\n",
       "        vertical-align: middle;\n",
       "    }\n",
       "\n",
       "    .dataframe tbody tr th {\n",
       "        vertical-align: top;\n",
       "    }\n",
       "\n",
       "    .dataframe thead th {\n",
       "        text-align: right;\n",
       "    }\n",
       "</style>\n",
       "<table border=\"1\" class=\"dataframe\">\n",
       "  <thead>\n",
       "    <tr style=\"text-align: right;\">\n",
       "      <th></th>\n",
       "      <th>genre</th>\n",
       "      <th>count_games</th>\n",
       "      <th>na_sales</th>\n",
       "      <th>eu_sales</th>\n",
       "      <th>jp_sales</th>\n",
       "    </tr>\n",
       "  </thead>\n",
       "  <tbody>\n",
       "    <tr>\n",
       "      <th>0</th>\n",
       "      <td>Sports</td>\n",
       "      <td>129</td>\n",
       "      <td>50.53</td>\n",
       "      <td>52.29</td>\n",
       "      <td>2.04</td>\n",
       "    </tr>\n",
       "    <tr>\n",
       "      <th>1</th>\n",
       "      <td>Action</td>\n",
       "      <td>51</td>\n",
       "      <td>5.49</td>\n",
       "      <td>5.05</td>\n",
       "      <td>3.21</td>\n",
       "    </tr>\n",
       "    <tr>\n",
       "      <th>2</th>\n",
       "      <td>Racing</td>\n",
       "      <td>50</td>\n",
       "      <td>8.17</td>\n",
       "      <td>11.96</td>\n",
       "      <td>1.89</td>\n",
       "    </tr>\n",
       "    <tr>\n",
       "      <th>3</th>\n",
       "      <td>Platform</td>\n",
       "      <td>25</td>\n",
       "      <td>8.70</td>\n",
       "      <td>6.62</td>\n",
       "      <td>3.43</td>\n",
       "    </tr>\n",
       "    <tr>\n",
       "      <th>4</th>\n",
       "      <td>Simulation</td>\n",
       "      <td>16</td>\n",
       "      <td>1.23</td>\n",
       "      <td>3.02</td>\n",
       "      <td>1.42</td>\n",
       "    </tr>\n",
       "    <tr>\n",
       "      <th>5</th>\n",
       "      <td>Misc</td>\n",
       "      <td>14</td>\n",
       "      <td>2.50</td>\n",
       "      <td>2.33</td>\n",
       "      <td>1.97</td>\n",
       "    </tr>\n",
       "    <tr>\n",
       "      <th>6</th>\n",
       "      <td>Strategy</td>\n",
       "      <td>8</td>\n",
       "      <td>0.85</td>\n",
       "      <td>0.67</td>\n",
       "      <td>0.00</td>\n",
       "    </tr>\n",
       "    <tr>\n",
       "      <th>7</th>\n",
       "      <td>Puzzle</td>\n",
       "      <td>5</td>\n",
       "      <td>0.59</td>\n",
       "      <td>0.39</td>\n",
       "      <td>0.26</td>\n",
       "    </tr>\n",
       "    <tr>\n",
       "      <th>8</th>\n",
       "      <td>Adventure</td>\n",
       "      <td>2</td>\n",
       "      <td>0.31</td>\n",
       "      <td>0.54</td>\n",
       "      <td>0.53</td>\n",
       "    </tr>\n",
       "    <tr>\n",
       "      <th>9</th>\n",
       "      <td>Role-Playing</td>\n",
       "      <td>2</td>\n",
       "      <td>0.68</td>\n",
       "      <td>0.49</td>\n",
       "      <td>0.39</td>\n",
       "    </tr>\n",
       "  </tbody>\n",
       "</table>\n",
       "</div>"
      ],
      "text/plain": [
       "          genre  count_games  na_sales  eu_sales  jp_sales\n",
       "0        Sports          129     50.53     52.29      2.04\n",
       "1        Action           51      5.49      5.05      3.21\n",
       "2        Racing           50      8.17     11.96      1.89\n",
       "3      Platform           25      8.70      6.62      3.43\n",
       "4    Simulation           16      1.23      3.02      1.42\n",
       "5          Misc           14      2.50      2.33      1.97\n",
       "6      Strategy            8      0.85      0.67      0.00\n",
       "7        Puzzle            5      0.59      0.39      0.26\n",
       "8     Adventure            2      0.31      0.54      0.53\n",
       "9  Role-Playing            2      0.68      0.49      0.39"
      ]
     },
     "execution_count": 51,
     "metadata": {},
     "output_type": "execute_result"
    }
   ],
   "source": [
    "good_data['rating'].unique()\n",
    "rating_E = good_data[good_data['rating'] == 'E']\n",
    "rating_E = rating_E.groupby('genre')['name'].count().reset_index()\n",
    "rating_E = rating_E.sort_values(by='name', ascending=False)\n",
    "\n",
    "rating_na = good_data[good_data['rating'] == 'E'].groupby('genre')['na_sales'].sum().reset_index()\n",
    "rating_eu = good_data[good_data['rating'] == 'E'].groupby('genre')['eu_sales'].sum().reset_index()\n",
    "rating_jp = good_data[good_data['rating'] == 'E'].groupby('genre')['jp_sales'].sum().reset_index()\n",
    "\n",
    "rating_na_E = rating_E.merge(rating_na, on='genre', how='outer')\n",
    "rating_na_eu_E = rating_na_E.merge(rating_eu, on='genre', how='outer')\n",
    "\n",
    "\n",
    "rating_na_eu_jp_E = rating_na_eu_E.merge(rating_jp, on='genre', how='outer')\n",
    "rating_na_eu_jp_E = rating_na_eu_jp_E.rename(columns={'name': 'count_games'})\n",
    "rating_na_eu_jp_E = rating_na_eu_jp_E.sort_values(by='count_games', ascending=False)\n",
    "rating_na_eu_jp_E"
   ]
  },
  {
   "cell_type": "markdown",
   "metadata": {},
   "source": [
    "Жанр Sports лидирует среди жанров по вневозрастному рейтингу Е. Для Северной Америки и Европы этот жанр находится на 3 месте по популярности. Такой способ присвоить популярному жанру вневозрастной рейтинг приводит к тому, что эти страны хорошо, на нём зарабатывают: по 50 млн."
   ]
  },
  {
   "cell_type": "markdown",
   "metadata": {},
   "source": [
    "Рассмотрим игры без рейтинга. Посчитаем, сколько продаётся игр без рейтинга в каждом регионе."
   ]
  },
  {
   "cell_type": "code",
   "execution_count": 52,
   "metadata": {
    "scrolled": false
   },
   "outputs": [
    {
     "data": {
      "text/plain": [
       "array(['M', nan, 'E', 'T', 'E10+'], dtype=object)"
      ]
     },
     "metadata": {},
     "output_type": "display_data"
    },
    {
     "data": {
      "text/html": [
       "<div>\n",
       "<style scoped>\n",
       "    .dataframe tbody tr th:only-of-type {\n",
       "        vertical-align: middle;\n",
       "    }\n",
       "\n",
       "    .dataframe tbody tr th {\n",
       "        vertical-align: top;\n",
       "    }\n",
       "\n",
       "    .dataframe thead th {\n",
       "        text-align: right;\n",
       "    }\n",
       "</style>\n",
       "<table border=\"1\" class=\"dataframe\">\n",
       "  <thead>\n",
       "    <tr style=\"text-align: right;\">\n",
       "      <th></th>\n",
       "      <th>genre</th>\n",
       "      <th>count_games</th>\n",
       "      <th>na_sales</th>\n",
       "      <th>eu_sales</th>\n",
       "      <th>jp_sales</th>\n",
       "    </tr>\n",
       "  </thead>\n",
       "  <tbody>\n",
       "    <tr>\n",
       "      <th>0</th>\n",
       "      <td>Action</td>\n",
       "      <td>347</td>\n",
       "      <td>17.36</td>\n",
       "      <td>17.18</td>\n",
       "      <td>23.41</td>\n",
       "    </tr>\n",
       "    <tr>\n",
       "      <th>1</th>\n",
       "      <td>Adventure</td>\n",
       "      <td>185</td>\n",
       "      <td>2.80</td>\n",
       "      <td>3.06</td>\n",
       "      <td>4.84</td>\n",
       "    </tr>\n",
       "    <tr>\n",
       "      <th>2</th>\n",
       "      <td>Role-Playing</td>\n",
       "      <td>154</td>\n",
       "      <td>22.16</td>\n",
       "      <td>16.28</td>\n",
       "      <td>36.24</td>\n",
       "    </tr>\n",
       "    <tr>\n",
       "      <th>3</th>\n",
       "      <td>Misc</td>\n",
       "      <td>91</td>\n",
       "      <td>13.79</td>\n",
       "      <td>10.93</td>\n",
       "      <td>6.08</td>\n",
       "    </tr>\n",
       "    <tr>\n",
       "      <th>4</th>\n",
       "      <td>Sports</td>\n",
       "      <td>46</td>\n",
       "      <td>1.05</td>\n",
       "      <td>0.94</td>\n",
       "      <td>3.27</td>\n",
       "    </tr>\n",
       "    <tr>\n",
       "      <th>5</th>\n",
       "      <td>Fighting</td>\n",
       "      <td>32</td>\n",
       "      <td>7.14</td>\n",
       "      <td>3.24</td>\n",
       "      <td>4.93</td>\n",
       "    </tr>\n",
       "    <tr>\n",
       "      <th>6</th>\n",
       "      <td>Simulation</td>\n",
       "      <td>31</td>\n",
       "      <td>1.92</td>\n",
       "      <td>4.53</td>\n",
       "      <td>2.49</td>\n",
       "    </tr>\n",
       "    <tr>\n",
       "      <th>7</th>\n",
       "      <td>Strategy</td>\n",
       "      <td>31</td>\n",
       "      <td>0.16</td>\n",
       "      <td>0.31</td>\n",
       "      <td>1.45</td>\n",
       "    </tr>\n",
       "    <tr>\n",
       "      <th>8</th>\n",
       "      <td>Shooter</td>\n",
       "      <td>26</td>\n",
       "      <td>19.56</td>\n",
       "      <td>16.89</td>\n",
       "      <td>0.81</td>\n",
       "    </tr>\n",
       "    <tr>\n",
       "      <th>9</th>\n",
       "      <td>Racing</td>\n",
       "      <td>18</td>\n",
       "      <td>1.04</td>\n",
       "      <td>2.66</td>\n",
       "      <td>0.24</td>\n",
       "    </tr>\n",
       "    <tr>\n",
       "      <th>10</th>\n",
       "      <td>Platform</td>\n",
       "      <td>9</td>\n",
       "      <td>2.38</td>\n",
       "      <td>2.79</td>\n",
       "      <td>0.62</td>\n",
       "    </tr>\n",
       "    <tr>\n",
       "      <th>11</th>\n",
       "      <td>Puzzle</td>\n",
       "      <td>7</td>\n",
       "      <td>0.06</td>\n",
       "      <td>0.10</td>\n",
       "      <td>0.67</td>\n",
       "    </tr>\n",
       "  </tbody>\n",
       "</table>\n",
       "</div>"
      ],
      "text/plain": [
       "           genre  count_games  na_sales  eu_sales  jp_sales\n",
       "0         Action          347     17.36     17.18     23.41\n",
       "1      Adventure          185      2.80      3.06      4.84\n",
       "2   Role-Playing          154     22.16     16.28     36.24\n",
       "3           Misc           91     13.79     10.93      6.08\n",
       "4         Sports           46      1.05      0.94      3.27\n",
       "5       Fighting           32      7.14      3.24      4.93\n",
       "6     Simulation           31      1.92      4.53      2.49\n",
       "7       Strategy           31      0.16      0.31      1.45\n",
       "8        Shooter           26     19.56     16.89      0.81\n",
       "9         Racing           18      1.04      2.66      0.24\n",
       "10      Platform            9      2.38      2.79      0.62\n",
       "11        Puzzle            7      0.06      0.10      0.67"
      ]
     },
     "execution_count": 52,
     "metadata": {},
     "output_type": "execute_result"
    }
   ],
   "source": [
    "display(good_data['rating'].unique())\n",
    "no_rating = good_data[good_data['rating'] != 'M']\n",
    "no_rating = no_rating[no_rating['rating'] != 'E']\n",
    "no_rating = no_rating[no_rating['rating'] != 'T']\n",
    "no_rating = no_rating[no_rating['rating'] != 'E10+']\n",
    "no_rating\n",
    " \n",
    "no_rating_count = no_rating.groupby('genre')['name'].count().reset_index()\n",
    "no_rating_count = no_rating_count.sort_values(by='name', ascending=False)\n",
    "no_rating_count = no_rating_count.rename(columns={'name': 'count_games'})\n",
    "no_rating_count\n",
    "\n",
    "no_rating_na = no_rating.groupby('genre')['na_sales'].sum().reset_index()\n",
    "no_rating_eu = no_rating.groupby('genre')['eu_sales'].sum().reset_index()\n",
    "no_rating_jp = no_rating.groupby('genre')['jp_sales'].sum().reset_index()\n",
    "\n",
    "no_rating_regions = no_rating_count.merge(no_rating_na, on='genre', how='outer')\n",
    "no_rating_regions = no_rating_regions.merge(no_rating_eu, on='genre', how='outer')\n",
    "no_rating_regions = no_rating_regions.merge(no_rating_jp, on='genre', how='outer')\n",
    "no_rating_regions = no_rating_regions.sort_values(by='count_games', ascending=False)\n",
    "no_rating_regions"
   ]
  },
  {
   "cell_type": "markdown",
   "metadata": {},
   "source": [
    "Рассмотрели игры без рейтинга. Видно, что жанр Action вышел на первый план по количеству игр без рейтинга, а он у нас на 1 месте по популярности для Северной Америки и Европы. В Японии жанр Action на 2 месте по популярности, но для игр без рейтинга Япония зарабатывает на нем больше, чем другие регионы. Продажи игр жанра Action в этих странах получились почти одинаковые (17.36 и 17.18 млн), у Японии 23.41. На 1 месте по продажам для Северной Америки игры жанра Role-Playing, они тоже входили в топ-5 для этой страны."
   ]
  },
  {
   "cell_type": "code",
   "execution_count": 53,
   "metadata": {},
   "outputs": [
    {
     "data": {
      "text/plain": [
       "16      M\n",
       "23      M\n",
       "31    NaN\n",
       "33    NaN\n",
       "42      M\n",
       "Name: rating, dtype: object"
      ]
     },
     "execution_count": 53,
     "metadata": {},
     "output_type": "execute_result"
    }
   ],
   "source": [
    "good_data['rating'].head()"
   ]
  },
  {
   "cell_type": "markdown",
   "metadata": {},
   "source": [
    "## Проверка гипотез"
   ]
  },
  {
   "cell_type": "markdown",
   "metadata": {},
   "source": [
    "**Гипотеза №1: Средние пользовательские рейтинги платформ Xbox One и PC совпадают.**\n",
    "\n",
    "У нас есть нулевая гипотеза Н_0 - cредние пользовательские рейтинги платформ Xbox One (XOne) и PC совпадают, т.е. средние значения равны. Н_1 - cредние пользовательские рейтинги платформ Xbox One и PC различается, т.е. средние значения не равны.\n",
    "\n",
    "Проведем ttest (st.ttest_ind) и исходя из p-value решим, принять или отвергнуть нулевую гипотезу."
   ]
  },
  {
   "cell_type": "code",
   "execution_count": 54,
   "metadata": {},
   "outputs": [
    {
     "data": {
      "text/html": [
       "<div>\n",
       "<style scoped>\n",
       "    .dataframe tbody tr th:only-of-type {\n",
       "        vertical-align: middle;\n",
       "    }\n",
       "\n",
       "    .dataframe tbody tr th {\n",
       "        vertical-align: top;\n",
       "    }\n",
       "\n",
       "    .dataframe thead th {\n",
       "        text-align: right;\n",
       "    }\n",
       "</style>\n",
       "<table border=\"1\" class=\"dataframe\">\n",
       "  <thead>\n",
       "    <tr style=\"text-align: right;\">\n",
       "      <th></th>\n",
       "      <th>name</th>\n",
       "      <th>platform</th>\n",
       "      <th>year_of_release</th>\n",
       "      <th>genre</th>\n",
       "      <th>na_sales</th>\n",
       "      <th>eu_sales</th>\n",
       "      <th>jp_sales</th>\n",
       "      <th>other_sales</th>\n",
       "      <th>critic_score</th>\n",
       "      <th>user_score</th>\n",
       "      <th>rating</th>\n",
       "      <th>total_sales</th>\n",
       "    </tr>\n",
       "  </thead>\n",
       "  <tbody>\n",
       "    <tr>\n",
       "      <th>16</th>\n",
       "      <td>Grand Theft Auto V</td>\n",
       "      <td>PS3</td>\n",
       "      <td>2013</td>\n",
       "      <td>Action</td>\n",
       "      <td>7.02</td>\n",
       "      <td>9.09</td>\n",
       "      <td>0.98</td>\n",
       "      <td>3.96</td>\n",
       "      <td>97.0</td>\n",
       "      <td>8.2</td>\n",
       "      <td>M</td>\n",
       "      <td>21.05</td>\n",
       "    </tr>\n",
       "    <tr>\n",
       "      <th>23</th>\n",
       "      <td>Grand Theft Auto V</td>\n",
       "      <td>X360</td>\n",
       "      <td>2013</td>\n",
       "      <td>Action</td>\n",
       "      <td>9.66</td>\n",
       "      <td>5.14</td>\n",
       "      <td>0.06</td>\n",
       "      <td>1.41</td>\n",
       "      <td>97.0</td>\n",
       "      <td>8.1</td>\n",
       "      <td>M</td>\n",
       "      <td>16.27</td>\n",
       "    </tr>\n",
       "    <tr>\n",
       "      <th>31</th>\n",
       "      <td>Call of Duty: Black Ops 3</td>\n",
       "      <td>PS4</td>\n",
       "      <td>2015</td>\n",
       "      <td>Shooter</td>\n",
       "      <td>6.03</td>\n",
       "      <td>5.86</td>\n",
       "      <td>0.36</td>\n",
       "      <td>2.38</td>\n",
       "      <td>NaN</td>\n",
       "      <td>NaN</td>\n",
       "      <td>NaN</td>\n",
       "      <td>14.63</td>\n",
       "    </tr>\n",
       "    <tr>\n",
       "      <th>33</th>\n",
       "      <td>Pokemon X/Pokemon Y</td>\n",
       "      <td>3DS</td>\n",
       "      <td>2013</td>\n",
       "      <td>Role-Playing</td>\n",
       "      <td>5.28</td>\n",
       "      <td>4.19</td>\n",
       "      <td>4.35</td>\n",
       "      <td>0.78</td>\n",
       "      <td>NaN</td>\n",
       "      <td>NaN</td>\n",
       "      <td>NaN</td>\n",
       "      <td>14.60</td>\n",
       "    </tr>\n",
       "    <tr>\n",
       "      <th>42</th>\n",
       "      <td>Grand Theft Auto V</td>\n",
       "      <td>PS4</td>\n",
       "      <td>2014</td>\n",
       "      <td>Action</td>\n",
       "      <td>3.96</td>\n",
       "      <td>6.31</td>\n",
       "      <td>0.38</td>\n",
       "      <td>1.97</td>\n",
       "      <td>97.0</td>\n",
       "      <td>8.3</td>\n",
       "      <td>M</td>\n",
       "      <td>12.62</td>\n",
       "    </tr>\n",
       "  </tbody>\n",
       "</table>\n",
       "</div>"
      ],
      "text/plain": [
       "                         name platform  year_of_release         genre  \\\n",
       "16         Grand Theft Auto V      PS3             2013        Action   \n",
       "23         Grand Theft Auto V     X360             2013        Action   \n",
       "31  Call of Duty: Black Ops 3      PS4             2015       Shooter   \n",
       "33        Pokemon X/Pokemon Y      3DS             2013  Role-Playing   \n",
       "42         Grand Theft Auto V      PS4             2014        Action   \n",
       "\n",
       "    na_sales  eu_sales  jp_sales  other_sales  critic_score  user_score  \\\n",
       "16      7.02      9.09      0.98         3.96          97.0         8.2   \n",
       "23      9.66      5.14      0.06         1.41          97.0         8.1   \n",
       "31      6.03      5.86      0.36         2.38           NaN         NaN   \n",
       "33      5.28      4.19      4.35         0.78           NaN         NaN   \n",
       "42      3.96      6.31      0.38         1.97          97.0         8.3   \n",
       "\n",
       "   rating  total_sales  \n",
       "16      M        21.05  \n",
       "23      M        16.27  \n",
       "31    NaN        14.63  \n",
       "33    NaN        14.60  \n",
       "42      M        12.62  "
      ]
     },
     "execution_count": 54,
     "metadata": {},
     "output_type": "execute_result"
    }
   ],
   "source": [
    "good_data.head()"
   ]
  },
  {
   "cell_type": "markdown",
   "metadata": {},
   "source": [
    "Проверим, нет ли пустых значений в столбце user_score для наших платформ XOne и PC. Если они есть, то удалим строки с пропусками, чтобы не учитывать игры без рейтинга."
   ]
  },
  {
   "cell_type": "code",
   "execution_count": 55,
   "metadata": {},
   "outputs": [
    {
     "data": {
      "text/plain": [
       "99       NaN\n",
       "165      7.9\n",
       "179      5.4\n",
       "242      6.4\n",
       "270      6.2\n",
       "        ... \n",
       "16630    8.2\n",
       "16643    6.6\n",
       "16645    NaN\n",
       "16660    6.7\n",
       "16672    NaN\n",
       "Name: user_score, Length: 247, dtype: float64"
      ]
     },
     "execution_count": 55,
     "metadata": {},
     "output_type": "execute_result"
    }
   ],
   "source": [
    "good_data.query('platform == \"XOne\"')['user_score']"
   ]
  },
  {
   "cell_type": "code",
   "execution_count": 56,
   "metadata": {},
   "outputs": [
    {
     "data": {
      "text/plain": [
       "458      3.9\n",
       "1095     7.9\n",
       "1351     2.2\n",
       "1437     6.0\n",
       "1530     5.4\n",
       "        ... \n",
       "16509    7.9\n",
       "16518    1.4\n",
       "16617    NaN\n",
       "16631    NaN\n",
       "16692    7.6\n",
       "Name: user_score, Length: 189, dtype: float64"
      ]
     },
     "execution_count": 56,
     "metadata": {},
     "output_type": "execute_result"
    }
   ],
   "source": [
    "good_data.query('platform == \"PC\"')['user_score']"
   ]
  },
  {
   "cell_type": "code",
   "execution_count": 57,
   "metadata": {},
   "outputs": [],
   "source": [
    "XOne_rating = good_data.query('platform == \"XOne\"')['user_score'].dropna()\n",
    "PC_rating = good_data.query('platform == \"PC\"')['user_score'].dropna()"
   ]
  },
  {
   "cell_type": "code",
   "execution_count": 58,
   "metadata": {},
   "outputs": [
    {
     "data": {
      "text/plain": [
       "165    7.9\n",
       "179    5.4\n",
       "242    6.4\n",
       "270    6.2\n",
       "373    4.1\n",
       "Name: user_score, dtype: float64"
      ]
     },
     "execution_count": 58,
     "metadata": {},
     "output_type": "execute_result"
    }
   ],
   "source": [
    "XOne_rating.head()"
   ]
  },
  {
   "cell_type": "markdown",
   "metadata": {},
   "source": [
    "Посчитаем средние значения и дисперсии для XOne_rating и PC_rating. Построим гистограммы для платформ XOne и PC."
   ]
  },
  {
   "cell_type": "code",
   "execution_count": 59,
   "metadata": {},
   "outputs": [
    {
     "data": {
      "image/png": "[encoded data removed]",
      "text/plain": [
       "<Figure size 432x288 with 1 Axes>"
      ]
     },
     "metadata": {
      "needs_background": "light"
     },
     "output_type": "display_data"
    },
    {
     "name": "stdout",
     "output_type": "stream",
     "text": [
      "Среднее значение для платформы XOne: 6.52142857142857\n",
      "Дисперсия для платформы XOne: 1.9069968429360702\n"
     ]
    },
    {
     "data": {
      "image/png": "[encoded data removed]",
      "text/plain": [
       "<Figure size 432x288 with 1 Axes>"
      ]
     },
     "metadata": {
      "needs_background": "light"
     },
     "output_type": "display_data"
    },
    {
     "name": "stdout",
     "output_type": "stream",
     "text": [
      "Среднее значение для платформы PC: 6.269677419354836\n",
      "Дисперсия для платформы PC: 3.035892752408884\n"
     ]
    }
   ],
   "source": [
    "XOne_rating.plot(kind='hist', grid=True, x='user_score')\n",
    "plt.title('Гистограмма распределения рейтинга пользователей для платформы XOne')\n",
    "plt.xlabel('Рейтинг пользователей')\n",
    "plt.show()\n",
    "print('Среднее значение для платформы XOne:', XOne_rating.mean())\n",
    "print('Дисперсия для платформы XOne:', np.var(XOne_rating, ddof=1))\n",
    "\n",
    "PC_rating.plot(kind='hist', grid=True, x='user_score')\n",
    "plt.title('Гистограмма распределения рейтинга пользователей для платформы PC')\n",
    "plt.xlabel('Рейтинг пользователей')\n",
    "plt.show()\n",
    "print('Среднее значение для платформы PC:', PC_rating.mean())\n",
    "print('Дисперсия для платформы PC:', np.var(PC_rating, ddof=1))"
   ]
  },
  {
   "cell_type": "markdown",
   "metadata": {},
   "source": [
    "Средние значения почти совпадают, а дисперсии различаются. Добавим в функцию st.ttest_ind аргумент equal_var со значением False."
   ]
  },
  {
   "cell_type": "code",
   "execution_count": 60,
   "metadata": {},
   "outputs": [
    {
     "name": "stdout",
     "output_type": "stream",
     "text": [
      "p-значение: 0.14759594013430463\n",
      "Не получилось отвергнуть нулевую гипотезу\n"
     ]
    }
   ],
   "source": [
    "sample_1 = XOne_rating\n",
    "sample_2 = PC_rating\n",
    " \n",
    "alpha = .05 # критический уровень статистической значимости\n",
    " \n",
    "results = st.ttest_ind(\n",
    "    sample_1, \n",
    "    sample_2,\n",
    "    equal_var=False)\n",
    " \n",
    "print('p-значение:', results.pvalue)\n",
    " \n",
    "if results.pvalue < alpha:\n",
    "    print(\"Отвергаем нулевую гипотезу\")\n",
    "else:\n",
    "    print(\"Не получилось отвергнуть нулевую гипотезу\") "
   ]
  },
  {
   "cell_type": "markdown",
   "metadata": {},
   "source": [
    "Я выбрала уровень статистической значимости (alpha) равным 5%, т.к. у нас небольшой размер данных. Если бы их было несколько млн, то можно было взять бы и 1%."
   ]
  },
  {
   "cell_type": "markdown",
   "metadata": {},
   "source": [
    "**Вывод**: p-value получилось меньше критического уровеня статистической значимости, значит, принимаем нашу нулевую гипотезу. Получается, что cредние пользовательские рейтинги платформ XOne и PC совпадают."
   ]
  },
  {
   "cell_type": "markdown",
   "metadata": {},
   "source": [
    "**Гипотеза №2: средние пользовательские рейтинги жанров Action и Sports равны**\n",
    "\n",
    "Нулевая гипотеза Н_0 - средние пользовательские рейтинги жанров Action и Sports равны. Н_1 - средние пользовательские рейтинги жанров Action и Sports разные, т.е. они не равны.\n",
    "\n",
    "Проведем ttest (st.ttest_ind) и исходя из p-value решим, принять или отвергнуть нулевую гипотезу."
   ]
  },
  {
   "cell_type": "code",
   "execution_count": 61,
   "metadata": {},
   "outputs": [
    {
     "data": {
      "text/plain": [
       "16       8.2\n",
       "23       8.1\n",
       "42       8.3\n",
       "149      9.1\n",
       "165      7.9\n",
       "        ... \n",
       "16680    NaN\n",
       "16691    NaN\n",
       "16692    7.6\n",
       "16699    NaN\n",
       "16710    NaN\n",
       "Name: user_score, Length: 766, dtype: float64"
      ]
     },
     "execution_count": 61,
     "metadata": {},
     "output_type": "execute_result"
    }
   ],
   "source": [
    "good_data.query('genre == \"Action\"')['user_score']"
   ]
  },
  {
   "cell_type": "code",
   "execution_count": 62,
   "metadata": {},
   "outputs": [
    {
     "data": {
      "text/plain": [
       "77       4.3\n",
       "94       5.0\n",
       "126      4.3\n",
       "143      5.7\n",
       "264      4.5\n",
       "        ... \n",
       "16428    NaN\n",
       "16450    4.5\n",
       "16518    1.4\n",
       "16638    NaN\n",
       "16643    6.6\n",
       "Name: user_score, Length: 214, dtype: float64"
      ]
     },
     "execution_count": 62,
     "metadata": {},
     "output_type": "execute_result"
    }
   ],
   "source": [
    "good_data.query('genre == \"Sports\"')['user_score']"
   ]
  },
  {
   "cell_type": "code",
   "execution_count": 63,
   "metadata": {},
   "outputs": [],
   "source": [
    "action_rating = good_data.query('genre == \"Action\"')['user_score'].dropna()\n",
    "sports_rating = good_data.query('genre == \"Sports\"')['user_score'].dropna()"
   ]
  },
  {
   "cell_type": "code",
   "execution_count": 64,
   "metadata": {},
   "outputs": [
    {
     "data": {
      "image/png": "[encoded data removed]",
      "text/plain": [
       "<Figure size 432x288 with 1 Axes>"
      ]
     },
     "metadata": {
      "needs_background": "light"
     },
     "output_type": "display_data"
    },
    {
     "name": "stdout",
     "output_type": "stream",
     "text": [
      "Среднее значение для жанра Action: 6.837532133676097\n",
      "Дисперсия для для жанра Action: 1.76936090424827\n"
     ]
    },
    {
     "data": {
      "image/png": "[encoded data removed]",
      "text/plain": [
       "<Figure size 432x288 with 1 Axes>"
      ]
     },
     "metadata": {
      "needs_background": "light"
     },
     "output_type": "display_data"
    },
    {
     "name": "stdout",
     "output_type": "stream",
     "text": [
      "Среднее значение для жанра Sports: 5.238124999999999\n",
      "Дисперсия для жанра Sports: 3.1806128144654062\n"
     ]
    }
   ],
   "source": [
    "action_rating.plot(kind='hist', grid=True, x='user_score')\n",
    "plt.title('Гистограмма распределения рейтинга пользователей для жанра Action')\n",
    "plt.xlabel('Рейтинг пользователей')\n",
    "plt.show()\n",
    "print('Среднее значение для жанра Action:', action_rating.mean())\n",
    "print('Дисперсия для для жанра Action:', np.var(action_rating, ddof=1))\n",
    "\n",
    "sports_rating.plot(kind='hist', grid=True, x='user_score')\n",
    "plt.title('Гистограмма распределения рейтинга пользователей для жанра Sports')\n",
    "plt.xlabel('Рейтинг пользователей')\n",
    "plt.show()\n",
    "print('Среднее значение для жанра Sports:', sports_rating.mean())\n",
    "print('Дисперсия для жанра Sports:', np.var(sports_rating, ddof=1))"
   ]
  },
  {
   "cell_type": "markdown",
   "metadata": {},
   "source": [
    "Средние значения у двух жанров различаются. У жанра Action 6.83, у Sports 5.23. Дисперсии тоже различны. У жанра Action примерно 1.7, у Sports 3.2. Так же, как и для первой гипотезы, добавим в функцию st.ttest_ind аргумент equal_var со значением False."
   ]
  },
  {
   "cell_type": "code",
   "execution_count": 65,
   "metadata": {},
   "outputs": [
    {
     "name": "stdout",
     "output_type": "stream",
     "text": [
      "p-значение: 1.4460039700704315e-20\n",
      "Отвергаем нулевую гипотезу\n"
     ]
    }
   ],
   "source": [
    "sample_1 = action_rating\n",
    "sample_2 = sports_rating\n",
    " \n",
    "alpha = .05 # критический уровень статистической значимости\n",
    " \n",
    "results = st.ttest_ind(\n",
    "    sample_1, \n",
    "    sample_2,\n",
    "    equal_var=False)\n",
    " \n",
    "print('p-значение:', results.pvalue)\n",
    " \n",
    "if results.pvalue < alpha:\n",
    "    print(\"Отвергаем нулевую гипотезу\")\n",
    "else:\n",
    "    print(\"Не получилось отвергнуть нулевую гипотезу\") "
   ]
  },
  {
   "cell_type": "markdown",
   "metadata": {},
   "source": [
    "**Вывод**: p-value получилось меньше alpha, значит, мы отвергаем нашу нулевую гипотезу. Получается, что средние пользовательские рейтинги жанров Action и Sports не равны. "
   ]
  },
  {
   "cell_type": "markdown",
   "metadata": {},
   "source": [
    "## Общий вывод"
   ]
  },
  {
   "cell_type": "markdown",
   "metadata": {},
   "source": [
    "1) Заменили названия столбцов, преобразовали данные в нужные типы, обработали пропуски.\n",
    "\n",
    "2) Определили, что данные за весь период не нужны. Остановились на данных, начиная с 2013 года.\n",
    "\n",
    "3) Выбрали платформы, лидирующие по суммарным продажам. Это PS4, PS3, XOne, X360, 3DS. \n",
    "\n",
    "4) Определили, что продажи совсем не зависят от оценок пользователей, но зависят от оценок критиков. Наибольшую зависимость имеют 2 платформы: XOne и PS4. Коэффициенты корреляции положительные, значит, с ростом оценок критиков увеличиваются и продажи.\n",
    "\n",
    "5) Определили, что несмотря на то, что игры в жанре Action являются наиболее популярными, самые большие продажи приносит жанр Shooter (примерно 1.2 млн за игру). Наименьший доход у игр жанра Adventure (примерно 0.1 млн).\n",
    "\n",
    "6) Составили портрет пользователя для каждого региона.\n",
    "\n",
    "7) Определили, что платформы PS4, PS3, DS являются популярными во всех трех регионах.\n",
    "\n",
    "8) Американцы и европейцы выбирают одни и те же жанры игр, отличие только в Misc. На 5 месте он у американцев, а у европейцев Racing. Жанры Action и Role-Playing любят во всех странах.\n",
    "\n",
    "9) Определили, что рейтинг ESRB влияет на продажи в каждом регионе. Для Америки и Европы получили одинаковый результат. Большинство игр подходит для лиц старше 17 лет. В Японии на первое место вышли игры с рейтингом Т (подходит для лиц старше 13 лет). Выяснили, что игры жанра Sports по вневозрастному рейтингу Е. Для Северной Америки и Европы этот жанр находится на 3 месте по популярности. Такой способ присвоить популярному жанру вневозрастной рейтинг приводит к тому, что эти страны хорошо, на нём зарабатывают: по 50 млн.\n",
    "\n",
    "10) Проверили первую гипотезу: средние пользовательские рейтинги платформ Xbox One и PC совпадают. Подтвердили эту гипотезу.\n",
    "\n",
    "11) Проверили вторую гипотезу: средние пользовательские рейтинги жанров Action и Sports равны. Отвергли ее. Выяснили, что средние рейтинги двух жанров отличаются. Рейтинг у жанра action выше, чем у sports.\n",
    "\n",
    "Проделав данную работу, мы определили, что успешность игры зависит от того, на какой платформе она выходит, от жанра и от региона, в котором она была создана.\n",
    "Самыми перспективными платформами являются PS4, XOne.\n",
    "Самым популярным жанром является Action, но наибольшие продажи у игр жанра Shooter. Стоит продвигать их."
   ]
  }
 ],
 "metadata": {
  "ExecuteTimeLog": [
   {
    "duration": 1225,
    "start_time": "2022-07-05T06:39:04.184Z"
   },
   {
    "duration": 300,
    "start_time": "2022-07-05T06:39:05.411Z"
   },
   {
    "duration": 8,
    "start_time": "2022-07-05T06:39:05.715Z"
   },
   {
    "duration": 15,
    "start_time": "2022-07-05T06:39:05.724Z"
   },
   {
    "duration": 19,
    "start_time": "2022-07-05T06:39:05.740Z"
   },
   {
    "duration": 14,
    "start_time": "2022-07-05T06:39:05.761Z"
   },
   {
    "duration": 19,
    "start_time": "2022-07-05T06:39:05.776Z"
   },
   {
    "duration": 5,
    "start_time": "2022-07-05T06:39:05.797Z"
   },
   {
    "duration": 25,
    "start_time": "2022-07-05T06:39:05.804Z"
   },
   {
    "duration": 18,
    "start_time": "2022-07-05T06:39:05.831Z"
   },
   {
    "duration": 17,
    "start_time": "2022-07-05T06:39:05.851Z"
   },
   {
    "duration": 10,
    "start_time": "2022-07-05T06:39:05.870Z"
   },
   {
    "duration": 183,
    "start_time": "2022-07-05T06:39:05.881Z"
   },
   {
    "duration": 327,
    "start_time": "2022-07-05T06:39:06.066Z"
   },
   {
    "duration": 13,
    "start_time": "2022-07-05T06:39:06.395Z"
   },
   {
    "duration": 293,
    "start_time": "2022-07-05T06:39:06.410Z"
   },
   {
    "duration": 4,
    "start_time": "2022-07-05T06:39:06.704Z"
   },
   {
    "duration": 908,
    "start_time": "2022-07-05T06:39:06.709Z"
   },
   {
    "duration": 86,
    "start_time": "2022-07-05T06:39:07.630Z"
   },
   {
    "duration": 17,
    "start_time": "2022-07-05T06:39:07.718Z"
   },
   {
    "duration": 97,
    "start_time": "2022-07-05T06:39:07.736Z"
   },
   {
    "duration": 109,
    "start_time": "2022-07-05T06:39:07.835Z"
   },
   {
    "duration": 110,
    "start_time": "2022-07-05T06:39:07.946Z"
   },
   {
    "duration": 111,
    "start_time": "2022-07-05T06:39:08.057Z"
   },
   {
    "duration": 102,
    "start_time": "2022-07-05T06:39:08.170Z"
   },
   {
    "duration": 105,
    "start_time": "2022-07-05T06:39:08.274Z"
   },
   {
    "duration": 112,
    "start_time": "2022-07-05T06:39:08.382Z"
   },
   {
    "duration": 177,
    "start_time": "2022-07-05T06:39:08.495Z"
   },
   {
    "duration": 282,
    "start_time": "2022-07-05T06:39:08.673Z"
   },
   {
    "duration": 7,
    "start_time": "2022-07-05T06:39:08.956Z"
   },
   {
    "duration": 1165,
    "start_time": "2022-07-05T06:39:08.964Z"
   },
   {
    "duration": 6,
    "start_time": "2022-07-05T06:39:10.131Z"
   },
   {
    "duration": 8,
    "start_time": "2022-07-05T06:39:10.139Z"
   },
   {
    "duration": 6,
    "start_time": "2022-07-05T06:39:10.148Z"
   },
   {
    "duration": 5,
    "start_time": "2022-07-05T06:39:10.156Z"
   },
   {
    "duration": 15,
    "start_time": "2022-07-05T06:39:10.163Z"
   },
   {
    "duration": 12,
    "start_time": "2022-07-05T06:39:10.180Z"
   },
   {
    "duration": 46,
    "start_time": "2022-07-05T06:39:10.194Z"
   },
   {
    "duration": 185,
    "start_time": "2022-07-05T06:39:10.242Z"
   },
   {
    "duration": 13,
    "start_time": "2022-07-05T06:39:10.429Z"
   },
   {
    "duration": 7,
    "start_time": "2022-07-05T06:39:10.444Z"
   },
   {
    "duration": 23,
    "start_time": "2022-07-05T06:39:10.453Z"
   },
   {
    "duration": 13,
    "start_time": "2022-07-05T06:39:10.477Z"
   },
   {
    "duration": 39,
    "start_time": "2022-07-05T06:39:10.491Z"
   },
   {
    "duration": 13,
    "start_time": "2022-07-05T06:39:10.531Z"
   },
   {
    "duration": 13,
    "start_time": "2022-07-05T06:39:10.545Z"
   },
   {
    "duration": 20,
    "start_time": "2022-07-05T06:39:10.559Z"
   },
   {
    "duration": 262,
    "start_time": "2022-07-05T06:39:10.581Z"
   },
   {
    "duration": 27,
    "start_time": "2022-07-05T06:39:10.844Z"
   },
   {
    "duration": 28,
    "start_time": "2022-07-05T06:39:10.873Z"
   },
   {
    "duration": 37,
    "start_time": "2022-07-05T06:39:10.902Z"
   },
   {
    "duration": 9,
    "start_time": "2022-07-05T06:39:10.941Z"
   },
   {
    "duration": 10,
    "start_time": "2022-07-05T06:39:10.952Z"
   },
   {
    "duration": 7,
    "start_time": "2022-07-05T06:39:10.964Z"
   },
   {
    "duration": 7,
    "start_time": "2022-07-05T06:39:10.973Z"
   },
   {
    "duration": 9,
    "start_time": "2022-07-05T06:39:10.981Z"
   },
   {
    "duration": 40,
    "start_time": "2022-07-05T06:39:10.992Z"
   },
   {
    "duration": 11,
    "start_time": "2022-07-05T06:39:11.034Z"
   },
   {
    "duration": 5,
    "start_time": "2022-07-05T06:39:11.046Z"
   },
   {
    "duration": 6,
    "start_time": "2022-07-05T06:39:11.053Z"
   },
   {
    "duration": 6,
    "start_time": "2022-07-05T06:39:11.061Z"
   },
   {
    "duration": 20,
    "start_time": "2022-07-05T06:42:09.868Z"
   },
   {
    "duration": 12,
    "start_time": "2022-07-05T06:42:14.106Z"
   },
   {
    "duration": 4,
    "start_time": "2022-07-05T06:45:36.677Z"
   },
   {
    "duration": 1357,
    "start_time": "2022-07-06T14:32:30.326Z"
   },
   {
    "duration": 154,
    "start_time": "2022-07-06T14:32:31.686Z"
   },
   {
    "duration": 10,
    "start_time": "2022-07-06T14:32:31.841Z"
   },
   {
    "duration": 20,
    "start_time": "2022-07-06T14:32:31.853Z"
   },
   {
    "duration": 30,
    "start_time": "2022-07-06T14:32:31.875Z"
   },
   {
    "duration": 29,
    "start_time": "2022-07-06T14:32:31.906Z"
   },
   {
    "duration": 40,
    "start_time": "2022-07-06T14:32:31.937Z"
   },
   {
    "duration": 6,
    "start_time": "2022-07-06T14:32:31.979Z"
   },
   {
    "duration": 16,
    "start_time": "2022-07-06T14:32:31.987Z"
   },
   {
    "duration": 22,
    "start_time": "2022-07-06T14:32:32.006Z"
   },
   {
    "duration": 18,
    "start_time": "2022-07-06T14:32:32.030Z"
   },
   {
    "duration": 19,
    "start_time": "2022-07-06T14:32:32.049Z"
   },
   {
    "duration": 165,
    "start_time": "2022-07-06T14:32:32.069Z"
   },
   {
    "duration": 361,
    "start_time": "2022-07-06T14:32:32.235Z"
   },
   {
    "duration": 18,
    "start_time": "2022-07-06T14:32:32.598Z"
   },
   {
    "duration": 402,
    "start_time": "2022-07-06T14:32:32.618Z"
   },
   {
    "duration": 4,
    "start_time": "2022-07-06T14:32:33.022Z"
   },
   {
    "duration": 944,
    "start_time": "2022-07-06T14:32:33.028Z"
   },
   {
    "duration": 111,
    "start_time": "2022-07-06T14:32:33.974Z"
   },
   {
    "duration": 19,
    "start_time": "2022-07-06T14:32:34.086Z"
   },
   {
    "duration": 126,
    "start_time": "2022-07-06T14:32:34.107Z"
   },
   {
    "duration": 129,
    "start_time": "2022-07-06T14:32:34.235Z"
   },
   {
    "duration": 132,
    "start_time": "2022-07-06T14:32:34.366Z"
   },
   {
    "duration": 135,
    "start_time": "2022-07-06T14:32:34.499Z"
   },
   {
    "duration": 142,
    "start_time": "2022-07-06T14:32:34.636Z"
   },
   {
    "duration": 140,
    "start_time": "2022-07-06T14:32:34.780Z"
   },
   {
    "duration": 153,
    "start_time": "2022-07-06T14:32:34.923Z"
   },
   {
    "duration": 231,
    "start_time": "2022-07-06T14:32:35.079Z"
   },
   {
    "duration": 340,
    "start_time": "2022-07-06T14:32:35.311Z"
   },
   {
    "duration": 13,
    "start_time": "2022-07-06T14:32:35.653Z"
   },
   {
    "duration": 1270,
    "start_time": "2022-07-06T14:32:35.667Z"
   },
   {
    "duration": 25,
    "start_time": "2022-07-06T14:32:36.939Z"
   },
   {
    "duration": 16,
    "start_time": "2022-07-06T14:32:36.966Z"
   },
   {
    "duration": 16,
    "start_time": "2022-07-06T14:32:36.984Z"
   },
   {
    "duration": 14,
    "start_time": "2022-07-06T14:32:37.002Z"
   },
   {
    "duration": 204,
    "start_time": "2022-07-06T14:32:37.017Z"
   },
   {
    "duration": 212,
    "start_time": "2022-07-06T14:32:37.223Z"
   },
   {
    "duration": 15,
    "start_time": "2022-07-06T14:32:37.437Z"
   },
   {
    "duration": 15,
    "start_time": "2022-07-06T14:32:37.454Z"
   },
   {
    "duration": 114,
    "start_time": "2022-07-06T14:32:37.471Z"
   },
   {
    "duration": 108,
    "start_time": "2022-07-06T14:32:37.587Z"
   },
   {
    "duration": 116,
    "start_time": "2022-07-06T14:32:37.697Z"
   },
   {
    "duration": 15,
    "start_time": "2022-07-06T14:32:37.814Z"
   },
   {
    "duration": 12,
    "start_time": "2022-07-06T14:32:37.831Z"
   },
   {
    "duration": 30,
    "start_time": "2022-07-06T14:32:37.845Z"
   },
   {
    "duration": 13,
    "start_time": "2022-07-06T14:32:37.877Z"
   },
   {
    "duration": 26,
    "start_time": "2022-07-06T14:32:37.892Z"
   },
   {
    "duration": 272,
    "start_time": "2022-07-06T14:32:37.919Z"
   },
   {
    "duration": 147,
    "start_time": "2022-07-06T14:32:38.194Z"
   },
   {
    "duration": 38,
    "start_time": "2022-07-06T14:32:38.343Z"
   },
   {
    "duration": 31,
    "start_time": "2022-07-06T14:32:38.382Z"
   },
   {
    "duration": 14,
    "start_time": "2022-07-06T14:32:38.415Z"
   },
   {
    "duration": 34,
    "start_time": "2022-07-06T14:32:38.430Z"
   },
   {
    "duration": 8,
    "start_time": "2022-07-06T14:32:38.466Z"
   },
   {
    "duration": 10,
    "start_time": "2022-07-06T14:32:38.475Z"
   },
   {
    "duration": 8,
    "start_time": "2022-07-06T14:32:38.486Z"
   },
   {
    "duration": 356,
    "start_time": "2022-07-06T14:32:38.496Z"
   },
   {
    "duration": 12,
    "start_time": "2022-07-06T14:32:38.853Z"
   },
   {
    "duration": 29,
    "start_time": "2022-07-06T14:32:38.867Z"
   },
   {
    "duration": 23,
    "start_time": "2022-07-06T14:32:38.898Z"
   },
   {
    "duration": 18,
    "start_time": "2022-07-06T14:32:38.923Z"
   },
   {
    "duration": 325,
    "start_time": "2022-07-06T14:32:38.943Z"
   },
   {
    "duration": 5,
    "start_time": "2022-07-06T14:32:39.269Z"
   },
   {
    "duration": 23,
    "start_time": "2022-07-06T14:35:14.476Z"
   },
   {
    "duration": 5,
    "start_time": "2022-07-06T14:35:21.250Z"
   },
   {
    "duration": 9,
    "start_time": "2022-07-06T14:35:44.680Z"
   },
   {
    "duration": 1075,
    "start_time": "2022-07-06T14:36:05.044Z"
   },
   {
    "duration": 5,
    "start_time": "2022-07-06T14:36:16.085Z"
   },
   {
    "duration": 4,
    "start_time": "2022-07-06T14:36:24.528Z"
   },
   {
    "duration": 4,
    "start_time": "2022-07-06T14:36:30.825Z"
   },
   {
    "duration": 3,
    "start_time": "2022-07-06T14:36:36.399Z"
   },
   {
    "duration": 5,
    "start_time": "2022-07-06T14:37:00.308Z"
   },
   {
    "duration": 11,
    "start_time": "2022-07-06T14:37:22.256Z"
   },
   {
    "duration": 24,
    "start_time": "2022-07-06T14:38:34.257Z"
   },
   {
    "duration": 5,
    "start_time": "2022-07-06T14:38:39.201Z"
   },
   {
    "duration": 6,
    "start_time": "2022-07-06T14:38:44.026Z"
   },
   {
    "duration": 5,
    "start_time": "2022-07-06T14:38:51.346Z"
   },
   {
    "duration": 5,
    "start_time": "2022-07-06T14:39:02.836Z"
   },
   {
    "duration": 5,
    "start_time": "2022-07-06T14:39:12.273Z"
   },
   {
    "duration": 4,
    "start_time": "2022-07-06T14:39:14.681Z"
   },
   {
    "duration": 46,
    "start_time": "2022-07-06T15:33:39.216Z"
   },
   {
    "duration": 1235,
    "start_time": "2022-07-06T15:33:48.653Z"
   },
   {
    "duration": 298,
    "start_time": "2022-07-06T15:33:49.890Z"
   },
   {
    "duration": 8,
    "start_time": "2022-07-06T15:33:50.190Z"
   },
   {
    "duration": 19,
    "start_time": "2022-07-06T15:33:50.199Z"
   },
   {
    "duration": 24,
    "start_time": "2022-07-06T15:33:50.220Z"
   },
   {
    "duration": 14,
    "start_time": "2022-07-06T15:33:50.246Z"
   },
   {
    "duration": 19,
    "start_time": "2022-07-06T15:33:50.262Z"
   },
   {
    "duration": 6,
    "start_time": "2022-07-06T15:33:50.283Z"
   },
   {
    "duration": 16,
    "start_time": "2022-07-06T15:33:50.304Z"
   },
   {
    "duration": 26,
    "start_time": "2022-07-06T15:33:50.322Z"
   },
   {
    "duration": 22,
    "start_time": "2022-07-06T15:33:50.350Z"
   },
   {
    "duration": 10,
    "start_time": "2022-07-06T15:33:50.373Z"
   },
   {
    "duration": 161,
    "start_time": "2022-07-06T15:33:50.384Z"
   },
   {
    "duration": 340,
    "start_time": "2022-07-06T15:33:50.546Z"
   },
   {
    "duration": 30,
    "start_time": "2022-07-06T15:33:50.888Z"
   },
   {
    "duration": 319,
    "start_time": "2022-07-06T15:33:50.920Z"
   },
   {
    "duration": 4,
    "start_time": "2022-07-06T15:33:51.241Z"
   },
   {
    "duration": 1000,
    "start_time": "2022-07-06T15:33:51.246Z"
   },
   {
    "duration": 13,
    "start_time": "2022-07-06T15:33:52.248Z"
   },
   {
    "duration": 21,
    "start_time": "2022-07-06T15:33:52.262Z"
   },
   {
    "duration": 139,
    "start_time": "2022-07-06T15:33:52.285Z"
   },
   {
    "duration": 115,
    "start_time": "2022-07-06T15:33:52.426Z"
   },
   {
    "duration": 135,
    "start_time": "2022-07-06T15:33:52.542Z"
   },
   {
    "duration": 144,
    "start_time": "2022-07-06T15:33:52.679Z"
   },
   {
    "duration": 140,
    "start_time": "2022-07-06T15:33:52.825Z"
   },
   {
    "duration": 116,
    "start_time": "2022-07-06T15:33:52.966Z"
   },
   {
    "duration": 142,
    "start_time": "2022-07-06T15:33:53.084Z"
   },
   {
    "duration": 207,
    "start_time": "2022-07-06T15:33:53.229Z"
   },
   {
    "duration": 457,
    "start_time": "2022-07-06T15:33:53.438Z"
   },
   {
    "duration": 16,
    "start_time": "2022-07-06T15:33:53.906Z"
   },
   {
    "duration": 1258,
    "start_time": "2022-07-06T15:33:53.924Z"
   },
   {
    "duration": 30,
    "start_time": "2022-07-06T15:33:55.183Z"
   },
   {
    "duration": 24,
    "start_time": "2022-07-06T15:33:55.214Z"
   },
   {
    "duration": 14,
    "start_time": "2022-07-06T15:33:55.240Z"
   },
   {
    "duration": 12,
    "start_time": "2022-07-06T15:33:55.255Z"
   },
   {
    "duration": 218,
    "start_time": "2022-07-06T15:33:55.269Z"
   },
   {
    "duration": 227,
    "start_time": "2022-07-06T15:33:55.489Z"
   },
   {
    "duration": 15,
    "start_time": "2022-07-06T15:33:55.718Z"
   },
   {
    "duration": 8,
    "start_time": "2022-07-06T15:33:55.734Z"
   },
   {
    "duration": 120,
    "start_time": "2022-07-06T15:33:55.743Z"
   },
   {
    "duration": 109,
    "start_time": "2022-07-06T15:33:55.865Z"
   },
   {
    "duration": 116,
    "start_time": "2022-07-06T15:33:55.976Z"
   },
   {
    "duration": 25,
    "start_time": "2022-07-06T15:33:56.094Z"
   },
   {
    "duration": 16,
    "start_time": "2022-07-06T15:33:56.121Z"
   },
   {
    "duration": 21,
    "start_time": "2022-07-06T15:33:56.139Z"
   },
   {
    "duration": 27,
    "start_time": "2022-07-06T15:33:56.164Z"
   },
   {
    "duration": 29,
    "start_time": "2022-07-06T15:33:56.192Z"
   },
   {
    "duration": 362,
    "start_time": "2022-07-06T15:33:56.223Z"
   },
   {
    "duration": 58,
    "start_time": "2022-07-06T15:33:56.587Z"
   },
   {
    "duration": 33,
    "start_time": "2022-07-06T15:33:56.647Z"
   },
   {
    "duration": 62,
    "start_time": "2022-07-06T15:33:56.683Z"
   },
   {
    "duration": 6,
    "start_time": "2022-07-06T15:33:56.747Z"
   },
   {
    "duration": 27,
    "start_time": "2022-07-06T15:33:56.755Z"
   },
   {
    "duration": 9,
    "start_time": "2022-07-06T15:33:56.784Z"
   },
   {
    "duration": 21,
    "start_time": "2022-07-06T15:33:56.795Z"
   },
   {
    "duration": 10,
    "start_time": "2022-07-06T15:33:56.819Z"
   },
   {
    "duration": 6,
    "start_time": "2022-07-06T15:33:56.831Z"
   },
   {
    "duration": 353,
    "start_time": "2022-07-06T15:33:56.839Z"
   },
   {
    "duration": 22,
    "start_time": "2022-07-06T15:33:57.193Z"
   },
   {
    "duration": 25,
    "start_time": "2022-07-06T15:33:57.217Z"
   },
   {
    "duration": 29,
    "start_time": "2022-07-06T15:33:57.244Z"
   },
   {
    "duration": 25,
    "start_time": "2022-07-06T15:33:57.275Z"
   },
   {
    "duration": 331,
    "start_time": "2022-07-06T15:33:57.302Z"
   },
   {
    "duration": 4,
    "start_time": "2022-07-06T15:33:57.635Z"
   },
   {
    "duration": 6,
    "start_time": "2022-07-06T15:34:50.473Z"
   },
   {
    "duration": 8,
    "start_time": "2022-07-06T15:35:05.138Z"
   },
   {
    "duration": 11,
    "start_time": "2022-07-06T15:35:15.664Z"
   },
   {
    "duration": 5,
    "start_time": "2022-07-06T15:36:33.161Z"
   },
   {
    "duration": 103,
    "start_time": "2022-07-06T15:37:02.080Z"
   },
   {
    "duration": 17,
    "start_time": "2022-07-06T15:37:36.584Z"
   },
   {
    "duration": 10,
    "start_time": "2022-07-06T15:37:54.497Z"
   },
   {
    "duration": 8,
    "start_time": "2022-07-06T15:38:05.971Z"
   },
   {
    "duration": 10,
    "start_time": "2022-07-06T15:43:13.713Z"
   },
   {
    "duration": 13,
    "start_time": "2022-07-06T15:44:50.381Z"
   },
   {
    "duration": 28,
    "start_time": "2022-07-06T15:46:43.653Z"
   },
   {
    "duration": 23,
    "start_time": "2022-07-06T15:47:06.843Z"
   },
   {
    "duration": 24,
    "start_time": "2022-07-06T15:47:18.417Z"
   },
   {
    "duration": 29,
    "start_time": "2022-07-06T15:47:32.243Z"
   },
   {
    "duration": 26,
    "start_time": "2022-07-06T15:47:46.038Z"
   },
   {
    "duration": 20,
    "start_time": "2022-07-06T15:50:34.872Z"
   },
   {
    "duration": 35,
    "start_time": "2022-07-06T15:51:06.048Z"
   },
   {
    "duration": 14,
    "start_time": "2022-07-06T15:52:55.797Z"
   },
   {
    "duration": 1160,
    "start_time": "2022-07-06T15:53:10.823Z"
   },
   {
    "duration": 123,
    "start_time": "2022-07-06T15:53:11.985Z"
   },
   {
    "duration": 9,
    "start_time": "2022-07-06T15:53:12.110Z"
   },
   {
    "duration": 25,
    "start_time": "2022-07-06T15:53:12.121Z"
   },
   {
    "duration": 34,
    "start_time": "2022-07-06T15:53:12.148Z"
   },
   {
    "duration": 21,
    "start_time": "2022-07-06T15:53:12.184Z"
   },
   {
    "duration": 20,
    "start_time": "2022-07-06T15:53:12.207Z"
   },
   {
    "duration": 6,
    "start_time": "2022-07-06T15:53:12.229Z"
   },
   {
    "duration": 7,
    "start_time": "2022-07-06T15:53:12.237Z"
   },
   {
    "duration": 24,
    "start_time": "2022-07-06T15:53:12.246Z"
   },
   {
    "duration": 42,
    "start_time": "2022-07-06T15:53:12.272Z"
   },
   {
    "duration": 11,
    "start_time": "2022-07-06T15:53:12.316Z"
   },
   {
    "duration": 207,
    "start_time": "2022-07-06T15:53:12.328Z"
   },
   {
    "duration": 378,
    "start_time": "2022-07-06T15:53:12.536Z"
   },
   {
    "duration": 17,
    "start_time": "2022-07-06T15:53:12.916Z"
   },
   {
    "duration": 331,
    "start_time": "2022-07-06T15:53:12.935Z"
   },
   {
    "duration": 5,
    "start_time": "2022-07-06T15:53:13.268Z"
   },
   {
    "duration": 1042,
    "start_time": "2022-07-06T15:53:13.274Z"
   },
   {
    "duration": 102,
    "start_time": "2022-07-06T15:53:14.318Z"
   },
   {
    "duration": 16,
    "start_time": "2022-07-06T15:53:14.421Z"
   },
   {
    "duration": 152,
    "start_time": "2022-07-06T15:53:14.439Z"
   },
   {
    "duration": 143,
    "start_time": "2022-07-06T15:53:14.593Z"
   },
   {
    "duration": 132,
    "start_time": "2022-07-06T15:53:14.737Z"
   },
   {
    "duration": 141,
    "start_time": "2022-07-06T15:53:14.871Z"
   },
   {
    "duration": 141,
    "start_time": "2022-07-06T15:53:15.014Z"
   },
   {
    "duration": 128,
    "start_time": "2022-07-06T15:53:15.157Z"
   },
   {
    "duration": 151,
    "start_time": "2022-07-06T15:53:15.286Z"
   },
   {
    "duration": 202,
    "start_time": "2022-07-06T15:53:15.441Z"
   },
   {
    "duration": 327,
    "start_time": "2022-07-06T15:53:15.644Z"
   },
   {
    "duration": 7,
    "start_time": "2022-07-06T15:53:15.972Z"
   },
   {
    "duration": 1367,
    "start_time": "2022-07-06T15:53:15.981Z"
   },
   {
    "duration": 15,
    "start_time": "2022-07-06T15:53:17.350Z"
   },
   {
    "duration": 15,
    "start_time": "2022-07-06T15:53:17.367Z"
   },
   {
    "duration": 31,
    "start_time": "2022-07-06T15:53:17.384Z"
   },
   {
    "duration": 11,
    "start_time": "2022-07-06T15:53:17.417Z"
   },
   {
    "duration": 215,
    "start_time": "2022-07-06T15:53:17.430Z"
   },
   {
    "duration": 225,
    "start_time": "2022-07-06T15:53:17.646Z"
   },
   {
    "duration": 15,
    "start_time": "2022-07-06T15:53:17.873Z"
   },
   {
    "duration": 17,
    "start_time": "2022-07-06T15:53:17.889Z"
   },
   {
    "duration": 116,
    "start_time": "2022-07-06T15:53:17.908Z"
   },
   {
    "duration": 110,
    "start_time": "2022-07-06T15:53:18.026Z"
   },
   {
    "duration": 116,
    "start_time": "2022-07-06T15:53:18.138Z"
   },
   {
    "duration": 15,
    "start_time": "2022-07-06T15:53:18.255Z"
   },
   {
    "duration": 15,
    "start_time": "2022-07-06T15:53:18.272Z"
   },
   {
    "duration": 13,
    "start_time": "2022-07-06T15:53:18.304Z"
   },
   {
    "duration": 62,
    "start_time": "2022-07-06T15:53:18.319Z"
   },
   {
    "duration": 33,
    "start_time": "2022-07-06T15:53:18.383Z"
   },
   {
    "duration": 247,
    "start_time": "2022-07-06T15:53:18.417Z"
   },
   {
    "duration": 130,
    "start_time": "2022-07-06T15:53:18.666Z"
   },
   {
    "duration": 29,
    "start_time": "2022-07-06T15:53:18.798Z"
   },
   {
    "duration": 31,
    "start_time": "2022-07-06T15:53:18.828Z"
   },
   {
    "duration": 10,
    "start_time": "2022-07-06T15:53:18.861Z"
   },
   {
    "duration": 32,
    "start_time": "2022-07-06T15:53:18.873Z"
   },
   {
    "duration": 18,
    "start_time": "2022-07-06T15:53:18.906Z"
   },
   {
    "duration": 13,
    "start_time": "2022-07-06T15:53:18.925Z"
   },
   {
    "duration": 10,
    "start_time": "2022-07-06T15:53:18.940Z"
   },
   {
    "duration": 13,
    "start_time": "2022-07-06T15:53:18.952Z"
   },
   {
    "duration": 7,
    "start_time": "2022-07-06T15:53:18.966Z"
   },
   {
    "duration": 340,
    "start_time": "2022-07-06T15:53:18.975Z"
   },
   {
    "duration": 5,
    "start_time": "2022-07-06T15:53:19.317Z"
   },
   {
    "duration": 16,
    "start_time": "2022-07-06T15:53:19.323Z"
   },
   {
    "duration": 9,
    "start_time": "2022-07-06T15:53:19.341Z"
   },
   {
    "duration": 10,
    "start_time": "2022-07-06T15:53:19.351Z"
   },
   {
    "duration": 341,
    "start_time": "2022-07-06T15:53:19.363Z"
   },
   {
    "duration": 6,
    "start_time": "2022-07-06T15:53:19.707Z"
   },
   {
    "duration": 11,
    "start_time": "2022-07-06T15:53:30.828Z"
   },
   {
    "duration": 19,
    "start_time": "2022-07-06T15:53:37.550Z"
   },
   {
    "duration": 17,
    "start_time": "2022-07-06T15:57:08.649Z"
   },
   {
    "duration": 17,
    "start_time": "2022-07-06T15:57:32.784Z"
   },
   {
    "duration": 33,
    "start_time": "2022-07-06T15:58:25.556Z"
   },
   {
    "duration": 18,
    "start_time": "2022-07-06T15:58:46.036Z"
   },
   {
    "duration": 20,
    "start_time": "2022-07-06T15:59:11.964Z"
   },
   {
    "duration": 36,
    "start_time": "2022-07-06T16:01:43.550Z"
   },
   {
    "duration": 1108,
    "start_time": "2022-07-06T16:12:54.683Z"
   },
   {
    "duration": 117,
    "start_time": "2022-07-06T16:12:55.793Z"
   },
   {
    "duration": 8,
    "start_time": "2022-07-06T16:12:55.911Z"
   },
   {
    "duration": 22,
    "start_time": "2022-07-06T16:12:55.921Z"
   },
   {
    "duration": 16,
    "start_time": "2022-07-06T16:12:55.944Z"
   },
   {
    "duration": 16,
    "start_time": "2022-07-06T16:12:55.961Z"
   },
   {
    "duration": 29,
    "start_time": "2022-07-06T16:12:55.979Z"
   },
   {
    "duration": 5,
    "start_time": "2022-07-06T16:12:56.010Z"
   },
   {
    "duration": 11,
    "start_time": "2022-07-06T16:12:56.017Z"
   },
   {
    "duration": 32,
    "start_time": "2022-07-06T16:12:56.030Z"
   },
   {
    "duration": 31,
    "start_time": "2022-07-06T16:12:56.064Z"
   },
   {
    "duration": 14,
    "start_time": "2022-07-06T16:12:56.103Z"
   },
   {
    "duration": 180,
    "start_time": "2022-07-06T16:12:56.119Z"
   },
   {
    "duration": 365,
    "start_time": "2022-07-06T16:12:56.303Z"
   },
   {
    "duration": 19,
    "start_time": "2022-07-06T16:12:56.669Z"
   },
   {
    "duration": 369,
    "start_time": "2022-07-06T16:12:56.690Z"
   },
   {
    "duration": 4,
    "start_time": "2022-07-06T16:12:57.061Z"
   },
   {
    "duration": 939,
    "start_time": "2022-07-06T16:12:57.066Z"
   },
   {
    "duration": 102,
    "start_time": "2022-07-06T16:12:58.007Z"
   },
   {
    "duration": 15,
    "start_time": "2022-07-06T16:12:58.111Z"
   },
   {
    "duration": 122,
    "start_time": "2022-07-06T16:12:58.128Z"
   },
   {
    "duration": 127,
    "start_time": "2022-07-06T16:12:58.251Z"
   },
   {
    "duration": 141,
    "start_time": "2022-07-06T16:12:58.379Z"
   },
   {
    "duration": 142,
    "start_time": "2022-07-06T16:12:58.522Z"
   },
   {
    "duration": 158,
    "start_time": "2022-07-06T16:12:58.666Z"
   },
   {
    "duration": 120,
    "start_time": "2022-07-06T16:12:58.826Z"
   },
   {
    "duration": 133,
    "start_time": "2022-07-06T16:12:58.949Z"
   },
   {
    "duration": 190,
    "start_time": "2022-07-06T16:12:59.086Z"
   },
   {
    "duration": 318,
    "start_time": "2022-07-06T16:12:59.278Z"
   },
   {
    "duration": 11,
    "start_time": "2022-07-06T16:12:59.598Z"
   },
   {
    "duration": 1336,
    "start_time": "2022-07-06T16:12:59.610Z"
   },
   {
    "duration": 16,
    "start_time": "2022-07-06T16:13:00.948Z"
   },
   {
    "duration": 28,
    "start_time": "2022-07-06T16:13:00.965Z"
   },
   {
    "duration": 44,
    "start_time": "2022-07-06T16:13:00.995Z"
   },
   {
    "duration": 31,
    "start_time": "2022-07-06T16:13:01.041Z"
   },
   {
    "duration": 207,
    "start_time": "2022-07-06T16:13:01.074Z"
   },
   {
    "duration": 223,
    "start_time": "2022-07-06T16:13:01.283Z"
   },
   {
    "duration": 16,
    "start_time": "2022-07-06T16:13:01.508Z"
   },
   {
    "duration": 17,
    "start_time": "2022-07-06T16:13:01.525Z"
   },
   {
    "duration": 120,
    "start_time": "2022-07-06T16:13:01.544Z"
   },
   {
    "duration": 121,
    "start_time": "2022-07-06T16:13:01.666Z"
   },
   {
    "duration": 122,
    "start_time": "2022-07-06T16:13:01.789Z"
   },
   {
    "duration": 16,
    "start_time": "2022-07-06T16:13:01.914Z"
   },
   {
    "duration": 25,
    "start_time": "2022-07-06T16:13:01.932Z"
   },
   {
    "duration": 27,
    "start_time": "2022-07-06T16:13:01.959Z"
   },
   {
    "duration": 27,
    "start_time": "2022-07-06T16:13:01.987Z"
   },
   {
    "duration": 35,
    "start_time": "2022-07-06T16:13:02.016Z"
   },
   {
    "duration": 258,
    "start_time": "2022-07-06T16:13:02.052Z"
   },
   {
    "duration": 140,
    "start_time": "2022-07-06T16:13:02.312Z"
   },
   {
    "duration": 29,
    "start_time": "2022-07-06T16:13:02.454Z"
   },
   {
    "duration": 50,
    "start_time": "2022-07-06T16:13:02.484Z"
   },
   {
    "duration": 34,
    "start_time": "2022-07-06T16:13:02.536Z"
   },
   {
    "duration": 6,
    "start_time": "2022-07-06T16:13:02.572Z"
   },
   {
    "duration": 48,
    "start_time": "2022-07-06T16:13:02.582Z"
   },
   {
    "duration": 22,
    "start_time": "2022-07-06T16:13:02.632Z"
   },
   {
    "duration": 24,
    "start_time": "2022-07-06T16:13:02.655Z"
   },
   {
    "duration": 29,
    "start_time": "2022-07-06T16:13:02.682Z"
   },
   {
    "duration": 18,
    "start_time": "2022-07-06T16:13:02.713Z"
   },
   {
    "duration": 359,
    "start_time": "2022-07-06T16:13:02.733Z"
   },
   {
    "duration": 12,
    "start_time": "2022-07-06T16:13:03.093Z"
   },
   {
    "duration": 21,
    "start_time": "2022-07-06T16:13:03.106Z"
   },
   {
    "duration": 28,
    "start_time": "2022-07-06T16:13:03.128Z"
   },
   {
    "duration": 25,
    "start_time": "2022-07-06T16:13:03.158Z"
   },
   {
    "duration": 347,
    "start_time": "2022-07-06T16:13:03.185Z"
   },
   {
    "duration": 6,
    "start_time": "2022-07-06T16:13:03.534Z"
   },
   {
    "duration": 1465,
    "start_time": "2022-07-06T21:25:41.473Z"
   },
   {
    "duration": 522,
    "start_time": "2022-07-06T21:25:42.941Z"
   },
   {
    "duration": 10,
    "start_time": "2022-07-06T21:25:43.465Z"
   },
   {
    "duration": 25,
    "start_time": "2022-07-06T21:25:43.478Z"
   },
   {
    "duration": 28,
    "start_time": "2022-07-06T21:25:43.505Z"
   },
   {
    "duration": 14,
    "start_time": "2022-07-06T21:25:43.535Z"
   },
   {
    "duration": 24,
    "start_time": "2022-07-06T21:25:43.551Z"
   },
   {
    "duration": 6,
    "start_time": "2022-07-06T21:25:43.577Z"
   },
   {
    "duration": 20,
    "start_time": "2022-07-06T21:25:43.584Z"
   },
   {
    "duration": 23,
    "start_time": "2022-07-06T21:25:43.608Z"
   },
   {
    "duration": 18,
    "start_time": "2022-07-06T21:25:43.634Z"
   },
   {
    "duration": 11,
    "start_time": "2022-07-06T21:25:43.654Z"
   },
   {
    "duration": 180,
    "start_time": "2022-07-06T21:25:43.699Z"
   },
   {
    "duration": 389,
    "start_time": "2022-07-06T21:25:43.880Z"
   },
   {
    "duration": 17,
    "start_time": "2022-07-06T21:25:44.271Z"
   },
   {
    "duration": 357,
    "start_time": "2022-07-06T21:25:44.297Z"
   },
   {
    "duration": 4,
    "start_time": "2022-07-06T21:25:44.656Z"
   },
   {
    "duration": 1251,
    "start_time": "2022-07-06T21:25:44.662Z"
   },
   {
    "duration": 16,
    "start_time": "2022-07-06T21:25:45.915Z"
   },
   {
    "duration": 15,
    "start_time": "2022-07-06T21:25:45.933Z"
   },
   {
    "duration": 144,
    "start_time": "2022-07-06T21:25:45.950Z"
   },
   {
    "duration": 133,
    "start_time": "2022-07-06T21:25:46.095Z"
   },
   {
    "duration": 139,
    "start_time": "2022-07-06T21:25:46.230Z"
   },
   {
    "duration": 146,
    "start_time": "2022-07-06T21:25:46.371Z"
   },
   {
    "duration": 149,
    "start_time": "2022-07-06T21:25:46.518Z"
   },
   {
    "duration": 177,
    "start_time": "2022-07-06T21:25:46.668Z"
   },
   {
    "duration": 182,
    "start_time": "2022-07-06T21:25:46.849Z"
   },
   {
    "duration": 221,
    "start_time": "2022-07-06T21:25:47.035Z"
   },
   {
    "duration": 368,
    "start_time": "2022-07-06T21:25:47.258Z"
   },
   {
    "duration": 8,
    "start_time": "2022-07-06T21:25:47.628Z"
   },
   {
    "duration": 1486,
    "start_time": "2022-07-06T21:25:47.637Z"
   },
   {
    "duration": 17,
    "start_time": "2022-07-06T21:25:49.125Z"
   },
   {
    "duration": 16,
    "start_time": "2022-07-06T21:25:49.143Z"
   },
   {
    "duration": 14,
    "start_time": "2022-07-06T21:25:49.161Z"
   },
   {
    "duration": 14,
    "start_time": "2022-07-06T21:25:49.199Z"
   },
   {
    "duration": 216,
    "start_time": "2022-07-06T21:25:49.215Z"
   },
   {
    "duration": 240,
    "start_time": "2022-07-06T21:25:49.433Z"
   },
   {
    "duration": 24,
    "start_time": "2022-07-06T21:25:49.675Z"
   },
   {
    "duration": 9,
    "start_time": "2022-07-06T21:25:49.701Z"
   },
   {
    "duration": 131,
    "start_time": "2022-07-06T21:25:49.712Z"
   },
   {
    "duration": 122,
    "start_time": "2022-07-06T21:25:49.845Z"
   },
   {
    "duration": 119,
    "start_time": "2022-07-06T21:25:49.970Z"
   },
   {
    "duration": 19,
    "start_time": "2022-07-06T21:25:50.091Z"
   },
   {
    "duration": 14,
    "start_time": "2022-07-06T21:25:50.112Z"
   },
   {
    "duration": 14,
    "start_time": "2022-07-06T21:25:50.128Z"
   },
   {
    "duration": 16,
    "start_time": "2022-07-06T21:25:50.144Z"
   },
   {
    "duration": 54,
    "start_time": "2022-07-06T21:25:50.162Z"
   },
   {
    "duration": 263,
    "start_time": "2022-07-06T21:25:50.218Z"
   },
   {
    "duration": 141,
    "start_time": "2022-07-06T21:25:50.483Z"
   },
   {
    "duration": 28,
    "start_time": "2022-07-06T21:25:50.626Z"
   },
   {
    "duration": 59,
    "start_time": "2022-07-06T21:25:50.655Z"
   },
   {
    "duration": 35,
    "start_time": "2022-07-06T21:25:50.716Z"
   },
   {
    "duration": 5,
    "start_time": "2022-07-06T21:25:50.752Z"
   },
   {
    "duration": 17,
    "start_time": "2022-07-06T21:25:50.758Z"
   },
   {
    "duration": 9,
    "start_time": "2022-07-06T21:25:50.798Z"
   },
   {
    "duration": 9,
    "start_time": "2022-07-06T21:25:50.809Z"
   },
   {
    "duration": 7,
    "start_time": "2022-07-06T21:25:50.820Z"
   },
   {
    "duration": 7,
    "start_time": "2022-07-06T21:25:50.829Z"
   },
   {
    "duration": 377,
    "start_time": "2022-07-06T21:25:50.838Z"
   },
   {
    "duration": 5,
    "start_time": "2022-07-06T21:25:51.217Z"
   },
   {
    "duration": 15,
    "start_time": "2022-07-06T21:25:51.224Z"
   },
   {
    "duration": 15,
    "start_time": "2022-07-06T21:25:51.241Z"
   },
   {
    "duration": 8,
    "start_time": "2022-07-06T21:25:51.258Z"
   },
   {
    "duration": 353,
    "start_time": "2022-07-06T21:25:51.268Z"
   },
   {
    "duration": 5,
    "start_time": "2022-07-06T21:25:51.624Z"
   }
  ],
  "kernelspec": {
   "display_name": "Python 3 (ipykernel)",
   "language": "python",
   "name": "python3"
  },
  "language_info": {
   "codemirror_mode": {
    "name": "ipython",
    "version": 3
   },
   "file_extension": ".py",
   "mimetype": "text/x-python",
   "name": "python",
   "nbconvert_exporter": "python",
   "pygments_lexer": "ipython3",
   "version": "3.9.12"
  },
  "toc": {
   "base_numbering": 1,
   "nav_menu": {},
   "number_sections": true,
   "sideBar": true,
   "skip_h1_title": true,
   "title_cell": "Table of Contents",
   "title_sidebar": "Contents",
   "toc_cell": false,
   "toc_position": {},
   "toc_section_display": true,
   "toc_window_display": false
  }
 },
 "nbformat": 4,
 "nbformat_minor": 2
}
