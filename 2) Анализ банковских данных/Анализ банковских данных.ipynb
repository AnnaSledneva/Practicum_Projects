{
 "cells": [
  {
   "cell_type": "markdown",
   "id": "701ab5a2",
   "metadata": {},
   "source": [
    "<h1>Содержание<span class=\"tocSkip\"></span></h1>\n",
    "<div class=\"toc\">\n",
    "    <ul class=\"toc-item\">\n",
    "        <li>\n",
    "            <span>\n",
    "                <a href=\"#Изучение-данных-из-файла\" data-toc-modified-id=\"Изучение-данных-из-файла-1\">\n",
    "                    <span class=\"toc-item-num\">1&nbsp;&nbsp;</span>\n",
    "                    Изучение данных из файла\n",
    "                </a>\n",
    "            </span>\n",
    "        </li>\n",
    "        <li>\n",
    "            <span>\n",
    "                <a href=\"#Предобработка-данных\" data-toc-modified-id=\"Предобработка-данных-2\">\n",
    "                    <span class=\"toc-item-num\">2&nbsp;&nbsp;</span>\n",
    "                    Предобработка данных\n",
    "                </a>\n",
    "            </span>\n",
    "        </li>\n",
    "        <li>\n",
    "            <span>\n",
    "                <a href=\"#Ответы-на-вопросы\" data-toc-modified-id=\"Ответы-на-вопросы-3\">\n",
    "                    <span class=\"toc-item-num\">3&nbsp;&nbsp;</span>\n",
    "                    Ответы на вопросы\n",
    "                </a>\n",
    "            </span>\n",
    "        </li>\n",
    "         <li>\n",
    "            <span>\n",
    "                <a href=\"#Общий-вывод\" data-toc-modified-id=\"Общий-вывод-4\"><span class=\"toc-item-num\">4&nbsp;&nbsp;</span>\n",
    "                    Общий вывод\n",
    "                </a>\n",
    "            </span>\n",
    "        </li>\n",
    "    </ul>\n",
    "</div>"
   ]
  },
  {
   "cell_type": "markdown",
   "id": "d15a0681",
   "metadata": {},
   "source": [
    "# Исследование надежности заемщиков"
   ]
  },
  {
   "cell_type": "markdown",
   "id": "a1922ece",
   "metadata": {},
   "source": [
    "**Описание проекта**\n",
    "\n",
    "Заказчик — кредитный отдел банка.\n",
    "\n",
    "**Цель исследования**\n",
    "\n",
    "Исследовать, влияет ли семейное положение и количество детей клиента на факт возврата кредита в срок.\n",
    "\n",
    "**Описание данных**  \n",
    "\n",
    "Входные данные от банка — статистика о платёжеспособности клиентов `/datasets/data.csv`:\n",
    "\n",
    "- children — количество детей в семье\n",
    "- days_employed — общий трудовой стаж в днях\n",
    "- dob_years — возраст клиента в годах\n",
    "- education — уровень образования клиента\n",
    "- education_id — идентификатор уровня образования\n",
    "- family_status — семейное положение\n",
    "- family_status_id — идентификатор семейного положения\n",
    "- gender — пол клиента\n",
    "- income_type — тип занятости\n",
    "- debt — имел ли задолженность по возврату кредитов\n",
    "- total_income — ежемесячный доход\n",
    "- purpose — цель получения кредита"
   ]
  },
  {
   "cell_type": "markdown",
   "id": "acbe8b91",
   "metadata": {},
   "source": [
    "## Изучение данных из файла"
   ]
  },
  {
   "cell_type": "markdown",
   "id": "fd98740c",
   "metadata": {},
   "source": [
    "Импортируем `pandas`:"
   ]
  },
  {
   "cell_type": "code",
   "execution_count": 1,
   "id": "402d0403",
   "metadata": {},
   "outputs": [],
   "source": [
    "import pandas as pd"
   ]
  },
  {
   "cell_type": "markdown",
   "id": "22b7626a",
   "metadata": {},
   "source": [
    "Прочитаем файл data.csv из папки /datasets и сохраним его в переменной data:"
   ]
  },
  {
   "cell_type": "code",
   "execution_count": 2,
   "id": "7f549065",
   "metadata": {},
   "outputs": [
    {
     "data": {
      "text/html": [
       "<div>\n",
       "<style scoped>\n",
       "    .dataframe tbody tr th:only-of-type {\n",
       "        vertical-align: middle;\n",
       "    }\n",
       "\n",
       "    .dataframe tbody tr th {\n",
       "        vertical-align: top;\n",
       "    }\n",
       "\n",
       "    .dataframe thead th {\n",
       "        text-align: right;\n",
       "    }\n",
       "</style>\n",
       "<table border=\"1\" class=\"dataframe\">\n",
       "  <thead>\n",
       "    <tr style=\"text-align: right;\">\n",
       "      <th></th>\n",
       "      <th>children</th>\n",
       "      <th>days_employed</th>\n",
       "      <th>dob_years</th>\n",
       "      <th>education</th>\n",
       "      <th>education_id</th>\n",
       "      <th>family_status</th>\n",
       "      <th>family_status_id</th>\n",
       "      <th>gender</th>\n",
       "      <th>income_type</th>\n",
       "      <th>debt</th>\n",
       "      <th>total_income</th>\n",
       "      <th>purpose</th>\n",
       "    </tr>\n",
       "  </thead>\n",
       "  <tbody>\n",
       "    <tr>\n",
       "      <th>0</th>\n",
       "      <td>1</td>\n",
       "      <td>-8437.673028</td>\n",
       "      <td>42</td>\n",
       "      <td>высшее</td>\n",
       "      <td>0</td>\n",
       "      <td>женат / замужем</td>\n",
       "      <td>0</td>\n",
       "      <td>F</td>\n",
       "      <td>сотрудник</td>\n",
       "      <td>0</td>\n",
       "      <td>253875.639453</td>\n",
       "      <td>покупка жилья</td>\n",
       "    </tr>\n",
       "    <tr>\n",
       "      <th>1</th>\n",
       "      <td>1</td>\n",
       "      <td>-4024.803754</td>\n",
       "      <td>36</td>\n",
       "      <td>среднее</td>\n",
       "      <td>1</td>\n",
       "      <td>женат / замужем</td>\n",
       "      <td>0</td>\n",
       "      <td>F</td>\n",
       "      <td>сотрудник</td>\n",
       "      <td>0</td>\n",
       "      <td>112080.014102</td>\n",
       "      <td>приобретение автомобиля</td>\n",
       "    </tr>\n",
       "    <tr>\n",
       "      <th>2</th>\n",
       "      <td>0</td>\n",
       "      <td>-5623.422610</td>\n",
       "      <td>33</td>\n",
       "      <td>Среднее</td>\n",
       "      <td>1</td>\n",
       "      <td>женат / замужем</td>\n",
       "      <td>0</td>\n",
       "      <td>M</td>\n",
       "      <td>сотрудник</td>\n",
       "      <td>0</td>\n",
       "      <td>145885.952297</td>\n",
       "      <td>покупка жилья</td>\n",
       "    </tr>\n",
       "    <tr>\n",
       "      <th>3</th>\n",
       "      <td>3</td>\n",
       "      <td>-4124.747207</td>\n",
       "      <td>32</td>\n",
       "      <td>среднее</td>\n",
       "      <td>1</td>\n",
       "      <td>женат / замужем</td>\n",
       "      <td>0</td>\n",
       "      <td>M</td>\n",
       "      <td>сотрудник</td>\n",
       "      <td>0</td>\n",
       "      <td>267628.550329</td>\n",
       "      <td>дополнительное образование</td>\n",
       "    </tr>\n",
       "    <tr>\n",
       "      <th>4</th>\n",
       "      <td>0</td>\n",
       "      <td>340266.072047</td>\n",
       "      <td>53</td>\n",
       "      <td>среднее</td>\n",
       "      <td>1</td>\n",
       "      <td>гражданский брак</td>\n",
       "      <td>1</td>\n",
       "      <td>F</td>\n",
       "      <td>пенсионер</td>\n",
       "      <td>0</td>\n",
       "      <td>158616.077870</td>\n",
       "      <td>сыграть свадьбу</td>\n",
       "    </tr>\n",
       "    <tr>\n",
       "      <th>5</th>\n",
       "      <td>0</td>\n",
       "      <td>-926.185831</td>\n",
       "      <td>27</td>\n",
       "      <td>высшее</td>\n",
       "      <td>0</td>\n",
       "      <td>гражданский брак</td>\n",
       "      <td>1</td>\n",
       "      <td>M</td>\n",
       "      <td>компаньон</td>\n",
       "      <td>0</td>\n",
       "      <td>255763.565419</td>\n",
       "      <td>покупка жилья</td>\n",
       "    </tr>\n",
       "    <tr>\n",
       "      <th>6</th>\n",
       "      <td>0</td>\n",
       "      <td>-2879.202052</td>\n",
       "      <td>43</td>\n",
       "      <td>высшее</td>\n",
       "      <td>0</td>\n",
       "      <td>женат / замужем</td>\n",
       "      <td>0</td>\n",
       "      <td>F</td>\n",
       "      <td>компаньон</td>\n",
       "      <td>0</td>\n",
       "      <td>240525.971920</td>\n",
       "      <td>операции с жильем</td>\n",
       "    </tr>\n",
       "    <tr>\n",
       "      <th>7</th>\n",
       "      <td>0</td>\n",
       "      <td>-152.779569</td>\n",
       "      <td>50</td>\n",
       "      <td>СРЕДНЕЕ</td>\n",
       "      <td>1</td>\n",
       "      <td>женат / замужем</td>\n",
       "      <td>0</td>\n",
       "      <td>M</td>\n",
       "      <td>сотрудник</td>\n",
       "      <td>0</td>\n",
       "      <td>135823.934197</td>\n",
       "      <td>образование</td>\n",
       "    </tr>\n",
       "    <tr>\n",
       "      <th>8</th>\n",
       "      <td>2</td>\n",
       "      <td>-6929.865299</td>\n",
       "      <td>35</td>\n",
       "      <td>ВЫСШЕЕ</td>\n",
       "      <td>0</td>\n",
       "      <td>гражданский брак</td>\n",
       "      <td>1</td>\n",
       "      <td>F</td>\n",
       "      <td>сотрудник</td>\n",
       "      <td>0</td>\n",
       "      <td>95856.832424</td>\n",
       "      <td>на проведение свадьбы</td>\n",
       "    </tr>\n",
       "    <tr>\n",
       "      <th>9</th>\n",
       "      <td>0</td>\n",
       "      <td>-2188.756445</td>\n",
       "      <td>41</td>\n",
       "      <td>среднее</td>\n",
       "      <td>1</td>\n",
       "      <td>женат / замужем</td>\n",
       "      <td>0</td>\n",
       "      <td>M</td>\n",
       "      <td>сотрудник</td>\n",
       "      <td>0</td>\n",
       "      <td>144425.938277</td>\n",
       "      <td>покупка жилья для семьи</td>\n",
       "    </tr>\n",
       "  </tbody>\n",
       "</table>\n",
       "</div>"
      ],
      "text/plain": [
       "   children  days_employed  dob_years education  education_id  \\\n",
       "0         1   -8437.673028         42    высшее             0   \n",
       "1         1   -4024.803754         36   среднее             1   \n",
       "2         0   -5623.422610         33   Среднее             1   \n",
       "3         3   -4124.747207         32   среднее             1   \n",
       "4         0  340266.072047         53   среднее             1   \n",
       "5         0    -926.185831         27    высшее             0   \n",
       "6         0   -2879.202052         43    высшее             0   \n",
       "7         0    -152.779569         50   СРЕДНЕЕ             1   \n",
       "8         2   -6929.865299         35    ВЫСШЕЕ             0   \n",
       "9         0   -2188.756445         41   среднее             1   \n",
       "\n",
       "      family_status  family_status_id gender income_type  debt   total_income  \\\n",
       "0   женат / замужем                 0      F   сотрудник     0  253875.639453   \n",
       "1   женат / замужем                 0      F   сотрудник     0  112080.014102   \n",
       "2   женат / замужем                 0      M   сотрудник     0  145885.952297   \n",
       "3   женат / замужем                 0      M   сотрудник     0  267628.550329   \n",
       "4  гражданский брак                 1      F   пенсионер     0  158616.077870   \n",
       "5  гражданский брак                 1      M   компаньон     0  255763.565419   \n",
       "6   женат / замужем                 0      F   компаньон     0  240525.971920   \n",
       "7   женат / замужем                 0      M   сотрудник     0  135823.934197   \n",
       "8  гражданский брак                 1      F   сотрудник     0   95856.832424   \n",
       "9   женат / замужем                 0      M   сотрудник     0  144425.938277   \n",
       "\n",
       "                      purpose  \n",
       "0               покупка жилья  \n",
       "1     приобретение автомобиля  \n",
       "2               покупка жилья  \n",
       "3  дополнительное образование  \n",
       "4             сыграть свадьбу  \n",
       "5               покупка жилья  \n",
       "6           операции с жильем  \n",
       "7                 образование  \n",
       "8       на проведение свадьбы  \n",
       "9     покупка жилья для семьи  "
      ]
     },
     "metadata": {},
     "output_type": "display_data"
    },
    {
     "name": "stdout",
     "output_type": "stream",
     "text": [
      "<class 'pandas.core.frame.DataFrame'>\n",
      "RangeIndex: 21525 entries, 0 to 21524\n",
      "Data columns (total 12 columns):\n",
      " #   Column            Non-Null Count  Dtype  \n",
      "---  ------            --------------  -----  \n",
      " 0   children          21525 non-null  int64  \n",
      " 1   days_employed     19351 non-null  float64\n",
      " 2   dob_years         21525 non-null  int64  \n",
      " 3   education         21525 non-null  object \n",
      " 4   education_id      21525 non-null  int64  \n",
      " 5   family_status     21525 non-null  object \n",
      " 6   family_status_id  21525 non-null  int64  \n",
      " 7   gender            21525 non-null  object \n",
      " 8   income_type       21525 non-null  object \n",
      " 9   debt              21525 non-null  int64  \n",
      " 10  total_income      19351 non-null  float64\n",
      " 11  purpose           21525 non-null  object \n",
      "dtypes: float64(2), int64(5), object(5)\n",
      "memory usage: 2.0+ MB\n"
     ]
    }
   ],
   "source": [
    "data = pd.read_csv('/datasets/data.csv')\n",
    "    \n",
    "display(data.head(10))\n",
    "data.info()"
   ]
  },
  {
   "cell_type": "markdown",
   "id": "c7967e08",
   "metadata": {},
   "source": [
    "Изучив общую информацию о данных, были обнаружены пропущенные значения в столбцах days_employed и total_income."
   ]
  },
  {
   "cell_type": "code",
   "execution_count": 3,
   "id": "1b78c3bb",
   "metadata": {},
   "outputs": [
    {
     "data": {
      "text/html": [
       "<style type=\"text/css\">\n",
       "#T_5003a_row0_col0, #T_5003a_row2_col0, #T_5003a_row3_col0, #T_5003a_row4_col0, #T_5003a_row5_col0, #T_5003a_row6_col0, #T_5003a_row7_col0, #T_5003a_row8_col0, #T_5003a_row9_col0, #T_5003a_row11_col0 {\n",
       "  background-color: #3b4cc0;\n",
       "  color: #f1f1f1;\n",
       "}\n",
       "#T_5003a_row1_col0, #T_5003a_row10_col0 {\n",
       "  background-color: #b40426;\n",
       "  color: #f1f1f1;\n",
       "}\n",
       "</style>\n",
       "<table id=\"T_5003a\">\n",
       "  <thead>\n",
       "    <tr>\n",
       "      <th class=\"blank level0\" >&nbsp;</th>\n",
       "      <th id=\"T_5003a_level0_col0\" class=\"col_heading level0 col0\" >NaNs, %</th>\n",
       "    </tr>\n",
       "  </thead>\n",
       "  <tbody>\n",
       "    <tr>\n",
       "      <th id=\"T_5003a_level0_row0\" class=\"row_heading level0 row0\" >children</th>\n",
       "      <td id=\"T_5003a_row0_col0\" class=\"data row0 col0\" >0.00</td>\n",
       "    </tr>\n",
       "    <tr>\n",
       "      <th id=\"T_5003a_level0_row1\" class=\"row_heading level0 row1\" >days_employed</th>\n",
       "      <td id=\"T_5003a_row1_col0\" class=\"data row1 col0\" >10.10</td>\n",
       "    </tr>\n",
       "    <tr>\n",
       "      <th id=\"T_5003a_level0_row2\" class=\"row_heading level0 row2\" >dob_years</th>\n",
       "      <td id=\"T_5003a_row2_col0\" class=\"data row2 col0\" >0.00</td>\n",
       "    </tr>\n",
       "    <tr>\n",
       "      <th id=\"T_5003a_level0_row3\" class=\"row_heading level0 row3\" >education</th>\n",
       "      <td id=\"T_5003a_row3_col0\" class=\"data row3 col0\" >0.00</td>\n",
       "    </tr>\n",
       "    <tr>\n",
       "      <th id=\"T_5003a_level0_row4\" class=\"row_heading level0 row4\" >education_id</th>\n",
       "      <td id=\"T_5003a_row4_col0\" class=\"data row4 col0\" >0.00</td>\n",
       "    </tr>\n",
       "    <tr>\n",
       "      <th id=\"T_5003a_level0_row5\" class=\"row_heading level0 row5\" >family_status</th>\n",
       "      <td id=\"T_5003a_row5_col0\" class=\"data row5 col0\" >0.00</td>\n",
       "    </tr>\n",
       "    <tr>\n",
       "      <th id=\"T_5003a_level0_row6\" class=\"row_heading level0 row6\" >family_status_id</th>\n",
       "      <td id=\"T_5003a_row6_col0\" class=\"data row6 col0\" >0.00</td>\n",
       "    </tr>\n",
       "    <tr>\n",
       "      <th id=\"T_5003a_level0_row7\" class=\"row_heading level0 row7\" >gender</th>\n",
       "      <td id=\"T_5003a_row7_col0\" class=\"data row7 col0\" >0.00</td>\n",
       "    </tr>\n",
       "    <tr>\n",
       "      <th id=\"T_5003a_level0_row8\" class=\"row_heading level0 row8\" >income_type</th>\n",
       "      <td id=\"T_5003a_row8_col0\" class=\"data row8 col0\" >0.00</td>\n",
       "    </tr>\n",
       "    <tr>\n",
       "      <th id=\"T_5003a_level0_row9\" class=\"row_heading level0 row9\" >debt</th>\n",
       "      <td id=\"T_5003a_row9_col0\" class=\"data row9 col0\" >0.00</td>\n",
       "    </tr>\n",
       "    <tr>\n",
       "      <th id=\"T_5003a_level0_row10\" class=\"row_heading level0 row10\" >total_income</th>\n",
       "      <td id=\"T_5003a_row10_col0\" class=\"data row10 col0\" >10.10</td>\n",
       "    </tr>\n",
       "    <tr>\n",
       "      <th id=\"T_5003a_level0_row11\" class=\"row_heading level0 row11\" >purpose</th>\n",
       "      <td id=\"T_5003a_row11_col0\" class=\"data row11 col0\" >0.00</td>\n",
       "    </tr>\n",
       "  </tbody>\n",
       "</table>\n"
      ],
      "text/plain": [
       "<pandas.io.formats.style.Styler at 0x1c126f3ec10>"
      ]
     },
     "metadata": {},
     "output_type": "display_data"
    }
   ],
   "source": [
    "display(pd.DataFrame(round((data.isna().mean()*100),2), columns=['NaNs, %']).style.format(\n",
    "    '{:.2f}').background_gradient('coolwarm'))"
   ]
  },
  {
   "cell_type": "markdown",
   "id": "146a675b",
   "metadata": {},
   "source": [
    "## Предобработка данных"
   ]
  },
  {
   "cell_type": "markdown",
   "id": "65540ec4",
   "metadata": {},
   "source": [
    "**1) Заполнение пропусков**"
   ]
  },
  {
   "cell_type": "code",
   "execution_count": 4,
   "id": "fa401919",
   "metadata": {},
   "outputs": [
    {
     "data": {
      "text/html": [
       "<div>\n",
       "<style scoped>\n",
       "    .dataframe tbody tr th:only-of-type {\n",
       "        vertical-align: middle;\n",
       "    }\n",
       "\n",
       "    .dataframe tbody tr th {\n",
       "        vertical-align: top;\n",
       "    }\n",
       "\n",
       "    .dataframe thead th {\n",
       "        text-align: right;\n",
       "    }\n",
       "</style>\n",
       "<table border=\"1\" class=\"dataframe\">\n",
       "  <thead>\n",
       "    <tr style=\"text-align: right;\">\n",
       "      <th></th>\n",
       "      <th>children</th>\n",
       "      <th>days_employed</th>\n",
       "      <th>dob_years</th>\n",
       "      <th>education</th>\n",
       "      <th>education_id</th>\n",
       "      <th>family_status</th>\n",
       "      <th>family_status_id</th>\n",
       "      <th>gender</th>\n",
       "      <th>income_type</th>\n",
       "      <th>debt</th>\n",
       "      <th>total_income</th>\n",
       "      <th>purpose</th>\n",
       "    </tr>\n",
       "  </thead>\n",
       "  <tbody>\n",
       "    <tr>\n",
       "      <th>12</th>\n",
       "      <td>0</td>\n",
       "      <td>NaN</td>\n",
       "      <td>65</td>\n",
       "      <td>среднее</td>\n",
       "      <td>1</td>\n",
       "      <td>гражданский брак</td>\n",
       "      <td>1</td>\n",
       "      <td>M</td>\n",
       "      <td>пенсионер</td>\n",
       "      <td>0</td>\n",
       "      <td>NaN</td>\n",
       "      <td>сыграть свадьбу</td>\n",
       "    </tr>\n",
       "    <tr>\n",
       "      <th>26</th>\n",
       "      <td>0</td>\n",
       "      <td>NaN</td>\n",
       "      <td>41</td>\n",
       "      <td>среднее</td>\n",
       "      <td>1</td>\n",
       "      <td>женат / замужем</td>\n",
       "      <td>0</td>\n",
       "      <td>M</td>\n",
       "      <td>госслужащий</td>\n",
       "      <td>0</td>\n",
       "      <td>NaN</td>\n",
       "      <td>образование</td>\n",
       "    </tr>\n",
       "    <tr>\n",
       "      <th>29</th>\n",
       "      <td>0</td>\n",
       "      <td>NaN</td>\n",
       "      <td>63</td>\n",
       "      <td>среднее</td>\n",
       "      <td>1</td>\n",
       "      <td>Не женат / не замужем</td>\n",
       "      <td>4</td>\n",
       "      <td>F</td>\n",
       "      <td>пенсионер</td>\n",
       "      <td>0</td>\n",
       "      <td>NaN</td>\n",
       "      <td>строительство жилой недвижимости</td>\n",
       "    </tr>\n",
       "    <tr>\n",
       "      <th>41</th>\n",
       "      <td>0</td>\n",
       "      <td>NaN</td>\n",
       "      <td>50</td>\n",
       "      <td>среднее</td>\n",
       "      <td>1</td>\n",
       "      <td>женат / замужем</td>\n",
       "      <td>0</td>\n",
       "      <td>F</td>\n",
       "      <td>госслужащий</td>\n",
       "      <td>0</td>\n",
       "      <td>NaN</td>\n",
       "      <td>сделка с подержанным автомобилем</td>\n",
       "    </tr>\n",
       "    <tr>\n",
       "      <th>55</th>\n",
       "      <td>0</td>\n",
       "      <td>NaN</td>\n",
       "      <td>54</td>\n",
       "      <td>среднее</td>\n",
       "      <td>1</td>\n",
       "      <td>гражданский брак</td>\n",
       "      <td>1</td>\n",
       "      <td>F</td>\n",
       "      <td>пенсионер</td>\n",
       "      <td>1</td>\n",
       "      <td>NaN</td>\n",
       "      <td>сыграть свадьбу</td>\n",
       "    </tr>\n",
       "    <tr>\n",
       "      <th>...</th>\n",
       "      <td>...</td>\n",
       "      <td>...</td>\n",
       "      <td>...</td>\n",
       "      <td>...</td>\n",
       "      <td>...</td>\n",
       "      <td>...</td>\n",
       "      <td>...</td>\n",
       "      <td>...</td>\n",
       "      <td>...</td>\n",
       "      <td>...</td>\n",
       "      <td>...</td>\n",
       "      <td>...</td>\n",
       "    </tr>\n",
       "    <tr>\n",
       "      <th>21489</th>\n",
       "      <td>2</td>\n",
       "      <td>NaN</td>\n",
       "      <td>47</td>\n",
       "      <td>Среднее</td>\n",
       "      <td>1</td>\n",
       "      <td>женат / замужем</td>\n",
       "      <td>0</td>\n",
       "      <td>M</td>\n",
       "      <td>компаньон</td>\n",
       "      <td>0</td>\n",
       "      <td>NaN</td>\n",
       "      <td>сделка с автомобилем</td>\n",
       "    </tr>\n",
       "    <tr>\n",
       "      <th>21495</th>\n",
       "      <td>1</td>\n",
       "      <td>NaN</td>\n",
       "      <td>50</td>\n",
       "      <td>среднее</td>\n",
       "      <td>1</td>\n",
       "      <td>гражданский брак</td>\n",
       "      <td>1</td>\n",
       "      <td>F</td>\n",
       "      <td>сотрудник</td>\n",
       "      <td>0</td>\n",
       "      <td>NaN</td>\n",
       "      <td>свадьба</td>\n",
       "    </tr>\n",
       "    <tr>\n",
       "      <th>21497</th>\n",
       "      <td>0</td>\n",
       "      <td>NaN</td>\n",
       "      <td>48</td>\n",
       "      <td>ВЫСШЕЕ</td>\n",
       "      <td>0</td>\n",
       "      <td>женат / замужем</td>\n",
       "      <td>0</td>\n",
       "      <td>F</td>\n",
       "      <td>компаньон</td>\n",
       "      <td>0</td>\n",
       "      <td>NaN</td>\n",
       "      <td>строительство недвижимости</td>\n",
       "    </tr>\n",
       "    <tr>\n",
       "      <th>21502</th>\n",
       "      <td>1</td>\n",
       "      <td>NaN</td>\n",
       "      <td>42</td>\n",
       "      <td>среднее</td>\n",
       "      <td>1</td>\n",
       "      <td>женат / замужем</td>\n",
       "      <td>0</td>\n",
       "      <td>F</td>\n",
       "      <td>сотрудник</td>\n",
       "      <td>0</td>\n",
       "      <td>NaN</td>\n",
       "      <td>строительство жилой недвижимости</td>\n",
       "    </tr>\n",
       "    <tr>\n",
       "      <th>21510</th>\n",
       "      <td>2</td>\n",
       "      <td>NaN</td>\n",
       "      <td>28</td>\n",
       "      <td>среднее</td>\n",
       "      <td>1</td>\n",
       "      <td>женат / замужем</td>\n",
       "      <td>0</td>\n",
       "      <td>F</td>\n",
       "      <td>сотрудник</td>\n",
       "      <td>0</td>\n",
       "      <td>NaN</td>\n",
       "      <td>приобретение автомобиля</td>\n",
       "    </tr>\n",
       "  </tbody>\n",
       "</table>\n",
       "<p>2174 rows × 12 columns</p>\n",
       "</div>"
      ],
      "text/plain": [
       "       children  days_employed  dob_years education  education_id  \\\n",
       "12            0            NaN         65   среднее             1   \n",
       "26            0            NaN         41   среднее             1   \n",
       "29            0            NaN         63   среднее             1   \n",
       "41            0            NaN         50   среднее             1   \n",
       "55            0            NaN         54   среднее             1   \n",
       "...         ...            ...        ...       ...           ...   \n",
       "21489         2            NaN         47   Среднее             1   \n",
       "21495         1            NaN         50   среднее             1   \n",
       "21497         0            NaN         48    ВЫСШЕЕ             0   \n",
       "21502         1            NaN         42   среднее             1   \n",
       "21510         2            NaN         28   среднее             1   \n",
       "\n",
       "               family_status  family_status_id gender  income_type  debt  \\\n",
       "12          гражданский брак                 1      M    пенсионер     0   \n",
       "26           женат / замужем                 0      M  госслужащий     0   \n",
       "29     Не женат / не замужем                 4      F    пенсионер     0   \n",
       "41           женат / замужем                 0      F  госслужащий     0   \n",
       "55          гражданский брак                 1      F    пенсионер     1   \n",
       "...                      ...               ...    ...          ...   ...   \n",
       "21489        женат / замужем                 0      M    компаньон     0   \n",
       "21495       гражданский брак                 1      F    сотрудник     0   \n",
       "21497        женат / замужем                 0      F    компаньон     0   \n",
       "21502        женат / замужем                 0      F    сотрудник     0   \n",
       "21510        женат / замужем                 0      F    сотрудник     0   \n",
       "\n",
       "       total_income                           purpose  \n",
       "12              NaN                   сыграть свадьбу  \n",
       "26              NaN                       образование  \n",
       "29              NaN  строительство жилой недвижимости  \n",
       "41              NaN  сделка с подержанным автомобилем  \n",
       "55              NaN                   сыграть свадьбу  \n",
       "...             ...                               ...  \n",
       "21489           NaN              сделка с автомобилем  \n",
       "21495           NaN                           свадьба  \n",
       "21497           NaN        строительство недвижимости  \n",
       "21502           NaN  строительство жилой недвижимости  \n",
       "21510           NaN           приобретение автомобиля  \n",
       "\n",
       "[2174 rows x 12 columns]"
      ]
     },
     "metadata": {},
     "output_type": "display_data"
    },
    {
     "data": {
      "text/plain": [
       "children            0.000000\n",
       "days_employed       0.100999\n",
       "dob_years           0.000000\n",
       "education           0.000000\n",
       "education_id        0.000000\n",
       "family_status       0.000000\n",
       "family_status_id    0.000000\n",
       "gender              0.000000\n",
       "income_type         0.000000\n",
       "debt                0.000000\n",
       "total_income        0.100999\n",
       "purpose             0.000000\n",
       "dtype: float64"
      ]
     },
     "metadata": {},
     "output_type": "display_data"
    },
    {
     "data": {
      "text/html": [
       "<div>\n",
       "<style scoped>\n",
       "    .dataframe tbody tr th:only-of-type {\n",
       "        vertical-align: middle;\n",
       "    }\n",
       "\n",
       "    .dataframe tbody tr th {\n",
       "        vertical-align: top;\n",
       "    }\n",
       "\n",
       "    .dataframe thead th {\n",
       "        text-align: right;\n",
       "    }\n",
       "</style>\n",
       "<table border=\"1\" class=\"dataframe\">\n",
       "  <thead>\n",
       "    <tr style=\"text-align: right;\">\n",
       "      <th></th>\n",
       "      <th>children</th>\n",
       "      <th>days_employed</th>\n",
       "      <th>dob_years</th>\n",
       "      <th>education</th>\n",
       "      <th>education_id</th>\n",
       "      <th>family_status</th>\n",
       "      <th>family_status_id</th>\n",
       "      <th>gender</th>\n",
       "      <th>income_type</th>\n",
       "      <th>debt</th>\n",
       "      <th>total_income</th>\n",
       "      <th>purpose</th>\n",
       "    </tr>\n",
       "  </thead>\n",
       "  <tbody>\n",
       "    <tr>\n",
       "      <th>0</th>\n",
       "      <td>1</td>\n",
       "      <td>-8437.673028</td>\n",
       "      <td>42</td>\n",
       "      <td>высшее</td>\n",
       "      <td>0</td>\n",
       "      <td>женат / замужем</td>\n",
       "      <td>0</td>\n",
       "      <td>F</td>\n",
       "      <td>сотрудник</td>\n",
       "      <td>0</td>\n",
       "      <td>253875.639453</td>\n",
       "      <td>покупка жилья</td>\n",
       "    </tr>\n",
       "    <tr>\n",
       "      <th>1</th>\n",
       "      <td>1</td>\n",
       "      <td>-4024.803754</td>\n",
       "      <td>36</td>\n",
       "      <td>среднее</td>\n",
       "      <td>1</td>\n",
       "      <td>женат / замужем</td>\n",
       "      <td>0</td>\n",
       "      <td>F</td>\n",
       "      <td>сотрудник</td>\n",
       "      <td>0</td>\n",
       "      <td>112080.014102</td>\n",
       "      <td>приобретение автомобиля</td>\n",
       "    </tr>\n",
       "    <tr>\n",
       "      <th>2</th>\n",
       "      <td>0</td>\n",
       "      <td>-5623.422610</td>\n",
       "      <td>33</td>\n",
       "      <td>Среднее</td>\n",
       "      <td>1</td>\n",
       "      <td>женат / замужем</td>\n",
       "      <td>0</td>\n",
       "      <td>M</td>\n",
       "      <td>сотрудник</td>\n",
       "      <td>0</td>\n",
       "      <td>145885.952297</td>\n",
       "      <td>покупка жилья</td>\n",
       "    </tr>\n",
       "    <tr>\n",
       "      <th>3</th>\n",
       "      <td>3</td>\n",
       "      <td>-4124.747207</td>\n",
       "      <td>32</td>\n",
       "      <td>среднее</td>\n",
       "      <td>1</td>\n",
       "      <td>женат / замужем</td>\n",
       "      <td>0</td>\n",
       "      <td>M</td>\n",
       "      <td>сотрудник</td>\n",
       "      <td>0</td>\n",
       "      <td>267628.550329</td>\n",
       "      <td>дополнительное образование</td>\n",
       "    </tr>\n",
       "    <tr>\n",
       "      <th>4</th>\n",
       "      <td>0</td>\n",
       "      <td>340266.072047</td>\n",
       "      <td>53</td>\n",
       "      <td>среднее</td>\n",
       "      <td>1</td>\n",
       "      <td>гражданский брак</td>\n",
       "      <td>1</td>\n",
       "      <td>F</td>\n",
       "      <td>пенсионер</td>\n",
       "      <td>0</td>\n",
       "      <td>158616.077870</td>\n",
       "      <td>сыграть свадьбу</td>\n",
       "    </tr>\n",
       "    <tr>\n",
       "      <th>5</th>\n",
       "      <td>0</td>\n",
       "      <td>-926.185831</td>\n",
       "      <td>27</td>\n",
       "      <td>высшее</td>\n",
       "      <td>0</td>\n",
       "      <td>гражданский брак</td>\n",
       "      <td>1</td>\n",
       "      <td>M</td>\n",
       "      <td>компаньон</td>\n",
       "      <td>0</td>\n",
       "      <td>255763.565419</td>\n",
       "      <td>покупка жилья</td>\n",
       "    </tr>\n",
       "    <tr>\n",
       "      <th>6</th>\n",
       "      <td>0</td>\n",
       "      <td>-2879.202052</td>\n",
       "      <td>43</td>\n",
       "      <td>высшее</td>\n",
       "      <td>0</td>\n",
       "      <td>женат / замужем</td>\n",
       "      <td>0</td>\n",
       "      <td>F</td>\n",
       "      <td>компаньон</td>\n",
       "      <td>0</td>\n",
       "      <td>240525.971920</td>\n",
       "      <td>операции с жильем</td>\n",
       "    </tr>\n",
       "    <tr>\n",
       "      <th>7</th>\n",
       "      <td>0</td>\n",
       "      <td>-152.779569</td>\n",
       "      <td>50</td>\n",
       "      <td>СРЕДНЕЕ</td>\n",
       "      <td>1</td>\n",
       "      <td>женат / замужем</td>\n",
       "      <td>0</td>\n",
       "      <td>M</td>\n",
       "      <td>сотрудник</td>\n",
       "      <td>0</td>\n",
       "      <td>135823.934197</td>\n",
       "      <td>образование</td>\n",
       "    </tr>\n",
       "    <tr>\n",
       "      <th>8</th>\n",
       "      <td>2</td>\n",
       "      <td>-6929.865299</td>\n",
       "      <td>35</td>\n",
       "      <td>ВЫСШЕЕ</td>\n",
       "      <td>0</td>\n",
       "      <td>гражданский брак</td>\n",
       "      <td>1</td>\n",
       "      <td>F</td>\n",
       "      <td>сотрудник</td>\n",
       "      <td>0</td>\n",
       "      <td>95856.832424</td>\n",
       "      <td>на проведение свадьбы</td>\n",
       "    </tr>\n",
       "    <tr>\n",
       "      <th>9</th>\n",
       "      <td>0</td>\n",
       "      <td>-2188.756445</td>\n",
       "      <td>41</td>\n",
       "      <td>среднее</td>\n",
       "      <td>1</td>\n",
       "      <td>женат / замужем</td>\n",
       "      <td>0</td>\n",
       "      <td>M</td>\n",
       "      <td>сотрудник</td>\n",
       "      <td>0</td>\n",
       "      <td>144425.938277</td>\n",
       "      <td>покупка жилья для семьи</td>\n",
       "    </tr>\n",
       "  </tbody>\n",
       "</table>\n",
       "</div>"
      ],
      "text/plain": [
       "   children  days_employed  dob_years education  education_id  \\\n",
       "0         1   -8437.673028         42    высшее             0   \n",
       "1         1   -4024.803754         36   среднее             1   \n",
       "2         0   -5623.422610         33   Среднее             1   \n",
       "3         3   -4124.747207         32   среднее             1   \n",
       "4         0  340266.072047         53   среднее             1   \n",
       "5         0    -926.185831         27    высшее             0   \n",
       "6         0   -2879.202052         43    высшее             0   \n",
       "7         0    -152.779569         50   СРЕДНЕЕ             1   \n",
       "8         2   -6929.865299         35    ВЫСШЕЕ             0   \n",
       "9         0   -2188.756445         41   среднее             1   \n",
       "\n",
       "      family_status  family_status_id gender income_type  debt   total_income  \\\n",
       "0   женат / замужем                 0      F   сотрудник     0  253875.639453   \n",
       "1   женат / замужем                 0      F   сотрудник     0  112080.014102   \n",
       "2   женат / замужем                 0      M   сотрудник     0  145885.952297   \n",
       "3   женат / замужем                 0      M   сотрудник     0  267628.550329   \n",
       "4  гражданский брак                 1      F   пенсионер     0  158616.077870   \n",
       "5  гражданский брак                 1      M   компаньон     0  255763.565419   \n",
       "6   женат / замужем                 0      F   компаньон     0  240525.971920   \n",
       "7   женат / замужем                 0      M   сотрудник     0  135823.934197   \n",
       "8  гражданский брак                 1      F   сотрудник     0   95856.832424   \n",
       "9   женат / замужем                 0      M   сотрудник     0  144425.938277   \n",
       "\n",
       "                      purpose  \n",
       "0               покупка жилья  \n",
       "1     приобретение автомобиля  \n",
       "2               покупка жилья  \n",
       "3  дополнительное образование  \n",
       "4             сыграть свадьбу  \n",
       "5               покупка жилья  \n",
       "6           операции с жильем  \n",
       "7                 образование  \n",
       "8       на проведение свадьбы  \n",
       "9     покупка жилья для семьи  "
      ]
     },
     "execution_count": 4,
     "metadata": {},
     "output_type": "execute_result"
    }
   ],
   "source": [
    "display(data[data['total_income'].isna()])\n",
    "\n",
    "display(data.isna().sum()  / data.shape[0])\n",
    "\n",
    "data_income_type = data['income_type'].unique()\n",
    "for item in data_income_type:\n",
    "    median = data.loc[data['income_type'] == item,'total_income'].median()\n",
    "    data.loc[data['income_type'] == item,'total_income'] = data.loc[data['income_type'] == item,'total_income'].fillna(median)\n",
    "\n",
    "data.head(10)"
   ]
  },
  {
   "cell_type": "markdown",
   "id": "425517df",
   "metadata": {},
   "source": [
    "Вывод:  \n",
    "\n",
    "Были найдены пропущенные значения (NaN) в столбце total_income.\n",
    "\n",
    "Вывод на экран строк таблицы с пропущенными значениями в столбце total_income с использованием метода isna().\n",
    "\n",
    "Далее с помощью метода median() посчитали медианное значение по столбцу total_income и заменили этим значением пропуски NaN учетом категории income_type, используя метод fillna().\n",
    "\n",
    "Определили, какую долю составляют пропущенные значения в каждом из столбцов с пропусками.\n",
    "Возможные причины появления пропусков в данных: человек мог не указать свой доход или его могли случайно пропустить при заполнении таблицы. \n",
    "Заполнить пропуски медианным значением — лучшее решение для количественных переменных, потому что среднее значение некорректно характеризует данные, когда некоторые значения сильно выделяются среди большинства."
   ]
  },
  {
   "cell_type": "markdown",
   "id": "c38c9fa9",
   "metadata": {},
   "source": [
    "**2) Проверка данных на аномалии и исправления**"
   ]
  },
  {
   "cell_type": "code",
   "execution_count": 5,
   "id": "de2e67a4",
   "metadata": {},
   "outputs": [
    {
     "data": {
      "text/plain": [
       "0    14149\n",
       "1     4865\n",
       "2     2131\n",
       "3      330\n",
       "4       41\n",
       "5        9\n",
       "Name: children, dtype: int64"
      ]
     },
     "metadata": {},
     "output_type": "display_data"
    },
    {
     "data": {
      "text/html": [
       "<div>\n",
       "<style scoped>\n",
       "    .dataframe tbody tr th:only-of-type {\n",
       "        vertical-align: middle;\n",
       "    }\n",
       "\n",
       "    .dataframe tbody tr th {\n",
       "        vertical-align: top;\n",
       "    }\n",
       "\n",
       "    .dataframe thead th {\n",
       "        text-align: right;\n",
       "    }\n",
       "</style>\n",
       "<table border=\"1\" class=\"dataframe\">\n",
       "  <thead>\n",
       "    <tr style=\"text-align: right;\">\n",
       "      <th></th>\n",
       "      <th>children</th>\n",
       "      <th>days_employed</th>\n",
       "      <th>dob_years</th>\n",
       "      <th>education</th>\n",
       "      <th>education_id</th>\n",
       "      <th>family_status</th>\n",
       "      <th>family_status_id</th>\n",
       "      <th>gender</th>\n",
       "      <th>income_type</th>\n",
       "      <th>debt</th>\n",
       "      <th>total_income</th>\n",
       "      <th>purpose</th>\n",
       "    </tr>\n",
       "  </thead>\n",
       "  <tbody>\n",
       "    <tr>\n",
       "      <th>0</th>\n",
       "      <td>1</td>\n",
       "      <td>8437.673028</td>\n",
       "      <td>42</td>\n",
       "      <td>высшее</td>\n",
       "      <td>0</td>\n",
       "      <td>женат / замужем</td>\n",
       "      <td>0</td>\n",
       "      <td>F</td>\n",
       "      <td>сотрудник</td>\n",
       "      <td>0</td>\n",
       "      <td>253875.639453</td>\n",
       "      <td>покупка жилья</td>\n",
       "    </tr>\n",
       "    <tr>\n",
       "      <th>1</th>\n",
       "      <td>1</td>\n",
       "      <td>4024.803754</td>\n",
       "      <td>36</td>\n",
       "      <td>среднее</td>\n",
       "      <td>1</td>\n",
       "      <td>женат / замужем</td>\n",
       "      <td>0</td>\n",
       "      <td>F</td>\n",
       "      <td>сотрудник</td>\n",
       "      <td>0</td>\n",
       "      <td>112080.014102</td>\n",
       "      <td>приобретение автомобиля</td>\n",
       "    </tr>\n",
       "    <tr>\n",
       "      <th>2</th>\n",
       "      <td>0</td>\n",
       "      <td>5623.422610</td>\n",
       "      <td>33</td>\n",
       "      <td>Среднее</td>\n",
       "      <td>1</td>\n",
       "      <td>женат / замужем</td>\n",
       "      <td>0</td>\n",
       "      <td>M</td>\n",
       "      <td>сотрудник</td>\n",
       "      <td>0</td>\n",
       "      <td>145885.952297</td>\n",
       "      <td>покупка жилья</td>\n",
       "    </tr>\n",
       "    <tr>\n",
       "      <th>3</th>\n",
       "      <td>3</td>\n",
       "      <td>4124.747207</td>\n",
       "      <td>32</td>\n",
       "      <td>среднее</td>\n",
       "      <td>1</td>\n",
       "      <td>женат / замужем</td>\n",
       "      <td>0</td>\n",
       "      <td>M</td>\n",
       "      <td>сотрудник</td>\n",
       "      <td>0</td>\n",
       "      <td>267628.550329</td>\n",
       "      <td>дополнительное образование</td>\n",
       "    </tr>\n",
       "    <tr>\n",
       "      <th>4</th>\n",
       "      <td>0</td>\n",
       "      <td>340266.072047</td>\n",
       "      <td>53</td>\n",
       "      <td>среднее</td>\n",
       "      <td>1</td>\n",
       "      <td>гражданский брак</td>\n",
       "      <td>1</td>\n",
       "      <td>F</td>\n",
       "      <td>пенсионер</td>\n",
       "      <td>0</td>\n",
       "      <td>158616.077870</td>\n",
       "      <td>сыграть свадьбу</td>\n",
       "    </tr>\n",
       "    <tr>\n",
       "      <th>5</th>\n",
       "      <td>0</td>\n",
       "      <td>926.185831</td>\n",
       "      <td>27</td>\n",
       "      <td>высшее</td>\n",
       "      <td>0</td>\n",
       "      <td>гражданский брак</td>\n",
       "      <td>1</td>\n",
       "      <td>M</td>\n",
       "      <td>компаньон</td>\n",
       "      <td>0</td>\n",
       "      <td>255763.565419</td>\n",
       "      <td>покупка жилья</td>\n",
       "    </tr>\n",
       "    <tr>\n",
       "      <th>6</th>\n",
       "      <td>0</td>\n",
       "      <td>2879.202052</td>\n",
       "      <td>43</td>\n",
       "      <td>высшее</td>\n",
       "      <td>0</td>\n",
       "      <td>женат / замужем</td>\n",
       "      <td>0</td>\n",
       "      <td>F</td>\n",
       "      <td>компаньон</td>\n",
       "      <td>0</td>\n",
       "      <td>240525.971920</td>\n",
       "      <td>операции с жильем</td>\n",
       "    </tr>\n",
       "    <tr>\n",
       "      <th>7</th>\n",
       "      <td>0</td>\n",
       "      <td>152.779569</td>\n",
       "      <td>50</td>\n",
       "      <td>СРЕДНЕЕ</td>\n",
       "      <td>1</td>\n",
       "      <td>женат / замужем</td>\n",
       "      <td>0</td>\n",
       "      <td>M</td>\n",
       "      <td>сотрудник</td>\n",
       "      <td>0</td>\n",
       "      <td>135823.934197</td>\n",
       "      <td>образование</td>\n",
       "    </tr>\n",
       "    <tr>\n",
       "      <th>8</th>\n",
       "      <td>2</td>\n",
       "      <td>6929.865299</td>\n",
       "      <td>35</td>\n",
       "      <td>ВЫСШЕЕ</td>\n",
       "      <td>0</td>\n",
       "      <td>гражданский брак</td>\n",
       "      <td>1</td>\n",
       "      <td>F</td>\n",
       "      <td>сотрудник</td>\n",
       "      <td>0</td>\n",
       "      <td>95856.832424</td>\n",
       "      <td>на проведение свадьбы</td>\n",
       "    </tr>\n",
       "    <tr>\n",
       "      <th>9</th>\n",
       "      <td>0</td>\n",
       "      <td>2188.756445</td>\n",
       "      <td>41</td>\n",
       "      <td>среднее</td>\n",
       "      <td>1</td>\n",
       "      <td>женат / замужем</td>\n",
       "      <td>0</td>\n",
       "      <td>M</td>\n",
       "      <td>сотрудник</td>\n",
       "      <td>0</td>\n",
       "      <td>144425.938277</td>\n",
       "      <td>покупка жилья для семьи</td>\n",
       "    </tr>\n",
       "  </tbody>\n",
       "</table>\n",
       "</div>"
      ],
      "text/plain": [
       "   children  days_employed  dob_years education  education_id  \\\n",
       "0         1    8437.673028         42    высшее             0   \n",
       "1         1    4024.803754         36   среднее             1   \n",
       "2         0    5623.422610         33   Среднее             1   \n",
       "3         3    4124.747207         32   среднее             1   \n",
       "4         0  340266.072047         53   среднее             1   \n",
       "5         0     926.185831         27    высшее             0   \n",
       "6         0    2879.202052         43    высшее             0   \n",
       "7         0     152.779569         50   СРЕДНЕЕ             1   \n",
       "8         2    6929.865299         35    ВЫСШЕЕ             0   \n",
       "9         0    2188.756445         41   среднее             1   \n",
       "\n",
       "      family_status  family_status_id gender income_type  debt   total_income  \\\n",
       "0   женат / замужем                 0      F   сотрудник     0  253875.639453   \n",
       "1   женат / замужем                 0      F   сотрудник     0  112080.014102   \n",
       "2   женат / замужем                 0      M   сотрудник     0  145885.952297   \n",
       "3   женат / замужем                 0      M   сотрудник     0  267628.550329   \n",
       "4  гражданский брак                 1      F   пенсионер     0  158616.077870   \n",
       "5  гражданский брак                 1      M   компаньон     0  255763.565419   \n",
       "6   женат / замужем                 0      F   компаньон     0  240525.971920   \n",
       "7   женат / замужем                 0      M   сотрудник     0  135823.934197   \n",
       "8  гражданский брак                 1      F   сотрудник     0   95856.832424   \n",
       "9   женат / замужем                 0      M   сотрудник     0  144425.938277   \n",
       "\n",
       "                      purpose  \n",
       "0               покупка жилья  \n",
       "1     приобретение автомобиля  \n",
       "2               покупка жилья  \n",
       "3  дополнительное образование  \n",
       "4             сыграть свадьбу  \n",
       "5               покупка жилья  \n",
       "6           операции с жильем  \n",
       "7                 образование  \n",
       "8       на проведение свадьбы  \n",
       "9     покупка жилья для семьи  "
      ]
     },
     "metadata": {},
     "output_type": "display_data"
    },
    {
     "data": {
      "text/plain": [
       "женат / замужем          12380\n",
       "гражданский брак          4177\n",
       "Не женат / не замужем     2813\n",
       "в разводе                 1195\n",
       "вдовец / вдова             960\n",
       "Name: family_status, dtype: int64"
      ]
     },
     "metadata": {},
     "output_type": "display_data"
    },
    {
     "data": {
      "text/plain": [
       "сотрудник          11119\n",
       "компаньон           5085\n",
       "пенсионер           3856\n",
       "госслужащий         1459\n",
       "безработный            2\n",
       "предприниматель        2\n",
       "студент                1\n",
       "в декрете              1\n",
       "Name: income_type, dtype: int64"
      ]
     },
     "metadata": {},
     "output_type": "display_data"
    },
    {
     "data": {
      "text/plain": [
       "свадьба                                   797\n",
       "на проведение свадьбы                     777\n",
       "сыграть свадьбу                           774\n",
       "операции с недвижимостью                  676\n",
       "покупка коммерческой недвижимости         664\n",
       "покупка жилья для сдачи                   653\n",
       "операции с жильем                         653\n",
       "операции с коммерческой недвижимостью     651\n",
       "покупка жилья                             647\n",
       "жилье                                     647\n",
       "покупка жилья для семьи                   641\n",
       "строительство собственной недвижимости    635\n",
       "недвижимость                              634\n",
       "операции со своей недвижимостью           630\n",
       "строительство жилой недвижимости          626\n",
       "покупка недвижимости                      624\n",
       "строительство недвижимости                620\n",
       "покупка своего жилья                      620\n",
       "ремонт жилью                              612\n",
       "покупка жилой недвижимости                607\n",
       "на покупку своего автомобиля              505\n",
       "заняться высшим образованием              496\n",
       "автомобиль                                495\n",
       "сделка с подержанным автомобилем          489\n",
       "свой автомобиль                           480\n",
       "на покупку подержанного автомобиля        479\n",
       "автомобили                                478\n",
       "на покупку автомобиля                     472\n",
       "дополнительное образование                462\n",
       "приобретение автомобиля                   462\n",
       "сделка с автомобилем                      455\n",
       "высшее образование                        453\n",
       "образование                               447\n",
       "получение дополнительного образования     447\n",
       "получение образования                     443\n",
       "профильное образование                    436\n",
       "получение высшего образования             426\n",
       "заняться образованием                     412\n",
       "Name: purpose, dtype: int64"
      ]
     },
     "metadata": {},
     "output_type": "display_data"
    },
    {
     "data": {
      "text/plain": [
       "0    19784\n",
       "1     1741\n",
       "Name: debt, dtype: int64"
      ]
     },
     "metadata": {},
     "output_type": "display_data"
    },
    {
     "data": {
      "text/plain": [
       "1615.910188      69\n",
       "1728.936706      67\n",
       "1308.901135      66\n",
       "1613.494818      65\n",
       "2253.981630      65\n",
       "                 ..\n",
       "209.984794        1\n",
       "398099.392433     1\n",
       "1271.038880       1\n",
       "1623.362064       1\n",
       "1984.507589       1\n",
       "Name: days_employed, Length: 19379, dtype: int64"
      ]
     },
     "metadata": {},
     "output_type": "display_data"
    },
    {
     "data": {
      "text/plain": [
       "F      14236\n",
       "M       7288\n",
       "XNA        1\n",
       "Name: gender, dtype: int64"
      ]
     },
     "metadata": {},
     "output_type": "display_data"
    },
    {
     "data": {
      "text/html": [
       "<div>\n",
       "<style scoped>\n",
       "    .dataframe tbody tr th:only-of-type {\n",
       "        vertical-align: middle;\n",
       "    }\n",
       "\n",
       "    .dataframe tbody tr th {\n",
       "        vertical-align: top;\n",
       "    }\n",
       "\n",
       "    .dataframe thead th {\n",
       "        text-align: right;\n",
       "    }\n",
       "</style>\n",
       "<table border=\"1\" class=\"dataframe\">\n",
       "  <thead>\n",
       "    <tr style=\"text-align: right;\">\n",
       "      <th></th>\n",
       "      <th>children</th>\n",
       "      <th>days_employed</th>\n",
       "      <th>dob_years</th>\n",
       "      <th>education</th>\n",
       "      <th>education_id</th>\n",
       "      <th>family_status</th>\n",
       "      <th>family_status_id</th>\n",
       "      <th>gender</th>\n",
       "      <th>income_type</th>\n",
       "      <th>debt</th>\n",
       "      <th>total_income</th>\n",
       "      <th>purpose</th>\n",
       "    </tr>\n",
       "  </thead>\n",
       "  <tbody>\n",
       "    <tr>\n",
       "      <th>10701</th>\n",
       "      <td>0</td>\n",
       "      <td>2358.600502</td>\n",
       "      <td>24</td>\n",
       "      <td>неоконченное высшее</td>\n",
       "      <td>2</td>\n",
       "      <td>гражданский брак</td>\n",
       "      <td>1</td>\n",
       "      <td>XNA</td>\n",
       "      <td>компаньон</td>\n",
       "      <td>0</td>\n",
       "      <td>203905.157261</td>\n",
       "      <td>покупка недвижимости</td>\n",
       "    </tr>\n",
       "  </tbody>\n",
       "</table>\n",
       "</div>"
      ],
      "text/plain": [
       "       children  days_employed  dob_years            education  education_id  \\\n",
       "10701         0    2358.600502         24  неоконченное высшее             2   \n",
       "\n",
       "          family_status  family_status_id gender income_type  debt  \\\n",
       "10701  гражданский брак                 1    XNA   компаньон     0   \n",
       "\n",
       "        total_income               purpose  \n",
       "10701  203905.157261  покупка недвижимости  "
      ]
     },
     "metadata": {},
     "output_type": "display_data"
    },
    {
     "data": {
      "text/plain": [
       "F    14236\n",
       "M     7288\n",
       "Name: gender, dtype: int64"
      ]
     },
     "metadata": {},
     "output_type": "display_data"
    },
    {
     "data": {
      "text/plain": [
       "35    617\n",
       "40    609\n",
       "41    607\n",
       "34    603\n",
       "38    598\n",
       "42    597\n",
       "33    581\n",
       "39    573\n",
       "31    560\n",
       "36    555\n",
       "44    547\n",
       "29    545\n",
       "30    540\n",
       "48    538\n",
       "37    537\n",
       "50    514\n",
       "43    513\n",
       "32    510\n",
       "49    508\n",
       "28    503\n",
       "45    497\n",
       "27    493\n",
       "56    487\n",
       "52    484\n",
       "47    480\n",
       "54    479\n",
       "46    475\n",
       "58    461\n",
       "57    460\n",
       "53    459\n",
       "51    448\n",
       "59    444\n",
       "55    443\n",
       "26    408\n",
       "60    377\n",
       "25    357\n",
       "61    355\n",
       "62    352\n",
       "63    269\n",
       "64    265\n",
       "24    263\n",
       "23    254\n",
       "65    194\n",
       "22    183\n",
       "66    183\n",
       "67    167\n",
       "21    111\n",
       "0     101\n",
       "68     99\n",
       "69     85\n",
       "70     65\n",
       "71     58\n",
       "20     51\n",
       "72     33\n",
       "19     14\n",
       "73      8\n",
       "74      6\n",
       "75      1\n",
       "Name: dob_years, dtype: int64"
      ]
     },
     "execution_count": 5,
     "metadata": {},
     "output_type": "execute_result"
    }
   ],
   "source": [
    "data['days_employed'] = data['days_employed'].abs()\n",
    "\n",
    "data['children'] = data['children'].abs()\n",
    "data.loc[data['children'] == 20, 'children'] = 2\n",
    "display(data['children'].value_counts())\n",
    "\n",
    "data_dob_years = data['dob_years'].unique()\n",
    "for item in data_dob_years:\n",
    "    median = data.loc[data['dob_years'] == item,'days_employed'].median()\n",
    "    data.loc[data['dob_years'] == item,'days_employed'] = data.loc[data['dob_years'] == item,'days_employed'].fillna(median)\n",
    "\n",
    "\n",
    "display(data.head(10))\n",
    "\n",
    "display(data['family_status'].value_counts())\n",
    "display(data['income_type'].value_counts())\n",
    "display(data['purpose'].value_counts())\n",
    "display(data['debt'].value_counts())\n",
    "display(data['days_employed'].value_counts())\n",
    "display(data['gender'].value_counts())\n",
    "\n",
    "rows = data['gender'] == 'XNA'\n",
    "display(data.loc[rows])\n",
    "data = data[data['gender'] != 'XNA']\n",
    "\n",
    "display(data['gender'].value_counts())\n",
    "\n",
    "data['dob_years'].value_counts()"
   ]
  },
  {
   "cell_type": "markdown",
   "id": "af53fa76",
   "metadata": {},
   "source": [
    "Вывод:  \n",
    "\n",
    "В данных встретились аномалии: отрицательный стаж в столбце days_employed. Заменили его на положительный с помощью модуля. Пропущенные значения заполнили медианным значением по этому столбцу.\n",
    "\n",
    "В столбце children тоже обнаружено отрицательное количество детей. Также заменили его на положительное модулем. В этом же столбце обнаружено количество детей 20, что мало вероятно, поэтому заменили его на 2.\n",
    "\n",
    "Были удалены строки-дубликаты методом drop_duplicates.\n",
    "\n",
    "Были проверены остальные столбцы на наличие дубликатов. В столбце gender обнаружена аномалия - значение XNA, удаляем всю строчку."
   ]
  },
  {
   "cell_type": "markdown",
   "id": "837bd733",
   "metadata": {},
   "source": [
    "У меня проверен столбец с возрастом dob_years, пустые значения там заменены медианным. Добавила ячейку ниже еще раз с этой проверкой."
   ]
  },
  {
   "cell_type": "markdown",
   "id": "715f5158",
   "metadata": {},
   "source": [
    "**3) Изменение типов данных**"
   ]
  },
  {
   "cell_type": "code",
   "execution_count": 6,
   "id": "0022e8b7",
   "metadata": {},
   "outputs": [
    {
     "name": "stdout",
     "output_type": "stream",
     "text": [
      "<class 'pandas.core.frame.DataFrame'>\n",
      "Int64Index: 21524 entries, 0 to 21524\n",
      "Data columns (total 12 columns):\n",
      " #   Column            Non-Null Count  Dtype \n",
      "---  ------            --------------  ----- \n",
      " 0   children          21524 non-null  int64 \n",
      " 1   days_employed     21524 non-null  int32 \n",
      " 2   dob_years         21524 non-null  int64 \n",
      " 3   education         21524 non-null  object\n",
      " 4   education_id      21524 non-null  int64 \n",
      " 5   family_status     21524 non-null  object\n",
      " 6   family_status_id  21524 non-null  int64 \n",
      " 7   gender            21524 non-null  object\n",
      " 8   income_type       21524 non-null  object\n",
      " 9   debt              21524 non-null  int64 \n",
      " 10  total_income      21524 non-null  int32 \n",
      " 11  purpose           21524 non-null  object\n",
      "dtypes: int32(2), int64(5), object(5)\n",
      "memory usage: 2.0+ MB\n"
     ]
    }
   ],
   "source": [
    "data['total_income'] = data['total_income'].astype('int')\n",
    "data['days_employed'] = data['days_employed'].astype('int')\n",
    "data.info()"
   ]
  },
  {
   "cell_type": "markdown",
   "id": "4f1b54c7",
   "metadata": {},
   "source": [
    "Вывод:\n",
    "\n",
    "Заменили вещественный тип данных (float64) в столбце total_income и days_employed на целочисленный (int64) с помощью метода astype."
   ]
  },
  {
   "cell_type": "markdown",
   "id": "83b6f151",
   "metadata": {},
   "source": [
    "**4) Удаление дубликатов**"
   ]
  },
  {
   "cell_type": "code",
   "execution_count": 7,
   "id": "a5dfba20",
   "metadata": {
    "scrolled": true
   },
   "outputs": [
    {
     "name": "stdout",
     "output_type": "stream",
     "text": [
      "<class 'pandas.core.frame.DataFrame'>\n",
      "Int64Index: 21470 entries, 0 to 21524\n",
      "Data columns (total 12 columns):\n",
      " #   Column            Non-Null Count  Dtype \n",
      "---  ------            --------------  ----- \n",
      " 0   children          21470 non-null  int64 \n",
      " 1   days_employed     21470 non-null  int32 \n",
      " 2   dob_years         21470 non-null  int64 \n",
      " 3   education         21470 non-null  object\n",
      " 4   education_id      21470 non-null  int64 \n",
      " 5   family_status     21470 non-null  object\n",
      " 6   family_status_id  21470 non-null  int64 \n",
      " 7   gender            21470 non-null  object\n",
      " 8   income_type       21470 non-null  object\n",
      " 9   debt              21470 non-null  int64 \n",
      " 10  total_income      21470 non-null  int32 \n",
      " 11  purpose           21470 non-null  object\n",
      "dtypes: int32(2), int64(5), object(5)\n",
      "memory usage: 2.0+ MB\n",
      "среднее                13705\n",
      "высшее                  4710\n",
      "СРЕДНЕЕ                  772\n",
      "Среднее                  711\n",
      "неоконченное высшее      667\n",
      "ВЫСШЕЕ                   273\n",
      "Высшее                   268\n",
      "начальное                250\n",
      "Неоконченное высшее       47\n",
      "НЕОКОНЧЕННОЕ ВЫСШЕЕ       29\n",
      "НАЧАЛЬНОЕ                 17\n",
      "Начальное                 15\n",
      "ученая степень             4\n",
      "Ученая степень             1\n",
      "УЧЕНАЯ СТЕПЕНЬ             1\n",
      "Name: education, dtype: int64\n"
     ]
    },
    {
     "data": {
      "text/html": [
       "<div>\n",
       "<style scoped>\n",
       "    .dataframe tbody tr th:only-of-type {\n",
       "        vertical-align: middle;\n",
       "    }\n",
       "\n",
       "    .dataframe tbody tr th {\n",
       "        vertical-align: top;\n",
       "    }\n",
       "\n",
       "    .dataframe thead th {\n",
       "        text-align: right;\n",
       "    }\n",
       "</style>\n",
       "<table border=\"1\" class=\"dataframe\">\n",
       "  <thead>\n",
       "    <tr style=\"text-align: right;\">\n",
       "      <th></th>\n",
       "      <th>children</th>\n",
       "      <th>days_employed</th>\n",
       "      <th>dob_years</th>\n",
       "      <th>education</th>\n",
       "      <th>education_id</th>\n",
       "      <th>family_status</th>\n",
       "      <th>family_status_id</th>\n",
       "      <th>gender</th>\n",
       "      <th>income_type</th>\n",
       "      <th>debt</th>\n",
       "      <th>total_income</th>\n",
       "      <th>purpose</th>\n",
       "    </tr>\n",
       "  </thead>\n",
       "  <tbody>\n",
       "    <tr>\n",
       "      <th>0</th>\n",
       "      <td>1</td>\n",
       "      <td>8437</td>\n",
       "      <td>42</td>\n",
       "      <td>высшее</td>\n",
       "      <td>0</td>\n",
       "      <td>женат / замужем</td>\n",
       "      <td>0</td>\n",
       "      <td>F</td>\n",
       "      <td>сотрудник</td>\n",
       "      <td>0</td>\n",
       "      <td>253875</td>\n",
       "      <td>покупка жилья</td>\n",
       "    </tr>\n",
       "    <tr>\n",
       "      <th>1</th>\n",
       "      <td>1</td>\n",
       "      <td>4024</td>\n",
       "      <td>36</td>\n",
       "      <td>среднее</td>\n",
       "      <td>1</td>\n",
       "      <td>женат / замужем</td>\n",
       "      <td>0</td>\n",
       "      <td>F</td>\n",
       "      <td>сотрудник</td>\n",
       "      <td>0</td>\n",
       "      <td>112080</td>\n",
       "      <td>приобретение автомобиля</td>\n",
       "    </tr>\n",
       "    <tr>\n",
       "      <th>2</th>\n",
       "      <td>0</td>\n",
       "      <td>5623</td>\n",
       "      <td>33</td>\n",
       "      <td>среднее</td>\n",
       "      <td>1</td>\n",
       "      <td>женат / замужем</td>\n",
       "      <td>0</td>\n",
       "      <td>M</td>\n",
       "      <td>сотрудник</td>\n",
       "      <td>0</td>\n",
       "      <td>145885</td>\n",
       "      <td>покупка жилья</td>\n",
       "    </tr>\n",
       "    <tr>\n",
       "      <th>3</th>\n",
       "      <td>3</td>\n",
       "      <td>4124</td>\n",
       "      <td>32</td>\n",
       "      <td>среднее</td>\n",
       "      <td>1</td>\n",
       "      <td>женат / замужем</td>\n",
       "      <td>0</td>\n",
       "      <td>M</td>\n",
       "      <td>сотрудник</td>\n",
       "      <td>0</td>\n",
       "      <td>267628</td>\n",
       "      <td>дополнительное образование</td>\n",
       "    </tr>\n",
       "    <tr>\n",
       "      <th>4</th>\n",
       "      <td>0</td>\n",
       "      <td>340266</td>\n",
       "      <td>53</td>\n",
       "      <td>среднее</td>\n",
       "      <td>1</td>\n",
       "      <td>гражданский брак</td>\n",
       "      <td>1</td>\n",
       "      <td>F</td>\n",
       "      <td>пенсионер</td>\n",
       "      <td>0</td>\n",
       "      <td>158616</td>\n",
       "      <td>сыграть свадьбу</td>\n",
       "    </tr>\n",
       "    <tr>\n",
       "      <th>5</th>\n",
       "      <td>0</td>\n",
       "      <td>926</td>\n",
       "      <td>27</td>\n",
       "      <td>высшее</td>\n",
       "      <td>0</td>\n",
       "      <td>гражданский брак</td>\n",
       "      <td>1</td>\n",
       "      <td>M</td>\n",
       "      <td>компаньон</td>\n",
       "      <td>0</td>\n",
       "      <td>255763</td>\n",
       "      <td>покупка жилья</td>\n",
       "    </tr>\n",
       "    <tr>\n",
       "      <th>6</th>\n",
       "      <td>0</td>\n",
       "      <td>2879</td>\n",
       "      <td>43</td>\n",
       "      <td>высшее</td>\n",
       "      <td>0</td>\n",
       "      <td>женат / замужем</td>\n",
       "      <td>0</td>\n",
       "      <td>F</td>\n",
       "      <td>компаньон</td>\n",
       "      <td>0</td>\n",
       "      <td>240525</td>\n",
       "      <td>операции с жильем</td>\n",
       "    </tr>\n",
       "    <tr>\n",
       "      <th>7</th>\n",
       "      <td>0</td>\n",
       "      <td>152</td>\n",
       "      <td>50</td>\n",
       "      <td>среднее</td>\n",
       "      <td>1</td>\n",
       "      <td>женат / замужем</td>\n",
       "      <td>0</td>\n",
       "      <td>M</td>\n",
       "      <td>сотрудник</td>\n",
       "      <td>0</td>\n",
       "      <td>135823</td>\n",
       "      <td>образование</td>\n",
       "    </tr>\n",
       "    <tr>\n",
       "      <th>8</th>\n",
       "      <td>2</td>\n",
       "      <td>6929</td>\n",
       "      <td>35</td>\n",
       "      <td>высшее</td>\n",
       "      <td>0</td>\n",
       "      <td>гражданский брак</td>\n",
       "      <td>1</td>\n",
       "      <td>F</td>\n",
       "      <td>сотрудник</td>\n",
       "      <td>0</td>\n",
       "      <td>95856</td>\n",
       "      <td>на проведение свадьбы</td>\n",
       "    </tr>\n",
       "    <tr>\n",
       "      <th>9</th>\n",
       "      <td>0</td>\n",
       "      <td>2188</td>\n",
       "      <td>41</td>\n",
       "      <td>среднее</td>\n",
       "      <td>1</td>\n",
       "      <td>женат / замужем</td>\n",
       "      <td>0</td>\n",
       "      <td>M</td>\n",
       "      <td>сотрудник</td>\n",
       "      <td>0</td>\n",
       "      <td>144425</td>\n",
       "      <td>покупка жилья для семьи</td>\n",
       "    </tr>\n",
       "  </tbody>\n",
       "</table>\n",
       "</div>"
      ],
      "text/plain": [
       "   children  days_employed  dob_years education  education_id  \\\n",
       "0         1           8437         42    высшее             0   \n",
       "1         1           4024         36   среднее             1   \n",
       "2         0           5623         33   среднее             1   \n",
       "3         3           4124         32   среднее             1   \n",
       "4         0         340266         53   среднее             1   \n",
       "5         0            926         27    высшее             0   \n",
       "6         0           2879         43    высшее             0   \n",
       "7         0            152         50   среднее             1   \n",
       "8         2           6929         35    высшее             0   \n",
       "9         0           2188         41   среднее             1   \n",
       "\n",
       "      family_status  family_status_id gender income_type  debt  total_income  \\\n",
       "0   женат / замужем                 0      F   сотрудник     0        253875   \n",
       "1   женат / замужем                 0      F   сотрудник     0        112080   \n",
       "2   женат / замужем                 0      M   сотрудник     0        145885   \n",
       "3   женат / замужем                 0      M   сотрудник     0        267628   \n",
       "4  гражданский брак                 1      F   пенсионер     0        158616   \n",
       "5  гражданский брак                 1      M   компаньон     0        255763   \n",
       "6   женат / замужем                 0      F   компаньон     0        240525   \n",
       "7   женат / замужем                 0      M   сотрудник     0        135823   \n",
       "8  гражданский брак                 1      F   сотрудник     0         95856   \n",
       "9   женат / замужем                 0      M   сотрудник     0        144425   \n",
       "\n",
       "                      purpose  \n",
       "0               покупка жилья  \n",
       "1     приобретение автомобиля  \n",
       "2               покупка жилья  \n",
       "3  дополнительное образование  \n",
       "4             сыграть свадьбу  \n",
       "5               покупка жилья  \n",
       "6           операции с жильем  \n",
       "7                 образование  \n",
       "8       на проведение свадьбы  \n",
       "9     покупка жилья для семьи  "
      ]
     },
     "metadata": {},
     "output_type": "display_data"
    },
    {
     "data": {
      "text/plain": [
       "0"
      ]
     },
     "execution_count": 7,
     "metadata": {},
     "output_type": "execute_result"
    }
   ],
   "source": [
    "data.drop_duplicates(inplace=True)\n",
    "data.info()\n",
    "print(data['education'].value_counts())\n",
    "data['education'] = data['education'].str.lower()\n",
    "display(data.head(10))\n",
    "\n",
    "data.duplicated().sum()\n",
    "data.drop_duplicates(inplace=True)\n",
    "data.duplicated().sum()"
   ]
  },
  {
   "cell_type": "markdown",
   "id": "88efe9d7",
   "metadata": {},
   "source": [
    "Проверим еще раз на полные дубликатов .duplicated().sum()."
   ]
  },
  {
   "cell_type": "code",
   "execution_count": 8,
   "id": "55639102",
   "metadata": {},
   "outputs": [
    {
     "data": {
      "text/plain": [
       "0"
      ]
     },
     "execution_count": 8,
     "metadata": {},
     "output_type": "execute_result"
    }
   ],
   "source": [
    "data.duplicated().sum()\n",
    "data.drop_duplicates(inplace=True)\n",
    "data.duplicated().sum()"
   ]
  },
  {
   "cell_type": "markdown",
   "id": "53b7e9bc",
   "metadata": {},
   "source": [
    "Вывод:\n",
    "\n",
    "В столбце education были найдены и посчитаны неявные дубликаты методом value_counts(). Затем дубликаты были приведены к одному регистру методом .str.lower()."
   ]
  },
  {
   "cell_type": "markdown",
   "id": "d1076eab",
   "metadata": {},
   "source": [
    "**5) Формирование дополнительных датафреймов словарей, декомпозиция исходного датафрейма**"
   ]
  },
  {
   "cell_type": "code",
   "execution_count": 9,
   "id": "b839c793",
   "metadata": {},
   "outputs": [
    {
     "data": {
      "text/html": [
       "<div>\n",
       "<style scoped>\n",
       "    .dataframe tbody tr th:only-of-type {\n",
       "        vertical-align: middle;\n",
       "    }\n",
       "\n",
       "    .dataframe tbody tr th {\n",
       "        vertical-align: top;\n",
       "    }\n",
       "\n",
       "    .dataframe thead th {\n",
       "        text-align: right;\n",
       "    }\n",
       "</style>\n",
       "<table border=\"1\" class=\"dataframe\">\n",
       "  <thead>\n",
       "    <tr style=\"text-align: right;\">\n",
       "      <th></th>\n",
       "      <th>education</th>\n",
       "      <th>education_id</th>\n",
       "    </tr>\n",
       "  </thead>\n",
       "  <tbody>\n",
       "    <tr>\n",
       "      <th>0</th>\n",
       "      <td>высшее</td>\n",
       "      <td>0</td>\n",
       "    </tr>\n",
       "    <tr>\n",
       "      <th>1</th>\n",
       "      <td>среднее</td>\n",
       "      <td>1</td>\n",
       "    </tr>\n",
       "    <tr>\n",
       "      <th>13</th>\n",
       "      <td>неоконченное высшее</td>\n",
       "      <td>2</td>\n",
       "    </tr>\n",
       "    <tr>\n",
       "      <th>31</th>\n",
       "      <td>начальное</td>\n",
       "      <td>3</td>\n",
       "    </tr>\n",
       "    <tr>\n",
       "      <th>2963</th>\n",
       "      <td>ученая степень</td>\n",
       "      <td>4</td>\n",
       "    </tr>\n",
       "  </tbody>\n",
       "</table>\n",
       "</div>"
      ],
      "text/plain": [
       "                education  education_id\n",
       "0                  высшее             0\n",
       "1                 среднее             1\n",
       "13    неоконченное высшее             2\n",
       "31              начальное             3\n",
       "2963       ученая степень             4"
      ]
     },
     "metadata": {},
     "output_type": "display_data"
    },
    {
     "data": {
      "text/html": [
       "<div>\n",
       "<style scoped>\n",
       "    .dataframe tbody tr th:only-of-type {\n",
       "        vertical-align: middle;\n",
       "    }\n",
       "\n",
       "    .dataframe tbody tr th {\n",
       "        vertical-align: top;\n",
       "    }\n",
       "\n",
       "    .dataframe thead th {\n",
       "        text-align: right;\n",
       "    }\n",
       "</style>\n",
       "<table border=\"1\" class=\"dataframe\">\n",
       "  <thead>\n",
       "    <tr style=\"text-align: right;\">\n",
       "      <th></th>\n",
       "      <th>family_status</th>\n",
       "      <th>family_status_id</th>\n",
       "    </tr>\n",
       "  </thead>\n",
       "  <tbody>\n",
       "    <tr>\n",
       "      <th>0</th>\n",
       "      <td>женат / замужем</td>\n",
       "      <td>0</td>\n",
       "    </tr>\n",
       "    <tr>\n",
       "      <th>4</th>\n",
       "      <td>гражданский брак</td>\n",
       "      <td>1</td>\n",
       "    </tr>\n",
       "    <tr>\n",
       "      <th>18</th>\n",
       "      <td>вдовец / вдова</td>\n",
       "      <td>2</td>\n",
       "    </tr>\n",
       "    <tr>\n",
       "      <th>19</th>\n",
       "      <td>в разводе</td>\n",
       "      <td>3</td>\n",
       "    </tr>\n",
       "    <tr>\n",
       "      <th>24</th>\n",
       "      <td>Не женат / не замужем</td>\n",
       "      <td>4</td>\n",
       "    </tr>\n",
       "  </tbody>\n",
       "</table>\n",
       "</div>"
      ],
      "text/plain": [
       "            family_status  family_status_id\n",
       "0         женат / замужем                 0\n",
       "4        гражданский брак                 1\n",
       "18         вдовец / вдова                 2\n",
       "19              в разводе                 3\n",
       "24  Не женат / не замужем                 4"
      ]
     },
     "metadata": {},
     "output_type": "display_data"
    },
    {
     "data": {
      "text/html": [
       "<div>\n",
       "<style scoped>\n",
       "    .dataframe tbody tr th:only-of-type {\n",
       "        vertical-align: middle;\n",
       "    }\n",
       "\n",
       "    .dataframe tbody tr th {\n",
       "        vertical-align: top;\n",
       "    }\n",
       "\n",
       "    .dataframe thead th {\n",
       "        text-align: right;\n",
       "    }\n",
       "</style>\n",
       "<table border=\"1\" class=\"dataframe\">\n",
       "  <thead>\n",
       "    <tr style=\"text-align: right;\">\n",
       "      <th></th>\n",
       "      <th>children</th>\n",
       "      <th>days_employed</th>\n",
       "      <th>dob_years</th>\n",
       "      <th>education_id</th>\n",
       "      <th>family_status_id</th>\n",
       "      <th>gender</th>\n",
       "      <th>income_type</th>\n",
       "      <th>debt</th>\n",
       "      <th>total_income</th>\n",
       "      <th>purpose</th>\n",
       "    </tr>\n",
       "  </thead>\n",
       "  <tbody>\n",
       "    <tr>\n",
       "      <th>0</th>\n",
       "      <td>1</td>\n",
       "      <td>8437</td>\n",
       "      <td>42</td>\n",
       "      <td>0</td>\n",
       "      <td>0</td>\n",
       "      <td>F</td>\n",
       "      <td>сотрудник</td>\n",
       "      <td>0</td>\n",
       "      <td>253875</td>\n",
       "      <td>покупка жилья</td>\n",
       "    </tr>\n",
       "    <tr>\n",
       "      <th>1</th>\n",
       "      <td>1</td>\n",
       "      <td>4024</td>\n",
       "      <td>36</td>\n",
       "      <td>1</td>\n",
       "      <td>0</td>\n",
       "      <td>F</td>\n",
       "      <td>сотрудник</td>\n",
       "      <td>0</td>\n",
       "      <td>112080</td>\n",
       "      <td>приобретение автомобиля</td>\n",
       "    </tr>\n",
       "    <tr>\n",
       "      <th>2</th>\n",
       "      <td>0</td>\n",
       "      <td>5623</td>\n",
       "      <td>33</td>\n",
       "      <td>1</td>\n",
       "      <td>0</td>\n",
       "      <td>M</td>\n",
       "      <td>сотрудник</td>\n",
       "      <td>0</td>\n",
       "      <td>145885</td>\n",
       "      <td>покупка жилья</td>\n",
       "    </tr>\n",
       "    <tr>\n",
       "      <th>3</th>\n",
       "      <td>3</td>\n",
       "      <td>4124</td>\n",
       "      <td>32</td>\n",
       "      <td>1</td>\n",
       "      <td>0</td>\n",
       "      <td>M</td>\n",
       "      <td>сотрудник</td>\n",
       "      <td>0</td>\n",
       "      <td>267628</td>\n",
       "      <td>дополнительное образование</td>\n",
       "    </tr>\n",
       "    <tr>\n",
       "      <th>4</th>\n",
       "      <td>0</td>\n",
       "      <td>340266</td>\n",
       "      <td>53</td>\n",
       "      <td>1</td>\n",
       "      <td>1</td>\n",
       "      <td>F</td>\n",
       "      <td>пенсионер</td>\n",
       "      <td>0</td>\n",
       "      <td>158616</td>\n",
       "      <td>сыграть свадьбу</td>\n",
       "    </tr>\n",
       "    <tr>\n",
       "      <th>5</th>\n",
       "      <td>0</td>\n",
       "      <td>926</td>\n",
       "      <td>27</td>\n",
       "      <td>0</td>\n",
       "      <td>1</td>\n",
       "      <td>M</td>\n",
       "      <td>компаньон</td>\n",
       "      <td>0</td>\n",
       "      <td>255763</td>\n",
       "      <td>покупка жилья</td>\n",
       "    </tr>\n",
       "    <tr>\n",
       "      <th>6</th>\n",
       "      <td>0</td>\n",
       "      <td>2879</td>\n",
       "      <td>43</td>\n",
       "      <td>0</td>\n",
       "      <td>0</td>\n",
       "      <td>F</td>\n",
       "      <td>компаньон</td>\n",
       "      <td>0</td>\n",
       "      <td>240525</td>\n",
       "      <td>операции с жильем</td>\n",
       "    </tr>\n",
       "    <tr>\n",
       "      <th>7</th>\n",
       "      <td>0</td>\n",
       "      <td>152</td>\n",
       "      <td>50</td>\n",
       "      <td>1</td>\n",
       "      <td>0</td>\n",
       "      <td>M</td>\n",
       "      <td>сотрудник</td>\n",
       "      <td>0</td>\n",
       "      <td>135823</td>\n",
       "      <td>образование</td>\n",
       "    </tr>\n",
       "    <tr>\n",
       "      <th>8</th>\n",
       "      <td>2</td>\n",
       "      <td>6929</td>\n",
       "      <td>35</td>\n",
       "      <td>0</td>\n",
       "      <td>1</td>\n",
       "      <td>F</td>\n",
       "      <td>сотрудник</td>\n",
       "      <td>0</td>\n",
       "      <td>95856</td>\n",
       "      <td>на проведение свадьбы</td>\n",
       "    </tr>\n",
       "    <tr>\n",
       "      <th>9</th>\n",
       "      <td>0</td>\n",
       "      <td>2188</td>\n",
       "      <td>41</td>\n",
       "      <td>1</td>\n",
       "      <td>0</td>\n",
       "      <td>M</td>\n",
       "      <td>сотрудник</td>\n",
       "      <td>0</td>\n",
       "      <td>144425</td>\n",
       "      <td>покупка жилья для семьи</td>\n",
       "    </tr>\n",
       "  </tbody>\n",
       "</table>\n",
       "</div>"
      ],
      "text/plain": [
       "   children  days_employed  dob_years  education_id  family_status_id gender  \\\n",
       "0         1           8437         42             0                 0      F   \n",
       "1         1           4024         36             1                 0      F   \n",
       "2         0           5623         33             1                 0      M   \n",
       "3         3           4124         32             1                 0      M   \n",
       "4         0         340266         53             1                 1      F   \n",
       "5         0            926         27             0                 1      M   \n",
       "6         0           2879         43             0                 0      F   \n",
       "7         0            152         50             1                 0      M   \n",
       "8         2           6929         35             0                 1      F   \n",
       "9         0           2188         41             1                 0      M   \n",
       "\n",
       "  income_type  debt  total_income                     purpose  \n",
       "0   сотрудник     0        253875               покупка жилья  \n",
       "1   сотрудник     0        112080     приобретение автомобиля  \n",
       "2   сотрудник     0        145885               покупка жилья  \n",
       "3   сотрудник     0        267628  дополнительное образование  \n",
       "4   пенсионер     0        158616             сыграть свадьбу  \n",
       "5   компаньон     0        255763               покупка жилья  \n",
       "6   компаньон     0        240525           операции с жильем  \n",
       "7   сотрудник     0        135823                 образование  \n",
       "8   сотрудник     0         95856       на проведение свадьбы  \n",
       "9   сотрудник     0        144425     покупка жилья для семьи  "
      ]
     },
     "execution_count": 9,
     "metadata": {},
     "output_type": "execute_result"
    }
   ],
   "source": [
    "education = data[['education', 'education_id']].drop_duplicates()\n",
    "display(education.head())\n",
    "family = data[['family_status', 'family_status_id']].drop_duplicates()\n",
    "display(family.head())\n",
    "data = data.drop(columns=['education', 'family_status'])\n",
    "data.head(10)"
   ]
  },
  {
   "cell_type": "markdown",
   "id": "c00fadac",
   "metadata": {},
   "source": [
    "Вывод:\n",
    "\n",
    "Были созданы два новых датафрейма: education_table и family.\n",
    "В первом каждому уникальному значению из education соответствует уникальное значение education_id.\n",
    "Во втором каждому уникальному значению из family_status соответствует уникальное значение family_status_id.\n",
    "\n",
    "Из исходного датафрейма (data) удалены столбцы education и family_status методом drop."
   ]
  },
  {
   "cell_type": "markdown",
   "id": "15849db5",
   "metadata": {},
   "source": [
    "**6) Категоризация дохода**"
   ]
  },
  {
   "cell_type": "code",
   "execution_count": 10,
   "id": "b0e6ac60",
   "metadata": {},
   "outputs": [
    {
     "name": "stdout",
     "output_type": "stream",
     "text": [
      "B\n"
     ]
    },
    {
     "data": {
      "text/html": [
       "<div>\n",
       "<style scoped>\n",
       "    .dataframe tbody tr th:only-of-type {\n",
       "        vertical-align: middle;\n",
       "    }\n",
       "\n",
       "    .dataframe tbody tr th {\n",
       "        vertical-align: top;\n",
       "    }\n",
       "\n",
       "    .dataframe thead th {\n",
       "        text-align: right;\n",
       "    }\n",
       "</style>\n",
       "<table border=\"1\" class=\"dataframe\">\n",
       "  <thead>\n",
       "    <tr style=\"text-align: right;\">\n",
       "      <th></th>\n",
       "      <th>children</th>\n",
       "      <th>days_employed</th>\n",
       "      <th>dob_years</th>\n",
       "      <th>education_id</th>\n",
       "      <th>family_status_id</th>\n",
       "      <th>gender</th>\n",
       "      <th>income_type</th>\n",
       "      <th>debt</th>\n",
       "      <th>total_income</th>\n",
       "      <th>purpose</th>\n",
       "      <th>total_income_category</th>\n",
       "    </tr>\n",
       "  </thead>\n",
       "  <tbody>\n",
       "    <tr>\n",
       "      <th>0</th>\n",
       "      <td>1</td>\n",
       "      <td>8437</td>\n",
       "      <td>42</td>\n",
       "      <td>0</td>\n",
       "      <td>0</td>\n",
       "      <td>F</td>\n",
       "      <td>сотрудник</td>\n",
       "      <td>0</td>\n",
       "      <td>253875</td>\n",
       "      <td>покупка жилья</td>\n",
       "      <td>B</td>\n",
       "    </tr>\n",
       "    <tr>\n",
       "      <th>1</th>\n",
       "      <td>1</td>\n",
       "      <td>4024</td>\n",
       "      <td>36</td>\n",
       "      <td>1</td>\n",
       "      <td>0</td>\n",
       "      <td>F</td>\n",
       "      <td>сотрудник</td>\n",
       "      <td>0</td>\n",
       "      <td>112080</td>\n",
       "      <td>приобретение автомобиля</td>\n",
       "      <td>C</td>\n",
       "    </tr>\n",
       "    <tr>\n",
       "      <th>2</th>\n",
       "      <td>0</td>\n",
       "      <td>5623</td>\n",
       "      <td>33</td>\n",
       "      <td>1</td>\n",
       "      <td>0</td>\n",
       "      <td>M</td>\n",
       "      <td>сотрудник</td>\n",
       "      <td>0</td>\n",
       "      <td>145885</td>\n",
       "      <td>покупка жилья</td>\n",
       "      <td>C</td>\n",
       "    </tr>\n",
       "    <tr>\n",
       "      <th>3</th>\n",
       "      <td>3</td>\n",
       "      <td>4124</td>\n",
       "      <td>32</td>\n",
       "      <td>1</td>\n",
       "      <td>0</td>\n",
       "      <td>M</td>\n",
       "      <td>сотрудник</td>\n",
       "      <td>0</td>\n",
       "      <td>267628</td>\n",
       "      <td>дополнительное образование</td>\n",
       "      <td>B</td>\n",
       "    </tr>\n",
       "    <tr>\n",
       "      <th>4</th>\n",
       "      <td>0</td>\n",
       "      <td>340266</td>\n",
       "      <td>53</td>\n",
       "      <td>1</td>\n",
       "      <td>1</td>\n",
       "      <td>F</td>\n",
       "      <td>пенсионер</td>\n",
       "      <td>0</td>\n",
       "      <td>158616</td>\n",
       "      <td>сыграть свадьбу</td>\n",
       "      <td>C</td>\n",
       "    </tr>\n",
       "    <tr>\n",
       "      <th>5</th>\n",
       "      <td>0</td>\n",
       "      <td>926</td>\n",
       "      <td>27</td>\n",
       "      <td>0</td>\n",
       "      <td>1</td>\n",
       "      <td>M</td>\n",
       "      <td>компаньон</td>\n",
       "      <td>0</td>\n",
       "      <td>255763</td>\n",
       "      <td>покупка жилья</td>\n",
       "      <td>B</td>\n",
       "    </tr>\n",
       "    <tr>\n",
       "      <th>6</th>\n",
       "      <td>0</td>\n",
       "      <td>2879</td>\n",
       "      <td>43</td>\n",
       "      <td>0</td>\n",
       "      <td>0</td>\n",
       "      <td>F</td>\n",
       "      <td>компаньон</td>\n",
       "      <td>0</td>\n",
       "      <td>240525</td>\n",
       "      <td>операции с жильем</td>\n",
       "      <td>B</td>\n",
       "    </tr>\n",
       "    <tr>\n",
       "      <th>7</th>\n",
       "      <td>0</td>\n",
       "      <td>152</td>\n",
       "      <td>50</td>\n",
       "      <td>1</td>\n",
       "      <td>0</td>\n",
       "      <td>M</td>\n",
       "      <td>сотрудник</td>\n",
       "      <td>0</td>\n",
       "      <td>135823</td>\n",
       "      <td>образование</td>\n",
       "      <td>C</td>\n",
       "    </tr>\n",
       "    <tr>\n",
       "      <th>8</th>\n",
       "      <td>2</td>\n",
       "      <td>6929</td>\n",
       "      <td>35</td>\n",
       "      <td>0</td>\n",
       "      <td>1</td>\n",
       "      <td>F</td>\n",
       "      <td>сотрудник</td>\n",
       "      <td>0</td>\n",
       "      <td>95856</td>\n",
       "      <td>на проведение свадьбы</td>\n",
       "      <td>C</td>\n",
       "    </tr>\n",
       "    <tr>\n",
       "      <th>9</th>\n",
       "      <td>0</td>\n",
       "      <td>2188</td>\n",
       "      <td>41</td>\n",
       "      <td>1</td>\n",
       "      <td>0</td>\n",
       "      <td>M</td>\n",
       "      <td>сотрудник</td>\n",
       "      <td>0</td>\n",
       "      <td>144425</td>\n",
       "      <td>покупка жилья для семьи</td>\n",
       "      <td>C</td>\n",
       "    </tr>\n",
       "  </tbody>\n",
       "</table>\n",
       "</div>"
      ],
      "text/plain": [
       "   children  days_employed  dob_years  education_id  family_status_id gender  \\\n",
       "0         1           8437         42             0                 0      F   \n",
       "1         1           4024         36             1                 0      F   \n",
       "2         0           5623         33             1                 0      M   \n",
       "3         3           4124         32             1                 0      M   \n",
       "4         0         340266         53             1                 1      F   \n",
       "5         0            926         27             0                 1      M   \n",
       "6         0           2879         43             0                 0      F   \n",
       "7         0            152         50             1                 0      M   \n",
       "8         2           6929         35             0                 1      F   \n",
       "9         0           2188         41             1                 0      M   \n",
       "\n",
       "  income_type  debt  total_income                     purpose  \\\n",
       "0   сотрудник     0        253875               покупка жилья   \n",
       "1   сотрудник     0        112080     приобретение автомобиля   \n",
       "2   сотрудник     0        145885               покупка жилья   \n",
       "3   сотрудник     0        267628  дополнительное образование   \n",
       "4   пенсионер     0        158616             сыграть свадьбу   \n",
       "5   компаньон     0        255763               покупка жилья   \n",
       "6   компаньон     0        240525           операции с жильем   \n",
       "7   сотрудник     0        135823                 образование   \n",
       "8   сотрудник     0         95856       на проведение свадьбы   \n",
       "9   сотрудник     0        144425     покупка жилья для семьи   \n",
       "\n",
       "  total_income_category  \n",
       "0                     B  \n",
       "1                     C  \n",
       "2                     C  \n",
       "3                     B  \n",
       "4                     C  \n",
       "5                     B  \n",
       "6                     B  \n",
       "7                     C  \n",
       "8                     C  \n",
       "9                     C  "
      ]
     },
     "execution_count": 10,
     "metadata": {},
     "output_type": "execute_result"
    }
   ],
   "source": [
    "def total_income_category(item):\n",
    "    if item <= 30000:\n",
    "        return 'E'\n",
    "    if item <= 50000:\n",
    "        return 'D'\n",
    "    if item <= 200000:\n",
    "        return 'C'\n",
    "    if item <= 1000000:\n",
    "        return 'B'\n",
    "    return 'A'\n",
    "print(total_income_category(235000)) #проверка\n",
    "\n",
    "data['total_income_category'] = data['total_income'].apply(total_income_category)\n",
    "data.head(10)"
   ]
  },
  {
   "cell_type": "markdown",
   "id": "1a82d4f0",
   "metadata": {},
   "source": [
    "Вывод:\n",
    "\n",
    "Был создан столбец total_income_category с разделением дохода (столбец total_income) по категориям. Для этого использовалась функция и условный оператор if."
   ]
  },
  {
   "cell_type": "markdown",
   "id": "153eb834",
   "metadata": {},
   "source": [
    "**7) Категоризация целей кредита**"
   ]
  },
  {
   "cell_type": "code",
   "execution_count": 11,
   "id": "b440475f",
   "metadata": {},
   "outputs": [
    {
     "data": {
      "text/plain": [
       "операции с недвижимостью    7648\n",
       "операции с автомобилем      4306\n",
       "получение образования       4013\n",
       "проведение свадьбы          2324\n",
       "Name: purpose_category, dtype: int64"
      ]
     },
     "execution_count": 11,
     "metadata": {},
     "output_type": "execute_result"
    }
   ],
   "source": [
    "def purpose_category(purpose):\n",
    "    if 'автомоб' in purpose:\n",
    "        return 'операции с автомобилем'\n",
    "    if 'образов' in purpose:\n",
    "        return 'получение образования'\n",
    "    if 'недвиж' in purpose or 'жилье' in purpose:\n",
    "        return 'операции с недвижимостью'\n",
    "    if 'свадьб' in purpose:\n",
    "        return 'проведение свадьбы'\n",
    "    \n",
    "data['purpose_category'] = data['purpose'].apply(purpose_category)\n",
    "data['purpose_category'].value_counts()"
   ]
  },
  {
   "cell_type": "markdown",
   "id": "74701df5",
   "metadata": {},
   "source": [
    "Вывод:\n",
    "\n",
    "Создана функция, которая на основании данных из столбца purpose формирует новый столбец purpose_category с перечисленными категориями."
   ]
  },
  {
   "cell_type": "markdown",
   "id": "d67311c6",
   "metadata": {},
   "source": [
    "## Ответы на вопросы"
   ]
  },
  {
   "cell_type": "markdown",
   "id": "f0e008b2",
   "metadata": {},
   "source": [
    "**Вопрос 1: Есть ли зависимость между количеством детей и возвратом кредита в срок?**"
   ]
  },
  {
   "cell_type": "code",
   "execution_count": 12,
   "id": "6066b854",
   "metadata": {},
   "outputs": [
    {
     "data": {
      "text/html": [
       "<div>\n",
       "<style scoped>\n",
       "    .dataframe tbody tr th:only-of-type {\n",
       "        vertical-align: middle;\n",
       "    }\n",
       "\n",
       "    .dataframe tbody tr th {\n",
       "        vertical-align: top;\n",
       "    }\n",
       "\n",
       "    .dataframe thead th {\n",
       "        text-align: right;\n",
       "    }\n",
       "</style>\n",
       "<table border=\"1\" class=\"dataframe\">\n",
       "  <thead>\n",
       "    <tr style=\"text-align: right;\">\n",
       "      <th></th>\n",
       "      <th>Количество детей</th>\n",
       "      <th>Всего кредитополучателей</th>\n",
       "      <th>Всего должников</th>\n",
       "      <th>Доля должников</th>\n",
       "    </tr>\n",
       "  </thead>\n",
       "  <tbody>\n",
       "    <tr>\n",
       "      <th>0</th>\n",
       "      <td>0</td>\n",
       "      <td>14090</td>\n",
       "      <td>1063</td>\n",
       "      <td>0.075444</td>\n",
       "    </tr>\n",
       "    <tr>\n",
       "      <th>1</th>\n",
       "      <td>1</td>\n",
       "      <td>4855</td>\n",
       "      <td>445</td>\n",
       "      <td>0.091658</td>\n",
       "    </tr>\n",
       "    <tr>\n",
       "      <th>2</th>\n",
       "      <td>2</td>\n",
       "      <td>2128</td>\n",
       "      <td>202</td>\n",
       "      <td>0.094925</td>\n",
       "    </tr>\n",
       "    <tr>\n",
       "      <th>3</th>\n",
       "      <td>3</td>\n",
       "      <td>330</td>\n",
       "      <td>27</td>\n",
       "      <td>0.081818</td>\n",
       "    </tr>\n",
       "    <tr>\n",
       "      <th>4</th>\n",
       "      <td>4</td>\n",
       "      <td>41</td>\n",
       "      <td>4</td>\n",
       "      <td>0.097561</td>\n",
       "    </tr>\n",
       "    <tr>\n",
       "      <th>5</th>\n",
       "      <td>5</td>\n",
       "      <td>9</td>\n",
       "      <td>0</td>\n",
       "      <td>0.000000</td>\n",
       "    </tr>\n",
       "  </tbody>\n",
       "</table>\n",
       "</div>"
      ],
      "text/plain": [
       "   Количество детей  Всего кредитополучателей  Всего должников  Доля должников\n",
       "0                 0                     14090             1063        0.075444\n",
       "1                 1                      4855              445        0.091658\n",
       "2                 2                      2128              202        0.094925\n",
       "3                 3                       330               27        0.081818\n",
       "4                 4                        41                4        0.097561\n",
       "5                 5                         9                0        0.000000"
      ]
     },
     "execution_count": 12,
     "metadata": {},
     "output_type": "execute_result"
    }
   ],
   "source": [
    "data_pivot = data.pivot_table(index='children', values='debt', aggfunc=['count', 'sum', 'mean'])\n",
    "data_pivot.columns = [tup[0] if tup[0] else tup[1] for tup in data_pivot.columns]\n",
    "data_pivot = data_pivot.reset_index()\n",
    "data_pivot\n",
    "data_pivot.rename(columns = {'children' : 'Количество детей', 'count' : 'Всего кредитополучателей', 'sum' : 'Всего должников', 'mean' : 'Доля должников'}, inplace = True)\n",
    "data_pivot.head(10)"
   ]
  },
  {
   "cell_type": "markdown",
   "id": "31b4d999",
   "metadata": {},
   "source": [
    "Вывод:\n",
    "\n",
    "Наблюдается зависимость между количеством детей и возвратом кредита в срок.  \n",
    "Среди людей без детей меньше всего должников. Они возвращают кредиты в срок чаще, чем люди с детьми.\n",
    "Больше всего должников среди людей с 4 детьми. Их доля составляет 0.097561.\n",
    "Людей с 5 детьми очень мало (9), данных недостаточно для того, чтобы сделать какие-то выводы по этой категории."
   ]
  },
  {
   "cell_type": "markdown",
   "id": "330fbf74",
   "metadata": {},
   "source": [
    "**Вопрос 2: Есть ли зависимость между семейным положением и возвратом кредита в срок?**"
   ]
  },
  {
   "cell_type": "code",
   "execution_count": 13,
   "id": "e02915f9",
   "metadata": {},
   "outputs": [
    {
     "data": {
      "text/html": [
       "<div>\n",
       "<style scoped>\n",
       "    .dataframe tbody tr th:only-of-type {\n",
       "        vertical-align: middle;\n",
       "    }\n",
       "\n",
       "    .dataframe tbody tr th {\n",
       "        vertical-align: top;\n",
       "    }\n",
       "\n",
       "    .dataframe thead th {\n",
       "        text-align: right;\n",
       "    }\n",
       "</style>\n",
       "<table border=\"1\" class=\"dataframe\">\n",
       "  <thead>\n",
       "    <tr style=\"text-align: right;\">\n",
       "      <th></th>\n",
       "      <th>Семейное положение</th>\n",
       "      <th>Всего кредитополучателей</th>\n",
       "      <th>Всего должников</th>\n",
       "      <th>Доля должников</th>\n",
       "    </tr>\n",
       "  </thead>\n",
       "  <tbody>\n",
       "    <tr>\n",
       "      <th>0</th>\n",
       "      <td>Не женат / не замужем</td>\n",
       "      <td>2810</td>\n",
       "      <td>274</td>\n",
       "      <td>0.097509</td>\n",
       "    </tr>\n",
       "    <tr>\n",
       "      <th>1</th>\n",
       "      <td>в разводе</td>\n",
       "      <td>1195</td>\n",
       "      <td>85</td>\n",
       "      <td>0.071130</td>\n",
       "    </tr>\n",
       "    <tr>\n",
       "      <th>2</th>\n",
       "      <td>вдовец / вдова</td>\n",
       "      <td>959</td>\n",
       "      <td>63</td>\n",
       "      <td>0.065693</td>\n",
       "    </tr>\n",
       "    <tr>\n",
       "      <th>3</th>\n",
       "      <td>гражданский брак</td>\n",
       "      <td>4150</td>\n",
       "      <td>388</td>\n",
       "      <td>0.093494</td>\n",
       "    </tr>\n",
       "    <tr>\n",
       "      <th>4</th>\n",
       "      <td>женат / замужем</td>\n",
       "      <td>12339</td>\n",
       "      <td>931</td>\n",
       "      <td>0.075452</td>\n",
       "    </tr>\n",
       "  </tbody>\n",
       "</table>\n",
       "</div>"
      ],
      "text/plain": [
       "      Семейное положение  Всего кредитополучателей  Всего должников  \\\n",
       "0  Не женат / не замужем                      2810              274   \n",
       "1              в разводе                      1195               85   \n",
       "2         вдовец / вдова                       959               63   \n",
       "3       гражданский брак                      4150              388   \n",
       "4        женат / замужем                     12339              931   \n",
       "\n",
       "   Доля должников  \n",
       "0        0.097509  \n",
       "1        0.071130  \n",
       "2        0.065693  \n",
       "3        0.093494  \n",
       "4        0.075452  "
      ]
     },
     "execution_count": 13,
     "metadata": {},
     "output_type": "execute_result"
    }
   ],
   "source": [
    "family_group = data.groupby(['family_status_id']).agg({'debt':'mean'})\n",
    "family_group\n",
    "\n",
    "data_new = data.merge(family, on='family_status_id', how='left')\n",
    "data_pivot = data_new.pivot_table(index='family_status', values='debt', aggfunc=['count', 'sum', 'mean'])\n",
    "data_pivot.columns = [tup[0] if tup[0] else tup[1] for tup in data_pivot.columns]\n",
    "data_pivot = data_pivot.reset_index()\n",
    "data_pivot.rename(columns = {'family_status' : 'Семейное положение', 'count' : 'Всего кредитополучателей', 'sum' : 'Всего должников', 'mean' : 'Доля должников'}, inplace = True)\n",
    "data_pivot.head(10)"
   ]
  },
  {
   "cell_type": "markdown",
   "id": "5730c631",
   "metadata": {},
   "source": [
    "Вывод:\n",
    "\n",
    "Больше всего должников среди не женатых (не замужних) и тех, кто находится в гражанском браке. Их доли примерно одинаковы (0.097509 и 0.093494 соответственно).\n",
    "\n",
    "Меньше всего задолжносстей за кредит у вдов (вдовцов). Их доля равна 0.065693."
   ]
  },
  {
   "cell_type": "markdown",
   "id": "08849e58",
   "metadata": {},
   "source": [
    "**Вопрос 3: Есть ли зависимость между уровнем дохода и возвратом кредита в срок?**"
   ]
  },
  {
   "cell_type": "code",
   "execution_count": 14,
   "id": "ac179384",
   "metadata": {},
   "outputs": [
    {
     "data": {
      "text/html": [
       "<div>\n",
       "<style scoped>\n",
       "    .dataframe tbody tr th:only-of-type {\n",
       "        vertical-align: middle;\n",
       "    }\n",
       "\n",
       "    .dataframe tbody tr th {\n",
       "        vertical-align: top;\n",
       "    }\n",
       "\n",
       "    .dataframe thead th {\n",
       "        text-align: right;\n",
       "    }\n",
       "</style>\n",
       "<table border=\"1\" class=\"dataframe\">\n",
       "  <thead>\n",
       "    <tr style=\"text-align: right;\">\n",
       "      <th></th>\n",
       "      <th>Уровень дохода</th>\n",
       "      <th>Всего кредитополучателей</th>\n",
       "      <th>Всего должников</th>\n",
       "      <th>Доля должников</th>\n",
       "    </tr>\n",
       "  </thead>\n",
       "  <tbody>\n",
       "    <tr>\n",
       "      <th>0</th>\n",
       "      <td>A</td>\n",
       "      <td>25</td>\n",
       "      <td>2</td>\n",
       "      <td>0.080000</td>\n",
       "    </tr>\n",
       "    <tr>\n",
       "      <th>1</th>\n",
       "      <td>B</td>\n",
       "      <td>5041</td>\n",
       "      <td>356</td>\n",
       "      <td>0.070621</td>\n",
       "    </tr>\n",
       "    <tr>\n",
       "      <th>2</th>\n",
       "      <td>C</td>\n",
       "      <td>16015</td>\n",
       "      <td>1360</td>\n",
       "      <td>0.084920</td>\n",
       "    </tr>\n",
       "    <tr>\n",
       "      <th>3</th>\n",
       "      <td>D</td>\n",
       "      <td>350</td>\n",
       "      <td>21</td>\n",
       "      <td>0.060000</td>\n",
       "    </tr>\n",
       "    <tr>\n",
       "      <th>4</th>\n",
       "      <td>E</td>\n",
       "      <td>22</td>\n",
       "      <td>2</td>\n",
       "      <td>0.090909</td>\n",
       "    </tr>\n",
       "  </tbody>\n",
       "</table>\n",
       "</div>"
      ],
      "text/plain": [
       "  Уровень дохода  Всего кредитополучателей  Всего должников  Доля должников\n",
       "0              A                        25                2        0.080000\n",
       "1              B                      5041              356        0.070621\n",
       "2              C                     16015             1360        0.084920\n",
       "3              D                       350               21        0.060000\n",
       "4              E                        22                2        0.090909"
      ]
     },
     "execution_count": 14,
     "metadata": {},
     "output_type": "execute_result"
    }
   ],
   "source": [
    "data_pivot = data.pivot_table(index='total_income_category', values='debt', aggfunc=['count', 'sum', 'mean'])\n",
    "data_pivot.columns = [tup[0] if tup[0] else tup[1] for tup in data_pivot.columns]\n",
    "data_pivot = data_pivot.reset_index()\n",
    "data_pivot\n",
    "data_pivot.rename(columns = {'total_income_category' : 'Уровень дохода', 'count' : 'Всего кредитополучателей', 'sum' : 'Всего должников', 'mean' : 'Доля должников'}, inplace = True)\n",
    "data_pivot.head(10)"
   ]
  },
  {
   "cell_type": "markdown",
   "id": "cfc0c44f",
   "metadata": {},
   "source": [
    "Вывод:\n",
    "\n",
    "Клиенты из категории D чаще всего возвращают кредиты. Среди них меньше всего должников (0.06). Больше всего должников в категории Е."
   ]
  },
  {
   "cell_type": "markdown",
   "id": "f177fdf4",
   "metadata": {},
   "source": [
    "**Вопрос 4: Как разные цели кредита влияют на его возврат в срок?**"
   ]
  },
  {
   "cell_type": "code",
   "execution_count": 15,
   "id": "244f481b",
   "metadata": {},
   "outputs": [
    {
     "data": {
      "text/html": [
       "<div>\n",
       "<style scoped>\n",
       "    .dataframe tbody tr th:only-of-type {\n",
       "        vertical-align: middle;\n",
       "    }\n",
       "\n",
       "    .dataframe tbody tr th {\n",
       "        vertical-align: top;\n",
       "    }\n",
       "\n",
       "    .dataframe thead th {\n",
       "        text-align: right;\n",
       "    }\n",
       "</style>\n",
       "<table border=\"1\" class=\"dataframe\">\n",
       "  <thead>\n",
       "    <tr style=\"text-align: right;\">\n",
       "      <th></th>\n",
       "      <th>Цели кредита</th>\n",
       "      <th>Всего кредитополучателей</th>\n",
       "      <th>Всего должников</th>\n",
       "      <th>Доля должников</th>\n",
       "    </tr>\n",
       "  </thead>\n",
       "  <tbody>\n",
       "    <tr>\n",
       "      <th>0</th>\n",
       "      <td>операции с автомобилем</td>\n",
       "      <td>4306</td>\n",
       "      <td>403</td>\n",
       "      <td>0.093590</td>\n",
       "    </tr>\n",
       "    <tr>\n",
       "      <th>1</th>\n",
       "      <td>операции с недвижимостью</td>\n",
       "      <td>7648</td>\n",
       "      <td>568</td>\n",
       "      <td>0.074268</td>\n",
       "    </tr>\n",
       "    <tr>\n",
       "      <th>2</th>\n",
       "      <td>получение образования</td>\n",
       "      <td>4013</td>\n",
       "      <td>370</td>\n",
       "      <td>0.092200</td>\n",
       "    </tr>\n",
       "    <tr>\n",
       "      <th>3</th>\n",
       "      <td>проведение свадьбы</td>\n",
       "      <td>2324</td>\n",
       "      <td>186</td>\n",
       "      <td>0.080034</td>\n",
       "    </tr>\n",
       "  </tbody>\n",
       "</table>\n",
       "</div>"
      ],
      "text/plain": [
       "               Цели кредита  Всего кредитополучателей  Всего должников  \\\n",
       "0    операции с автомобилем                      4306              403   \n",
       "1  операции с недвижимостью                      7648              568   \n",
       "2     получение образования                      4013              370   \n",
       "3        проведение свадьбы                      2324              186   \n",
       "\n",
       "   Доля должников  \n",
       "0        0.093590  \n",
       "1        0.074268  \n",
       "2        0.092200  \n",
       "3        0.080034  "
      ]
     },
     "execution_count": 15,
     "metadata": {},
     "output_type": "execute_result"
    }
   ],
   "source": [
    "data_pivot = data.pivot_table(index='purpose_category', values='debt', aggfunc=['count', 'sum', 'mean'])\n",
    "data_pivot.columns = [tup[0] if tup[0] else tup[1] for tup in data_pivot.columns]\n",
    "data_pivot = data_pivot.reset_index()\n",
    "data_pivot\n",
    "data_pivot.rename(columns = {'purpose_category' : 'Цели кредита', 'count' : 'Всего кредитополучателей', 'sum' : 'Всего должников', 'mean' : 'Доля должников'}, inplace = True)\n",
    "data_pivot.head(10)"
   ]
  },
  {
   "cell_type": "markdown",
   "id": "f168ae8a",
   "metadata": {},
   "source": [
    "Вывод:\n",
    "\n",
    "Клиенты с целью \"операции с недвижимостью\" чаще всего возвращают кредиты. Доля должников среди них наименьшая (0.074268).\n",
    "\n",
    "Больше всего должников среди людей с целями \"операции с автомобилем\" (их доля составляет 0.093590) и \"получение образования\" (0.092200)."
   ]
  },
  {
   "cell_type": "markdown",
   "id": "f8a41205",
   "metadata": {},
   "source": [
    "## Общий вывод"
   ]
  },
  {
   "cell_type": "markdown",
   "id": "e22ddc29",
   "metadata": {},
   "source": [
    "Изучив данные, можно ответить на 2 основных вопроса, указанных в описании проекта: влияет ли семейное положение и количество детей клиента на факт погашения кредита в срок.\n",
    "\n",
    "Да, семейное положение влияет на факт погашения кредита. Больше всего должников среди не женатых (не замужних) и тех, кто находится в гражанском браке. Их доли примерно равны (0.097509 и 0.093494 соответственно). Меньше всего задолжносстей за кредит у вдов (вдовцов). Их доля равна 0.065693.\n",
    "\n",
    "Количество детей тоже влияет на факт погашения кредита в срок. Среди людей без детей меньше всего должников. Они возвращают кредиты в срок чаще, чем люди с детьми. Больше всего должников среди людей с 4 детьми. Их доля составляет 0.097561. Людей с 5 детьми очень мало (9), этих данных недостаточно для того, чтобы сделать какие-то выводы по текущей категории."
   ]
  }
 ],
 "metadata": {
  "ExecuteTimeLog": [
   {
    "duration": 1046,
    "start_time": "2022-05-19T16:10:42.094Z"
   },
   {
    "duration": 116,
    "start_time": "2022-05-19T16:10:51.923Z"
   },
   {
    "duration": 488,
    "start_time": "2022-05-19T16:19:26.693Z"
   },
   {
    "duration": 460,
    "start_time": "2022-05-19T16:19:51.813Z"
   },
   {
    "duration": 100,
    "start_time": "2022-05-19T16:20:09.003Z"
   },
   {
    "duration": 606,
    "start_time": "2022-05-19T16:20:24.559Z"
   },
   {
    "duration": 89,
    "start_time": "2022-05-19T16:35:33.922Z"
   },
   {
    "duration": 7,
    "start_time": "2022-05-19T16:43:08.251Z"
   },
   {
    "duration": 91,
    "start_time": "2022-05-19T16:44:37.826Z"
   },
   {
    "duration": 11,
    "start_time": "2022-05-19T16:45:29.973Z"
   },
   {
    "duration": 8,
    "start_time": "2022-05-19T16:48:14.769Z"
   },
   {
    "duration": 5,
    "start_time": "2022-05-19T16:48:35.808Z"
   },
   {
    "duration": 146,
    "start_time": "2022-05-19T16:49:36.464Z"
   },
   {
    "duration": 89,
    "start_time": "2022-05-19T16:49:54.804Z"
   },
   {
    "duration": 5,
    "start_time": "2022-05-19T16:50:09.960Z"
   },
   {
    "duration": 31,
    "start_time": "2022-05-19T16:50:51.612Z"
   },
   {
    "duration": 108,
    "start_time": "2022-05-19T16:50:57.305Z"
   },
   {
    "duration": 16,
    "start_time": "2022-05-19T16:51:11.094Z"
   },
   {
    "duration": 12,
    "start_time": "2022-05-19T16:54:37.300Z"
   },
   {
    "duration": 24,
    "start_time": "2022-05-19T16:54:41.671Z"
   },
   {
    "duration": 7,
    "start_time": "2022-05-19T16:56:02.022Z"
   },
   {
    "duration": 17,
    "start_time": "2022-05-19T16:56:46.887Z"
   },
   {
    "duration": 19,
    "start_time": "2022-05-19T17:00:25.900Z"
   },
   {
    "duration": 10,
    "start_time": "2022-05-19T17:00:34.578Z"
   },
   {
    "duration": 7,
    "start_time": "2022-05-19T17:01:28.362Z"
   },
   {
    "duration": 11,
    "start_time": "2022-05-19T17:01:40.699Z"
   },
   {
    "duration": 16,
    "start_time": "2022-05-19T17:01:56.073Z"
   },
   {
    "duration": 20,
    "start_time": "2022-05-19T17:02:11.488Z"
   },
   {
    "duration": 5,
    "start_time": "2022-05-19T17:06:19.296Z"
   },
   {
    "duration": 63,
    "start_time": "2022-05-20T10:18:59.030Z"
   },
   {
    "duration": 768,
    "start_time": "2022-05-20T10:19:28.868Z"
   },
   {
    "duration": 5,
    "start_time": "2022-05-20T10:22:16.026Z"
   },
   {
    "duration": 19,
    "start_time": "2022-05-20T10:23:17.109Z"
   },
   {
    "duration": 14,
    "start_time": "2022-05-20T10:24:08.563Z"
   },
   {
    "duration": 22,
    "start_time": "2022-05-20T10:26:29.840Z"
   },
   {
    "duration": 17,
    "start_time": "2022-05-20T10:30:36.408Z"
   },
   {
    "duration": 11,
    "start_time": "2022-05-20T10:34:59.280Z"
   },
   {
    "duration": 22,
    "start_time": "2022-05-20T10:35:49.077Z"
   },
   {
    "duration": 24,
    "start_time": "2022-05-20T10:38:52.004Z"
   },
   {
    "duration": 30,
    "start_time": "2022-05-20T10:38:58.261Z"
   },
   {
    "duration": 27,
    "start_time": "2022-05-20T10:39:02.466Z"
   },
   {
    "duration": 7,
    "start_time": "2022-05-20T10:39:18.952Z"
   },
   {
    "duration": 7,
    "start_time": "2022-05-20T10:39:31.595Z"
   },
   {
    "duration": 7,
    "start_time": "2022-05-20T10:39:54.066Z"
   },
   {
    "duration": 9,
    "start_time": "2022-05-20T10:40:14.468Z"
   },
   {
    "duration": 7,
    "start_time": "2022-05-20T10:41:26.790Z"
   },
   {
    "duration": 11,
    "start_time": "2022-05-20T10:41:30.915Z"
   },
   {
    "duration": 6,
    "start_time": "2022-05-20T10:43:14.994Z"
   },
   {
    "duration": 10,
    "start_time": "2022-05-20T10:43:22.225Z"
   },
   {
    "duration": 10,
    "start_time": "2022-05-20T10:43:56.108Z"
   },
   {
    "duration": 17,
    "start_time": "2022-05-20T10:44:11.973Z"
   },
   {
    "duration": 10,
    "start_time": "2022-05-20T10:44:26.477Z"
   },
   {
    "duration": 19,
    "start_time": "2022-05-20T10:45:05.642Z"
   },
   {
    "duration": 7,
    "start_time": "2022-05-20T10:45:45.180Z"
   },
   {
    "duration": 6,
    "start_time": "2022-05-20T10:46:38.783Z"
   },
   {
    "duration": 16,
    "start_time": "2022-05-20T10:46:57.773Z"
   },
   {
    "duration": 6,
    "start_time": "2022-05-20T10:47:06.167Z"
   },
   {
    "duration": 7,
    "start_time": "2022-05-20T10:47:31.902Z"
   },
   {
    "duration": 7,
    "start_time": "2022-05-20T10:49:32.868Z"
   },
   {
    "duration": 7,
    "start_time": "2022-05-20T10:49:45.715Z"
   },
   {
    "duration": 7,
    "start_time": "2022-05-20T10:50:22.219Z"
   },
   {
    "duration": 5,
    "start_time": "2022-05-20T10:50:33.696Z"
   },
   {
    "duration": 10,
    "start_time": "2022-05-20T10:50:40.416Z"
   },
   {
    "duration": 36,
    "start_time": "2022-05-20T10:51:28.568Z"
   },
   {
    "duration": 42,
    "start_time": "2022-05-20T10:51:48.767Z"
   },
   {
    "duration": 56,
    "start_time": "2022-05-20T10:55:37.568Z"
   },
   {
    "duration": 9,
    "start_time": "2022-05-20T10:55:44.684Z"
   },
   {
    "duration": 722,
    "start_time": "2022-05-20T10:55:53.765Z"
   },
   {
    "duration": 744,
    "start_time": "2022-05-20T10:57:19.969Z"
   },
   {
    "duration": 58,
    "start_time": "2022-05-20T10:58:14.467Z"
   },
   {
    "duration": 725,
    "start_time": "2022-05-20T10:58:17.762Z"
   },
   {
    "duration": 794,
    "start_time": "2022-05-20T10:58:49.536Z"
   },
   {
    "duration": 1002,
    "start_time": "2022-05-20T11:15:25.929Z"
   },
   {
    "duration": 102,
    "start_time": "2022-05-20T11:15:46.080Z"
   },
   {
    "duration": 61,
    "start_time": "2022-05-26T15:02:44.578Z"
   },
   {
    "duration": 883,
    "start_time": "2022-05-26T15:03:11.770Z"
   },
   {
    "duration": 48,
    "start_time": "2022-05-26T15:03:16.432Z"
   },
   {
    "duration": 21,
    "start_time": "2022-05-26T15:03:25.925Z"
   },
   {
    "duration": 16,
    "start_time": "2022-05-26T15:03:29.156Z"
   },
   {
    "duration": 48,
    "start_time": "2022-05-26T15:03:31.748Z"
   },
   {
    "duration": 101,
    "start_time": "2022-05-26T15:13:33.990Z"
   },
   {
    "duration": 38,
    "start_time": "2022-05-26T15:13:38.165Z"
   },
   {
    "duration": 22,
    "start_time": "2022-05-26T15:13:41.087Z"
   },
   {
    "duration": 19,
    "start_time": "2022-05-26T15:13:44.015Z"
   },
   {
    "duration": 65,
    "start_time": "2022-05-26T15:13:46.948Z"
   },
   {
    "duration": 9,
    "start_time": "2022-05-26T15:14:05.532Z"
   },
   {
    "duration": 9,
    "start_time": "2022-05-26T15:15:06.391Z"
   },
   {
    "duration": 534,
    "start_time": "2022-05-26T15:18:53.476Z"
   },
   {
    "duration": 37,
    "start_time": "2022-05-26T15:18:54.011Z"
   },
   {
    "duration": 38,
    "start_time": "2022-05-26T15:18:54.050Z"
   },
   {
    "duration": 16,
    "start_time": "2022-05-26T15:18:54.091Z"
   },
   {
    "duration": 47,
    "start_time": "2022-05-26T15:18:54.109Z"
   },
   {
    "duration": 70,
    "start_time": "2022-05-26T15:19:41.462Z"
   },
   {
    "duration": 67,
    "start_time": "2022-05-26T15:21:04.146Z"
   },
   {
    "duration": 123,
    "start_time": "2022-05-26T15:23:43.251Z"
   },
   {
    "duration": 10,
    "start_time": "2022-05-26T15:23:50.947Z"
   },
   {
    "duration": 11,
    "start_time": "2022-05-26T15:24:15.204Z"
   },
   {
    "duration": 9,
    "start_time": "2022-05-26T15:24:23.341Z"
   },
   {
    "duration": 11,
    "start_time": "2022-05-26T15:26:05.948Z"
   },
   {
    "duration": 9,
    "start_time": "2022-05-26T15:30:55.713Z"
   },
   {
    "duration": 10,
    "start_time": "2022-05-26T15:31:01.645Z"
   },
   {
    "duration": 545,
    "start_time": "2022-05-26T15:31:48.003Z"
   },
   {
    "duration": 59,
    "start_time": "2022-05-26T15:31:48.551Z"
   },
   {
    "duration": 23,
    "start_time": "2022-05-26T15:31:48.612Z"
   },
   {
    "duration": 15,
    "start_time": "2022-05-26T15:31:48.638Z"
   },
   {
    "duration": 73,
    "start_time": "2022-05-26T15:31:48.654Z"
   },
   {
    "duration": 61,
    "start_time": "2022-05-26T15:33:22.322Z"
   },
   {
    "duration": 52,
    "start_time": "2022-05-26T15:34:27.398Z"
   },
   {
    "duration": 77,
    "start_time": "2022-05-26T15:35:27.585Z"
   },
   {
    "duration": 7,
    "start_time": "2022-05-26T15:43:47.721Z"
   },
   {
    "duration": 75,
    "start_time": "2022-05-26T15:46:43.069Z"
   },
   {
    "duration": 77,
    "start_time": "2022-05-26T15:47:00.957Z"
   },
   {
    "duration": 67,
    "start_time": "2022-05-26T15:47:22.745Z"
   },
   {
    "duration": 59,
    "start_time": "2022-05-26T15:47:36.319Z"
   },
   {
    "duration": 6,
    "start_time": "2022-05-26T15:47:41.802Z"
   },
   {
    "duration": 12,
    "start_time": "2022-05-26T15:48:28.468Z"
   },
   {
    "duration": 26,
    "start_time": "2022-05-26T15:50:12.846Z"
   },
   {
    "duration": 16,
    "start_time": "2022-05-26T15:50:31.144Z"
   },
   {
    "duration": 16,
    "start_time": "2022-05-26T15:50:40.065Z"
   },
   {
    "duration": 31,
    "start_time": "2022-05-26T15:57:44.514Z"
   },
   {
    "duration": 12,
    "start_time": "2022-05-26T15:58:28.666Z"
   },
   {
    "duration": 568,
    "start_time": "2022-05-26T15:58:44.551Z"
   },
   {
    "duration": 41,
    "start_time": "2022-05-26T15:58:45.121Z"
   },
   {
    "duration": 37,
    "start_time": "2022-05-26T15:58:45.164Z"
   },
   {
    "duration": 16,
    "start_time": "2022-05-26T15:58:45.204Z"
   },
   {
    "duration": 75,
    "start_time": "2022-05-26T15:58:45.222Z"
   },
   {
    "duration": 23,
    "start_time": "2022-05-26T15:58:45.299Z"
   },
   {
    "duration": 4,
    "start_time": "2022-05-26T16:28:09.233Z"
   },
   {
    "duration": 14,
    "start_time": "2022-05-26T16:31:29.920Z"
   },
   {
    "duration": 525,
    "start_time": "2022-05-27T13:00:32.361Z"
   },
   {
    "duration": 280,
    "start_time": "2022-05-27T13:09:37.900Z"
   },
   {
    "duration": 30,
    "start_time": "2022-05-27T13:09:54.062Z"
   },
   {
    "duration": 465,
    "start_time": "2022-05-27T13:10:38.215Z"
   },
   {
    "duration": 37,
    "start_time": "2022-05-27T13:10:38.682Z"
   },
   {
    "duration": 19,
    "start_time": "2022-05-27T13:10:38.721Z"
   },
   {
    "duration": 31,
    "start_time": "2022-05-27T13:10:38.742Z"
   },
   {
    "duration": 53,
    "start_time": "2022-05-27T13:10:38.775Z"
   },
   {
    "duration": 36,
    "start_time": "2022-05-27T13:10:38.830Z"
   },
   {
    "duration": 13,
    "start_time": "2022-05-27T13:10:38.868Z"
   },
   {
    "duration": 30,
    "start_time": "2022-05-27T13:10:38.882Z"
   },
   {
    "duration": 22,
    "start_time": "2022-05-27T13:15:24.379Z"
   },
   {
    "duration": 578,
    "start_time": "2022-05-27T13:16:12.446Z"
   },
   {
    "duration": 32,
    "start_time": "2022-05-27T13:16:27.785Z"
   },
   {
    "duration": 22,
    "start_time": "2022-05-27T13:16:44.648Z"
   },
   {
    "duration": 480,
    "start_time": "2022-05-27T13:23:54.869Z"
   },
   {
    "duration": 589,
    "start_time": "2022-05-27T13:24:00.401Z"
   },
   {
    "duration": 41,
    "start_time": "2022-05-27T13:24:00.993Z"
   },
   {
    "duration": 38,
    "start_time": "2022-05-27T13:24:01.036Z"
   },
   {
    "duration": 16,
    "start_time": "2022-05-27T13:24:01.077Z"
   },
   {
    "duration": 79,
    "start_time": "2022-05-27T13:24:01.095Z"
   },
   {
    "duration": 22,
    "start_time": "2022-05-27T13:24:01.176Z"
   },
   {
    "duration": 21,
    "start_time": "2022-05-27T13:24:01.200Z"
   },
   {
    "duration": 69,
    "start_time": "2022-05-27T13:24:01.224Z"
   },
   {
    "duration": 107,
    "start_time": "2022-05-27T13:24:51.106Z"
   },
   {
    "duration": 506,
    "start_time": "2022-05-27T13:25:11.549Z"
   },
   {
    "duration": 34,
    "start_time": "2022-05-27T13:25:12.056Z"
   },
   {
    "duration": 20,
    "start_time": "2022-05-27T13:25:12.091Z"
   },
   {
    "duration": 14,
    "start_time": "2022-05-27T13:25:12.113Z"
   },
   {
    "duration": 73,
    "start_time": "2022-05-27T13:25:12.128Z"
   },
   {
    "duration": 20,
    "start_time": "2022-05-27T13:25:12.203Z"
   },
   {
    "duration": 13,
    "start_time": "2022-05-27T13:25:12.225Z"
   },
   {
    "duration": 12,
    "start_time": "2022-05-27T13:25:12.259Z"
   },
   {
    "duration": 122,
    "start_time": "2022-05-27T13:25:23.514Z"
   },
   {
    "duration": 31,
    "start_time": "2022-05-27T13:26:04.189Z"
   },
   {
    "duration": 453,
    "start_time": "2022-05-27T13:26:24.891Z"
   },
   {
    "duration": 33,
    "start_time": "2022-05-27T13:26:25.346Z"
   },
   {
    "duration": 20,
    "start_time": "2022-05-27T13:26:25.381Z"
   },
   {
    "duration": 13,
    "start_time": "2022-05-27T13:26:25.404Z"
   },
   {
    "duration": 59,
    "start_time": "2022-05-27T13:26:25.418Z"
   },
   {
    "duration": 20,
    "start_time": "2022-05-27T13:26:25.479Z"
   },
   {
    "duration": 13,
    "start_time": "2022-05-27T13:26:25.501Z"
   },
   {
    "duration": 13,
    "start_time": "2022-05-27T13:26:25.517Z"
   },
   {
    "duration": 691,
    "start_time": "2022-05-27T13:27:27.682Z"
   },
   {
    "duration": 83,
    "start_time": "2022-05-27T13:27:33.652Z"
   },
   {
    "duration": 33,
    "start_time": "2022-05-27T13:27:40.083Z"
   },
   {
    "duration": 22,
    "start_time": "2022-05-27T13:27:43.433Z"
   },
   {
    "duration": 15,
    "start_time": "2022-05-27T13:27:47.337Z"
   },
   {
    "duration": 36,
    "start_time": "2022-05-27T13:27:49.402Z"
   },
   {
    "duration": 51,
    "start_time": "2022-05-27T13:30:17.942Z"
   },
   {
    "duration": 40,
    "start_time": "2022-05-27T13:31:08.068Z"
   },
   {
    "duration": 37,
    "start_time": "2022-05-27T13:34:55.048Z"
   },
   {
    "duration": 38,
    "start_time": "2022-05-27T13:35:12.228Z"
   },
   {
    "duration": 62,
    "start_time": "2022-05-27T13:36:47.680Z"
   },
   {
    "duration": 21,
    "start_time": "2022-05-27T13:38:34.113Z"
   },
   {
    "duration": 75,
    "start_time": "2022-05-27T13:40:47.588Z"
   },
   {
    "duration": 12,
    "start_time": "2022-05-27T13:41:38.247Z"
   },
   {
    "duration": 518,
    "start_time": "2022-05-27T13:41:45.847Z"
   },
   {
    "duration": 43,
    "start_time": "2022-05-27T13:41:46.367Z"
   },
   {
    "duration": 20,
    "start_time": "2022-05-27T13:41:46.412Z"
   },
   {
    "duration": 31,
    "start_time": "2022-05-27T13:41:46.433Z"
   },
   {
    "duration": 55,
    "start_time": "2022-05-27T13:41:46.466Z"
   },
   {
    "duration": 36,
    "start_time": "2022-05-27T13:41:46.523Z"
   },
   {
    "duration": 15,
    "start_time": "2022-05-27T13:41:46.561Z"
   },
   {
    "duration": 29,
    "start_time": "2022-05-27T13:41:46.578Z"
   },
   {
    "duration": 12,
    "start_time": "2022-05-27T13:42:47.689Z"
   },
   {
    "duration": 8,
    "start_time": "2022-05-27T13:43:09.489Z"
   },
   {
    "duration": 8,
    "start_time": "2022-05-27T13:43:21.379Z"
   },
   {
    "duration": 12,
    "start_time": "2022-05-27T13:44:35.381Z"
   },
   {
    "duration": 72,
    "start_time": "2022-05-27T13:49:43.540Z"
   },
   {
    "duration": 7,
    "start_time": "2022-05-27T13:51:55.602Z"
   },
   {
    "duration": 7,
    "start_time": "2022-05-27T13:52:01.355Z"
   },
   {
    "duration": 12,
    "start_time": "2022-05-27T13:56:58.619Z"
   },
   {
    "duration": 16,
    "start_time": "2022-05-27T13:57:15.172Z"
   },
   {
    "duration": 660,
    "start_time": "2022-05-27T14:00:10.847Z"
   },
   {
    "duration": 513,
    "start_time": "2022-05-27T14:00:23.477Z"
   },
   {
    "duration": 39,
    "start_time": "2022-05-27T14:00:23.993Z"
   },
   {
    "duration": 44,
    "start_time": "2022-05-27T14:00:24.033Z"
   },
   {
    "duration": 13,
    "start_time": "2022-05-27T14:00:24.082Z"
   },
   {
    "duration": 49,
    "start_time": "2022-05-27T14:00:24.096Z"
   },
   {
    "duration": 38,
    "start_time": "2022-05-27T14:00:24.147Z"
   },
   {
    "duration": 14,
    "start_time": "2022-05-27T14:00:24.186Z"
   },
   {
    "duration": 11,
    "start_time": "2022-05-27T14:00:24.202Z"
   },
   {
    "duration": 23,
    "start_time": "2022-05-27T14:00:24.215Z"
   },
   {
    "duration": 12,
    "start_time": "2022-05-27T14:02:50.206Z"
   },
   {
    "duration": 35,
    "start_time": "2022-05-27T14:06:23.150Z"
   },
   {
    "duration": 26,
    "start_time": "2022-05-27T14:06:44.973Z"
   },
   {
    "duration": 26,
    "start_time": "2022-05-27T14:07:05.093Z"
   },
   {
    "duration": 23,
    "start_time": "2022-05-27T14:07:17.009Z"
   },
   {
    "duration": 28,
    "start_time": "2022-05-27T14:07:28.545Z"
   },
   {
    "duration": 23,
    "start_time": "2022-05-27T14:10:41.241Z"
   },
   {
    "duration": 570,
    "start_time": "2022-05-27T14:10:52.881Z"
   },
   {
    "duration": 66,
    "start_time": "2022-05-27T14:10:53.460Z"
   },
   {
    "duration": 32,
    "start_time": "2022-05-27T14:10:53.529Z"
   },
   {
    "duration": 25,
    "start_time": "2022-05-27T14:10:53.568Z"
   },
   {
    "duration": 101,
    "start_time": "2022-05-27T14:10:53.595Z"
   },
   {
    "duration": 27,
    "start_time": "2022-05-27T14:10:53.698Z"
   },
   {
    "duration": 17,
    "start_time": "2022-05-27T14:10:53.727Z"
   },
   {
    "duration": 43,
    "start_time": "2022-05-27T14:10:53.746Z"
   },
   {
    "duration": 115,
    "start_time": "2022-05-27T14:10:53.792Z"
   },
   {
    "duration": 21,
    "start_time": "2022-05-27T14:11:22.133Z"
   },
   {
    "duration": 465,
    "start_time": "2022-05-27T14:18:12.013Z"
   },
   {
    "duration": 464,
    "start_time": "2022-05-27T14:18:30.107Z"
   },
   {
    "duration": 35,
    "start_time": "2022-05-27T14:18:30.576Z"
   },
   {
    "duration": 21,
    "start_time": "2022-05-27T14:18:30.613Z"
   },
   {
    "duration": 30,
    "start_time": "2022-05-27T14:18:30.637Z"
   },
   {
    "duration": 106,
    "start_time": "2022-05-27T14:18:30.668Z"
   },
   {
    "duration": 36,
    "start_time": "2022-05-27T14:18:30.778Z"
   },
   {
    "duration": 20,
    "start_time": "2022-05-27T14:18:30.815Z"
   },
   {
    "duration": 45,
    "start_time": "2022-05-27T14:18:30.837Z"
   },
   {
    "duration": 119,
    "start_time": "2022-05-27T14:18:30.885Z"
   },
   {
    "duration": 66,
    "start_time": "2022-05-27T14:19:14.858Z"
   },
   {
    "duration": 474,
    "start_time": "2022-05-27T14:19:30.515Z"
   },
   {
    "duration": 39,
    "start_time": "2022-05-27T14:19:30.991Z"
   },
   {
    "duration": 34,
    "start_time": "2022-05-27T14:19:31.032Z"
   },
   {
    "duration": 16,
    "start_time": "2022-05-27T14:19:31.073Z"
   },
   {
    "duration": 67,
    "start_time": "2022-05-27T14:19:31.091Z"
   },
   {
    "duration": 24,
    "start_time": "2022-05-27T14:19:31.161Z"
   },
   {
    "duration": 57,
    "start_time": "2022-05-27T14:19:31.186Z"
   },
   {
    "duration": 13,
    "start_time": "2022-05-27T14:19:31.244Z"
   },
   {
    "duration": 95,
    "start_time": "2022-05-27T14:19:31.258Z"
   },
   {
    "duration": 62,
    "start_time": "2022-05-27T14:19:51.024Z"
   },
   {
    "duration": 104,
    "start_time": "2022-05-27T14:20:01.298Z"
   },
   {
    "duration": 32,
    "start_time": "2022-05-27T14:20:06.178Z"
   },
   {
    "duration": 21,
    "start_time": "2022-05-27T14:20:08.977Z"
   },
   {
    "duration": 465,
    "start_time": "2022-05-27T14:20:22.307Z"
   },
   {
    "duration": 37,
    "start_time": "2022-05-27T14:20:22.774Z"
   },
   {
    "duration": 19,
    "start_time": "2022-05-27T14:20:22.813Z"
   },
   {
    "duration": 38,
    "start_time": "2022-05-27T14:20:22.834Z"
   },
   {
    "duration": 50,
    "start_time": "2022-05-27T14:20:22.875Z"
   },
   {
    "duration": 21,
    "start_time": "2022-05-27T14:20:22.927Z"
   },
   {
    "duration": 22,
    "start_time": "2022-05-27T14:20:22.958Z"
   },
   {
    "duration": 11,
    "start_time": "2022-05-27T14:20:22.982Z"
   },
   {
    "duration": 103,
    "start_time": "2022-05-27T14:20:22.995Z"
   },
   {
    "duration": 526,
    "start_time": "2022-05-27T14:21:32.857Z"
   },
   {
    "duration": 511,
    "start_time": "2022-05-27T14:21:39.963Z"
   },
   {
    "duration": 50,
    "start_time": "2022-05-27T14:21:40.476Z"
   },
   {
    "duration": 38,
    "start_time": "2022-05-27T14:21:40.527Z"
   },
   {
    "duration": 18,
    "start_time": "2022-05-27T14:21:40.567Z"
   },
   {
    "duration": 38,
    "start_time": "2022-05-27T14:21:40.586Z"
   },
   {
    "duration": 19,
    "start_time": "2022-05-27T14:21:40.626Z"
   },
   {
    "duration": 37,
    "start_time": "2022-05-27T14:21:40.646Z"
   },
   {
    "duration": 16,
    "start_time": "2022-05-27T14:21:40.685Z"
   },
   {
    "duration": 98,
    "start_time": "2022-05-27T14:21:40.703Z"
   },
   {
    "duration": 547,
    "start_time": "2022-05-27T14:34:02.313Z"
   },
   {
    "duration": 48,
    "start_time": "2022-05-27T14:34:02.864Z"
   },
   {
    "duration": 19,
    "start_time": "2022-05-27T14:34:02.914Z"
   },
   {
    "duration": 27,
    "start_time": "2022-05-27T14:34:02.935Z"
   },
   {
    "duration": 53,
    "start_time": "2022-05-27T14:34:02.969Z"
   },
   {
    "duration": 36,
    "start_time": "2022-05-27T14:34:03.024Z"
   },
   {
    "duration": 19,
    "start_time": "2022-05-27T14:34:03.062Z"
   },
   {
    "duration": 26,
    "start_time": "2022-05-27T14:34:03.084Z"
   },
   {
    "duration": 109,
    "start_time": "2022-05-27T14:34:03.112Z"
   },
   {
    "duration": 48,
    "start_time": "2022-05-27T14:34:22.954Z"
   },
   {
    "duration": 441,
    "start_time": "2022-05-27T14:34:38.412Z"
   },
   {
    "duration": 36,
    "start_time": "2022-05-27T14:34:38.854Z"
   },
   {
    "duration": 16,
    "start_time": "2022-05-27T14:34:38.892Z"
   },
   {
    "duration": 12,
    "start_time": "2022-05-27T14:34:38.910Z"
   },
   {
    "duration": 65,
    "start_time": "2022-05-27T14:34:38.924Z"
   },
   {
    "duration": 19,
    "start_time": "2022-05-27T14:34:38.990Z"
   },
   {
    "duration": 12,
    "start_time": "2022-05-27T14:34:39.010Z"
   },
   {
    "duration": 11,
    "start_time": "2022-05-27T14:34:39.023Z"
   },
   {
    "duration": 114,
    "start_time": "2022-05-27T14:34:39.035Z"
   },
   {
    "duration": 5969,
    "start_time": "2022-05-27T14:35:10.157Z"
   },
   {
    "duration": 482,
    "start_time": "2022-05-27T14:35:35.978Z"
   },
   {
    "duration": 37,
    "start_time": "2022-05-27T14:35:36.463Z"
   },
   {
    "duration": 24,
    "start_time": "2022-05-27T14:35:36.503Z"
   },
   {
    "duration": 44,
    "start_time": "2022-05-27T14:35:36.529Z"
   },
   {
    "duration": 100,
    "start_time": "2022-05-27T14:35:36.576Z"
   },
   {
    "duration": 23,
    "start_time": "2022-05-27T14:35:36.683Z"
   },
   {
    "duration": 12,
    "start_time": "2022-05-27T14:35:36.708Z"
   },
   {
    "duration": 17,
    "start_time": "2022-05-27T14:35:36.722Z"
   },
   {
    "duration": 136,
    "start_time": "2022-05-27T14:35:36.741Z"
   },
   {
    "duration": 11,
    "start_time": "2022-05-27T14:36:29.529Z"
   },
   {
    "duration": 31,
    "start_time": "2022-05-27T14:39:38.091Z"
   },
   {
    "duration": 24,
    "start_time": "2022-05-27T14:40:14.054Z"
   },
   {
    "duration": 28,
    "start_time": "2022-05-27T15:35:19.253Z"
   },
   {
    "duration": 13,
    "start_time": "2022-05-27T15:35:48.600Z"
   },
   {
    "duration": 14,
    "start_time": "2022-05-27T15:37:11.085Z"
   },
   {
    "duration": 10,
    "start_time": "2022-05-27T15:37:40.167Z"
   },
   {
    "duration": 12,
    "start_time": "2022-05-27T15:38:00.392Z"
   },
   {
    "duration": 13,
    "start_time": "2022-05-27T15:43:24.804Z"
   },
   {
    "duration": 475,
    "start_time": "2022-05-27T15:43:32.184Z"
   },
   {
    "duration": 34,
    "start_time": "2022-05-27T15:43:32.661Z"
   },
   {
    "duration": 16,
    "start_time": "2022-05-27T15:43:32.696Z"
   },
   {
    "duration": 14,
    "start_time": "2022-05-27T15:43:32.714Z"
   },
   {
    "duration": 83,
    "start_time": "2022-05-27T15:43:32.730Z"
   },
   {
    "duration": 19,
    "start_time": "2022-05-27T15:43:32.815Z"
   },
   {
    "duration": 29,
    "start_time": "2022-05-27T15:43:32.837Z"
   },
   {
    "duration": 15,
    "start_time": "2022-05-27T15:43:32.867Z"
   },
   {
    "duration": 19,
    "start_time": "2022-05-27T15:43:32.883Z"
   },
   {
    "duration": 83,
    "start_time": "2022-05-27T15:43:32.903Z"
   },
   {
    "duration": 12,
    "start_time": "2022-05-27T15:43:58.567Z"
   },
   {
    "duration": 12,
    "start_time": "2022-05-27T15:45:24.210Z"
   },
   {
    "duration": 10,
    "start_time": "2022-05-27T15:45:34.686Z"
   },
   {
    "duration": 547,
    "start_time": "2022-05-27T15:45:39.355Z"
   },
   {
    "duration": 38,
    "start_time": "2022-05-27T15:45:39.905Z"
   },
   {
    "duration": 25,
    "start_time": "2022-05-27T15:45:39.944Z"
   },
   {
    "duration": 18,
    "start_time": "2022-05-27T15:45:39.971Z"
   },
   {
    "duration": 87,
    "start_time": "2022-05-27T15:45:39.991Z"
   },
   {
    "duration": 20,
    "start_time": "2022-05-27T15:45:40.079Z"
   },
   {
    "duration": 17,
    "start_time": "2022-05-27T15:45:40.101Z"
   },
   {
    "duration": 40,
    "start_time": "2022-05-27T15:45:40.119Z"
   },
   {
    "duration": 19,
    "start_time": "2022-05-27T15:45:40.161Z"
   },
   {
    "duration": 83,
    "start_time": "2022-05-27T15:45:40.183Z"
   },
   {
    "duration": 10,
    "start_time": "2022-05-27T15:46:33.172Z"
   },
   {
    "duration": 463,
    "start_time": "2022-05-27T15:46:38.088Z"
   },
   {
    "duration": 33,
    "start_time": "2022-05-27T15:46:38.553Z"
   },
   {
    "duration": 18,
    "start_time": "2022-05-27T15:46:38.587Z"
   },
   {
    "duration": 14,
    "start_time": "2022-05-27T15:46:38.606Z"
   },
   {
    "duration": 95,
    "start_time": "2022-05-27T15:46:38.621Z"
   },
   {
    "duration": 21,
    "start_time": "2022-05-27T15:46:38.717Z"
   },
   {
    "duration": 28,
    "start_time": "2022-05-27T15:46:38.739Z"
   },
   {
    "duration": 22,
    "start_time": "2022-05-27T15:46:38.770Z"
   },
   {
    "duration": 15,
    "start_time": "2022-05-27T15:46:38.793Z"
   },
   {
    "duration": 86,
    "start_time": "2022-05-27T15:46:38.809Z"
   },
   {
    "duration": 10,
    "start_time": "2022-05-27T15:48:55.517Z"
   },
   {
    "duration": 519,
    "start_time": "2022-05-27T15:49:03.023Z"
   },
   {
    "duration": 32,
    "start_time": "2022-05-27T15:49:03.544Z"
   },
   {
    "duration": 16,
    "start_time": "2022-05-27T15:49:03.577Z"
   },
   {
    "duration": 12,
    "start_time": "2022-05-27T15:49:03.595Z"
   },
   {
    "duration": 87,
    "start_time": "2022-05-27T15:49:03.608Z"
   },
   {
    "duration": 25,
    "start_time": "2022-05-27T15:49:03.697Z"
   },
   {
    "duration": 14,
    "start_time": "2022-05-27T15:49:03.724Z"
   },
   {
    "duration": 26,
    "start_time": "2022-05-27T15:49:03.740Z"
   },
   {
    "duration": 24,
    "start_time": "2022-05-27T15:49:03.768Z"
   },
   {
    "duration": 77,
    "start_time": "2022-05-27T15:49:03.795Z"
   },
   {
    "duration": 11,
    "start_time": "2022-05-27T15:49:27.787Z"
   },
   {
    "duration": 11,
    "start_time": "2022-05-27T15:49:35.971Z"
   },
   {
    "duration": 11,
    "start_time": "2022-05-27T15:56:38.403Z"
   },
   {
    "duration": 10,
    "start_time": "2022-05-27T15:57:25.196Z"
   },
   {
    "duration": 13,
    "start_time": "2022-05-27T15:57:30.151Z"
   },
   {
    "duration": 479,
    "start_time": "2022-05-27T15:57:42.920Z"
   },
   {
    "duration": 33,
    "start_time": "2022-05-27T15:57:43.401Z"
   },
   {
    "duration": 30,
    "start_time": "2022-05-27T15:57:43.436Z"
   },
   {
    "duration": 14,
    "start_time": "2022-05-27T15:57:43.468Z"
   },
   {
    "duration": 76,
    "start_time": "2022-05-27T15:57:43.483Z"
   },
   {
    "duration": 19,
    "start_time": "2022-05-27T15:57:43.561Z"
   },
   {
    "duration": 12,
    "start_time": "2022-05-27T15:57:43.581Z"
   },
   {
    "duration": 29,
    "start_time": "2022-05-27T15:57:43.595Z"
   },
   {
    "duration": 29,
    "start_time": "2022-05-27T15:57:43.625Z"
   },
   {
    "duration": 72,
    "start_time": "2022-05-27T15:57:43.656Z"
   },
   {
    "duration": 12,
    "start_time": "2022-05-27T15:58:23.964Z"
   },
   {
    "duration": 501,
    "start_time": "2022-05-27T15:58:47.416Z"
   },
   {
    "duration": 45,
    "start_time": "2022-05-27T15:58:47.919Z"
   },
   {
    "duration": 31,
    "start_time": "2022-05-27T15:58:47.967Z"
   },
   {
    "duration": 20,
    "start_time": "2022-05-27T15:58:48.001Z"
   },
   {
    "duration": 126,
    "start_time": "2022-05-27T15:58:48.023Z"
   },
   {
    "duration": 29,
    "start_time": "2022-05-27T15:58:48.161Z"
   },
   {
    "duration": 16,
    "start_time": "2022-05-27T15:58:48.192Z"
   },
   {
    "duration": 19,
    "start_time": "2022-05-27T15:58:48.210Z"
   },
   {
    "duration": 40,
    "start_time": "2022-05-27T15:58:48.231Z"
   },
   {
    "duration": 74,
    "start_time": "2022-05-27T15:58:48.273Z"
   },
   {
    "duration": 442,
    "start_time": "2022-05-27T16:00:14.118Z"
   },
   {
    "duration": 31,
    "start_time": "2022-05-27T16:00:14.562Z"
   },
   {
    "duration": 17,
    "start_time": "2022-05-27T16:00:14.594Z"
   },
   {
    "duration": 13,
    "start_time": "2022-05-27T16:00:14.612Z"
   },
   {
    "duration": 83,
    "start_time": "2022-05-27T16:00:14.626Z"
   },
   {
    "duration": 19,
    "start_time": "2022-05-27T16:00:14.710Z"
   },
   {
    "duration": 30,
    "start_time": "2022-05-27T16:00:14.730Z"
   },
   {
    "duration": 11,
    "start_time": "2022-05-27T16:00:14.761Z"
   },
   {
    "duration": 20,
    "start_time": "2022-05-27T16:00:14.773Z"
   },
   {
    "duration": 83,
    "start_time": "2022-05-27T16:00:14.795Z"
   },
   {
    "duration": 2,
    "start_time": "2022-05-27T16:01:24.603Z"
   },
   {
    "duration": 23,
    "start_time": "2022-05-27T16:01:44.129Z"
   },
   {
    "duration": 23,
    "start_time": "2022-05-27T16:02:01.175Z"
   },
   {
    "duration": 22,
    "start_time": "2022-05-27T16:02:12.376Z"
   },
   {
    "duration": 3,
    "start_time": "2022-05-27T16:05:07.393Z"
   },
   {
    "duration": 15,
    "start_time": "2022-05-27T16:10:36.560Z"
   },
   {
    "duration": 14,
    "start_time": "2022-05-27T16:14:23.598Z"
   },
   {
    "duration": 27,
    "start_time": "2022-05-27T16:20:51.068Z"
   },
   {
    "duration": 19,
    "start_time": "2022-05-27T16:21:30.837Z"
   },
   {
    "duration": 32,
    "start_time": "2022-05-27T16:22:19.456Z"
   },
   {
    "duration": 26,
    "start_time": "2022-05-27T16:22:29.357Z"
   },
   {
    "duration": 21,
    "start_time": "2022-05-27T16:25:05.789Z"
   },
   {
    "duration": 14,
    "start_time": "2022-05-27T16:28:52.422Z"
   },
   {
    "duration": 14,
    "start_time": "2022-05-27T16:28:58.764Z"
   },
   {
    "duration": 13,
    "start_time": "2022-05-27T16:29:03.460Z"
   },
   {
    "duration": 14,
    "start_time": "2022-05-27T16:29:07.372Z"
   },
   {
    "duration": 25,
    "start_time": "2022-05-27T16:33:15.317Z"
   },
   {
    "duration": 35,
    "start_time": "2022-05-27T16:35:23.132Z"
   },
   {
    "duration": 26,
    "start_time": "2022-05-27T16:35:27.080Z"
   },
   {
    "duration": 32,
    "start_time": "2022-05-27T16:35:33.677Z"
   },
   {
    "duration": 25,
    "start_time": "2022-05-27T16:35:42.399Z"
   },
   {
    "duration": 26,
    "start_time": "2022-05-27T16:36:02.312Z"
   },
   {
    "duration": 23,
    "start_time": "2022-05-27T16:37:39.577Z"
   },
   {
    "duration": 11,
    "start_time": "2022-05-27T16:41:16.085Z"
   },
   {
    "duration": 10,
    "start_time": "2022-05-27T16:41:28.427Z"
   },
   {
    "duration": 24,
    "start_time": "2022-05-27T16:41:33.897Z"
   },
   {
    "duration": 13,
    "start_time": "2022-05-27T16:42:24.406Z"
   },
   {
    "duration": 12,
    "start_time": "2022-05-27T16:44:13.572Z"
   },
   {
    "duration": 14,
    "start_time": "2022-05-27T16:46:06.711Z"
   },
   {
    "duration": 544,
    "start_time": "2022-05-27T17:00:25.861Z"
   },
   {
    "duration": 32,
    "start_time": "2022-05-27T17:00:26.407Z"
   },
   {
    "duration": 28,
    "start_time": "2022-05-27T17:00:26.441Z"
   },
   {
    "duration": 14,
    "start_time": "2022-05-27T17:00:26.470Z"
   },
   {
    "duration": 74,
    "start_time": "2022-05-27T17:00:26.486Z"
   },
   {
    "duration": 20,
    "start_time": "2022-05-27T17:00:26.561Z"
   },
   {
    "duration": 13,
    "start_time": "2022-05-27T17:00:26.582Z"
   },
   {
    "duration": 18,
    "start_time": "2022-05-27T17:00:26.597Z"
   },
   {
    "duration": 22,
    "start_time": "2022-05-27T17:00:26.616Z"
   },
   {
    "duration": 41,
    "start_time": "2022-05-27T17:00:26.640Z"
   },
   {
    "duration": 22,
    "start_time": "2022-05-27T17:00:26.683Z"
   },
   {
    "duration": 20,
    "start_time": "2022-05-27T17:00:26.707Z"
   },
   {
    "duration": 22,
    "start_time": "2022-05-27T17:01:53.977Z"
   },
   {
    "duration": 24,
    "start_time": "2022-05-27T17:03:29.968Z"
   },
   {
    "duration": 14,
    "start_time": "2022-05-27T17:03:38.815Z"
   },
   {
    "duration": 461,
    "start_time": "2022-05-27T17:05:27.183Z"
   },
   {
    "duration": 32,
    "start_time": "2022-05-27T17:05:27.647Z"
   },
   {
    "duration": 17,
    "start_time": "2022-05-27T17:05:27.680Z"
   },
   {
    "duration": 14,
    "start_time": "2022-05-27T17:05:27.700Z"
   },
   {
    "duration": 87,
    "start_time": "2022-05-27T17:05:27.715Z"
   },
   {
    "duration": 29,
    "start_time": "2022-05-27T17:05:27.804Z"
   },
   {
    "duration": 26,
    "start_time": "2022-05-27T17:05:27.834Z"
   },
   {
    "duration": 29,
    "start_time": "2022-05-27T17:05:27.861Z"
   },
   {
    "duration": 26,
    "start_time": "2022-05-27T17:05:27.892Z"
   },
   {
    "duration": 34,
    "start_time": "2022-05-27T17:05:27.922Z"
   },
   {
    "duration": 15,
    "start_time": "2022-05-27T17:05:27.958Z"
   },
   {
    "duration": 17,
    "start_time": "2022-05-27T17:05:27.975Z"
   },
   {
    "duration": 54,
    "start_time": "2022-05-28T12:39:10.986Z"
   },
   {
    "duration": 661,
    "start_time": "2022-05-28T12:39:14.186Z"
   },
   {
    "duration": 39,
    "start_time": "2022-05-28T12:39:14.849Z"
   },
   {
    "duration": 18,
    "start_time": "2022-05-28T12:39:14.890Z"
   },
   {
    "duration": 14,
    "start_time": "2022-05-28T12:39:14.909Z"
   },
   {
    "duration": 85,
    "start_time": "2022-05-28T12:39:14.925Z"
   },
   {
    "duration": 21,
    "start_time": "2022-05-28T12:39:15.013Z"
   },
   {
    "duration": 16,
    "start_time": "2022-05-28T12:39:15.036Z"
   },
   {
    "duration": 30,
    "start_time": "2022-05-28T12:39:15.054Z"
   },
   {
    "duration": 23,
    "start_time": "2022-05-28T12:39:15.086Z"
   },
   {
    "duration": 27,
    "start_time": "2022-05-28T12:39:15.111Z"
   },
   {
    "duration": 15,
    "start_time": "2022-05-28T12:39:15.979Z"
   },
   {
    "duration": 938,
    "start_time": "2022-05-29T15:36:21.944Z"
   },
   {
    "duration": 90,
    "start_time": "2022-05-29T15:37:34.070Z"
   },
   {
    "duration": 462,
    "start_time": "2022-05-29T15:37:51.465Z"
   },
   {
    "duration": 33,
    "start_time": "2022-05-29T15:41:31.597Z"
   },
   {
    "duration": 541,
    "start_time": "2022-05-29T15:41:44.809Z"
   },
   {
    "duration": 291,
    "start_time": "2022-05-29T15:41:45.352Z"
   },
   {
    "duration": 88,
    "start_time": "2022-05-29T15:41:45.645Z"
   },
   {
    "duration": 0,
    "start_time": "2022-05-29T15:41:45.735Z"
   },
   {
    "duration": 0,
    "start_time": "2022-05-29T15:41:45.736Z"
   },
   {
    "duration": 0,
    "start_time": "2022-05-29T15:41:45.737Z"
   },
   {
    "duration": 0,
    "start_time": "2022-05-29T15:41:45.738Z"
   },
   {
    "duration": 0,
    "start_time": "2022-05-29T15:41:45.739Z"
   },
   {
    "duration": 0,
    "start_time": "2022-05-29T15:41:45.740Z"
   },
   {
    "duration": 0,
    "start_time": "2022-05-29T15:41:45.742Z"
   },
   {
    "duration": 0,
    "start_time": "2022-05-29T15:41:45.743Z"
   },
   {
    "duration": 0,
    "start_time": "2022-05-29T15:41:45.744Z"
   },
   {
    "duration": 0,
    "start_time": "2022-05-29T15:41:45.744Z"
   },
   {
    "duration": 33,
    "start_time": "2022-05-29T15:42:16.992Z"
   },
   {
    "duration": 53,
    "start_time": "2022-05-29T15:59:24.290Z"
   },
   {
    "duration": 56,
    "start_time": "2022-05-29T15:59:54.663Z"
   },
   {
    "duration": 62,
    "start_time": "2022-05-29T16:00:24.848Z"
   },
   {
    "duration": 62,
    "start_time": "2022-05-29T16:15:46.571Z"
   },
   {
    "duration": 8,
    "start_time": "2022-05-29T16:22:21.229Z"
   },
   {
    "duration": 62,
    "start_time": "2022-05-29T16:22:41.976Z"
   },
   {
    "duration": 487,
    "start_time": "2022-05-29T16:23:19.879Z"
   },
   {
    "duration": 289,
    "start_time": "2022-05-29T16:23:20.367Z"
   },
   {
    "duration": 76,
    "start_time": "2022-05-29T16:23:20.657Z"
   },
   {
    "duration": 7,
    "start_time": "2022-05-29T16:23:20.736Z"
   },
   {
    "duration": 21,
    "start_time": "2022-05-29T16:23:20.744Z"
   },
   {
    "duration": 77,
    "start_time": "2022-05-29T16:23:20.766Z"
   },
   {
    "duration": 19,
    "start_time": "2022-05-29T16:23:20.845Z"
   },
   {
    "duration": 13,
    "start_time": "2022-05-29T16:23:20.866Z"
   },
   {
    "duration": 26,
    "start_time": "2022-05-29T16:23:20.880Z"
   },
   {
    "duration": 23,
    "start_time": "2022-05-29T16:23:20.908Z"
   },
   {
    "duration": 36,
    "start_time": "2022-05-29T16:23:20.933Z"
   },
   {
    "duration": 14,
    "start_time": "2022-05-29T16:23:20.970Z"
   },
   {
    "duration": 13,
    "start_time": "2022-05-29T16:23:20.985Z"
   },
   {
    "duration": 86,
    "start_time": "2022-05-29T16:33:43.850Z"
   },
   {
    "duration": 85,
    "start_time": "2022-05-29T16:35:20.369Z"
   },
   {
    "duration": 83,
    "start_time": "2022-05-29T16:35:24.226Z"
   },
   {
    "duration": 14,
    "start_time": "2022-05-29T16:35:28.364Z"
   },
   {
    "duration": 14,
    "start_time": "2022-05-29T16:36:42.756Z"
   },
   {
    "duration": 70,
    "start_time": "2022-05-29T16:37:41.864Z"
   },
   {
    "duration": 69,
    "start_time": "2022-05-29T16:38:18.992Z"
   },
   {
    "duration": 92,
    "start_time": "2022-05-29T16:38:33.801Z"
   },
   {
    "duration": 103,
    "start_time": "2022-05-29T16:43:29.024Z"
   },
   {
    "duration": 94,
    "start_time": "2022-05-29T16:45:14.320Z"
   },
   {
    "duration": 94,
    "start_time": "2022-05-29T16:45:24.442Z"
   },
   {
    "duration": 93,
    "start_time": "2022-05-29T16:45:46.356Z"
   },
   {
    "duration": 125,
    "start_time": "2022-05-29T16:47:41.404Z"
   },
   {
    "duration": 16,
    "start_time": "2022-05-29T16:49:26.804Z"
   },
   {
    "duration": 622,
    "start_time": "2022-05-29T16:50:16.759Z"
   },
   {
    "duration": 516,
    "start_time": "2022-05-29T16:50:51.920Z"
   },
   {
    "duration": 510,
    "start_time": "2022-05-29T16:51:32.396Z"
   },
   {
    "duration": 374,
    "start_time": "2022-05-29T16:51:50.823Z"
   },
   {
    "duration": 521,
    "start_time": "2022-05-29T16:52:05.220Z"
   },
   {
    "duration": 301,
    "start_time": "2022-05-29T16:52:05.743Z"
   },
   {
    "duration": 79,
    "start_time": "2022-05-29T16:52:06.045Z"
   },
   {
    "duration": 158,
    "start_time": "2022-05-29T16:52:06.126Z"
   },
   {
    "duration": 15,
    "start_time": "2022-05-29T16:52:06.286Z"
   },
   {
    "duration": 58,
    "start_time": "2022-05-29T16:52:06.303Z"
   },
   {
    "duration": 22,
    "start_time": "2022-05-29T16:52:06.363Z"
   },
   {
    "duration": 37,
    "start_time": "2022-05-29T16:52:06.387Z"
   },
   {
    "duration": 13,
    "start_time": "2022-05-29T16:52:06.426Z"
   },
   {
    "duration": 20,
    "start_time": "2022-05-29T16:52:06.442Z"
   },
   {
    "duration": 27,
    "start_time": "2022-05-29T16:52:06.464Z"
   },
   {
    "duration": 38,
    "start_time": "2022-05-29T16:52:06.493Z"
   },
   {
    "duration": 14,
    "start_time": "2022-05-29T16:52:06.533Z"
   },
   {
    "duration": 471,
    "start_time": "2022-05-29T16:53:06.315Z"
   },
   {
    "duration": 531,
    "start_time": "2022-05-29T16:53:27.689Z"
   },
   {
    "duration": 306,
    "start_time": "2022-05-29T16:53:28.222Z"
   },
   {
    "duration": 69,
    "start_time": "2022-05-29T16:53:28.530Z"
   },
   {
    "duration": 162,
    "start_time": "2022-05-29T16:53:28.601Z"
   },
   {
    "duration": 16,
    "start_time": "2022-05-29T16:53:28.765Z"
   },
   {
    "duration": 68,
    "start_time": "2022-05-29T16:53:28.782Z"
   },
   {
    "duration": 21,
    "start_time": "2022-05-29T16:53:28.851Z"
   },
   {
    "duration": 14,
    "start_time": "2022-05-29T16:53:28.873Z"
   },
   {
    "duration": 16,
    "start_time": "2022-05-29T16:53:28.888Z"
   },
   {
    "duration": 20,
    "start_time": "2022-05-29T16:53:28.926Z"
   },
   {
    "duration": 32,
    "start_time": "2022-05-29T16:53:28.947Z"
   },
   {
    "duration": 43,
    "start_time": "2022-05-29T16:53:28.981Z"
   },
   {
    "duration": 15,
    "start_time": "2022-05-29T16:53:29.026Z"
   },
   {
    "duration": 588,
    "start_time": "2022-05-29T16:54:48.891Z"
   },
   {
    "duration": 536,
    "start_time": "2022-05-29T16:55:10.517Z"
   },
   {
    "duration": 301,
    "start_time": "2022-05-29T16:55:11.054Z"
   },
   {
    "duration": 77,
    "start_time": "2022-05-29T16:55:11.357Z"
   },
   {
    "duration": 151,
    "start_time": "2022-05-29T16:55:11.436Z"
   },
   {
    "duration": 14,
    "start_time": "2022-05-29T16:55:11.589Z"
   },
   {
    "duration": 55,
    "start_time": "2022-05-29T16:55:11.623Z"
   },
   {
    "duration": 21,
    "start_time": "2022-05-29T16:55:11.680Z"
   },
   {
    "duration": 31,
    "start_time": "2022-05-29T16:55:11.703Z"
   },
   {
    "duration": 13,
    "start_time": "2022-05-29T16:55:11.735Z"
   },
   {
    "duration": 19,
    "start_time": "2022-05-29T16:55:11.750Z"
   },
   {
    "duration": 54,
    "start_time": "2022-05-29T16:55:11.771Z"
   },
   {
    "duration": 15,
    "start_time": "2022-05-29T16:55:11.827Z"
   },
   {
    "duration": 15,
    "start_time": "2022-05-29T16:55:11.843Z"
   },
   {
    "duration": 540,
    "start_time": "2022-05-29T16:59:52.727Z"
   },
   {
    "duration": 548,
    "start_time": "2022-05-29T17:00:02.915Z"
   },
   {
    "duration": 320,
    "start_time": "2022-05-29T17:00:03.468Z"
   },
   {
    "duration": 81,
    "start_time": "2022-05-29T17:00:03.790Z"
   },
   {
    "duration": 168,
    "start_time": "2022-05-29T17:00:03.873Z"
   },
   {
    "duration": 18,
    "start_time": "2022-05-29T17:00:04.043Z"
   },
   {
    "duration": 76,
    "start_time": "2022-05-29T17:00:04.063Z"
   },
   {
    "duration": 20,
    "start_time": "2022-05-29T17:00:04.140Z"
   },
   {
    "duration": 14,
    "start_time": "2022-05-29T17:00:04.162Z"
   },
   {
    "duration": 70,
    "start_time": "2022-05-29T17:00:04.178Z"
   },
   {
    "duration": 23,
    "start_time": "2022-05-29T17:00:04.250Z"
   },
   {
    "duration": 27,
    "start_time": "2022-05-29T17:00:04.275Z"
   },
   {
    "duration": 14,
    "start_time": "2022-05-29T17:00:04.303Z"
   },
   {
    "duration": 17,
    "start_time": "2022-05-29T17:00:04.318Z"
   },
   {
    "duration": 121,
    "start_time": "2022-05-29T17:00:39.583Z"
   },
   {
    "duration": 508,
    "start_time": "2022-05-29T17:00:45.484Z"
   },
   {
    "duration": 314,
    "start_time": "2022-05-29T17:00:45.993Z"
   },
   {
    "duration": 80,
    "start_time": "2022-05-29T17:00:46.309Z"
   },
   {
    "duration": 161,
    "start_time": "2022-05-29T17:00:46.391Z"
   },
   {
    "duration": 23,
    "start_time": "2022-05-29T17:00:46.554Z"
   },
   {
    "duration": 61,
    "start_time": "2022-05-29T17:00:46.579Z"
   },
   {
    "duration": 20,
    "start_time": "2022-05-29T17:00:46.642Z"
   },
   {
    "duration": 23,
    "start_time": "2022-05-29T17:00:46.663Z"
   },
   {
    "duration": 29,
    "start_time": "2022-05-29T17:00:46.687Z"
   },
   {
    "duration": 21,
    "start_time": "2022-05-29T17:00:46.719Z"
   },
   {
    "duration": 32,
    "start_time": "2022-05-29T17:00:46.742Z"
   },
   {
    "duration": 14,
    "start_time": "2022-05-29T17:00:46.776Z"
   },
   {
    "duration": 19,
    "start_time": "2022-05-29T17:00:46.791Z"
   },
   {
    "duration": 490,
    "start_time": "2022-05-29T17:01:08.094Z"
   },
   {
    "duration": 551,
    "start_time": "2022-05-29T17:01:14.911Z"
   },
   {
    "duration": 306,
    "start_time": "2022-05-29T17:01:15.464Z"
   },
   {
    "duration": 83,
    "start_time": "2022-05-29T17:01:15.771Z"
   },
   {
    "duration": 167,
    "start_time": "2022-05-29T17:01:15.856Z"
   },
   {
    "duration": 16,
    "start_time": "2022-05-29T17:01:16.025Z"
   },
   {
    "duration": 56,
    "start_time": "2022-05-29T17:01:16.043Z"
   },
   {
    "duration": 21,
    "start_time": "2022-05-29T17:01:16.122Z"
   },
   {
    "duration": 12,
    "start_time": "2022-05-29T17:01:16.145Z"
   },
   {
    "duration": 23,
    "start_time": "2022-05-29T17:01:16.159Z"
   },
   {
    "duration": 40,
    "start_time": "2022-05-29T17:01:16.185Z"
   },
   {
    "duration": 35,
    "start_time": "2022-05-29T17:01:16.227Z"
   },
   {
    "duration": 13,
    "start_time": "2022-05-29T17:01:16.264Z"
   },
   {
    "duration": 15,
    "start_time": "2022-05-29T17:01:16.279Z"
   },
   {
    "duration": 12,
    "start_time": "2022-05-29T17:03:00.264Z"
   },
   {
    "duration": 13,
    "start_time": "2022-05-29T17:04:00.103Z"
   },
   {
    "duration": 24,
    "start_time": "2022-05-29T17:04:31.925Z"
   },
   {
    "duration": 21,
    "start_time": "2022-05-29T17:04:42.773Z"
   },
   {
    "duration": 12,
    "start_time": "2022-05-29T17:08:32.429Z"
   },
   {
    "duration": 16,
    "start_time": "2022-05-29T17:14:48.211Z"
   },
   {
    "duration": 17,
    "start_time": "2022-05-29T17:18:53.267Z"
   },
   {
    "duration": 16,
    "start_time": "2022-05-29T17:19:18.589Z"
   },
   {
    "duration": 36,
    "start_time": "2022-05-29T17:19:48.554Z"
   },
   {
    "duration": 20,
    "start_time": "2022-05-29T17:20:01.092Z"
   },
   {
    "duration": 25,
    "start_time": "2022-05-29T17:21:55.680Z"
   },
   {
    "duration": 19,
    "start_time": "2022-05-29T17:22:44.536Z"
   },
   {
    "duration": 82,
    "start_time": "2022-05-29T17:38:18.328Z"
   },
   {
    "duration": 28,
    "start_time": "2022-05-29T17:38:24.453Z"
   },
   {
    "duration": 16,
    "start_time": "2022-05-29T17:41:09.189Z"
   },
   {
    "duration": 15,
    "start_time": "2022-05-29T17:41:56.560Z"
   },
   {
    "duration": 40,
    "start_time": "2022-05-29T17:42:21.955Z"
   },
   {
    "duration": 15,
    "start_time": "2022-05-29T17:43:05.174Z"
   },
   {
    "duration": 14,
    "start_time": "2022-05-29T17:43:29.860Z"
   },
   {
    "duration": 570,
    "start_time": "2022-05-29T17:43:39.901Z"
   },
   {
    "duration": 306,
    "start_time": "2022-05-29T17:43:40.473Z"
   },
   {
    "duration": 84,
    "start_time": "2022-05-29T17:43:40.781Z"
   },
   {
    "duration": 178,
    "start_time": "2022-05-29T17:43:40.867Z"
   },
   {
    "duration": 16,
    "start_time": "2022-05-29T17:43:41.048Z"
   },
   {
    "duration": 75,
    "start_time": "2022-05-29T17:43:41.066Z"
   },
   {
    "duration": 20,
    "start_time": "2022-05-29T17:43:41.143Z"
   },
   {
    "duration": 14,
    "start_time": "2022-05-29T17:43:41.165Z"
   },
   {
    "duration": 46,
    "start_time": "2022-05-29T17:43:41.180Z"
   },
   {
    "duration": 22,
    "start_time": "2022-05-29T17:43:41.229Z"
   },
   {
    "duration": 30,
    "start_time": "2022-05-29T17:43:41.253Z"
   },
   {
    "duration": 44,
    "start_time": "2022-05-29T17:43:41.284Z"
   },
   {
    "duration": 15,
    "start_time": "2022-05-29T17:43:41.330Z"
   },
   {
    "duration": 16,
    "start_time": "2022-05-29T17:43:53.497Z"
   },
   {
    "duration": 18,
    "start_time": "2022-05-29T17:44:07.025Z"
   },
   {
    "duration": 22,
    "start_time": "2022-05-29T17:44:21.391Z"
   },
   {
    "duration": 19,
    "start_time": "2022-05-29T17:44:32.635Z"
   },
   {
    "duration": 83,
    "start_time": "2022-05-29T17:44:39.565Z"
   },
   {
    "duration": 488,
    "start_time": "2022-05-29T17:44:44.864Z"
   },
   {
    "duration": 322,
    "start_time": "2022-05-29T17:44:45.354Z"
   },
   {
    "duration": 80,
    "start_time": "2022-05-29T17:44:45.678Z"
   },
   {
    "duration": 172,
    "start_time": "2022-05-29T17:44:45.760Z"
   },
   {
    "duration": 18,
    "start_time": "2022-05-29T17:44:45.934Z"
   },
   {
    "duration": 74,
    "start_time": "2022-05-29T17:44:45.953Z"
   },
   {
    "duration": 19,
    "start_time": "2022-05-29T17:44:46.028Z"
   },
   {
    "duration": 12,
    "start_time": "2022-05-29T17:44:46.049Z"
   },
   {
    "duration": 16,
    "start_time": "2022-05-29T17:44:46.062Z"
   },
   {
    "duration": 53,
    "start_time": "2022-05-29T17:44:46.080Z"
   },
   {
    "duration": 31,
    "start_time": "2022-05-29T17:44:46.135Z"
   },
   {
    "duration": 14,
    "start_time": "2022-05-29T17:44:46.168Z"
   },
   {
    "duration": 14,
    "start_time": "2022-05-29T17:44:46.184Z"
   },
   {
    "duration": 20,
    "start_time": "2022-05-29T17:45:31.546Z"
   },
   {
    "duration": 19,
    "start_time": "2022-05-29T17:45:39.522Z"
   },
   {
    "duration": 19,
    "start_time": "2022-05-29T17:46:02.433Z"
   },
   {
    "duration": 94,
    "start_time": "2022-05-29T17:46:31.774Z"
   },
   {
    "duration": 19,
    "start_time": "2022-05-29T17:46:42.525Z"
   },
   {
    "duration": 466,
    "start_time": "2022-05-29T17:46:47.374Z"
   },
   {
    "duration": 307,
    "start_time": "2022-05-29T17:46:47.842Z"
   },
   {
    "duration": 78,
    "start_time": "2022-05-29T17:46:48.151Z"
   },
   {
    "duration": 153,
    "start_time": "2022-05-29T17:46:48.231Z"
   },
   {
    "duration": 15,
    "start_time": "2022-05-29T17:46:48.385Z"
   },
   {
    "duration": 70,
    "start_time": "2022-05-29T17:46:48.401Z"
   },
   {
    "duration": 19,
    "start_time": "2022-05-29T17:46:48.473Z"
   },
   {
    "duration": 33,
    "start_time": "2022-05-29T17:46:48.494Z"
   },
   {
    "duration": 14,
    "start_time": "2022-05-29T17:46:48.529Z"
   },
   {
    "duration": 22,
    "start_time": "2022-05-29T17:46:48.545Z"
   },
   {
    "duration": 25,
    "start_time": "2022-05-29T17:46:48.569Z"
   },
   {
    "duration": 39,
    "start_time": "2022-05-29T17:46:48.596Z"
   },
   {
    "duration": 13,
    "start_time": "2022-05-29T17:46:48.637Z"
   },
   {
    "duration": 109,
    "start_time": "2022-05-29T17:48:32.130Z"
   },
   {
    "duration": 537,
    "start_time": "2022-05-29T17:48:38.213Z"
   },
   {
    "duration": 331,
    "start_time": "2022-05-29T17:48:38.752Z"
   },
   {
    "duration": 88,
    "start_time": "2022-05-29T17:48:39.084Z"
   },
   {
    "duration": 184,
    "start_time": "2022-05-29T17:48:39.174Z"
   },
   {
    "duration": 16,
    "start_time": "2022-05-29T17:48:39.360Z"
   },
   {
    "duration": 76,
    "start_time": "2022-05-29T17:48:39.377Z"
   },
   {
    "duration": 19,
    "start_time": "2022-05-29T17:48:39.455Z"
   },
   {
    "duration": 12,
    "start_time": "2022-05-29T17:48:39.476Z"
   },
   {
    "duration": 35,
    "start_time": "2022-05-29T17:48:39.490Z"
   },
   {
    "duration": 20,
    "start_time": "2022-05-29T17:48:39.528Z"
   },
   {
    "duration": 140,
    "start_time": "2022-05-29T17:48:39.549Z"
   },
   {
    "duration": 0,
    "start_time": "2022-05-29T17:48:39.690Z"
   },
   {
    "duration": 0,
    "start_time": "2022-05-29T17:48:39.691Z"
   },
   {
    "duration": 36,
    "start_time": "2022-05-29T17:49:21.880Z"
   },
   {
    "duration": 582,
    "start_time": "2022-05-30T08:34:04.014Z"
   },
   {
    "duration": 558,
    "start_time": "2022-05-30T08:34:11.489Z"
   },
   {
    "duration": 82,
    "start_time": "2022-05-30T08:34:25.050Z"
   },
   {
    "duration": 99,
    "start_time": "2022-05-30T08:37:50.893Z"
   },
   {
    "duration": 21,
    "start_time": "2022-05-30T08:38:34.925Z"
   },
   {
    "duration": 14,
    "start_time": "2022-05-30T08:39:04.761Z"
   },
   {
    "duration": 11,
    "start_time": "2022-05-30T08:39:12.612Z"
   },
   {
    "duration": 101,
    "start_time": "2022-05-30T08:41:17.631Z"
   },
   {
    "duration": 171,
    "start_time": "2022-05-30T08:41:49.777Z"
   },
   {
    "duration": 98,
    "start_time": "2022-05-30T08:42:50.460Z"
   },
   {
    "duration": 17,
    "start_time": "2022-05-30T08:42:54.824Z"
   },
   {
    "duration": 95,
    "start_time": "2022-05-30T08:42:57.920Z"
   },
   {
    "duration": 159,
    "start_time": "2022-05-30T08:43:02.990Z"
   },
   {
    "duration": 161,
    "start_time": "2022-05-30T08:43:39.074Z"
   },
   {
    "duration": 186,
    "start_time": "2022-05-30T08:43:57.426Z"
   },
   {
    "duration": 75,
    "start_time": "2022-05-30T08:45:03.741Z"
   },
   {
    "duration": 89,
    "start_time": "2022-05-30T08:45:22.319Z"
   },
   {
    "duration": 51,
    "start_time": "2022-05-30T08:46:57.170Z"
   },
   {
    "duration": 66,
    "start_time": "2022-05-30T08:47:10.816Z"
   },
   {
    "duration": 61,
    "start_time": "2022-05-30T08:47:29.769Z"
   },
   {
    "duration": 22,
    "start_time": "2022-05-30T08:53:22.559Z"
   },
   {
    "duration": 27,
    "start_time": "2022-05-30T08:57:20.615Z"
   },
   {
    "duration": 555,
    "start_time": "2022-05-30T09:00:30.035Z"
   },
   {
    "duration": 91,
    "start_time": "2022-05-30T09:00:43.707Z"
   },
   {
    "duration": 23,
    "start_time": "2022-05-30T09:00:47.754Z"
   },
   {
    "duration": 100,
    "start_time": "2022-05-30T09:00:50.386Z"
   },
   {
    "duration": 171,
    "start_time": "2022-05-30T09:00:56.726Z"
   },
   {
    "duration": 154,
    "start_time": "2022-05-30T09:03:46.664Z"
   },
   {
    "duration": 155,
    "start_time": "2022-05-30T09:04:16.706Z"
   },
   {
    "duration": 172,
    "start_time": "2022-05-30T09:04:27.240Z"
   },
   {
    "duration": 183,
    "start_time": "2022-05-30T09:04:41.911Z"
   },
   {
    "duration": 153,
    "start_time": "2022-05-30T09:05:33.689Z"
   },
   {
    "duration": 21,
    "start_time": "2022-05-30T09:06:14.677Z"
   },
   {
    "duration": 21,
    "start_time": "2022-05-30T09:06:17.555Z"
   },
   {
    "duration": 16,
    "start_time": "2022-05-30T09:06:28.159Z"
   },
   {
    "duration": 95,
    "start_time": "2022-05-30T09:06:38.850Z"
   },
   {
    "duration": 17,
    "start_time": "2022-05-30T09:06:42.246Z"
   },
   {
    "duration": 87,
    "start_time": "2022-05-30T09:06:44.825Z"
   },
   {
    "duration": 71,
    "start_time": "2022-05-30T09:06:48.031Z"
   },
   {
    "duration": 163,
    "start_time": "2022-05-30T09:06:51.864Z"
   },
   {
    "duration": 20,
    "start_time": "2022-05-30T09:06:55.373Z"
   },
   {
    "duration": 66,
    "start_time": "2022-05-30T09:06:58.126Z"
   },
   {
    "duration": 70,
    "start_time": "2022-05-30T09:07:16.166Z"
   },
   {
    "duration": 123,
    "start_time": "2022-05-30T09:07:21.716Z"
   },
   {
    "duration": 86,
    "start_time": "2022-05-30T09:07:26.821Z"
   },
   {
    "duration": 21,
    "start_time": "2022-05-30T09:07:30.181Z"
   },
   {
    "duration": 17,
    "start_time": "2022-05-30T09:07:34.937Z"
   },
   {
    "duration": 14,
    "start_time": "2022-05-30T09:07:38.690Z"
   },
   {
    "duration": 19,
    "start_time": "2022-05-30T09:07:41.645Z"
   },
   {
    "duration": 20,
    "start_time": "2022-05-30T09:08:11.990Z"
   },
   {
    "duration": 19,
    "start_time": "2022-05-30T09:08:50.677Z"
   },
   {
    "duration": 27,
    "start_time": "2022-05-30T09:08:56.465Z"
   },
   {
    "duration": 13,
    "start_time": "2022-05-30T09:14:29.032Z"
   },
   {
    "duration": 19,
    "start_time": "2022-05-30T09:14:35.314Z"
   },
   {
    "duration": 36,
    "start_time": "2022-05-30T09:16:20.926Z"
   },
   {
    "duration": 21,
    "start_time": "2022-05-30T09:16:27.511Z"
   },
   {
    "duration": 14,
    "start_time": "2022-05-30T09:16:32.254Z"
   },
   {
    "duration": 23,
    "start_time": "2022-05-30T09:17:26.339Z"
   },
   {
    "duration": 34,
    "start_time": "2022-05-30T09:21:16.135Z"
   },
   {
    "duration": 32,
    "start_time": "2022-05-30T09:21:35.348Z"
   },
   {
    "duration": 32,
    "start_time": "2022-05-30T09:21:53.105Z"
   },
   {
    "duration": 23,
    "start_time": "2022-05-30T09:23:12.419Z"
   },
   {
    "duration": 23,
    "start_time": "2022-05-30T09:25:20.552Z"
   },
   {
    "duration": 32,
    "start_time": "2022-05-30T09:27:41.957Z"
   },
   {
    "duration": 24,
    "start_time": "2022-05-30T09:27:48.807Z"
   },
   {
    "duration": 24,
    "start_time": "2022-05-30T10:28:28.385Z"
   },
   {
    "duration": 22,
    "start_time": "2022-05-30T10:29:31.750Z"
   },
   {
    "duration": 69,
    "start_time": "2022-05-30T10:38:00.703Z"
   },
   {
    "duration": 63,
    "start_time": "2022-05-30T10:38:24.892Z"
   },
   {
    "duration": 64,
    "start_time": "2022-05-30T10:38:46.399Z"
   },
   {
    "duration": 18,
    "start_time": "2022-05-30T10:39:41.759Z"
   },
   {
    "duration": 852,
    "start_time": "2022-05-30T10:39:52.268Z"
   },
   {
    "duration": 103,
    "start_time": "2022-05-30T10:40:03.234Z"
   },
   {
    "duration": 32,
    "start_time": "2022-05-30T10:40:07.064Z"
   },
   {
    "duration": 86,
    "start_time": "2022-05-30T10:40:09.675Z"
   },
   {
    "duration": 174,
    "start_time": "2022-05-30T10:40:15.714Z"
   },
   {
    "duration": 19,
    "start_time": "2022-05-30T10:40:21.575Z"
   },
   {
    "duration": 87,
    "start_time": "2022-05-30T10:40:24.315Z"
   },
   {
    "duration": 22,
    "start_time": "2022-05-30T10:40:27.426Z"
   },
   {
    "duration": 16,
    "start_time": "2022-05-30T10:40:31.709Z"
   },
   {
    "duration": 860,
    "start_time": "2022-05-30T10:40:51.857Z"
   },
   {
    "duration": 613,
    "start_time": "2022-05-30T10:40:56.890Z"
   },
   {
    "duration": 117,
    "start_time": "2022-05-30T10:41:07.836Z"
   },
   {
    "duration": 17,
    "start_time": "2022-05-30T10:41:12.977Z"
   },
   {
    "duration": 74,
    "start_time": "2022-05-30T10:41:15.284Z"
   },
   {
    "duration": 161,
    "start_time": "2022-05-30T10:41:19.742Z"
   },
   {
    "duration": 18,
    "start_time": "2022-05-30T10:41:24.362Z"
   },
   {
    "duration": 105,
    "start_time": "2022-05-30T10:41:26.823Z"
   },
   {
    "duration": 21,
    "start_time": "2022-05-30T10:41:30.780Z"
   },
   {
    "duration": 15,
    "start_time": "2022-05-30T10:41:33.944Z"
   },
   {
    "duration": 21,
    "start_time": "2022-05-30T10:41:37.230Z"
   },
   {
    "duration": 23,
    "start_time": "2022-05-30T10:41:40.702Z"
   },
   {
    "duration": 47,
    "start_time": "2022-05-30T10:41:55.832Z"
   },
   {
    "duration": 28,
    "start_time": "2022-05-30T10:41:59.191Z"
   },
   {
    "duration": 23,
    "start_time": "2022-05-30T10:42:02.378Z"
   },
   {
    "duration": 534,
    "start_time": "2022-05-30T10:46:43.865Z"
   },
   {
    "duration": 623,
    "start_time": "2022-05-30T10:46:58.195Z"
   },
   {
    "duration": 19,
    "start_time": "2022-05-30T10:47:17.634Z"
   },
   {
    "duration": 33,
    "start_time": "2022-05-30T10:57:43.910Z"
   },
   {
    "duration": 34,
    "start_time": "2022-05-30T10:58:58.826Z"
   },
   {
    "duration": 17,
    "start_time": "2022-05-30T11:00:32.862Z"
   },
   {
    "duration": 30,
    "start_time": "2022-05-30T11:00:38.608Z"
   },
   {
    "duration": 42,
    "start_time": "2022-05-30T11:01:07.345Z"
   },
   {
    "duration": 39,
    "start_time": "2022-05-30T11:12:14.741Z"
   },
   {
    "duration": 25,
    "start_time": "2022-05-30T11:12:29.722Z"
   },
   {
    "duration": 44,
    "start_time": "2022-05-30T11:12:41.898Z"
   },
   {
    "duration": 33,
    "start_time": "2022-05-30T11:12:58.973Z"
   },
   {
    "duration": 35,
    "start_time": "2022-05-30T11:13:09.179Z"
   },
   {
    "duration": 25,
    "start_time": "2022-05-30T12:34:52.652Z"
   },
   {
    "duration": 26,
    "start_time": "2022-05-30T12:36:10.129Z"
   },
   {
    "duration": 24,
    "start_time": "2022-05-30T12:36:28.519Z"
   },
   {
    "duration": 25,
    "start_time": "2022-05-30T12:37:05.305Z"
   },
   {
    "duration": 593,
    "start_time": "2022-05-30T12:39:04.283Z"
   },
   {
    "duration": 373,
    "start_time": "2022-05-30T12:39:04.877Z"
   },
   {
    "duration": 90,
    "start_time": "2022-05-30T12:39:05.252Z"
   },
   {
    "duration": 110,
    "start_time": "2022-05-30T12:39:05.345Z"
   },
   {
    "duration": 0,
    "start_time": "2022-05-30T12:39:05.457Z"
   },
   {
    "duration": 0,
    "start_time": "2022-05-30T12:39:05.458Z"
   },
   {
    "duration": 0,
    "start_time": "2022-05-30T12:39:05.459Z"
   },
   {
    "duration": 0,
    "start_time": "2022-05-30T12:39:05.460Z"
   },
   {
    "duration": 0,
    "start_time": "2022-05-30T12:39:05.461Z"
   },
   {
    "duration": 0,
    "start_time": "2022-05-30T12:39:05.462Z"
   },
   {
    "duration": 0,
    "start_time": "2022-05-30T12:39:05.463Z"
   },
   {
    "duration": 0,
    "start_time": "2022-05-30T12:39:05.464Z"
   },
   {
    "duration": 0,
    "start_time": "2022-05-30T12:39:05.493Z"
   },
   {
    "duration": 134,
    "start_time": "2022-05-30T12:39:11.984Z"
   },
   {
    "duration": 27,
    "start_time": "2022-05-30T12:39:17.917Z"
   },
   {
    "duration": 92,
    "start_time": "2022-05-30T12:39:20.969Z"
   },
   {
    "duration": 16,
    "start_time": "2022-05-30T12:39:25.767Z"
   },
   {
    "duration": 608,
    "start_time": "2022-05-30T12:39:52.107Z"
   },
   {
    "duration": 381,
    "start_time": "2022-05-30T12:39:52.717Z"
   },
   {
    "duration": 103,
    "start_time": "2022-05-30T12:39:53.099Z"
   },
   {
    "duration": 117,
    "start_time": "2022-05-30T12:39:53.204Z"
   },
   {
    "duration": 0,
    "start_time": "2022-05-30T12:39:53.323Z"
   },
   {
    "duration": 0,
    "start_time": "2022-05-30T12:39:53.324Z"
   },
   {
    "duration": 0,
    "start_time": "2022-05-30T12:39:53.325Z"
   },
   {
    "duration": 0,
    "start_time": "2022-05-30T12:39:53.326Z"
   },
   {
    "duration": 0,
    "start_time": "2022-05-30T12:39:53.327Z"
   },
   {
    "duration": 0,
    "start_time": "2022-05-30T12:39:53.328Z"
   },
   {
    "duration": 0,
    "start_time": "2022-05-30T12:39:53.329Z"
   },
   {
    "duration": 0,
    "start_time": "2022-05-30T12:39:53.330Z"
   },
   {
    "duration": 0,
    "start_time": "2022-05-30T12:39:53.331Z"
   },
   {
    "duration": 16,
    "start_time": "2022-05-30T12:40:14.363Z"
   },
   {
    "duration": 238,
    "start_time": "2022-05-30T12:40:47.364Z"
   },
   {
    "duration": 580,
    "start_time": "2022-05-30T12:40:56.343Z"
   },
   {
    "duration": 392,
    "start_time": "2022-05-30T12:40:56.925Z"
   },
   {
    "duration": 136,
    "start_time": "2022-05-30T12:40:57.319Z"
   },
   {
    "duration": 279,
    "start_time": "2022-05-30T12:40:57.458Z"
   },
   {
    "duration": 28,
    "start_time": "2022-05-30T12:40:57.740Z"
   },
   {
    "duration": 161,
    "start_time": "2022-05-30T12:40:57.770Z"
   },
   {
    "duration": 34,
    "start_time": "2022-05-30T12:40:57.934Z"
   },
   {
    "duration": 73,
    "start_time": "2022-05-30T12:40:57.970Z"
   },
   {
    "duration": 32,
    "start_time": "2022-05-30T12:40:58.046Z"
   },
   {
    "duration": 81,
    "start_time": "2022-05-30T12:40:58.081Z"
   },
   {
    "duration": 75,
    "start_time": "2022-05-30T12:40:58.165Z"
   },
   {
    "duration": 66,
    "start_time": "2022-05-30T12:40:58.243Z"
   },
   {
    "duration": 50,
    "start_time": "2022-05-30T12:40:58.318Z"
   },
   {
    "duration": 49,
    "start_time": "2022-05-31T06:29:04.184Z"
   },
   {
    "duration": 598,
    "start_time": "2022-05-31T06:29:07.778Z"
   },
   {
    "duration": 263,
    "start_time": "2022-05-31T06:29:08.378Z"
   },
   {
    "duration": 3,
    "start_time": "2022-05-31T06:29:10.219Z"
   },
   {
    "duration": 4,
    "start_time": "2022-05-31T06:29:16.906Z"
   },
   {
    "duration": 54,
    "start_time": "2022-05-31T06:29:22.754Z"
   },
   {
    "duration": 50,
    "start_time": "2022-05-31T06:29:53.259Z"
   },
   {
    "duration": 9,
    "start_time": "2022-05-31T06:30:14.498Z"
   },
   {
    "duration": 5,
    "start_time": "2022-05-31T06:32:02.890Z"
   },
   {
    "duration": 4,
    "start_time": "2022-05-31T06:32:17.761Z"
   },
   {
    "duration": 39,
    "start_time": "2022-05-31T06:32:21.225Z"
   },
   {
    "duration": 8,
    "start_time": "2022-05-31T06:32:23.861Z"
   },
   {
    "duration": 5,
    "start_time": "2022-05-31T06:32:25.721Z"
   },
   {
    "duration": 70,
    "start_time": "2022-05-31T08:20:45.604Z"
   },
   {
    "duration": 755,
    "start_time": "2022-05-31T08:20:50.678Z"
   },
   {
    "duration": 498,
    "start_time": "2022-05-31T08:20:55.212Z"
   },
   {
    "duration": 82,
    "start_time": "2022-05-31T08:20:58.030Z"
   },
   {
    "duration": 163,
    "start_time": "2022-05-31T08:21:30.448Z"
   },
   {
    "duration": 145,
    "start_time": "2022-05-31T08:22:32.672Z"
   },
   {
    "duration": 151,
    "start_time": "2022-05-31T08:27:00.278Z"
   },
   {
    "duration": 43,
    "start_time": "2022-05-31T08:35:45.083Z"
   },
   {
    "duration": 103,
    "start_time": "2022-05-31T08:41:09.867Z"
   },
   {
    "duration": 119,
    "start_time": "2022-05-31T08:41:30.967Z"
   },
   {
    "duration": 182,
    "start_time": "2022-05-31T08:44:44.344Z"
   },
   {
    "duration": 31,
    "start_time": "2022-05-31T08:45:07.654Z"
   },
   {
    "duration": 22,
    "start_time": "2022-05-31T08:45:14.887Z"
   },
   {
    "duration": 74,
    "start_time": "2022-05-31T08:47:00.752Z"
   },
   {
    "duration": 12,
    "start_time": "2022-05-31T08:47:07.512Z"
   },
   {
    "duration": 17,
    "start_time": "2022-05-31T08:48:32.075Z"
   },
   {
    "duration": 13,
    "start_time": "2022-05-31T08:48:36.999Z"
   },
   {
    "duration": 98,
    "start_time": "2022-05-31T08:48:50.105Z"
   },
   {
    "duration": 79,
    "start_time": "2022-05-31T08:48:54.629Z"
   },
   {
    "duration": 173,
    "start_time": "2022-05-31T08:48:59.150Z"
   },
   {
    "duration": 116,
    "start_time": "2022-05-31T08:49:02.922Z"
   },
   {
    "duration": 22,
    "start_time": "2022-05-31T08:49:06.139Z"
   },
   {
    "duration": 89,
    "start_time": "2022-05-31T08:49:08.620Z"
   },
   {
    "duration": 44,
    "start_time": "2022-05-31T08:49:11.719Z"
   },
   {
    "duration": 19,
    "start_time": "2022-05-31T08:49:14.121Z"
   },
   {
    "duration": 14,
    "start_time": "2022-05-31T08:49:19.033Z"
   },
   {
    "duration": 26,
    "start_time": "2022-05-31T08:49:22.152Z"
   },
   {
    "duration": 29,
    "start_time": "2022-05-31T08:49:28.770Z"
   },
   {
    "duration": 56,
    "start_time": "2022-05-31T08:49:32.879Z"
   },
   {
    "duration": 40,
    "start_time": "2022-05-31T08:50:08.480Z"
   },
   {
    "duration": 36,
    "start_time": "2022-05-31T08:50:18.175Z"
   },
   {
    "duration": 25,
    "start_time": "2022-05-31T08:51:11.767Z"
   },
   {
    "duration": 34,
    "start_time": "2022-05-31T08:51:41.253Z"
   },
   {
    "duration": 40,
    "start_time": "2022-05-31T08:52:56.200Z"
   },
   {
    "duration": 25,
    "start_time": "2022-05-31T08:53:05.686Z"
   },
   {
    "duration": 23,
    "start_time": "2022-05-31T08:53:17.792Z"
   },
   {
    "duration": 26,
    "start_time": "2022-05-31T08:53:36.095Z"
   },
   {
    "duration": 25,
    "start_time": "2022-05-31T08:54:22.204Z"
   },
   {
    "duration": 526,
    "start_time": "2022-05-31T09:12:53.891Z"
   },
   {
    "duration": 309,
    "start_time": "2022-05-31T09:12:54.419Z"
   },
   {
    "duration": 85,
    "start_time": "2022-05-31T09:12:54.729Z"
   },
   {
    "duration": 162,
    "start_time": "2022-05-31T09:12:54.816Z"
   },
   {
    "duration": 133,
    "start_time": "2022-05-31T09:12:54.979Z"
   },
   {
    "duration": 15,
    "start_time": "2022-05-31T09:12:55.113Z"
   },
   {
    "duration": 96,
    "start_time": "2022-05-31T09:12:55.129Z"
   },
   {
    "duration": 52,
    "start_time": "2022-05-31T09:12:55.227Z"
   },
   {
    "duration": 18,
    "start_time": "2022-05-31T09:12:55.281Z"
   },
   {
    "duration": 13,
    "start_time": "2022-05-31T09:12:55.302Z"
   },
   {
    "duration": 12,
    "start_time": "2022-05-31T09:12:55.316Z"
   },
   {
    "duration": 56,
    "start_time": "2022-05-31T09:12:55.329Z"
   },
   {
    "duration": 41,
    "start_time": "2022-05-31T09:12:55.387Z"
   },
   {
    "duration": 45,
    "start_time": "2022-05-31T09:12:55.430Z"
   },
   {
    "duration": 24,
    "start_time": "2022-05-31T09:12:55.476Z"
   }
  ],
  "kernelspec": {
   "display_name": "Python 3 (ipykernel)",
   "language": "python",
   "name": "python3"
  },
  "language_info": {
   "codemirror_mode": {
    "name": "ipython",
    "version": 3
   },
   "file_extension": ".py",
   "mimetype": "text/x-python",
   "name": "python",
   "nbconvert_exporter": "python",
   "pygments_lexer": "ipython3",
   "version": "3.9.12"
  },
  "toc": {
   "base_numbering": 1,
   "nav_menu": {},
   "number_sections": true,
   "sideBar": true,
   "skip_h1_title": true,
   "title_cell": "Table of Contents",
   "title_sidebar": "Contents",
   "toc_cell": false,
   "toc_position": {},
   "toc_section_display": true,
   "toc_window_display": false
  }
 },
 "nbformat": 4,
 "nbformat_minor": 5
}
